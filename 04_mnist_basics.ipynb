{
  "cells": [
    {
      "cell_type": "code",
      "execution_count": 1,
      "metadata": {
        "id": "tSkocvq8xOx4",
        "outputId": "90f205e9-6e0e-4232-e97f-1db8455a419b",
        "colab": {
          "base_uri": "https://localhost:8080/"
        }
      },
      "outputs": [
        {
          "output_type": "stream",
          "name": "stdout",
          "text": [
            "\u001b[2K     \u001b[90m━━━━━━━━━━━━━━━━━━━━━━━━━━━━━━━━━━━━━━\u001b[0m \u001b[32m719.8/719.8 kB\u001b[0m \u001b[31m29.8 MB/s\u001b[0m eta \u001b[36m0:00:00\u001b[0m\n",
            "\u001b[2K     \u001b[90m━━━━━━━━━━━━━━━━━━━━━━━━━━━━━━━━━━━━━━━━\u001b[0m \u001b[32m7.0/7.0 MB\u001b[0m \u001b[31m42.4 MB/s\u001b[0m eta \u001b[36m0:00:00\u001b[0m\n",
            "\u001b[2K     \u001b[90m━━━━━━━━━━━━━━━━━━━━━━━━━━━━━━━━━━━━━━\u001b[0m \u001b[32m468.7/468.7 kB\u001b[0m \u001b[31m30.4 MB/s\u001b[0m eta \u001b[36m0:00:00\u001b[0m\n",
            "\u001b[2K     \u001b[90m━━━━━━━━━━━━━━━━━━━━━━━━━━━━━━━━━━━━━━━━\u001b[0m \u001b[32m1.3/1.3 MB\u001b[0m \u001b[31m51.8 MB/s\u001b[0m eta \u001b[36m0:00:00\u001b[0m\n",
            "\u001b[2K     \u001b[90m━━━━━━━━━━━━━━━━━━━━━━━━━━━━━━━━━━━━━━\u001b[0m \u001b[32m132.9/132.9 kB\u001b[0m \u001b[31m11.5 MB/s\u001b[0m eta \u001b[36m0:00:00\u001b[0m\n",
            "\u001b[2K     \u001b[90m━━━━━━━━━━━━━━━━━━━━━━━━━━━━━━━━━━━━━━\u001b[0m \u001b[32m110.5/110.5 kB\u001b[0m \u001b[31m10.3 MB/s\u001b[0m eta \u001b[36m0:00:00\u001b[0m\n",
            "\u001b[2K     \u001b[90m━━━━━━━━━━━━━━━━━━━━━━━━━━━━━━━━━━━━━━\u001b[0m \u001b[32m212.2/212.2 kB\u001b[0m \u001b[31m15.2 MB/s\u001b[0m eta \u001b[36m0:00:00\u001b[0m\n",
            "\u001b[2K     \u001b[90m━━━━━━━━━━━━━━━━━━━━━━━━━━━━━━━━━━━━━━━━\u001b[0m \u001b[32m1.0/1.0 MB\u001b[0m \u001b[31m51.7 MB/s\u001b[0m eta \u001b[36m0:00:00\u001b[0m\n",
            "\u001b[2K     \u001b[90m━━━━━━━━━━━━━━━━━━━━━━━━━━━━━━━━━━━━━━\u001b[0m \u001b[32m200.1/200.1 kB\u001b[0m \u001b[31m24.8 MB/s\u001b[0m eta \u001b[36m0:00:00\u001b[0m\n",
            "\u001b[2K     \u001b[90m━━━━━━━━━━━━━━━━━━━━━━━━━━━━━━━━━━━━━━━━\u001b[0m \u001b[32m7.8/7.8 MB\u001b[0m \u001b[31m87.7 MB/s\u001b[0m eta \u001b[36m0:00:00\u001b[0m\n",
            "\u001b[2K     \u001b[90m━━━━━━━━━━━━━━━━━━━━━━━━━━━━━━━━━━━━━━\u001b[0m \u001b[32m264.6/264.6 kB\u001b[0m \u001b[31m30.5 MB/s\u001b[0m eta \u001b[36m0:00:00\u001b[0m\n",
            "\u001b[2K     \u001b[90m━━━━━━━━━━━━━━━━━━━━━━━━━━━━━━━━━━━━━\u001b[0m \u001b[32m114.2/114.2 kB\u001b[0m \u001b[31m767.5 kB/s\u001b[0m eta \u001b[36m0:00:00\u001b[0m\n",
            "\u001b[2K     \u001b[90m━━━━━━━━━━━━━━━━━━━━━━━━━━━━━━━━━━━━━━\u001b[0m \u001b[32m158.8/158.8 kB\u001b[0m \u001b[31m21.5 MB/s\u001b[0m eta \u001b[36m0:00:00\u001b[0m\n",
            "\u001b[2K     \u001b[90m━━━━━━━━━━━━━━━━━━━━━━━━━━━━━━━━━━━━━━━━\u001b[0m \u001b[32m1.6/1.6 MB\u001b[0m \u001b[31m80.8 MB/s\u001b[0m eta \u001b[36m0:00:00\u001b[0m\n",
            "\u001b[?25hMounted at /content/gdrive\n"
          ]
        }
      ],
      "source": [
        "#hide\n",
        "! [ -e /content ] && pip install -Uqq fastbook\n",
        "import fastbook\n",
        "fastbook.setup_book()"
      ]
    },
    {
      "cell_type": "code",
      "execution_count": 2,
      "metadata": {
        "id": "NXp1h2IWxOx6"
      },
      "outputs": [],
      "source": [
        "#hide\n",
        "from fastai.vision.all import *\n",
        "from fastbook import *\n",
        "\n",
        "matplotlib.rc('image', cmap='Greys')"
      ]
    },
    {
      "cell_type": "raw",
      "metadata": {
        "id": "5un6uc75xOyP"
      },
      "source": [
        "[[chapter_mnist_basics]]"
      ]
    },
    {
      "cell_type": "markdown",
      "metadata": {
        "id": "aWG_eUi-xOyP"
      },
      "source": [
        "# Under the Hood: Training a Digit Classifier"
      ]
    },
    {
      "cell_type": "markdown",
      "metadata": {
        "id": "S1EPI-bXxOyU"
      },
      "source": [
        "Having seen what it looks like to actually train a variety of models in Chapter 2, let’s now look under the hood and see exactly what is going on. We’ll start by using computer vision to introduce fundamental tools and concepts for deep learning.\n",
        "\n",
        "To be exact, we'll discuss the roles of arrays and tensors and of broadcasting, a powerful technique for using them expressively. We'll explain stochastic gradient descent (SGD), the mechanism for learning by updating weights automatically. We'll discuss the choice of a loss function for our basic classification task, and the role of mini-batches. We'll also describe the math that a basic neural network is actually doing. Finally, we'll put all these pieces together.\n",
        "\n",
        "In future chapters we’ll do deep dives into other applications as well, and see how these concepts and tools generalize. But this chapter is about laying foundation stones. To be frank, that also makes this one of the hardest chapters, because of how these concepts all depend on each other. Like an arch, all the stones need to be in place for the structure to stay up. Also like an arch, once that happens, it's a powerful structure that can support other things. But it requires some patience to assemble.\n",
        "\n",
        "Let's begin. The first step is to consider how images are represented in a computer."
      ]
    },
    {
      "cell_type": "markdown",
      "metadata": {
        "id": "nTpHssmuxOyV"
      },
      "source": [
        "## Pixels: The Foundations of Computer Vision"
      ]
    },
    {
      "cell_type": "markdown",
      "metadata": {
        "id": "Hv_HBtUbxOyW"
      },
      "source": [
        "In order to understand what happens in a computer vision model, we first have to understand how computers handle images. We'll use one of the most famous datasets in computer vision, [MNIST](https://en.wikipedia.org/wiki/MNIST_database), for our experiments. MNIST contains images of handwritten digits, collected by the National Institute of Standards and Technology and collated into a machine learning dataset by Yann Lecun and his colleagues. Lecun used MNIST in 1998 in [Lenet-5](http://yann.lecun.com/exdb/lenet/), the first computer system to demonstrate practically useful recognition of handwritten digit sequences. This was one of the most important breakthroughs in the history of AI."
      ]
    },
    {
      "cell_type": "markdown",
      "metadata": {
        "id": "Xq0TDTudxOyX"
      },
      "source": [
        "## Sidebar: Tenacity and Deep Learning"
      ]
    },
    {
      "cell_type": "markdown",
      "metadata": {
        "id": "WGfiiPggxOyX"
      },
      "source": [
        "The story of deep learning is one of tenacity and grit by a handful of dedicated researchers. After early hopes (and hype!) neural networks went out of favor in the 1990's and 2000's, and just a handful of researchers kept trying to make them work well. Three of them, Yann Lecun, Yoshua Bengio, and Geoffrey Hinton, were awarded the highest honor in computer science, the Turing Award (generally considered the \"Nobel Prize of computer science\"), in 2018 after triumphing despite the deep skepticism and disinterest of the wider machine learning and statistics community.\n",
        "\n",
        "Geoff Hinton has told of how even academic papers showing dramatically better results than anything previously published would be rejected by top journals and conferences, just because they used a neural network. Yann Lecun's work on convolutional neural networks, which we will study in the next section, showed that these models could read handwritten text—something that had never been achieved before. However, his breakthrough was ignored by most researchers, even as it was used commercially to read 10% of the checks in the US!\n",
        "\n",
        "In addition to these three Turing Award winners, there are many other researchers who have battled to get us to where we are today. For instance, Jurgen Schmidhuber (who many believe should have shared in the Turing Award) pioneered many important ideas, including working with his student Sepp Hochreiter on the long short-term memory (LSTM) architecture (widely used for speech recognition and other text modeling tasks, and used in the IMDb example in <<chapter_intro>>). Perhaps most important of all, Paul Werbos in 1974 invented back-propagation for neural networks, the technique shown in this chapter and used universally for training neural networks ([Werbos 1994](https://books.google.com/books/about/The_Roots_of_Backpropagation.html?id=WdR3OOM2gBwC)). His development was almost entirely ignored for decades, but today it is considered the most important foundation of modern AI.\n",
        "\n",
        "There is a lesson here for all of us! On your deep learning journey you will face many obstacles, both technical, and (even more difficult) posed by people around you who don't believe you'll be successful. There's one *guaranteed* way to fail, and that's to stop trying. We've seen that the only consistent trait amongst every fast.ai student that's gone on to be a world-class practitioner is that they are all very tenacious."
      ]
    },
    {
      "cell_type": "markdown",
      "metadata": {
        "id": "ng8EE_N1xOyY"
      },
      "source": [
        "## End sidebar"
      ]
    },
    {
      "cell_type": "markdown",
      "metadata": {
        "id": "Nuc_ZaYqxOyZ"
      },
      "source": [
        "For this initial tutorial we are just going to try to create a model that can classify any image as a 3 or a 7. So let's download a sample of MNIST that contains images of just these digits:"
      ]
    },
    {
      "cell_type": "code",
      "execution_count": 10,
      "metadata": {
        "id": "RrJQc3xExOyZ",
        "outputId": "601726ab-9e3f-4070-d5dc-1b32e81e141a",
        "colab": {
          "base_uri": "https://localhost:8080/"
        }
      },
      "outputs": [
        {
          "output_type": "stream",
          "name": "stdout",
          "text": [
            "PATH: /root/.fastai/data/mnist_sample\n"
          ]
        }
      ],
      "source": [
        "path = untar_data(URLs.MNIST_SAMPLE)\n",
        "print(f\"PATH: {path}\")"
      ]
    },
    {
      "cell_type": "code",
      "execution_count": 11,
      "metadata": {
        "id": "FY82-9rqxOyZ"
      },
      "outputs": [],
      "source": [
        "#hide\n",
        "Path.BASE_PATH = path"
      ]
    },
    {
      "cell_type": "markdown",
      "metadata": {
        "id": "IdL0bB2IxOyZ"
      },
      "source": [
        "We can see what's in this directory by using `ls`, a method added by fastai. This method returns an object of a special fastai class called `L`, which has all the same functionality of Python's built-in `list`, plus a lot more. One of its handy features is that, when printed, it displays the count of items, before listing the items themselves (if there are more than 10 items, it just shows the first few):"
      ]
    },
    {
      "cell_type": "code",
      "execution_count": 12,
      "metadata": {
        "id": "yQRgkvqZxOya",
        "outputId": "8d872cb2-8060-4cc6-904c-d8a600bb8901",
        "colab": {
          "base_uri": "https://localhost:8080/"
        }
      },
      "outputs": [
        {
          "output_type": "execute_result",
          "data": {
            "text/plain": [
              "(#3) [Path('valid'),Path('labels.csv'),Path('train')]"
            ]
          },
          "metadata": {},
          "execution_count": 12
        }
      ],
      "source": [
        "path.ls()"
      ]
    },
    {
      "cell_type": "markdown",
      "metadata": {
        "id": "hmSszTVtxOyo"
      },
      "source": [
        "The MNIST dataset follows a common layout for machine learning datasets: separate folders for the training set and the validation set (and/or test set). Let's see what's inside the training set:"
      ]
    },
    {
      "cell_type": "code",
      "execution_count": 13,
      "metadata": {
        "id": "LS5-8Sb5xOyq",
        "outputId": "6a5c6f34-cbf2-4f59-d514-970a9cd54515",
        "colab": {
          "base_uri": "https://localhost:8080/"
        }
      },
      "outputs": [
        {
          "output_type": "execute_result",
          "data": {
            "text/plain": [
              "(#2) [Path('train/7'),Path('train/3')]"
            ]
          },
          "metadata": {},
          "execution_count": 13
        }
      ],
      "source": [
        "(path/'train').ls()"
      ]
    },
    {
      "cell_type": "markdown",
      "metadata": {
        "id": "bpnWxR09xOyr"
      },
      "source": [
        "There's a folder of 3s, and a folder of 7s. In machine learning parlance, we say that \"3\" and \"7\" are the *labels* (or targets) in this dataset. Let's take a look in one of these folders (using `sorted` to ensure we all get the same order of files):"
      ]
    },
    {
      "cell_type": "code",
      "execution_count": 18,
      "metadata": {
        "id": "s-PBCLoMxOyr",
        "outputId": "d7834f38-7371-4bdf-9297-4ef930f315e5",
        "colab": {
          "base_uri": "https://localhost:8080/"
        }
      },
      "outputs": [
        {
          "output_type": "stream",
          "name": "stdout",
          "text": [
            "length of THREES: 6131\n",
            "[Path('train/3/10.png'), Path('train/3/10000.png'), Path('train/3/10011.png'), Path('train/3/10031.png'), Path('train/3/10034.png'), Path('train/3/10042.png'), Path('train/3/10052.png'), Path('train/3/1007.png'), Path('train/3/10074.png'), Path('train/3/10091.png'), Path('train/3/10093.png'), Path('train/3/10097.png'), Path('train/3/10099.png'), Path('train/3/10116.png'), Path('train/3/10125.png'), Path('train/3/10137.png'), Path('train/3/10141.png'), Path('train/3/10144.png'), Path('train/3/10155.png'), Path('train/3/10161.png'), Path('train/3/10206.png'), Path('train/3/1021.png'), Path('train/3/10210.png'), Path('train/3/10214.png'), Path('train/3/10238.png'), Path('train/3/10260.png'), Path('train/3/10278.png'), Path('train/3/10282.png'), Path('train/3/10314.png'), Path('train/3/10322.png'), Path('train/3/10328.png'), Path('train/3/10329.png'), Path('train/3/10330.png'), Path('train/3/10349.png'), Path('train/3/1035.png'), Path('train/3/10360.png'), Path('train/3/10369.png'), Path('train/3/10389.png'), Path('train/3/10390.png'), Path('train/3/10393.png'), Path('train/3/10402.png'), Path('train/3/10405.png'), Path('train/3/10415.png'), Path('train/3/10423.png'), Path('train/3/10424.png'), Path('train/3/10430.png'), Path('train/3/10450.png'), Path('train/3/10453.png'), Path('train/3/10454.png'), Path('train/3/10466.png'), Path('train/3/10470.png'), Path('train/3/10483.png'), Path('train/3/10493.png'), Path('train/3/10511.png'), Path('train/3/10518.png'), Path('train/3/10520.png'), Path('train/3/10527.png'), Path('train/3/1055.png'), Path('train/3/10569.png'), Path('train/3/10585.png'), Path('train/3/10605.png'), Path('train/3/10606.png'), Path('train/3/10608.png'), Path('train/3/10635.png'), Path('train/3/10644.png'), Path('train/3/10647.png'), Path('train/3/10666.png'), Path('train/3/10668.png'), Path('train/3/10674.png'), Path('train/3/10676.png'), Path('train/3/10677.png'), Path('train/3/10678.png'), Path('train/3/1068.png'), Path('train/3/10696.png'), Path('train/3/107.png'), Path('train/3/10728.png'), Path('train/3/10730.png'), Path('train/3/10734.png'), Path('train/3/10743.png'), Path('train/3/10745.png'), Path('train/3/10756.png'), Path('train/3/10757.png'), Path('train/3/10760.png'), Path('train/3/10762.png'), Path('train/3/10765.png'), Path('train/3/1077.png'), Path('train/3/10775.png'), Path('train/3/10779.png'), Path('train/3/10787.png'), Path('train/3/10796.png'), Path('train/3/10807.png'), Path('train/3/10826.png'), Path('train/3/10827.png'), Path('train/3/10830.png'), Path('train/3/10847.png'), Path('train/3/10865.png'), Path('train/3/10872.png'), Path('train/3/10876.png'), Path('train/3/10880.png'), Path('train/3/10882.png'), Path('train/3/10887.png'), Path('train/3/10896.png'), Path('train/3/10900.png'), Path('train/3/10902.png'), Path('train/3/10921.png'), Path('train/3/10953.png'), Path('train/3/10966.png'), Path('train/3/1097.png'), Path('train/3/10984.png'), Path('train/3/10993.png'), Path('train/3/10994.png'), Path('train/3/10998.png'), Path('train/3/11002.png'), Path('train/3/11010.png'), Path('train/3/11011.png'), Path('train/3/11012.png'), Path('train/3/11021.png'), Path('train/3/11031.png'), Path('train/3/11034.png'), Path('train/3/11037.png'), Path('train/3/11039.png'), Path('train/3/11042.png'), Path('train/3/11053.png'), Path('train/3/11075.png'), Path('train/3/1108.png'), Path('train/3/11083.png'), Path('train/3/11097.png'), Path('train/3/111.png'), Path('train/3/11104.png'), Path('train/3/11111.png'), Path('train/3/11114.png'), Path('train/3/11138.png'), Path('train/3/11155.png'), Path('train/3/11169.png'), Path('train/3/11171.png'), Path('train/3/1119.png'), Path('train/3/11197.png'), Path('train/3/11201.png'), Path('train/3/1121.png'), Path('train/3/11216.png'), Path('train/3/11219.png'), Path('train/3/11221.png'), Path('train/3/11232.png'), Path('train/3/11233.png'), Path('train/3/11234.png'), Path('train/3/11244.png'), Path('train/3/11259.png'), Path('train/3/11284.png'), Path('train/3/11285.png'), Path('train/3/11296.png'), Path('train/3/1130.png'), Path('train/3/11301.png'), Path('train/3/11321.png'), Path('train/3/11341.png'), Path('train/3/11377.png'), Path('train/3/11392.png'), Path('train/3/1144.png'), Path('train/3/11441.png'), Path('train/3/1145.png'), Path('train/3/11454.png'), Path('train/3/11467.png'), Path('train/3/11476.png'), Path('train/3/11480.png'), Path('train/3/11481.png'), Path('train/3/11489.png'), Path('train/3/1150.png'), Path('train/3/1151.png'), Path('train/3/11511.png'), Path('train/3/11513.png'), Path('train/3/11520.png'), Path('train/3/11524.png'), Path('train/3/11535.png'), Path('train/3/11539.png'), Path('train/3/11544.png'), Path('train/3/11545.png'), Path('train/3/11554.png'), Path('train/3/11556.png'), Path('train/3/11565.png'), Path('train/3/11570.png'), Path('train/3/1158.png'), Path('train/3/11583.png'), Path('train/3/11618.png'), Path('train/3/11619.png'), Path('train/3/11645.png'), Path('train/3/11651.png'), Path('train/3/11665.png'), Path('train/3/11693.png'), Path('train/3/11705.png'), Path('train/3/11708.png'), Path('train/3/11710.png'), Path('train/3/11714.png'), Path('train/3/11719.png'), Path('train/3/11747.png'), Path('train/3/11752.png'), Path('train/3/11755.png'), Path('train/3/11756.png'), Path('train/3/11777.png'), Path('train/3/1178.png'), Path('train/3/11781.png'), Path('train/3/11788.png'), Path('train/3/11797.png'), Path('train/3/11804.png'), Path('train/3/11813.png'), Path('train/3/11837.png'), Path('train/3/1185.png'), Path('train/3/11863.png'), Path('train/3/11874.png'), Path('train/3/11910.png'), Path('train/3/11921.png'), Path('train/3/11929.png'), Path('train/3/11949.png'), Path('train/3/11951.png'), Path('train/3/11958.png'), Path('train/3/11960.png'), Path('train/3/11978.png'), Path('train/3/11979.png'), Path('train/3/11999.png'), Path('train/3/12.png'), Path('train/3/1201.png'), Path('train/3/12012.png'), Path('train/3/12017.png'), Path('train/3/12022.png'), Path('train/3/12024.png'), Path('train/3/12035.png'), Path('train/3/12044.png'), Path('train/3/12063.png'), Path('train/3/12080.png'), Path('train/3/12086.png'), Path('train/3/12089.png'), Path('train/3/12094.png'), Path('train/3/12100.png'), Path('train/3/12108.png'), Path('train/3/12109.png'), Path('train/3/12117.png'), Path('train/3/12124.png'), Path('train/3/12148.png'), Path('train/3/12151.png'), Path('train/3/12152.png'), Path('train/3/12153.png'), Path('train/3/1218.png'), Path('train/3/12183.png'), Path('train/3/12186.png'), Path('train/3/12189.png'), Path('train/3/12211.png'), Path('train/3/12214.png'), Path('train/3/12218.png'), Path('train/3/12222.png'), Path('train/3/12225.png'), Path('train/3/12228.png'), Path('train/3/12244.png'), Path('train/3/12245.png'), Path('train/3/12246.png'), Path('train/3/1226.png'), Path('train/3/12260.png'), Path('train/3/12265.png'), Path('train/3/12274.png'), Path('train/3/12300.png'), Path('train/3/12303.png'), Path('train/3/12307.png'), Path('train/3/12312.png'), Path('train/3/12326.png'), Path('train/3/12329.png'), Path('train/3/1233.png'), Path('train/3/12330.png'), Path('train/3/12333.png'), Path('train/3/12334.png'), Path('train/3/12338.png'), Path('train/3/1234.png'), Path('train/3/12344.png'), Path('train/3/12345.png'), Path('train/3/12346.png'), Path('train/3/12349.png'), Path('train/3/12350.png'), Path('train/3/12355.png'), Path('train/3/12377.png'), Path('train/3/12392.png'), Path('train/3/1241.png'), Path('train/3/12416.png'), Path('train/3/12430.png'), Path('train/3/12437.png'), Path('train/3/1244.png'), Path('train/3/12446.png'), Path('train/3/12451.png'), Path('train/3/12463.png'), Path('train/3/12483.png'), Path('train/3/12490.png'), Path('train/3/12498.png'), Path('train/3/12503.png'), Path('train/3/12506.png'), Path('train/3/12527.png'), Path('train/3/12536.png'), Path('train/3/12544.png'), Path('train/3/12545.png'), Path('train/3/12546.png'), Path('train/3/12583.png'), Path('train/3/12592.png'), Path('train/3/12593.png'), Path('train/3/1260.png'), Path('train/3/12602.png'), Path('train/3/12617.png'), Path('train/3/12625.png'), Path('train/3/12645.png'), Path('train/3/12656.png'), Path('train/3/12661.png'), Path('train/3/12667.png'), Path('train/3/12677.png'), Path('train/3/12698.png'), Path('train/3/12700.png'), Path('train/3/12702.png'), Path('train/3/12709.png'), Path('train/3/12720.png'), Path('train/3/12729.png'), Path('train/3/12747.png'), Path('train/3/12750.png'), Path('train/3/12761.png'), Path('train/3/12775.png'), Path('train/3/12780.png'), Path('train/3/12783.png'), Path('train/3/12812.png'), Path('train/3/12814.png'), Path('train/3/12826.png'), Path('train/3/12828.png'), Path('train/3/12836.png'), Path('train/3/12838.png'), Path('train/3/12874.png'), Path('train/3/12877.png'), Path('train/3/12879.png'), Path('train/3/12881.png'), Path('train/3/12882.png'), Path('train/3/12895.png'), Path('train/3/1290.png'), Path('train/3/12901.png'), Path('train/3/12913.png'), Path('train/3/12920.png'), Path('train/3/12924.png'), Path('train/3/12933.png'), Path('train/3/12942.png'), Path('train/3/1295.png'), Path('train/3/12953.png'), Path('train/3/12967.png'), Path('train/3/12968.png'), Path('train/3/12981.png'), Path('train/3/12983.png'), Path('train/3/12990.png'), Path('train/3/12995.png'), Path('train/3/12998.png'), Path('train/3/130.png'), Path('train/3/13026.png'), Path('train/3/13045.png'), Path('train/3/13093.png'), Path('train/3/13099.png'), Path('train/3/13105.png'), Path('train/3/13109.png'), Path('train/3/13110.png'), Path('train/3/13114.png'), Path('train/3/1312.png'), Path('train/3/13124.png'), Path('train/3/13127.png'), Path('train/3/13134.png'), Path('train/3/13141.png'), Path('train/3/13142.png'), Path('train/3/13144.png'), Path('train/3/13146.png'), Path('train/3/1315.png'), Path('train/3/13161.png'), Path('train/3/1317.png'), Path('train/3/13181.png'), Path('train/3/13190.png'), Path('train/3/13193.png'), Path('train/3/1320.png'), Path('train/3/13202.png'), Path('train/3/13208.png'), Path('train/3/13212.png'), Path('train/3/13218.png'), Path('train/3/13221.png'), Path('train/3/13222.png'), Path('train/3/13225.png'), Path('train/3/13228.png'), Path('train/3/13239.png'), Path('train/3/13242.png'), Path('train/3/13250.png'), Path('train/3/13285.png'), Path('train/3/13288.png'), Path('train/3/13293.png'), Path('train/3/13294.png'), Path('train/3/13298.png'), Path('train/3/13317.png'), Path('train/3/13325.png'), Path('train/3/13332.png'), Path('train/3/13352.png'), Path('train/3/13353.png'), Path('train/3/1336.png'), Path('train/3/13376.png'), Path('train/3/13383.png'), Path('train/3/13388.png'), Path('train/3/13403.png'), Path('train/3/1341.png'), Path('train/3/13417.png'), Path('train/3/13438.png'), Path('train/3/13442.png'), Path('train/3/13445.png'), Path('train/3/13448.png'), Path('train/3/13478.png'), Path('train/3/1348.png'), Path('train/3/13488.png'), Path('train/3/13496.png'), Path('train/3/135.png'), Path('train/3/1351.png'), Path('train/3/13516.png'), Path('train/3/13519.png'), Path('train/3/13524.png'), Path('train/3/13531.png'), Path('train/3/13543.png'), Path('train/3/13560.png'), Path('train/3/13567.png'), Path('train/3/13568.png'), Path('train/3/1357.png'), Path('train/3/13576.png'), Path('train/3/13577.png'), Path('train/3/13579.png'), Path('train/3/136.png'), Path('train/3/13601.png'), Path('train/3/13607.png'), Path('train/3/13615.png'), Path('train/3/13628.png'), Path('train/3/13629.png'), Path('train/3/13647.png'), Path('train/3/13656.png'), Path('train/3/13658.png'), Path('train/3/13660.png'), Path('train/3/13670.png'), Path('train/3/13673.png'), Path('train/3/13675.png'), Path('train/3/13676.png'), Path('train/3/13703.png'), Path('train/3/13704.png'), Path('train/3/13706.png'), Path('train/3/13707.png'), Path('train/3/13713.png'), Path('train/3/13736.png'), Path('train/3/13740.png'), Path('train/3/13745.png'), Path('train/3/13750.png'), Path('train/3/13773.png'), Path('train/3/13778.png'), Path('train/3/1378.png'), Path('train/3/13787.png'), Path('train/3/13824.png'), Path('train/3/13827.png'), Path('train/3/13831.png'), Path('train/3/13836.png'), Path('train/3/13839.png'), Path('train/3/13859.png'), Path('train/3/13879.png'), Path('train/3/13894.png'), Path('train/3/13906.png'), Path('train/3/13909.png'), Path('train/3/13929.png'), Path('train/3/13931.png'), Path('train/3/13935.png'), Path('train/3/13937.png'), Path('train/3/13957.png'), Path('train/3/13965.png'), Path('train/3/13969.png'), Path('train/3/13980.png'), Path('train/3/13983.png'), Path('train/3/13993.png'), Path('train/3/14002.png'), Path('train/3/14025.png'), Path('train/3/14026.png'), Path('train/3/14028.png'), Path('train/3/14030.png'), Path('train/3/14045.png'), Path('train/3/14065.png'), Path('train/3/14080.png'), Path('train/3/14087.png'), Path('train/3/1409.png'), Path('train/3/14099.png'), Path('train/3/14107.png'), Path('train/3/14115.png'), Path('train/3/14135.png'), Path('train/3/14166.png'), Path('train/3/14177.png'), Path('train/3/14184.png'), Path('train/3/14200.png'), Path('train/3/14205.png'), Path('train/3/14210.png'), Path('train/3/14223.png'), Path('train/3/14236.png'), Path('train/3/14255.png'), Path('train/3/14261.png'), Path('train/3/14262.png'), Path('train/3/14266.png'), Path('train/3/14275.png'), Path('train/3/1428.png'), Path('train/3/14283.png'), Path('train/3/14286.png'), Path('train/3/1429.png'), Path('train/3/14297.png'), Path('train/3/14303.png'), Path('train/3/1432.png'), Path('train/3/14320.png'), Path('train/3/14333.png'), Path('train/3/14350.png'), Path('train/3/14352.png'), Path('train/3/1436.png'), Path('train/3/14361.png'), Path('train/3/14367.png'), Path('train/3/14383.png'), Path('train/3/14388.png'), Path('train/3/14394.png'), Path('train/3/14401.png'), Path('train/3/14410.png'), Path('train/3/14420.png'), Path('train/3/14431.png'), Path('train/3/14447.png'), Path('train/3/14450.png'), Path('train/3/14454.png'), Path('train/3/14456.png'), Path('train/3/14467.png'), Path('train/3/14476.png'), Path('train/3/14488.png'), Path('train/3/1449.png'), Path('train/3/14514.png'), Path('train/3/14527.png'), Path('train/3/14529.png'), Path('train/3/14533.png'), Path('train/3/14535.png'), Path('train/3/14548.png'), Path('train/3/14552.png'), Path('train/3/14558.png'), Path('train/3/14566.png'), Path('train/3/14567.png'), Path('train/3/14577.png'), Path('train/3/14588.png'), Path('train/3/14619.png'), Path('train/3/14624.png'), Path('train/3/14635.png'), Path('train/3/14636.png'), Path('train/3/14655.png'), Path('train/3/14674.png'), Path('train/3/14686.png'), Path('train/3/1469.png'), Path('train/3/14691.png'), Path('train/3/14692.png'), Path('train/3/1470.png'), Path('train/3/14704.png'), Path('train/3/14736.png'), Path('train/3/14738.png'), Path('train/3/1474.png'), Path('train/3/1476.png'), Path('train/3/14761.png'), Path('train/3/14765.png'), Path('train/3/14786.png'), Path('train/3/14789.png'), Path('train/3/14792.png'), Path('train/3/14803.png'), Path('train/3/14810.png'), Path('train/3/14823.png'), Path('train/3/14825.png'), Path('train/3/14851.png'), Path('train/3/14855.png'), Path('train/3/14856.png'), Path('train/3/1486.png'), Path('train/3/14863.png'), Path('train/3/14864.png'), Path('train/3/14878.png'), Path('train/3/14880.png'), Path('train/3/14883.png'), Path('train/3/149.png'), Path('train/3/14903.png'), Path('train/3/14916.png'), Path('train/3/14935.png'), Path('train/3/15003.png'), Path('train/3/15007.png'), Path('train/3/15008.png'), Path('train/3/15010.png'), Path('train/3/15014.png'), Path('train/3/15022.png'), Path('train/3/15031.png'), Path('train/3/15045.png'), Path('train/3/15052.png'), Path('train/3/15053.png'), Path('train/3/15075.png'), Path('train/3/15076.png'), Path('train/3/15077.png'), Path('train/3/15080.png'), Path('train/3/15090.png'), Path('train/3/15097.png'), Path('train/3/15101.png'), Path('train/3/15109.png'), Path('train/3/15125.png'), Path('train/3/15139.png'), Path('train/3/15163.png'), Path('train/3/15174.png'), Path('train/3/15176.png'), Path('train/3/15181.png'), Path('train/3/15186.png'), Path('train/3/15201.png'), Path('train/3/15210.png'), Path('train/3/15216.png'), Path('train/3/15226.png'), Path('train/3/15227.png'), Path('train/3/15233.png'), Path('train/3/15245.png'), Path('train/3/15246.png'), Path('train/3/15250.png'), Path('train/3/15251.png'), Path('train/3/15261.png'), Path('train/3/15281.png'), Path('train/3/1529.png'), Path('train/3/15292.png'), Path('train/3/15297.png'), Path('train/3/15322.png'), Path('train/3/1533.png'), Path('train/3/15332.png'), Path('train/3/15335.png'), Path('train/3/15336.png'), Path('train/3/15339.png'), Path('train/3/15342.png'), Path('train/3/15346.png'), Path('train/3/15350.png'), Path('train/3/15372.png'), Path('train/3/15375.png'), Path('train/3/15377.png'), Path('train/3/15379.png'), Path('train/3/15388.png'), Path('train/3/15409.png'), Path('train/3/15412.png'), Path('train/3/15437.png'), Path('train/3/15443.png'), Path('train/3/15453.png'), Path('train/3/15472.png'), Path('train/3/15474.png'), Path('train/3/15477.png'), Path('train/3/15482.png'), Path('train/3/15486.png'), Path('train/3/15496.png'), Path('train/3/15497.png'), Path('train/3/1551.png'), Path('train/3/15511.png'), Path('train/3/15519.png'), Path('train/3/15533.png'), Path('train/3/15534.png'), Path('train/3/15535.png'), Path('train/3/15540.png'), Path('train/3/15544.png'), Path('train/3/15547.png'), Path('train/3/15572.png'), Path('train/3/15587.png'), Path('train/3/1559.png'), Path('train/3/15606.png'), Path('train/3/15630.png'), Path('train/3/15639.png'), Path('train/3/15647.png'), Path('train/3/15651.png'), Path('train/3/15656.png'), Path('train/3/1566.png'), Path('train/3/15667.png'), Path('train/3/15681.png'), Path('train/3/157.png'), Path('train/3/15701.png'), Path('train/3/15717.png'), Path('train/3/15743.png'), Path('train/3/15747.png'), Path('train/3/15760.png'), Path('train/3/15762.png'), Path('train/3/15764.png'), Path('train/3/15769.png'), Path('train/3/15773.png'), Path('train/3/15774.png'), Path('train/3/15785.png'), Path('train/3/15793.png'), Path('train/3/1581.png'), Path('train/3/15815.png'), Path('train/3/15816.png'), Path('train/3/1583.png'), Path('train/3/15842.png'), Path('train/3/15847.png'), Path('train/3/15848.png'), Path('train/3/15850.png'), Path('train/3/15857.png'), Path('train/3/15869.png'), Path('train/3/15872.png'), Path('train/3/1588.png'), Path('train/3/15889.png'), Path('train/3/15907.png'), Path('train/3/15930.png'), Path('train/3/15936.png'), Path('train/3/15937.png'), Path('train/3/15938.png'), Path('train/3/1594.png'), Path('train/3/15945.png'), Path('train/3/15947.png'), Path('train/3/15968.png'), Path('train/3/15980.png'), Path('train/3/15986.png'), Path('train/3/1599.png'), Path('train/3/15990.png'), Path('train/3/16003.png'), Path('train/3/16013.png'), Path('train/3/16019.png'), Path('train/3/16029.png'), Path('train/3/1603.png'), Path('train/3/16071.png'), Path('train/3/16074.png'), Path('train/3/16075.png'), Path('train/3/16078.png'), Path('train/3/16091.png'), Path('train/3/16096.png'), Path('train/3/1611.png'), Path('train/3/16111.png'), Path('train/3/16125.png'), Path('train/3/16134.png'), Path('train/3/16156.png'), Path('train/3/16171.png'), Path('train/3/16177.png'), Path('train/3/16190.png'), Path('train/3/16191.png'), Path('train/3/16193.png'), Path('train/3/16208.png'), Path('train/3/16220.png'), Path('train/3/16229.png'), Path('train/3/16239.png'), Path('train/3/16243.png'), Path('train/3/16249.png'), Path('train/3/16260.png'), Path('train/3/16291.png'), Path('train/3/16296.png'), Path('train/3/1631.png'), Path('train/3/16311.png'), Path('train/3/16329.png'), Path('train/3/16336.png'), Path('train/3/1634.png'), Path('train/3/16344.png'), Path('train/3/16366.png'), Path('train/3/16370.png'), Path('train/3/16372.png'), Path('train/3/16375.png'), Path('train/3/16386.png'), Path('train/3/16407.png'), Path('train/3/16411.png'), Path('train/3/16414.png'), Path('train/3/16427.png'), Path('train/3/16435.png'), Path('train/3/1644.png'), Path('train/3/16453.png'), Path('train/3/16462.png'), Path('train/3/16489.png'), Path('train/3/16491.png'), Path('train/3/16492.png'), Path('train/3/16502.png'), Path('train/3/16503.png'), Path('train/3/16504.png'), Path('train/3/1651.png'), Path('train/3/16510.png'), Path('train/3/16512.png'), Path('train/3/16529.png'), Path('train/3/16530.png'), Path('train/3/16549.png'), Path('train/3/16556.png'), Path('train/3/16564.png'), Path('train/3/16569.png'), Path('train/3/16584.png'), Path('train/3/16587.png'), Path('train/3/1661.png'), Path('train/3/16620.png'), Path('train/3/16626.png'), Path('train/3/16645.png'), Path('train/3/16649.png'), Path('train/3/16657.png'), Path('train/3/16663.png'), Path('train/3/16676.png'), Path('train/3/16678.png'), Path('train/3/1668.png'), Path('train/3/16689.png'), Path('train/3/16693.png'), Path('train/3/16708.png'), Path('train/3/16715.png'), Path('train/3/16732.png'), Path('train/3/16743.png'), Path('train/3/16748.png'), Path('train/3/1675.png'), Path('train/3/16755.png'), Path('train/3/16763.png'), Path('train/3/16764.png'), Path('train/3/1677.png'), Path('train/3/16774.png'), Path('train/3/16783.png'), Path('train/3/16793.png'), Path('train/3/16811.png'), Path('train/3/16825.png'), Path('train/3/16831.png'), Path('train/3/16849.png'), Path('train/3/16861.png'), Path('train/3/16867.png'), Path('train/3/16873.png'), Path('train/3/1689.png'), Path('train/3/16892.png'), Path('train/3/16900.png'), Path('train/3/16911.png'), Path('train/3/16922.png'), Path('train/3/16924.png'), Path('train/3/16927.png'), Path('train/3/16940.png'), Path('train/3/16945.png'), Path('train/3/16954.png'), Path('train/3/1698.png'), Path('train/3/17000.png'), Path('train/3/17010.png'), Path('train/3/17026.png'), Path('train/3/17037.png'), Path('train/3/17038.png'), Path('train/3/17040.png'), Path('train/3/17041.png'), Path('train/3/17062.png'), Path('train/3/17063.png'), Path('train/3/17077.png'), Path('train/3/17082.png'), Path('train/3/17085.png'), Path('train/3/17088.png'), Path('train/3/17100.png'), Path('train/3/17103.png'), Path('train/3/17104.png'), Path('train/3/17105.png'), Path('train/3/17116.png'), Path('train/3/17127.png'), Path('train/3/17131.png'), Path('train/3/17139.png'), Path('train/3/17146.png'), Path('train/3/17148.png'), Path('train/3/17154.png'), Path('train/3/17155.png'), Path('train/3/17175.png'), Path('train/3/1718.png'), Path('train/3/17189.png'), Path('train/3/17192.png'), Path('train/3/17207.png'), Path('train/3/17208.png'), Path('train/3/1722.png'), Path('train/3/17227.png'), Path('train/3/17242.png'), Path('train/3/17253.png'), Path('train/3/17255.png'), Path('train/3/17257.png'), Path('train/3/17258.png'), Path('train/3/17271.png'), Path('train/3/17274.png'), Path('train/3/17280.png'), Path('train/3/17288.png'), Path('train/3/17292.png'), Path('train/3/17295.png'), Path('train/3/17301.png'), Path('train/3/17308.png'), Path('train/3/17318.png'), Path('train/3/17320.png'), Path('train/3/17324.png'), Path('train/3/17328.png'), Path('train/3/17330.png'), Path('train/3/17333.png'), Path('train/3/17341.png'), Path('train/3/17352.png'), Path('train/3/17354.png'), Path('train/3/17355.png'), Path('train/3/1737.png'), Path('train/3/17371.png'), Path('train/3/17386.png'), Path('train/3/17389.png'), Path('train/3/17403.png'), Path('train/3/17404.png'), Path('train/3/17409.png'), Path('train/3/17421.png'), Path('train/3/17435.png'), Path('train/3/17442.png'), Path('train/3/17460.png'), Path('train/3/17467.png'), Path('train/3/17470.png'), Path('train/3/17471.png'), Path('train/3/17491.png'), Path('train/3/17496.png'), Path('train/3/17509.png'), Path('train/3/17521.png'), Path('train/3/17526.png'), Path('train/3/17553.png'), Path('train/3/1756.png'), Path('train/3/17569.png'), Path('train/3/17574.png'), Path('train/3/17575.png'), Path('train/3/17580.png'), Path('train/3/17582.png'), Path('train/3/17588.png'), Path('train/3/17593.png'), Path('train/3/17621.png'), Path('train/3/17624.png'), Path('train/3/17629.png'), Path('train/3/17632.png'), Path('train/3/17634.png'), Path('train/3/17643.png'), Path('train/3/17646.png'), Path('train/3/17673.png'), Path('train/3/17676.png'), Path('train/3/17699.png'), Path('train/3/17710.png'), Path('train/3/17712.png'), Path('train/3/17715.png'), Path('train/3/17731.png'), Path('train/3/17734.png'), Path('train/3/17745.png'), Path('train/3/17752.png'), Path('train/3/17753.png'), Path('train/3/17754.png'), Path('train/3/17766.png'), Path('train/3/17777.png'), Path('train/3/17778.png'), Path('train/3/1778.png'), Path('train/3/17781.png'), Path('train/3/17787.png'), Path('train/3/17790.png'), Path('train/3/17810.png'), Path('train/3/17820.png'), Path('train/3/17832.png'), Path('train/3/17853.png'), Path('train/3/17864.png'), Path('train/3/17893.png'), Path('train/3/179.png'), Path('train/3/17901.png'), Path('train/3/17904.png'), Path('train/3/17906.png'), Path('train/3/17908.png'), Path('train/3/1791.png'), Path('train/3/17911.png'), Path('train/3/17929.png'), Path('train/3/17947.png'), Path('train/3/17966.png'), Path('train/3/17967.png'), Path('train/3/17988.png'), Path('train/3/1799.png'), Path('train/3/17993.png'), Path('train/3/17997.png'), Path('train/3/18001.png'), Path('train/3/18004.png'), Path('train/3/18007.png'), Path('train/3/18030.png'), Path('train/3/18039.png'), Path('train/3/18044.png'), Path('train/3/18049.png'), Path('train/3/1805.png'), Path('train/3/18059.png'), Path('train/3/18061.png'), Path('train/3/18069.png'), Path('train/3/18079.png'), Path('train/3/1809.png'), Path('train/3/18099.png'), Path('train/3/181.png'), Path('train/3/18108.png'), Path('train/3/18119.png'), Path('train/3/18120.png'), Path('train/3/18155.png'), Path('train/3/18169.png'), Path('train/3/18218.png'), Path('train/3/18225.png'), Path('train/3/18227.png'), Path('train/3/18240.png'), Path('train/3/18243.png'), Path('train/3/18244.png'), Path('train/3/18249.png'), Path('train/3/18252.png'), Path('train/3/18268.png'), Path('train/3/18274.png'), Path('train/3/18280.png'), Path('train/3/18285.png'), Path('train/3/18287.png'), Path('train/3/1829.png'), Path('train/3/18299.png'), Path('train/3/18307.png'), Path('train/3/18325.png'), Path('train/3/18343.png'), Path('train/3/1836.png'), Path('train/3/18363.png'), Path('train/3/18375.png'), Path('train/3/18380.png'), Path('train/3/18390.png'), Path('train/3/18397.png'), Path('train/3/18426.png'), Path('train/3/1843.png'), Path('train/3/18453.png'), Path('train/3/18463.png'), Path('train/3/18477.png'), Path('train/3/18485.png'), Path('train/3/18503.png'), Path('train/3/18522.png'), Path('train/3/18527.png'), Path('train/3/18528.png'), Path('train/3/18542.png'), Path('train/3/18549.png'), Path('train/3/18569.png'), Path('train/3/18584.png'), Path('train/3/18587.png'), Path('train/3/18588.png'), Path('train/3/18612.png'), Path('train/3/18615.png'), Path('train/3/1862.png'), Path('train/3/18626.png'), Path('train/3/18627.png'), Path('train/3/1863.png'), Path('train/3/18630.png'), Path('train/3/18646.png'), Path('train/3/18675.png'), Path('train/3/18679.png'), Path('train/3/18687.png'), Path('train/3/1870.png'), Path('train/3/1872.png'), Path('train/3/18727.png'), Path('train/3/18735.png'), Path('train/3/18739.png'), Path('train/3/18742.png'), Path('train/3/18752.png'), Path('train/3/18765.png'), Path('train/3/18766.png'), Path('train/3/18770.png'), Path('train/3/18785.png'), Path('train/3/18796.png'), Path('train/3/18802.png'), Path('train/3/18805.png'), Path('train/3/18812.png'), Path('train/3/18814.png'), Path('train/3/18826.png'), Path('train/3/18827.png'), Path('train/3/1883.png'), Path('train/3/18840.png'), Path('train/3/18847.png'), Path('train/3/18862.png'), Path('train/3/18895.png'), Path('train/3/18915.png'), Path('train/3/18919.png'), Path('train/3/18920.png'), Path('train/3/18924.png'), Path('train/3/18939.png'), Path('train/3/18948.png'), Path('train/3/18955.png'), Path('train/3/18960.png'), Path('train/3/18964.png'), Path('train/3/18965.png'), Path('train/3/18974.png'), Path('train/3/18975.png'), Path('train/3/18977.png'), Path('train/3/18986.png'), Path('train/3/18992.png'), Path('train/3/18997.png'), Path('train/3/19014.png'), Path('train/3/19015.png'), Path('train/3/19016.png'), Path('train/3/19063.png'), Path('train/3/19075.png'), Path('train/3/1908.png'), Path('train/3/19092.png'), Path('train/3/19101.png'), Path('train/3/19110.png'), Path('train/3/19114.png'), Path('train/3/19116.png'), Path('train/3/19169.png'), Path('train/3/19181.png'), Path('train/3/19195.png'), Path('train/3/19200.png'), Path('train/3/19205.png'), Path('train/3/1921.png'), Path('train/3/19215.png'), Path('train/3/19222.png'), Path('train/3/19230.png'), Path('train/3/19231.png'), Path('train/3/19234.png'), Path('train/3/19238.png'), Path('train/3/1924.png'), Path('train/3/19246.png'), Path('train/3/19247.png'), Path('train/3/19250.png'), Path('train/3/19263.png'), Path('train/3/19264.png'), Path('train/3/19266.png'), Path('train/3/19280.png'), Path('train/3/19285.png'), Path('train/3/19302.png'), Path('train/3/19307.png'), Path('train/3/19326.png'), Path('train/3/19333.png'), Path('train/3/19335.png'), Path('train/3/19337.png'), Path('train/3/19338.png'), Path('train/3/19342.png'), Path('train/3/19347.png'), Path('train/3/19348.png'), Path('train/3/1935.png'), Path('train/3/19368.png'), Path('train/3/19377.png'), Path('train/3/1938.png'), Path('train/3/19386.png'), Path('train/3/1941.png'), Path('train/3/19413.png'), Path('train/3/19425.png'), Path('train/3/19438.png'), Path('train/3/19442.png'), Path('train/3/19445.png'), Path('train/3/19465.png'), Path('train/3/19474.png'), Path('train/3/19495.png'), Path('train/3/19500.png'), Path('train/3/19501.png'), Path('train/3/19518.png'), Path('train/3/19536.png'), Path('train/3/19548.png'), Path('train/3/19549.png'), Path('train/3/19575.png'), Path('train/3/19579.png'), Path('train/3/1959.png'), Path('train/3/19601.png'), Path('train/3/19615.png'), Path('train/3/19620.png'), Path('train/3/19631.png'), Path('train/3/19633.png'), Path('train/3/19655.png'), Path('train/3/19660.png'), Path('train/3/19675.png'), Path('train/3/19695.png'), Path('train/3/19708.png'), Path('train/3/1971.png'), Path('train/3/19713.png'), Path('train/3/19734.png'), Path('train/3/19736.png'), Path('train/3/19739.png'), Path('train/3/19758.png'), Path('train/3/19793.png'), Path('train/3/198.png'), Path('train/3/19803.png'), Path('train/3/1981.png'), Path('train/3/19821.png'), Path('train/3/19829.png'), Path('train/3/19834.png'), Path('train/3/19836.png'), Path('train/3/19855.png'), Path('train/3/19863.png'), Path('train/3/19865.png'), Path('train/3/19866.png'), Path('train/3/19878.png'), Path('train/3/19883.png'), Path('train/3/19905.png'), Path('train/3/19921.png'), Path('train/3/1994.png'), Path('train/3/19941.png'), Path('train/3/19950.png'), Path('train/3/19962.png'), Path('train/3/19965.png'), Path('train/3/19967.png'), Path('train/3/19976.png'), Path('train/3/19977.png'), Path('train/3/20003.png'), Path('train/3/20009.png'), Path('train/3/20016.png'), Path('train/3/20023.png'), Path('train/3/20051.png'), Path('train/3/20072.png'), Path('train/3/20080.png'), Path('train/3/20096.png'), Path('train/3/20099.png'), Path('train/3/2011.png'), Path('train/3/20121.png'), Path('train/3/20147.png'), Path('train/3/20150.png'), Path('train/3/20166.png'), Path('train/3/20167.png'), Path('train/3/20181.png'), Path('train/3/20192.png'), Path('train/3/20201.png'), Path('train/3/20203.png'), Path('train/3/2021.png'), Path('train/3/20213.png'), Path('train/3/20220.png'), Path('train/3/20222.png'), Path('train/3/2023.png'), Path('train/3/20243.png'), Path('train/3/20249.png'), Path('train/3/20252.png'), Path('train/3/20259.png'), Path('train/3/20278.png'), Path('train/3/20285.png'), Path('train/3/2029.png'), Path('train/3/203.png'), Path('train/3/20314.png'), Path('train/3/20326.png'), Path('train/3/20329.png'), Path('train/3/20344.png'), Path('train/3/20347.png'), Path('train/3/20355.png'), Path('train/3/20356.png'), Path('train/3/20362.png'), Path('train/3/20377.png'), Path('train/3/20378.png'), Path('train/3/20397.png'), Path('train/3/20400.png'), Path('train/3/20413.png'), Path('train/3/2042.png'), Path('train/3/20423.png'), Path('train/3/20426.png'), Path('train/3/20430.png'), Path('train/3/20437.png'), Path('train/3/20439.png'), Path('train/3/20451.png'), Path('train/3/20458.png'), Path('train/3/20470.png'), Path('train/3/20492.png'), Path('train/3/20499.png'), Path('train/3/20500.png'), Path('train/3/20538.png'), Path('train/3/20540.png'), Path('train/3/20544.png'), Path('train/3/20553.png'), Path('train/3/20561.png'), Path('train/3/20565.png'), Path('train/3/20570.png'), Path('train/3/20587.png'), Path('train/3/20597.png'), Path('train/3/20606.png'), Path('train/3/20610.png'), Path('train/3/20615.png'), Path('train/3/20616.png'), Path('train/3/20626.png'), Path('train/3/20631.png'), Path('train/3/20649.png'), Path('train/3/20664.png'), Path('train/3/20670.png'), Path('train/3/20673.png'), Path('train/3/20675.png'), Path('train/3/20685.png'), Path('train/3/20687.png'), Path('train/3/20697.png'), Path('train/3/207.png'), Path('train/3/20705.png'), Path('train/3/20708.png'), Path('train/3/20728.png'), Path('train/3/20737.png'), Path('train/3/20738.png'), Path('train/3/2074.png'), Path('train/3/20752.png'), Path('train/3/20756.png'), Path('train/3/2076.png'), Path('train/3/20780.png'), Path('train/3/20790.png'), Path('train/3/20797.png'), Path('train/3/20800.png'), Path('train/3/20805.png'), Path('train/3/20833.png'), Path('train/3/20842.png'), Path('train/3/20844.png'), Path('train/3/20849.png'), Path('train/3/20868.png'), Path('train/3/20869.png'), Path('train/3/2087.png'), Path('train/3/20872.png'), Path('train/3/2088.png'), Path('train/3/20902.png'), Path('train/3/20903.png'), Path('train/3/2092.png'), Path('train/3/20926.png'), Path('train/3/20937.png'), Path('train/3/20939.png'), Path('train/3/20941.png'), Path('train/3/20942.png'), Path('train/3/20946.png'), Path('train/3/20952.png'), Path('train/3/20965.png'), Path('train/3/2098.png'), Path('train/3/20985.png'), Path('train/3/20989.png'), Path('train/3/21001.png'), Path('train/3/21007.png'), Path('train/3/21018.png'), Path('train/3/21026.png'), Path('train/3/21035.png'), Path('train/3/21038.png'), Path('train/3/21055.png'), Path('train/3/21056.png'), Path('train/3/2107.png'), Path('train/3/21075.png'), Path('train/3/21080.png'), Path('train/3/21092.png'), Path('train/3/21098.png'), Path('train/3/21099.png'), Path('train/3/21102.png'), Path('train/3/21112.png'), Path('train/3/21116.png'), Path('train/3/21129.png'), Path('train/3/2114.png'), Path('train/3/21144.png'), Path('train/3/21149.png'), Path('train/3/21150.png'), Path('train/3/21153.png'), Path('train/3/21154.png'), Path('train/3/21156.png'), Path('train/3/21170.png'), Path('train/3/21176.png'), Path('train/3/21179.png'), Path('train/3/21182.png'), Path('train/3/21187.png'), Path('train/3/21208.png'), Path('train/3/21209.png'), Path('train/3/21221.png'), Path('train/3/21228.png'), Path('train/3/21238.png'), Path('train/3/21250.png'), Path('train/3/21261.png'), Path('train/3/2127.png'), Path('train/3/21278.png'), Path('train/3/2128.png'), Path('train/3/21284.png'), Path('train/3/21285.png'), Path('train/3/2130.png'), Path('train/3/21305.png'), Path('train/3/21306.png'), Path('train/3/2132.png'), Path('train/3/21320.png'), Path('train/3/21325.png'), Path('train/3/21328.png'), Path('train/3/21341.png'), Path('train/3/21359.png'), Path('train/3/21370.png'), Path('train/3/21381.png'), Path('train/3/21390.png'), Path('train/3/21415.png'), Path('train/3/21420.png'), Path('train/3/21428.png'), Path('train/3/21447.png'), Path('train/3/21458.png'), Path('train/3/2146.png'), Path('train/3/21466.png'), Path('train/3/21468.png'), Path('train/3/21487.png'), Path('train/3/2149.png'), Path('train/3/21496.png'), Path('train/3/215.png'), Path('train/3/21505.png'), Path('train/3/21512.png'), Path('train/3/21515.png'), Path('train/3/21524.png'), Path('train/3/21525.png'), Path('train/3/21531.png'), Path('train/3/21539.png'), Path('train/3/21559.png'), Path('train/3/21570.png'), Path('train/3/21579.png'), Path('train/3/21580.png'), Path('train/3/21582.png'), Path('train/3/21584.png'), Path('train/3/21596.png'), Path('train/3/21606.png'), Path('train/3/21607.png'), Path('train/3/21610.png'), Path('train/3/21622.png'), Path('train/3/21625.png'), Path('train/3/21637.png'), Path('train/3/21643.png'), Path('train/3/21647.png'), Path('train/3/21654.png'), Path('train/3/21660.png'), Path('train/3/21673.png'), Path('train/3/21685.png'), Path('train/3/21689.png'), Path('train/3/21690.png'), Path('train/3/21695.png'), Path('train/3/21714.png'), Path('train/3/21717.png'), Path('train/3/21720.png'), Path('train/3/21726.png'), Path('train/3/2174.png'), Path('train/3/21775.png'), Path('train/3/2179.png'), Path('train/3/21795.png'), Path('train/3/2180.png'), Path('train/3/21812.png'), Path('train/3/21815.png'), Path('train/3/2183.png'), Path('train/3/21831.png'), Path('train/3/21853.png'), Path('train/3/21861.png'), Path('train/3/21864.png'), Path('train/3/21866.png'), Path('train/3/21877.png'), Path('train/3/21893.png'), Path('train/3/21930.png'), Path('train/3/21938.png'), Path('train/3/21939.png'), Path('train/3/21946.png'), Path('train/3/21947.png'), Path('train/3/21948.png'), Path('train/3/21950.png'), Path('train/3/21966.png'), Path('train/3/21974.png'), Path('train/3/21980.png'), Path('train/3/21986.png'), Path('train/3/21993.png'), Path('train/3/21998.png'), Path('train/3/2200.png'), Path('train/3/22000.png'), Path('train/3/22002.png'), Path('train/3/22003.png'), Path('train/3/22011.png'), Path('train/3/22014.png'), Path('train/3/22024.png'), Path('train/3/22029.png'), Path('train/3/2203.png'), Path('train/3/22032.png'), Path('train/3/22049.png'), Path('train/3/22058.png'), Path('train/3/22069.png'), Path('train/3/2207.png'), Path('train/3/22092.png'), Path('train/3/22103.png'), Path('train/3/22113.png'), Path('train/3/22114.png'), Path('train/3/22122.png'), Path('train/3/22126.png'), Path('train/3/22149.png'), Path('train/3/22154.png'), Path('train/3/22155.png'), Path('train/3/22162.png'), Path('train/3/22172.png'), Path('train/3/22182.png'), Path('train/3/22185.png'), Path('train/3/22204.png'), Path('train/3/22206.png'), Path('train/3/22218.png'), Path('train/3/22219.png'), Path('train/3/22231.png'), Path('train/3/22234.png'), Path('train/3/22238.png'), Path('train/3/22251.png'), Path('train/3/22271.png'), Path('train/3/2228.png'), Path('train/3/22293.png'), Path('train/3/2230.png'), Path('train/3/22304.png'), Path('train/3/22307.png'), Path('train/3/22315.png'), Path('train/3/22318.png'), Path('train/3/2232.png'), Path('train/3/22322.png'), Path('train/3/2233.png'), Path('train/3/22366.png'), Path('train/3/22374.png'), Path('train/3/22404.png'), Path('train/3/22408.png'), Path('train/3/2241.png'), Path('train/3/22413.png'), Path('train/3/22415.png'), Path('train/3/22417.png'), Path('train/3/22443.png'), Path('train/3/22451.png'), Path('train/3/22459.png'), Path('train/3/22460.png'), Path('train/3/22468.png'), Path('train/3/22474.png'), Path('train/3/22477.png'), Path('train/3/22488.png'), Path('train/3/22492.png'), Path('train/3/22493.png'), Path('train/3/22496.png'), Path('train/3/2252.png'), Path('train/3/22522.png'), Path('train/3/22536.png'), Path('train/3/22542.png'), Path('train/3/22567.png'), Path('train/3/22569.png'), Path('train/3/22578.png'), Path('train/3/22587.png'), Path('train/3/22598.png'), Path('train/3/22619.png'), Path('train/3/22625.png'), Path('train/3/2263.png'), Path('train/3/22631.png'), Path('train/3/22643.png'), Path('train/3/22663.png'), Path('train/3/22668.png'), Path('train/3/22674.png'), Path('train/3/22675.png'), Path('train/3/22695.png'), Path('train/3/22708.png'), Path('train/3/22715.png'), Path('train/3/22717.png'), Path('train/3/22721.png'), Path('train/3/22723.png'), Path('train/3/22728.png'), Path('train/3/22730.png'), Path('train/3/22733.png'), Path('train/3/22738.png'), Path('train/3/22741.png'), Path('train/3/2275.png'), Path('train/3/22767.png'), Path('train/3/22770.png'), Path('train/3/228.png'), Path('train/3/22825.png'), Path('train/3/22835.png'), Path('train/3/2286.png'), Path('train/3/22863.png'), Path('train/3/22883.png'), Path('train/3/22894.png'), Path('train/3/22903.png'), Path('train/3/22906.png'), Path('train/3/22943.png'), Path('train/3/22946.png'), Path('train/3/22957.png'), Path('train/3/22963.png'), Path('train/3/22964.png'), Path('train/3/22977.png'), Path('train/3/22989.png'), Path('train/3/22996.png'), Path('train/3/22999.png'), Path('train/3/23022.png'), Path('train/3/23024.png'), Path('train/3/23029.png'), Path('train/3/23043.png'), Path('train/3/23046.png'), Path('train/3/23047.png'), Path('train/3/23053.png'), Path('train/3/23076.png'), Path('train/3/23101.png'), Path('train/3/23116.png'), Path('train/3/23119.png'), Path('train/3/23130.png'), Path('train/3/23144.png'), Path('train/3/2315.png'), Path('train/3/23156.png'), Path('train/3/23157.png'), Path('train/3/23165.png'), Path('train/3/23202.png'), Path('train/3/23206.png'), Path('train/3/23218.png'), Path('train/3/23221.png'), Path('train/3/23225.png'), Path('train/3/23227.png'), Path('train/3/23239.png'), Path('train/3/23241.png'), Path('train/3/23242.png'), Path('train/3/23265.png'), Path('train/3/23281.png'), Path('train/3/23287.png'), Path('train/3/23294.png'), Path('train/3/23298.png'), Path('train/3/23304.png'), Path('train/3/23320.png'), Path('train/3/23322.png'), Path('train/3/23337.png'), Path('train/3/23338.png'), Path('train/3/23344.png'), Path('train/3/23357.png'), Path('train/3/23373.png'), Path('train/3/2339.png'), Path('train/3/23412.png'), Path('train/3/23419.png'), Path('train/3/23425.png'), Path('train/3/23439.png'), Path('train/3/23482.png'), Path('train/3/23483.png'), Path('train/3/23488.png'), Path('train/3/23490.png'), Path('train/3/235.png'), Path('train/3/2350.png'), Path('train/3/23517.png'), Path('train/3/23527.png'), Path('train/3/23547.png'), Path('train/3/23556.png'), Path('train/3/23563.png'), Path('train/3/23572.png'), Path('train/3/23581.png'), Path('train/3/2359.png'), Path('train/3/23634.png'), Path('train/3/23649.png'), Path('train/3/23657.png'), Path('train/3/23663.png'), Path('train/3/23672.png'), Path('train/3/23695.png'), Path('train/3/23700.png'), Path('train/3/23712.png'), Path('train/3/23724.png'), Path('train/3/23730.png'), Path('train/3/23731.png'), Path('train/3/23747.png'), Path('train/3/23759.png'), Path('train/3/23778.png'), Path('train/3/23779.png'), Path('train/3/2379.png'), Path('train/3/23796.png'), Path('train/3/23799.png'), Path('train/3/23810.png'), Path('train/3/23812.png'), Path('train/3/23819.png'), Path('train/3/23820.png'), Path('train/3/23829.png'), Path('train/3/23851.png'), Path('train/3/23860.png'), Path('train/3/23866.png'), Path('train/3/23873.png'), Path('train/3/23877.png'), Path('train/3/23879.png'), Path('train/3/23888.png'), Path('train/3/23897.png'), Path('train/3/23929.png'), Path('train/3/23939.png'), Path('train/3/23955.png'), Path('train/3/23962.png'), Path('train/3/23977.png'), Path('train/3/23986.png'), Path('train/3/23997.png'), Path('train/3/24017.png'), Path('train/3/24028.png'), Path('train/3/24042.png'), Path('train/3/24059.png'), Path('train/3/24063.png'), Path('train/3/24066.png'), Path('train/3/2408.png'), Path('train/3/24095.png'), Path('train/3/24099.png'), Path('train/3/24104.png'), Path('train/3/24111.png'), Path('train/3/24119.png'), Path('train/3/24125.png'), Path('train/3/24132.png'), Path('train/3/24142.png'), Path('train/3/24144.png'), Path('train/3/24145.png'), Path('train/3/24176.png'), Path('train/3/24196.png'), Path('train/3/242.png'), Path('train/3/24204.png'), Path('train/3/24205.png'), Path('train/3/24218.png'), Path('train/3/24219.png'), Path('train/3/2423.png'), Path('train/3/24231.png'), Path('train/3/24248.png'), Path('train/3/24251.png'), Path('train/3/24264.png'), Path('train/3/24271.png'), Path('train/3/24278.png'), Path('train/3/24281.png'), Path('train/3/24284.png'), Path('train/3/24294.png'), Path('train/3/24299.png'), Path('train/3/2430.png'), Path('train/3/24307.png'), Path('train/3/24326.png'), Path('train/3/24333.png'), Path('train/3/24336.png'), Path('train/3/24338.png'), Path('train/3/24350.png'), Path('train/3/24354.png'), Path('train/3/24356.png'), Path('train/3/24358.png'), Path('train/3/24369.png'), Path('train/3/24373.png'), Path('train/3/24386.png'), Path('train/3/24400.png'), Path('train/3/24407.png'), Path('train/3/24414.png'), Path('train/3/24417.png'), Path('train/3/24435.png'), Path('train/3/24442.png'), Path('train/3/24446.png'), Path('train/3/24448.png'), Path('train/3/24451.png'), Path('train/3/24452.png'), Path('train/3/24469.png'), Path('train/3/24481.png'), Path('train/3/24501.png'), Path('train/3/24512.png'), Path('train/3/24524.png'), Path('train/3/24528.png'), Path('train/3/24531.png'), Path('train/3/24532.png'), Path('train/3/24539.png'), Path('train/3/2456.png'), Path('train/3/24560.png'), Path('train/3/24573.png'), Path('train/3/24575.png'), Path('train/3/24584.png'), Path('train/3/24597.png'), Path('train/3/24603.png'), Path('train/3/24610.png'), Path('train/3/24621.png'), Path('train/3/2463.png'), Path('train/3/24635.png'), Path('train/3/24651.png'), Path('train/3/24667.png'), Path('train/3/24672.png'), Path('train/3/2468.png'), Path('train/3/24680.png'), Path('train/3/2469.png'), Path('train/3/24697.png'), Path('train/3/24731.png'), Path('train/3/24733.png'), Path('train/3/24735.png'), Path('train/3/24747.png'), Path('train/3/24748.png'), Path('train/3/24763.png'), Path('train/3/24770.png'), Path('train/3/24772.png'), Path('train/3/24780.png'), Path('train/3/24783.png'), Path('train/3/24784.png'), Path('train/3/24787.png'), Path('train/3/24789.png'), Path('train/3/2481.png'), Path('train/3/24835.png'), Path('train/3/24850.png'), Path('train/3/24867.png'), Path('train/3/24868.png'), Path('train/3/24870.png'), Path('train/3/24883.png'), Path('train/3/24886.png'), Path('train/3/2489.png'), Path('train/3/24899.png'), Path('train/3/24906.png'), Path('train/3/24931.png'), Path('train/3/24943.png'), Path('train/3/24965.png'), Path('train/3/24969.png'), Path('train/3/24987.png'), Path('train/3/24989.png'), Path('train/3/250.png'), Path('train/3/25000.png'), Path('train/3/25007.png'), Path('train/3/25028.png'), Path('train/3/2503.png'), Path('train/3/25032.png'), Path('train/3/25033.png'), Path('train/3/25034.png'), Path('train/3/25040.png'), Path('train/3/25055.png'), Path('train/3/2506.png'), Path('train/3/25071.png'), Path('train/3/25078.png'), Path('train/3/25091.png'), Path('train/3/25094.png'), Path('train/3/25106.png'), Path('train/3/25107.png'), Path('train/3/25116.png'), Path('train/3/25127.png'), Path('train/3/25145.png'), Path('train/3/25164.png'), Path('train/3/25172.png'), Path('train/3/25174.png'), Path('train/3/25187.png'), Path('train/3/25191.png'), Path('train/3/25208.png'), Path('train/3/25209.png'), Path('train/3/25210.png'), Path('train/3/25222.png'), Path('train/3/25225.png'), Path('train/3/25231.png'), Path('train/3/2524.png'), Path('train/3/25245.png'), Path('train/3/25257.png'), Path('train/3/25266.png'), Path('train/3/25282.png'), Path('train/3/25284.png'), Path('train/3/2529.png'), Path('train/3/25291.png'), Path('train/3/25296.png'), Path('train/3/2531.png'), Path('train/3/25311.png'), Path('train/3/25328.png'), Path('train/3/25331.png'), Path('train/3/25346.png'), Path('train/3/2535.png'), Path('train/3/2536.png'), Path('train/3/25373.png'), Path('train/3/25377.png'), Path('train/3/25398.png'), Path('train/3/254.png'), Path('train/3/25409.png'), Path('train/3/2541.png'), Path('train/3/25413.png'), Path('train/3/25417.png'), Path('train/3/25425.png'), Path('train/3/25431.png'), Path('train/3/25453.png'), Path('train/3/25454.png'), Path('train/3/25480.png'), Path('train/3/255.png'), Path('train/3/25509.png'), Path('train/3/25523.png'), Path('train/3/25535.png'), Path('train/3/25536.png'), Path('train/3/25538.png'), Path('train/3/25552.png'), Path('train/3/25553.png'), Path('train/3/25573.png'), Path('train/3/25586.png'), Path('train/3/25590.png'), Path('train/3/25601.png'), Path('train/3/25619.png'), Path('train/3/25630.png'), Path('train/3/25631.png'), Path('train/3/2564.png'), Path('train/3/25641.png'), Path('train/3/25645.png'), Path('train/3/2567.png'), Path('train/3/25671.png'), Path('train/3/2568.png'), Path('train/3/25685.png'), Path('train/3/25688.png'), Path('train/3/25689.png'), Path('train/3/25695.png'), Path('train/3/25708.png'), Path('train/3/25721.png'), Path('train/3/25728.png'), Path('train/3/25740.png'), Path('train/3/25746.png'), Path('train/3/25768.png'), Path('train/3/25789.png'), Path('train/3/2580.png'), Path('train/3/25802.png'), Path('train/3/25809.png'), Path('train/3/25820.png'), Path('train/3/25829.png'), Path('train/3/25855.png'), Path('train/3/25861.png'), Path('train/3/25867.png'), Path('train/3/2587.png'), Path('train/3/25880.png'), Path('train/3/25882.png'), Path('train/3/25883.png'), Path('train/3/25896.png'), Path('train/3/25911.png'), Path('train/3/25915.png'), Path('train/3/25922.png'), Path('train/3/25924.png'), Path('train/3/25941.png'), Path('train/3/25949.png'), Path('train/3/25950.png'), Path('train/3/25955.png'), Path('train/3/25993.png'), Path('train/3/25996.png'), Path('train/3/26008.png'), Path('train/3/26013.png'), Path('train/3/26014.png'), Path('train/3/2603.png'), Path('train/3/26033.png'), Path('train/3/26048.png'), Path('train/3/26050.png'), Path('train/3/26053.png'), Path('train/3/26057.png'), Path('train/3/26081.png'), Path('train/3/26084.png'), Path('train/3/26123.png'), Path('train/3/26127.png'), Path('train/3/26130.png'), Path('train/3/26140.png'), Path('train/3/26148.png'), Path('train/3/26149.png'), Path('train/3/26154.png'), Path('train/3/26156.png'), Path('train/3/26165.png'), Path('train/3/26171.png'), Path('train/3/26187.png'), Path('train/3/26194.png'), Path('train/3/26208.png'), Path('train/3/26209.png'), Path('train/3/26222.png'), Path('train/3/26247.png'), Path('train/3/26267.png'), Path('train/3/2627.png'), Path('train/3/26270.png'), Path('train/3/26284.png'), Path('train/3/26291.png'), Path('train/3/26305.png'), Path('train/3/26306.png'), Path('train/3/26307.png'), Path('train/3/26311.png'), Path('train/3/2632.png'), Path('train/3/26324.png'), Path('train/3/26358.png'), Path('train/3/26364.png'), Path('train/3/26378.png'), Path('train/3/26383.png'), Path('train/3/26391.png'), Path('train/3/26399.png'), Path('train/3/26403.png'), Path('train/3/26412.png'), Path('train/3/26419.png'), Path('train/3/26433.png'), Path('train/3/26448.png'), Path('train/3/26449.png'), Path('train/3/26463.png'), Path('train/3/26478.png'), Path('train/3/26488.png'), Path('train/3/26503.png'), Path('train/3/26505.png'), Path('train/3/2652.png'), Path('train/3/26526.png'), Path('train/3/26534.png'), Path('train/3/26542.png'), Path('train/3/26548.png'), Path('train/3/26550.png'), Path('train/3/26554.png'), Path('train/3/26555.png'), Path('train/3/26561.png'), Path('train/3/26593.png'), Path('train/3/26596.png'), Path('train/3/2660.png'), Path('train/3/2661.png'), Path('train/3/26625.png'), Path('train/3/26629.png'), Path('train/3/26644.png'), Path('train/3/26651.png'), Path('train/3/26662.png'), Path('train/3/26671.png'), Path('train/3/26674.png'), Path('train/3/26678.png'), Path('train/3/2669.png'), Path('train/3/26691.png'), Path('train/3/26692.png'), Path('train/3/26694.png'), Path('train/3/26702.png'), Path('train/3/2671.png'), Path('train/3/26710.png'), Path('train/3/26711.png'), Path('train/3/26715.png'), Path('train/3/26724.png'), Path('train/3/26732.png'), Path('train/3/26739.png'), Path('train/3/26744.png'), Path('train/3/2675.png'), Path('train/3/26781.png'), Path('train/3/26783.png'), Path('train/3/26809.png'), Path('train/3/26824.png'), Path('train/3/26825.png'), Path('train/3/26830.png'), Path('train/3/26831.png'), Path('train/3/26849.png'), Path('train/3/26866.png'), Path('train/3/26871.png'), Path('train/3/26878.png'), Path('train/3/26880.png'), Path('train/3/26909.png'), Path('train/3/26928.png'), Path('train/3/26929.png'), Path('train/3/26942.png'), Path('train/3/26943.png'), Path('train/3/26965.png'), Path('train/3/26975.png'), Path('train/3/26981.png'), Path('train/3/26989.png'), Path('train/3/26998.png'), Path('train/3/27.png'), Path('train/3/27022.png'), Path('train/3/27031.png'), Path('train/3/27032.png'), Path('train/3/27047.png'), Path('train/3/2705.png'), Path('train/3/27060.png'), Path('train/3/27067.png'), Path('train/3/2707.png'), Path('train/3/27075.png'), Path('train/3/27078.png'), Path('train/3/27084.png'), Path('train/3/27095.png'), Path('train/3/27115.png'), Path('train/3/27132.png'), Path('train/3/27133.png'), Path('train/3/27135.png'), Path('train/3/27140.png'), Path('train/3/27143.png'), Path('train/3/27152.png'), Path('train/3/27160.png'), Path('train/3/27167.png'), Path('train/3/27172.png'), Path('train/3/27173.png'), Path('train/3/27183.png'), Path('train/3/2720.png'), Path('train/3/27211.png'), Path('train/3/27212.png'), Path('train/3/27214.png'), Path('train/3/27238.png'), Path('train/3/27248.png'), Path('train/3/2726.png'), Path('train/3/27261.png'), Path('train/3/27274.png'), Path('train/3/27279.png'), Path('train/3/27282.png'), Path('train/3/27287.png'), Path('train/3/27313.png'), Path('train/3/27316.png'), Path('train/3/27333.png'), Path('train/3/2734.png'), Path('train/3/27349.png'), Path('train/3/2735.png'), Path('train/3/27362.png'), Path('train/3/27366.png'), Path('train/3/27389.png'), Path('train/3/2740.png'), Path('train/3/27419.png'), Path('train/3/27420.png'), Path('train/3/27423.png'), Path('train/3/27435.png'), Path('train/3/27443.png'), Path('train/3/27467.png'), Path('train/3/27478.png'), Path('train/3/27480.png'), Path('train/3/27486.png'), Path('train/3/2751.png'), Path('train/3/27518.png'), Path('train/3/27527.png'), Path('train/3/27534.png'), Path('train/3/27540.png'), Path('train/3/27541.png'), Path('train/3/27553.png'), Path('train/3/27560.png'), Path('train/3/27570.png'), Path('train/3/27573.png'), Path('train/3/27589.png'), Path('train/3/2760.png'), Path('train/3/27610.png'), Path('train/3/27625.png'), Path('train/3/27640.png'), Path('train/3/27644.png'), Path('train/3/27645.png'), Path('train/3/27649.png'), Path('train/3/27651.png'), Path('train/3/27666.png'), Path('train/3/27670.png'), Path('train/3/27671.png'), Path('train/3/27675.png'), Path('train/3/27690.png'), Path('train/3/27691.png'), Path('train/3/27701.png'), Path('train/3/2771.png'), Path('train/3/27718.png'), Path('train/3/27726.png'), Path('train/3/2774.png'), Path('train/3/27741.png'), Path('train/3/27755.png'), Path('train/3/27763.png'), Path('train/3/27783.png'), Path('train/3/27784.png'), Path('train/3/27786.png'), Path('train/3/27795.png'), Path('train/3/27803.png'), Path('train/3/27804.png'), Path('train/3/27828.png'), Path('train/3/27835.png'), Path('train/3/27838.png'), Path('train/3/27840.png'), Path('train/3/27847.png'), Path('train/3/27856.png'), Path('train/3/2786.png'), Path('train/3/27861.png'), Path('train/3/27866.png'), Path('train/3/27870.png'), Path('train/3/2788.png'), Path('train/3/27899.png'), Path('train/3/279.png'), Path('train/3/27917.png'), Path('train/3/27930.png'), Path('train/3/27937.png'), Path('train/3/27946.png'), Path('train/3/2796.png'), Path('train/3/27960.png'), Path('train/3/27977.png'), Path('train/3/27987.png'), Path('train/3/27988.png'), Path('train/3/28006.png'), Path('train/3/28026.png'), Path('train/3/2803.png'), Path('train/3/28031.png'), Path('train/3/28032.png'), Path('train/3/28037.png'), Path('train/3/28075.png'), Path('train/3/281.png'), Path('train/3/28107.png'), Path('train/3/28111.png'), Path('train/3/28119.png'), Path('train/3/28123.png'), Path('train/3/28132.png'), Path('train/3/28137.png'), Path('train/3/28157.png'), Path('train/3/2816.png'), Path('train/3/28171.png'), Path('train/3/28174.png'), Path('train/3/2818.png'), Path('train/3/28193.png'), Path('train/3/28199.png'), Path('train/3/2820.png'), Path('train/3/28204.png'), Path('train/3/28224.png'), Path('train/3/28252.png'), Path('train/3/28256.png'), Path('train/3/28263.png'), Path('train/3/28264.png'), Path('train/3/28265.png'), Path('train/3/28276.png'), Path('train/3/28299.png'), Path('train/3/28303.png'), Path('train/3/28316.png'), Path('train/3/2834.png'), Path('train/3/28343.png'), Path('train/3/28344.png'), Path('train/3/28359.png'), Path('train/3/28371.png'), Path('train/3/28374.png'), Path('train/3/28380.png'), Path('train/3/28391.png'), Path('train/3/28392.png'), Path('train/3/28406.png'), Path('train/3/28409.png'), Path('train/3/28418.png'), Path('train/3/28431.png'), Path('train/3/28441.png'), Path('train/3/28444.png'), Path('train/3/28458.png'), Path('train/3/28472.png'), Path('train/3/28476.png'), Path('train/3/28485.png'), Path('train/3/28499.png'), Path('train/3/28515.png'), Path('train/3/28527.png'), Path('train/3/28528.png'), Path('train/3/28536.png'), Path('train/3/28561.png'), Path('train/3/28571.png'), Path('train/3/28580.png'), Path('train/3/28613.png'), Path('train/3/28626.png'), Path('train/3/28633.png'), Path('train/3/28653.png'), Path('train/3/28668.png'), Path('train/3/28693.png'), Path('train/3/28707.png'), Path('train/3/28709.png'), Path('train/3/2871.png'), Path('train/3/28716.png'), Path('train/3/28734.png'), Path('train/3/28735.png'), Path('train/3/28752.png'), Path('train/3/28757.png'), Path('train/3/28759.png'), Path('train/3/28760.png'), Path('train/3/28773.png'), Path('train/3/28778.png'), Path('train/3/28796.png'), Path('train/3/28803.png'), Path('train/3/28820.png'), Path('train/3/28825.png'), Path('train/3/28826.png'), Path('train/3/2883.png'), Path('train/3/28841.png'), Path('train/3/28858.png'), Path('train/3/2886.png'), Path('train/3/28861.png'), Path('train/3/28881.png'), Path('train/3/28900.png'), Path('train/3/28913.png'), Path('train/3/28916.png'), Path('train/3/28936.png'), Path('train/3/2895.png'), Path('train/3/28953.png'), Path('train/3/28955.png'), Path('train/3/28957.png'), Path('train/3/28983.png'), Path('train/3/28995.png'), Path('train/3/29013.png'), Path('train/3/29014.png'), Path('train/3/29023.png'), Path('train/3/29042.png'), Path('train/3/29045.png'), Path('train/3/2905.png'), Path('train/3/29061.png'), Path('train/3/29073.png'), Path('train/3/29089.png'), Path('train/3/29094.png'), Path('train/3/29097.png'), Path('train/3/291.png'), Path('train/3/29104.png'), Path('train/3/29121.png'), Path('train/3/29146.png'), Path('train/3/2915.png'), Path('train/3/29153.png'), Path('train/3/29158.png'), Path('train/3/2917.png'), Path('train/3/29181.png'), Path('train/3/29182.png'), Path('train/3/29185.png'), Path('train/3/29224.png'), Path('train/3/29225.png'), Path('train/3/29231.png'), Path('train/3/29232.png'), Path('train/3/29237.png'), Path('train/3/29246.png'), Path('train/3/29249.png'), Path('train/3/2926.png'), Path('train/3/29266.png'), Path('train/3/29269.png'), Path('train/3/29270.png'), Path('train/3/29289.png'), Path('train/3/29294.png'), Path('train/3/29300.png'), Path('train/3/29304.png'), Path('train/3/2931.png'), Path('train/3/29313.png'), Path('train/3/29352.png'), Path('train/3/29353.png'), Path('train/3/29356.png'), Path('train/3/29357.png'), Path('train/3/29366.png'), Path('train/3/29383.png'), Path('train/3/29391.png'), Path('train/3/29398.png'), Path('train/3/2941.png'), Path('train/3/29415.png'), Path('train/3/29427.png'), Path('train/3/29458.png'), Path('train/3/29459.png'), Path('train/3/29464.png'), Path('train/3/29476.png'), Path('train/3/29483.png'), Path('train/3/29504.png'), Path('train/3/29506.png'), Path('train/3/29521.png'), Path('train/3/29528.png'), Path('train/3/29557.png'), Path('train/3/2960.png'), Path('train/3/29602.png'), Path('train/3/29608.png'), Path('train/3/2961.png'), Path('train/3/29610.png'), Path('train/3/29613.png'), Path('train/3/29636.png'), Path('train/3/2964.png'), Path('train/3/29641.png'), Path('train/3/29642.png'), Path('train/3/29650.png'), Path('train/3/29653.png'), Path('train/3/29670.png'), Path('train/3/29671.png'), Path('train/3/29675.png'), Path('train/3/29701.png'), Path('train/3/29719.png'), Path('train/3/29757.png'), Path('train/3/29763.png'), Path('train/3/29765.png'), Path('train/3/29785.png'), Path('train/3/29791.png'), Path('train/3/298.png'), Path('train/3/29800.png'), Path('train/3/2981.png'), Path('train/3/29816.png'), Path('train/3/29823.png'), Path('train/3/29844.png'), Path('train/3/29875.png'), Path('train/3/29882.png'), Path('train/3/29889.png'), Path('train/3/29894.png'), Path('train/3/29896.png'), Path('train/3/29899.png'), Path('train/3/29913.png'), Path('train/3/29936.png'), Path('train/3/29958.png'), Path('train/3/29962.png'), Path('train/3/29969.png'), Path('train/3/29972.png'), Path('train/3/29991.png'), Path('train/3/30.png'), Path('train/3/30000.png'), Path('train/3/30002.png'), Path('train/3/30011.png'), Path('train/3/30040.png'), Path('train/3/30041.png'), Path('train/3/30048.png'), Path('train/3/3005.png'), Path('train/3/30057.png'), Path('train/3/30062.png'), Path('train/3/30070.png'), Path('train/3/30072.png'), Path('train/3/30077.png'), Path('train/3/30084.png'), Path('train/3/30090.png'), Path('train/3/30093.png'), Path('train/3/30105.png'), Path('train/3/30124.png'), Path('train/3/3013.png'), Path('train/3/30130.png'), Path('train/3/30131.png'), Path('train/3/30136.png'), Path('train/3/30159.png'), Path('train/3/30175.png'), Path('train/3/30183.png'), Path('train/3/30193.png'), Path('train/3/30206.png'), Path('train/3/30213.png'), Path('train/3/30226.png'), Path('train/3/30229.png'), Path('train/3/30241.png'), Path('train/3/30251.png'), Path('train/3/30254.png'), Path('train/3/30256.png'), Path('train/3/30258.png'), Path('train/3/30265.png'), Path('train/3/30273.png'), Path('train/3/30282.png'), Path('train/3/30284.png'), Path('train/3/30304.png'), Path('train/3/30306.png'), Path('train/3/3033.png'), Path('train/3/3034.png'), Path('train/3/30354.png'), Path('train/3/30362.png'), Path('train/3/30375.png'), Path('train/3/30377.png'), Path('train/3/30379.png'), Path('train/3/30386.png'), Path('train/3/30398.png'), Path('train/3/30400.png'), Path('train/3/30411.png'), Path('train/3/30417.png'), Path('train/3/30423.png'), Path('train/3/30431.png'), Path('train/3/30445.png'), Path('train/3/30461.png'), Path('train/3/30468.png'), Path('train/3/3047.png'), Path('train/3/3048.png'), Path('train/3/30483.png'), Path('train/3/30489.png'), Path('train/3/3051.png'), Path('train/3/30511.png'), Path('train/3/30515.png'), Path('train/3/30540.png'), Path('train/3/3057.png'), Path('train/3/30571.png'), Path('train/3/30574.png'), Path('train/3/30591.png'), Path('train/3/30611.png'), Path('train/3/30642.png'), Path('train/3/30644.png'), Path('train/3/30645.png'), Path('train/3/30650.png'), Path('train/3/30662.png'), Path('train/3/30673.png'), Path('train/3/30675.png'), Path('train/3/30679.png'), Path('train/3/30681.png'), Path('train/3/30692.png'), Path('train/3/30717.png'), Path('train/3/30720.png'), Path('train/3/30729.png'), Path('train/3/30733.png'), Path('train/3/30740.png'), Path('train/3/30747.png'), Path('train/3/3075.png'), Path('train/3/30754.png'), Path('train/3/30760.png'), Path('train/3/30774.png'), Path('train/3/30780.png'), Path('train/3/30793.png'), Path('train/3/30813.png'), Path('train/3/30824.png'), Path('train/3/30833.png'), Path('train/3/30859.png'), Path('train/3/30883.png'), Path('train/3/30885.png'), Path('train/3/30895.png'), Path('train/3/30897.png'), Path('train/3/30907.png'), Path('train/3/30915.png'), Path('train/3/30934.png'), Path('train/3/30949.png'), Path('train/3/30960.png'), Path('train/3/30962.png'), Path('train/3/30974.png'), Path('train/3/30984.png'), Path('train/3/30986.png'), Path('train/3/31011.png'), Path('train/3/31021.png'), Path('train/3/31032.png'), Path('train/3/31042.png'), Path('train/3/31044.png'), Path('train/3/31049.png'), Path('train/3/31065.png'), Path('train/3/3108.png'), Path('train/3/31098.png'), Path('train/3/31108.png'), Path('train/3/31117.png'), Path('train/3/31136.png'), Path('train/3/31140.png'), Path('train/3/31153.png'), Path('train/3/31155.png'), Path('train/3/31157.png'), Path('train/3/31178.png'), Path('train/3/31183.png'), Path('train/3/31201.png'), Path('train/3/31217.png'), Path('train/3/31229.png'), Path('train/3/3124.png'), Path('train/3/31249.png'), Path('train/3/31254.png'), Path('train/3/31269.png'), Path('train/3/31274.png'), Path('train/3/31283.png'), Path('train/3/31311.png'), Path('train/3/31345.png'), Path('train/3/31347.png'), Path('train/3/31349.png'), Path('train/3/31379.png'), Path('train/3/31395.png'), Path('train/3/31404.png'), Path('train/3/31409.png'), Path('train/3/31428.png'), Path('train/3/31431.png'), Path('train/3/31446.png'), Path('train/3/31450.png'), Path('train/3/31451.png'), Path('train/3/31452.png'), Path('train/3/31469.png'), Path('train/3/31482.png'), Path('train/3/31488.png'), Path('train/3/3150.png'), Path('train/3/31504.png'), Path('train/3/31515.png'), Path('train/3/31538.png'), Path('train/3/31544.png'), Path('train/3/31548.png'), Path('train/3/31559.png'), Path('train/3/31562.png'), Path('train/3/31564.png'), Path('train/3/31579.png'), Path('train/3/31582.png'), Path('train/3/31587.png'), Path('train/3/3159.png'), Path('train/3/31595.png'), Path('train/3/31596.png'), Path('train/3/31602.png'), Path('train/3/31610.png'), Path('train/3/31627.png'), Path('train/3/31631.png'), Path('train/3/31636.png'), Path('train/3/31641.png'), Path('train/3/31664.png'), Path('train/3/31667.png'), Path('train/3/31680.png'), Path('train/3/31691.png'), Path('train/3/31703.png'), Path('train/3/3171.png'), Path('train/3/31719.png'), Path('train/3/31720.png'), Path('train/3/31722.png'), Path('train/3/31723.png'), Path('train/3/31724.png'), Path('train/3/31735.png'), Path('train/3/3174.png'), Path('train/3/31745.png'), Path('train/3/31748.png'), Path('train/3/31759.png'), Path('train/3/31775.png'), Path('train/3/3178.png'), Path('train/3/31788.png'), Path('train/3/31791.png'), Path('train/3/31805.png'), Path('train/3/3181.png'), Path('train/3/31811.png'), Path('train/3/31825.png'), Path('train/3/31831.png'), Path('train/3/31868.png'), Path('train/3/31897.png'), Path('train/3/31913.png'), Path('train/3/3192.png'), Path('train/3/31925.png'), Path('train/3/31936.png'), Path('train/3/31949.png'), Path('train/3/31952.png'), Path('train/3/31960.png'), Path('train/3/31962.png'), Path('train/3/31975.png'), Path('train/3/31988.png'), Path('train/3/31989.png'), Path('train/3/3201.png'), Path('train/3/32013.png'), Path('train/3/32017.png'), Path('train/3/32025.png'), Path('train/3/32031.png'), Path('train/3/32042.png'), Path('train/3/32044.png'), Path('train/3/32071.png'), Path('train/3/32087.png'), Path('train/3/32091.png'), Path('train/3/321.png'), Path('train/3/32106.png'), Path('train/3/32114.png'), Path('train/3/32115.png'), Path('train/3/32137.png'), Path('train/3/3215.png'), Path('train/3/32157.png'), Path('train/3/32171.png'), Path('train/3/32176.png'), Path('train/3/32192.png'), Path('train/3/32193.png'), Path('train/3/32194.png'), Path('train/3/3220.png'), Path('train/3/32203.png'), Path('train/3/32209.png'), Path('train/3/32223.png'), Path('train/3/32227.png'), Path('train/3/32234.png'), Path('train/3/32267.png'), Path('train/3/32275.png'), Path('train/3/32276.png'), Path('train/3/32281.png'), Path('train/3/32284.png'), Path('train/3/32299.png'), Path('train/3/32314.png'), Path('train/3/32319.png'), Path('train/3/3233.png'), Path('train/3/32330.png'), Path('train/3/32339.png'), Path('train/3/32371.png'), Path('train/3/32376.png'), Path('train/3/32379.png'), Path('train/3/32385.png'), Path('train/3/32398.png'), Path('train/3/32401.png'), Path('train/3/32409.png'), Path('train/3/32414.png'), Path('train/3/32420.png'), Path('train/3/32421.png'), Path('train/3/32422.png'), Path('train/3/32434.png'), Path('train/3/32444.png'), Path('train/3/32476.png'), Path('train/3/32479.png'), Path('train/3/32484.png'), Path('train/3/32490.png'), Path('train/3/32495.png'), Path('train/3/32505.png'), Path('train/3/32539.png'), Path('train/3/32563.png'), Path('train/3/3258.png'), Path('train/3/32581.png'), Path('train/3/32586.png'), Path('train/3/32588.png'), Path('train/3/32610.png'), Path('train/3/32619.png'), Path('train/3/3264.png'), Path('train/3/32642.png'), Path('train/3/32644.png'), Path('train/3/32652.png'), Path('train/3/32653.png'), Path('train/3/32656.png'), Path('train/3/32663.png'), Path('train/3/32664.png'), Path('train/3/32665.png'), Path('train/3/32680.png'), Path('train/3/32685.png'), Path('train/3/32688.png'), Path('train/3/32689.png'), Path('train/3/32691.png'), Path('train/3/327.png'), Path('train/3/32703.png'), Path('train/3/32730.png'), Path('train/3/32753.png'), Path('train/3/32764.png'), Path('train/3/32775.png'), Path('train/3/32786.png'), Path('train/3/32790.png'), Path('train/3/32794.png'), Path('train/3/32799.png'), Path('train/3/32804.png'), Path('train/3/32811.png'), Path('train/3/32827.png'), Path('train/3/32847.png'), Path('train/3/32850.png'), Path('train/3/32881.png'), Path('train/3/32883.png'), Path('train/3/32885.png'), Path('train/3/32897.png'), Path('train/3/32900.png'), Path('train/3/3291.png'), Path('train/3/32913.png'), Path('train/3/32931.png'), Path('train/3/32933.png'), Path('train/3/32940.png'), Path('train/3/32944.png'), Path('train/3/32960.png'), Path('train/3/32964.png'), Path('train/3/32975.png'), Path('train/3/32984.png'), Path('train/3/32990.png'), Path('train/3/330.png'), Path('train/3/33000.png'), Path('train/3/33002.png'), Path('train/3/33004.png'), Path('train/3/33009.png'), Path('train/3/33022.png'), Path('train/3/33028.png'), Path('train/3/33029.png'), Path('train/3/33049.png'), Path('train/3/33054.png'), Path('train/3/33080.png'), Path('train/3/33099.png'), Path('train/3/33114.png'), Path('train/3/33132.png'), Path('train/3/33139.png'), Path('train/3/3314.png'), Path('train/3/33145.png'), Path('train/3/33146.png'), Path('train/3/33161.png'), Path('train/3/33169.png'), Path('train/3/3318.png'), Path('train/3/33186.png'), Path('train/3/33189.png'), Path('train/3/3319.png'), Path('train/3/33194.png'), Path('train/3/3320.png'), Path('train/3/33208.png'), Path('train/3/33223.png'), Path('train/3/33225.png'), Path('train/3/33229.png'), Path('train/3/3323.png'), Path('train/3/33239.png'), Path('train/3/33240.png'), Path('train/3/33263.png'), Path('train/3/33276.png'), Path('train/3/33283.png'), Path('train/3/33299.png'), Path('train/3/33316.png'), Path('train/3/3332.png'), Path('train/3/33331.png'), Path('train/3/33344.png'), Path('train/3/33351.png'), Path('train/3/33357.png'), Path('train/3/3336.png'), Path('train/3/33371.png'), Path('train/3/33399.png'), Path('train/3/33400.png'), Path('train/3/33407.png'), Path('train/3/33412.png'), Path('train/3/33421.png'), Path('train/3/33432.png'), Path('train/3/33444.png'), Path('train/3/33445.png'), Path('train/3/33468.png'), Path('train/3/3347.png'), Path('train/3/33471.png'), Path('train/3/33491.png'), Path('train/3/33500.png'), Path('train/3/33507.png'), Path('train/3/33510.png'), Path('train/3/33529.png'), Path('train/3/33532.png'), Path('train/3/33566.png'), Path('train/3/33568.png'), Path('train/3/3358.png'), Path('train/3/33583.png'), Path('train/3/33587.png'), Path('train/3/33589.png'), Path('train/3/33590.png'), Path('train/3/33594.png'), Path('train/3/33607.png'), Path('train/3/33609.png'), Path('train/3/33624.png'), Path('train/3/33633.png'), Path('train/3/33649.png'), Path('train/3/33655.png'), Path('train/3/33694.png'), Path('train/3/33709.png'), Path('train/3/33722.png'), Path('train/3/33729.png'), Path('train/3/33745.png'), Path('train/3/33754.png'), Path('train/3/33758.png'), Path('train/3/33760.png'), Path('train/3/33763.png'), Path('train/3/33772.png'), Path('train/3/33786.png'), Path('train/3/33795.png'), Path('train/3/33817.png'), Path('train/3/33818.png'), Path('train/3/33828.png'), Path('train/3/3383.png'), Path('train/3/33837.png'), Path('train/3/33840.png'), Path('train/3/33845.png'), Path('train/3/33854.png'), Path('train/3/3386.png'), Path('train/3/33875.png'), Path('train/3/33877.png'), Path('train/3/33880.png'), Path('train/3/33896.png'), Path('train/3/33908.png'), Path('train/3/33911.png'), Path('train/3/33917.png'), Path('train/3/33939.png'), Path('train/3/33953.png'), Path('train/3/33962.png'), Path('train/3/33966.png'), Path('train/3/33969.png'), Path('train/3/3397.png'), Path('train/3/33970.png'), Path('train/3/33986.png'), Path('train/3/33989.png'), Path('train/3/3400.png'), Path('train/3/34006.png'), Path('train/3/34018.png'), Path('train/3/3402.png'), Path('train/3/34023.png'), Path('train/3/34026.png'), Path('train/3/3404.png'), Path('train/3/34048.png'), Path('train/3/34058.png'), Path('train/3/34076.png'), Path('train/3/34085.png'), Path('train/3/34089.png'), Path('train/3/34092.png'), Path('train/3/341.png'), Path('train/3/34105.png'), Path('train/3/34119.png'), Path('train/3/34120.png'), Path('train/3/34127.png'), Path('train/3/34140.png'), Path('train/3/34143.png'), Path('train/3/34145.png'), Path('train/3/3415.png'), Path('train/3/34170.png'), Path('train/3/34171.png'), Path('train/3/34175.png'), Path('train/3/34180.png'), Path('train/3/34183.png'), Path('train/3/34188.png'), Path('train/3/34190.png'), Path('train/3/34203.png'), Path('train/3/34204.png'), Path('train/3/34208.png'), Path('train/3/34219.png'), Path('train/3/3422.png'), Path('train/3/34235.png'), Path('train/3/34239.png'), Path('train/3/3424.png'), Path('train/3/34259.png'), Path('train/3/34268.png'), Path('train/3/34289.png'), Path('train/3/34293.png'), Path('train/3/34315.png'), Path('train/3/34316.png'), Path('train/3/34318.png'), Path('train/3/34327.png'), Path('train/3/34333.png'), Path('train/3/3435.png'), Path('train/3/34351.png'), Path('train/3/34363.png'), Path('train/3/34364.png'), Path('train/3/34366.png'), Path('train/3/34368.png'), Path('train/3/34384.png'), Path('train/3/34387.png'), Path('train/3/34390.png'), Path('train/3/34396.png'), Path('train/3/34407.png'), Path('train/3/34427.png'), Path('train/3/34461.png'), Path('train/3/34481.png'), Path('train/3/3452.png'), Path('train/3/34525.png'), Path('train/3/34526.png'), Path('train/3/34536.png'), Path('train/3/34547.png'), Path('train/3/34548.png'), Path('train/3/34551.png'), Path('train/3/34552.png'), Path('train/3/34556.png'), Path('train/3/34587.png'), Path('train/3/34597.png'), Path('train/3/3460.png'), Path('train/3/34605.png'), Path('train/3/34607.png'), Path('train/3/3462.png'), Path('train/3/34622.png'), Path('train/3/34629.png'), Path('train/3/34630.png'), Path('train/3/34642.png'), Path('train/3/34644.png'), Path('train/3/34645.png'), Path('train/3/34646.png'), Path('train/3/34659.png'), Path('train/3/3466.png'), Path('train/3/34660.png'), Path('train/3/34672.png'), Path('train/3/34684.png'), Path('train/3/34685.png'), Path('train/3/34695.png'), Path('train/3/34701.png'), Path('train/3/3471.png'), Path('train/3/34710.png'), Path('train/3/34712.png'), Path('train/3/34713.png'), Path('train/3/34716.png'), Path('train/3/3472.png'), Path('train/3/34721.png'), Path('train/3/34728.png'), Path('train/3/34736.png'), Path('train/3/34740.png'), Path('train/3/34788.png'), Path('train/3/34793.png'), Path('train/3/34802.png'), Path('train/3/34805.png'), Path('train/3/34815.png'), Path('train/3/34828.png'), Path('train/3/34832.png'), Path('train/3/34845.png'), Path('train/3/34846.png'), Path('train/3/34853.png'), Path('train/3/34862.png'), Path('train/3/34866.png'), Path('train/3/34873.png'), Path('train/3/34893.png'), Path('train/3/34898.png'), Path('train/3/34906.png'), Path('train/3/3491.png'), Path('train/3/34931.png'), Path('train/3/34967.png'), Path('train/3/34973.png'), Path('train/3/34987.png'), Path('train/3/34995.png'), Path('train/3/35010.png'), Path('train/3/35015.png'), Path('train/3/35022.png'), Path('train/3/35030.png'), Path('train/3/35043.png'), Path('train/3/35045.png'), Path('train/3/35049.png'), Path('train/3/35058.png'), Path('train/3/35066.png'), Path('train/3/35073.png'), Path('train/3/35086.png'), Path('train/3/35093.png'), Path('train/3/35113.png'), Path('train/3/35122.png'), Path('train/3/35132.png'), Path('train/3/35139.png'), Path('train/3/35143.png'), Path('train/3/35155.png'), Path('train/3/35156.png'), Path('train/3/35162.png'), Path('train/3/35165.png'), Path('train/3/35170.png'), Path('train/3/35173.png'), Path('train/3/35180.png'), Path('train/3/35190.png'), Path('train/3/35195.png'), Path('train/3/35208.png'), Path('train/3/3521.png'), Path('train/3/35221.png'), Path('train/3/35226.png'), Path('train/3/3523.png'), Path('train/3/35231.png'), Path('train/3/35248.png'), Path('train/3/35249.png'), Path('train/3/35271.png'), Path('train/3/35272.png'), Path('train/3/35317.png'), Path('train/3/35333.png'), Path('train/3/35336.png'), Path('train/3/35346.png'), Path('train/3/35349.png'), Path('train/3/35354.png'), Path('train/3/35366.png'), Path('train/3/35376.png'), Path('train/3/35379.png'), Path('train/3/35381.png'), Path('train/3/35401.png'), Path('train/3/35407.png'), Path('train/3/35415.png'), Path('train/3/3542.png'), Path('train/3/35422.png'), Path('train/3/35434.png'), Path('train/3/35447.png'), Path('train/3/35458.png'), Path('train/3/35459.png'), Path('train/3/35486.png'), Path('train/3/35491.png'), Path('train/3/35498.png'), Path('train/3/3550.png'), Path('train/3/35504.png'), Path('train/3/35511.png'), Path('train/3/3552.png'), Path('train/3/35520.png'), Path('train/3/35522.png'), Path('train/3/35528.png'), Path('train/3/35530.png'), Path('train/3/35531.png'), Path('train/3/35542.png'), Path('train/3/35548.png'), Path('train/3/35550.png'), Path('train/3/35557.png'), Path('train/3/35562.png'), Path('train/3/35563.png'), Path('train/3/35568.png'), Path('train/3/35574.png'), Path('train/3/35582.png'), Path('train/3/356.png'), Path('train/3/35610.png'), Path('train/3/35613.png'), Path('train/3/35615.png'), Path('train/3/35622.png'), Path('train/3/35631.png'), Path('train/3/35640.png'), Path('train/3/35643.png'), Path('train/3/35649.png'), Path('train/3/35658.png'), Path('train/3/35688.png'), Path('train/3/35692.png'), Path('train/3/35703.png'), Path('train/3/3571.png'), Path('train/3/35723.png'), Path('train/3/35744.png'), Path('train/3/3576.png'), Path('train/3/35765.png'), Path('train/3/35794.png'), Path('train/3/35796.png'), Path('train/3/35801.png'), Path('train/3/35803.png'), Path('train/3/35805.png'), Path('train/3/35806.png'), Path('train/3/35814.png'), Path('train/3/35833.png'), Path('train/3/35859.png'), Path('train/3/35869.png'), Path('train/3/35870.png'), Path('train/3/35874.png'), Path('train/3/35876.png'), Path('train/3/35881.png'), Path('train/3/35890.png'), Path('train/3/35891.png'), Path('train/3/35898.png'), Path('train/3/3591.png'), Path('train/3/35911.png'), Path('train/3/35914.png'), Path('train/3/35922.png'), Path('train/3/35929.png'), Path('train/3/35944.png'), Path('train/3/35949.png'), Path('train/3/35954.png'), Path('train/3/3596.png'), Path('train/3/35969.png'), Path('train/3/35979.png'), Path('train/3/35984.png'), Path('train/3/35986.png'), Path('train/3/36005.png'), Path('train/3/36018.png'), Path('train/3/36021.png'), Path('train/3/36023.png'), Path('train/3/36032.png'), Path('train/3/36046.png'), Path('train/3/36048.png'), Path('train/3/36057.png'), Path('train/3/3606.png'), Path('train/3/36076.png'), Path('train/3/36078.png'), Path('train/3/36082.png'), Path('train/3/3609.png'), Path('train/3/36093.png'), Path('train/3/361.png'), Path('train/3/36103.png'), Path('train/3/36119.png'), Path('train/3/36128.png'), Path('train/3/36130.png'), Path('train/3/36132.png'), Path('train/3/3614.png'), Path('train/3/36149.png'), Path('train/3/36154.png'), Path('train/3/36169.png'), Path('train/3/36180.png'), Path('train/3/36189.png'), Path('train/3/36206.png'), Path('train/3/36216.png'), Path('train/3/36227.png'), Path('train/3/36242.png'), Path('train/3/36247.png'), Path('train/3/36248.png'), Path('train/3/3626.png'), Path('train/3/36262.png'), Path('train/3/36263.png'), Path('train/3/36287.png'), Path('train/3/36295.png'), Path('train/3/36298.png'), Path('train/3/36301.png'), Path('train/3/36324.png'), Path('train/3/36327.png'), Path('train/3/36329.png'), Path('train/3/36337.png'), Path('train/3/36338.png'), Path('train/3/36357.png'), Path('train/3/36377.png'), Path('train/3/36406.png'), Path('train/3/36409.png'), Path('train/3/36421.png'), Path('train/3/36427.png'), Path('train/3/36432.png'), Path('train/3/36449.png'), Path('train/3/36458.png'), Path('train/3/36471.png'), Path('train/3/36488.png'), Path('train/3/3651.png'), Path('train/3/36511.png'), Path('train/3/36515.png'), Path('train/3/36525.png'), Path('train/3/36542.png'), Path('train/3/3655.png'), Path('train/3/36555.png'), Path('train/3/3656.png'), Path('train/3/36566.png'), Path('train/3/36572.png'), Path('train/3/36575.png'), Path('train/3/36592.png'), Path('train/3/36595.png'), Path('train/3/36604.png'), Path('train/3/36623.png'), Path('train/3/36644.png'), Path('train/3/36645.png'), Path('train/3/36671.png'), Path('train/3/36684.png'), Path('train/3/3670.png'), Path('train/3/36705.png'), Path('train/3/36707.png'), Path('train/3/36709.png'), Path('train/3/36716.png'), Path('train/3/36723.png'), Path('train/3/36732.png'), Path('train/3/3674.png'), Path('train/3/36740.png'), Path('train/3/36755.png'), Path('train/3/36761.png'), Path('train/3/36802.png'), Path('train/3/36803.png'), Path('train/3/36815.png'), Path('train/3/3683.png'), Path('train/3/36835.png'), Path('train/3/3684.png'), Path('train/3/36852.png'), Path('train/3/36855.png'), Path('train/3/36862.png'), Path('train/3/3687.png'), Path('train/3/36872.png'), Path('train/3/36887.png'), Path('train/3/36899.png'), Path('train/3/36911.png'), Path('train/3/36912.png'), Path('train/3/36917.png'), Path('train/3/36931.png'), Path('train/3/36946.png'), Path('train/3/36957.png'), Path('train/3/3699.png'), Path('train/3/36990.png'), Path('train/3/37013.png'), Path('train/3/37017.png'), Path('train/3/37021.png'), Path('train/3/37022.png'), Path('train/3/37035.png'), Path('train/3/37042.png'), Path('train/3/37054.png'), Path('train/3/37065.png'), Path('train/3/3707.png'), Path('train/3/37082.png'), Path('train/3/37085.png'), Path('train/3/37105.png'), Path('train/3/37118.png'), Path('train/3/37124.png'), Path('train/3/3713.png'), Path('train/3/37132.png'), Path('train/3/37134.png'), Path('train/3/37135.png'), Path('train/3/37161.png'), Path('train/3/37163.png'), Path('train/3/37166.png'), Path('train/3/37167.png'), Path('train/3/37169.png'), Path('train/3/37174.png'), Path('train/3/37186.png'), Path('train/3/37188.png'), Path('train/3/37197.png'), Path('train/3/37204.png'), Path('train/3/37205.png'), Path('train/3/37209.png'), Path('train/3/37223.png'), Path('train/3/37229.png'), Path('train/3/37244.png'), Path('train/3/37250.png'), Path('train/3/37260.png'), Path('train/3/37266.png'), Path('train/3/37271.png'), Path('train/3/37280.png'), Path('train/3/37284.png'), Path('train/3/37293.png'), Path('train/3/37304.png'), Path('train/3/37309.png'), Path('train/3/37314.png'), Path('train/3/37332.png'), Path('train/3/3735.png'), Path('train/3/37355.png'), Path('train/3/37361.png'), Path('train/3/37362.png'), Path('train/3/37368.png'), Path('train/3/37373.png'), Path('train/3/37374.png'), Path('train/3/37383.png'), Path('train/3/37397.png'), Path('train/3/3740.png'), Path('train/3/37404.png'), Path('train/3/37422.png'), Path('train/3/37439.png'), Path('train/3/37443.png'), Path('train/3/37454.png'), Path('train/3/37464.png'), Path('train/3/37468.png'), Path('train/3/37470.png'), Path('train/3/37478.png'), Path('train/3/37503.png'), Path('train/3/37517.png'), Path('train/3/37524.png'), Path('train/3/3754.png'), Path('train/3/37540.png'), Path('train/3/37555.png'), Path('train/3/3756.png'), Path('train/3/37566.png'), Path('train/3/37569.png'), Path('train/3/37572.png'), Path('train/3/37578.png'), Path('train/3/37604.png'), Path('train/3/37622.png'), Path('train/3/37625.png'), Path('train/3/37626.png'), Path('train/3/37627.png'), Path('train/3/37636.png'), Path('train/3/37643.png'), Path('train/3/37649.png'), Path('train/3/37652.png'), Path('train/3/37658.png'), Path('train/3/37689.png'), Path('train/3/37690.png'), Path('train/3/37691.png'), Path('train/3/37692.png'), Path('train/3/37700.png'), Path('train/3/37703.png'), Path('train/3/37711.png'), Path('train/3/37718.png'), Path('train/3/37729.png'), Path('train/3/37730.png'), Path('train/3/37745.png'), Path('train/3/37746.png'), Path('train/3/37756.png'), Path('train/3/37765.png'), Path('train/3/37786.png'), Path('train/3/37789.png'), Path('train/3/37792.png'), Path('train/3/37795.png'), Path('train/3/37796.png'), Path('train/3/37797.png'), Path('train/3/37821.png'), Path('train/3/37827.png'), Path('train/3/37847.png'), Path('train/3/37848.png'), Path('train/3/37855.png'), Path('train/3/37860.png'), Path('train/3/37886.png'), Path('train/3/37889.png'), Path('train/3/37890.png'), Path('train/3/37896.png'), Path('train/3/37903.png'), Path('train/3/37908.png'), Path('train/3/37912.png'), Path('train/3/37913.png'), Path('train/3/37927.png'), Path('train/3/37928.png'), Path('train/3/3793.png'), Path('train/3/37940.png'), Path('train/3/37943.png'), Path('train/3/37944.png'), Path('train/3/37959.png'), Path('train/3/37991.png'), Path('train/3/37996.png'), Path('train/3/3803.png'), Path('train/3/38037.png'), Path('train/3/38049.png'), Path('train/3/38053.png'), Path('train/3/38058.png'), Path('train/3/38066.png'), Path('train/3/38083.png'), Path('train/3/38086.png'), Path('train/3/38089.png'), Path('train/3/3810.png'), Path('train/3/38109.png'), Path('train/3/38116.png'), Path('train/3/3812.png'), Path('train/3/38129.png'), Path('train/3/38130.png'), Path('train/3/38145.png'), Path('train/3/3815.png'), Path('train/3/38166.png'), Path('train/3/38167.png'), Path('train/3/38174.png'), Path('train/3/38180.png'), Path('train/3/38193.png'), Path('train/3/38199.png'), Path('train/3/38218.png'), Path('train/3/38223.png'), Path('train/3/38238.png'), Path('train/3/38239.png'), Path('train/3/3824.png'), Path('train/3/38241.png'), Path('train/3/38245.png'), Path('train/3/38277.png'), Path('train/3/38281.png'), Path('train/3/38283.png'), Path('train/3/38294.png'), Path('train/3/38321.png'), Path('train/3/38341.png'), Path('train/3/38346.png'), Path('train/3/3835.png'), Path('train/3/38361.png'), Path('train/3/38368.png'), Path('train/3/38377.png'), Path('train/3/38383.png'), Path('train/3/38399.png'), Path('train/3/38410.png'), Path('train/3/3844.png'), Path('train/3/38441.png'), Path('train/3/38445.png'), Path('train/3/38451.png'), Path('train/3/38485.png'), Path('train/3/38495.png'), Path('train/3/38507.png'), Path('train/3/38520.png'), Path('train/3/38529.png'), Path('train/3/38536.png'), Path('train/3/38549.png'), Path('train/3/3855.png'), Path('train/3/38565.png'), Path('train/3/38580.png'), Path('train/3/38593.png'), Path('train/3/38602.png'), Path('train/3/38627.png'), Path('train/3/38653.png'), Path('train/3/38657.png'), Path('train/3/38670.png'), Path('train/3/38687.png'), Path('train/3/38712.png'), Path('train/3/38714.png'), Path('train/3/38732.png'), Path('train/3/38735.png'), Path('train/3/38752.png'), Path('train/3/38755.png'), Path('train/3/38771.png'), Path('train/3/38772.png'), Path('train/3/38797.png'), Path('train/3/38804.png'), Path('train/3/38811.png'), Path('train/3/38827.png'), Path('train/3/38859.png'), Path('train/3/38867.png'), Path('train/3/38882.png'), Path('train/3/38892.png'), Path('train/3/38894.png'), Path('train/3/38900.png'), Path('train/3/38904.png'), Path('train/3/38911.png'), Path('train/3/38927.png'), Path('train/3/3893.png'), Path('train/3/38955.png'), Path('train/3/38970.png'), Path('train/3/38982.png'), Path('train/3/38983.png'), Path('train/3/38986.png'), Path('train/3/38989.png'), Path('train/3/38990.png'), Path('train/3/38991.png'), Path('train/3/38998.png'), Path('train/3/39040.png'), Path('train/3/39061.png'), Path('train/3/39066.png'), Path('train/3/39081.png'), Path('train/3/39099.png'), Path('train/3/39100.png'), Path('train/3/39108.png'), Path('train/3/39116.png'), Path('train/3/39122.png'), Path('train/3/39124.png'), Path('train/3/39125.png'), Path('train/3/39127.png'), Path('train/3/39136.png'), Path('train/3/39140.png'), Path('train/3/39143.png'), Path('train/3/39181.png'), Path('train/3/39184.png'), Path('train/3/39189.png'), Path('train/3/392.png'), Path('train/3/3920.png'), Path('train/3/39215.png'), Path('train/3/39222.png'), Path('train/3/3923.png'), Path('train/3/39231.png'), Path('train/3/39235.png'), Path('train/3/39240.png'), Path('train/3/39267.png'), Path('train/3/39285.png'), Path('train/3/39290.png'), Path('train/3/39301.png'), Path('train/3/39312.png'), Path('train/3/39317.png'), Path('train/3/39325.png'), Path('train/3/39327.png'), Path('train/3/39329.png'), Path('train/3/39349.png'), Path('train/3/39359.png'), Path('train/3/39366.png'), Path('train/3/3938.png'), Path('train/3/39384.png'), Path('train/3/39397.png'), Path('train/3/3941.png'), Path('train/3/39412.png'), Path('train/3/39415.png'), Path('train/3/39445.png'), Path('train/3/39452.png'), Path('train/3/39461.png'), Path('train/3/39469.png'), Path('train/3/39489.png'), Path('train/3/3949.png'), Path('train/3/39509.png'), Path('train/3/39520.png'), Path('train/3/39553.png'), Path('train/3/39565.png'), Path('train/3/39566.png'), Path('train/3/39591.png'), Path('train/3/39595.png'), Path('train/3/39617.png'), Path('train/3/39618.png'), Path('train/3/39619.png'), Path('train/3/39641.png'), Path('train/3/39675.png'), Path('train/3/39678.png'), Path('train/3/39686.png'), Path('train/3/3969.png'), Path('train/3/39696.png'), Path('train/3/39704.png'), Path('train/3/39705.png'), Path('train/3/39706.png'), Path('train/3/39721.png'), Path('train/3/39728.png'), Path('train/3/39741.png'), Path('train/3/39744.png'), Path('train/3/39761.png'), Path('train/3/39768.png'), Path('train/3/39770.png'), Path('train/3/39774.png'), Path('train/3/39786.png'), Path('train/3/39798.png'), Path('train/3/39804.png'), Path('train/3/39814.png'), Path('train/3/39820.png'), Path('train/3/39836.png'), Path('train/3/39851.png'), Path('train/3/39852.png'), Path('train/3/39855.png'), Path('train/3/39871.png'), Path('train/3/39884.png'), Path('train/3/39885.png'), Path('train/3/39900.png'), Path('train/3/39904.png'), Path('train/3/39907.png'), Path('train/3/39909.png'), Path('train/3/39928.png'), Path('train/3/39933.png'), Path('train/3/39941.png'), Path('train/3/3995.png'), Path('train/3/39961.png'), Path('train/3/3997.png'), Path('train/3/39981.png'), Path('train/3/39982.png'), Path('train/3/40005.png'), Path('train/3/4001.png'), Path('train/3/40020.png'), Path('train/3/40035.png'), Path('train/3/40051.png'), Path('train/3/40055.png'), Path('train/3/40068.png'), Path('train/3/40078.png'), Path('train/3/40079.png'), Path('train/3/40087.png'), Path('train/3/40100.png'), Path('train/3/40104.png'), Path('train/3/40109.png'), Path('train/3/4011.png'), Path('train/3/40121.png'), Path('train/3/40161.png'), Path('train/3/40166.png'), Path('train/3/40184.png'), Path('train/3/40185.png'), Path('train/3/40202.png'), Path('train/3/40205.png'), Path('train/3/4022.png'), Path('train/3/40223.png'), Path('train/3/40247.png'), Path('train/3/40254.png'), Path('train/3/40256.png'), Path('train/3/40257.png'), Path('train/3/40281.png'), Path('train/3/40298.png'), Path('train/3/40301.png'), Path('train/3/40305.png'), Path('train/3/40307.png'), Path('train/3/4033.png'), Path('train/3/40337.png'), Path('train/3/40374.png'), Path('train/3/40375.png'), Path('train/3/40382.png'), Path('train/3/40384.png'), Path('train/3/40385.png'), Path('train/3/40401.png'), Path('train/3/40404.png'), Path('train/3/40427.png'), Path('train/3/40447.png'), Path('train/3/40452.png'), Path('train/3/40462.png'), Path('train/3/40463.png'), Path('train/3/40480.png'), Path('train/3/40481.png'), Path('train/3/40483.png'), Path('train/3/40490.png'), Path('train/3/405.png'), Path('train/3/40502.png'), Path('train/3/40517.png'), Path('train/3/40520.png'), Path('train/3/4053.png'), Path('train/3/40532.png'), Path('train/3/40540.png'), Path('train/3/40550.png'), Path('train/3/40555.png'), Path('train/3/40570.png'), Path('train/3/40572.png'), Path('train/3/40574.png'), Path('train/3/40575.png'), Path('train/3/40578.png'), Path('train/3/40588.png'), Path('train/3/40618.png'), Path('train/3/40619.png'), Path('train/3/40620.png'), Path('train/3/40636.png'), Path('train/3/40639.png'), Path('train/3/40655.png'), Path('train/3/40662.png'), Path('train/3/4068.png'), Path('train/3/40683.png'), Path('train/3/40691.png'), Path('train/3/40720.png'), Path('train/3/40722.png'), Path('train/3/4073.png'), Path('train/3/40734.png'), Path('train/3/40739.png'), Path('train/3/40743.png'), Path('train/3/40745.png'), Path('train/3/40752.png'), Path('train/3/40763.png'), Path('train/3/40765.png'), Path('train/3/40789.png'), Path('train/3/40805.png'), Path('train/3/40811.png'), Path('train/3/40818.png'), Path('train/3/40830.png'), Path('train/3/40836.png'), Path('train/3/40858.png'), Path('train/3/40865.png'), Path('train/3/40866.png'), Path('train/3/40883.png'), Path('train/3/40892.png'), Path('train/3/40898.png'), Path('train/3/40901.png'), Path('train/3/40904.png'), Path('train/3/40914.png'), Path('train/3/40925.png'), Path('train/3/40926.png'), Path('train/3/40931.png'), Path('train/3/40932.png'), Path('train/3/4094.png'), Path('train/3/40940.png'), Path('train/3/40947.png'), Path('train/3/40962.png'), Path('train/3/40996.png'), Path('train/3/41003.png'), Path('train/3/41007.png'), Path('train/3/4101.png'), Path('train/3/41010.png'), Path('train/3/41015.png'), Path('train/3/41048.png'), Path('train/3/41053.png'), Path('train/3/41067.png'), Path('train/3/41071.png'), Path('train/3/41085.png'), Path('train/3/41107.png'), Path('train/3/41110.png'), Path('train/3/41123.png'), Path('train/3/41136.png'), Path('train/3/41143.png'), Path('train/3/41165.png'), Path('train/3/41171.png'), Path('train/3/4121.png'), Path('train/3/41212.png'), Path('train/3/41225.png'), Path('train/3/41229.png'), Path('train/3/41233.png'), Path('train/3/41267.png'), Path('train/3/41283.png'), Path('train/3/41287.png'), Path('train/3/41299.png'), Path('train/3/41317.png'), Path('train/3/41337.png'), Path('train/3/41343.png'), Path('train/3/41356.png'), Path('train/3/4136.png'), Path('train/3/41378.png'), Path('train/3/4138.png'), Path('train/3/41385.png'), Path('train/3/41391.png'), Path('train/3/41404.png'), Path('train/3/41407.png'), Path('train/3/41411.png'), Path('train/3/41428.png'), Path('train/3/41436.png'), Path('train/3/41453.png'), Path('train/3/41471.png'), Path('train/3/41476.png'), Path('train/3/41491.png'), Path('train/3/41494.png'), Path('train/3/41507.png'), Path('train/3/41513.png'), Path('train/3/41515.png'), Path('train/3/41537.png'), Path('train/3/4154.png'), Path('train/3/41543.png'), Path('train/3/41552.png'), Path('train/3/4156.png'), Path('train/3/41565.png'), Path('train/3/41573.png'), Path('train/3/41590.png'), Path('train/3/41608.png'), Path('train/3/41619.png'), Path('train/3/41624.png'), Path('train/3/41629.png'), Path('train/3/41632.png'), Path('train/3/41639.png'), Path('train/3/41653.png'), Path('train/3/41689.png'), Path('train/3/41704.png'), Path('train/3/41720.png'), Path('train/3/41727.png'), Path('train/3/41740.png'), Path('train/3/41742.png'), Path('train/3/41747.png'), Path('train/3/41753.png'), Path('train/3/41755.png'), Path('train/3/41765.png'), Path('train/3/41767.png'), Path('train/3/41773.png'), Path('train/3/41776.png'), Path('train/3/41781.png'), Path('train/3/4179.png'), Path('train/3/41820.png'), Path('train/3/41822.png'), Path('train/3/41834.png'), Path('train/3/41843.png'), Path('train/3/41850.png'), Path('train/3/41863.png'), Path('train/3/41883.png'), Path('train/3/41902.png'), Path('train/3/4191.png'), Path('train/3/41917.png'), Path('train/3/41929.png'), Path('train/3/41943.png'), Path('train/3/4196.png'), Path('train/3/41960.png'), Path('train/3/41968.png'), Path('train/3/41969.png'), Path('train/3/41978.png'), Path('train/3/4199.png'), Path('train/3/41994.png'), Path('train/3/42024.png'), Path('train/3/42041.png'), Path('train/3/42043.png'), Path('train/3/42054.png'), Path('train/3/42055.png'), Path('train/3/42056.png'), Path('train/3/42070.png'), Path('train/3/42073.png'), Path('train/3/42082.png'), Path('train/3/42083.png'), Path('train/3/42087.png'), Path('train/3/42088.png'), Path('train/3/42097.png'), Path('train/3/42114.png'), Path('train/3/42117.png'), Path('train/3/42120.png'), Path('train/3/42137.png'), Path('train/3/42140.png'), Path('train/3/42150.png'), Path('train/3/42161.png'), Path('train/3/42178.png'), Path('train/3/42186.png'), Path('train/3/42199.png'), Path('train/3/42201.png'), Path('train/3/42203.png'), Path('train/3/42210.png'), Path('train/3/42212.png'), Path('train/3/42215.png'), Path('train/3/42220.png'), Path('train/3/4223.png'), Path('train/3/42235.png'), Path('train/3/42248.png'), Path('train/3/42251.png'), Path('train/3/42254.png'), Path('train/3/42255.png'), Path('train/3/42257.png'), Path('train/3/42264.png'), Path('train/3/42284.png'), Path('train/3/42303.png'), Path('train/3/4233.png'), Path('train/3/4234.png'), Path('train/3/42343.png'), Path('train/3/4235.png'), Path('train/3/42355.png'), Path('train/3/4236.png'), Path('train/3/42375.png'), Path('train/3/4238.png'), Path('train/3/42391.png'), Path('train/3/42398.png'), Path('train/3/42419.png'), Path('train/3/42423.png'), Path('train/3/42432.png'), Path('train/3/42434.png'), Path('train/3/42441.png'), Path('train/3/42445.png'), Path('train/3/4246.png'), Path('train/3/42469.png'), Path('train/3/42476.png'), Path('train/3/42477.png'), Path('train/3/42493.png'), Path('train/3/425.png'), Path('train/3/4250.png'), Path('train/3/42505.png'), Path('train/3/42508.png'), Path('train/3/42526.png'), Path('train/3/42534.png'), Path('train/3/42545.png'), Path('train/3/4256.png'), Path('train/3/42565.png'), Path('train/3/4257.png'), Path('train/3/42585.png'), Path('train/3/42588.png'), Path('train/3/42605.png'), Path('train/3/4262.png'), Path('train/3/42627.png'), Path('train/3/4263.png'), Path('train/3/42636.png'), Path('train/3/42669.png'), Path('train/3/42677.png'), Path('train/3/42678.png'), Path('train/3/42681.png'), Path('train/3/42707.png'), Path('train/3/4271.png'), Path('train/3/42735.png'), Path('train/3/42755.png'), Path('train/3/42758.png'), Path('train/3/4276.png'), Path('train/3/42775.png'), Path('train/3/42777.png'), Path('train/3/42791.png'), Path('train/3/42794.png'), Path('train/3/42804.png'), Path('train/3/42807.png'), Path('train/3/4281.png'), Path('train/3/42823.png'), Path('train/3/42840.png'), Path('train/3/42841.png'), Path('train/3/42886.png'), Path('train/3/42898.png'), Path('train/3/42902.png'), Path('train/3/42906.png'), Path('train/3/42907.png'), Path('train/3/42908.png'), Path('train/3/42909.png'), Path('train/3/42914.png'), Path('train/3/42930.png'), Path('train/3/42931.png'), Path('train/3/42938.png'), Path('train/3/4295.png'), Path('train/3/42951.png'), Path('train/3/42954.png'), Path('train/3/42962.png'), Path('train/3/42966.png'), Path('train/3/42971.png'), Path('train/3/42994.png'), Path('train/3/43012.png'), Path('train/3/43014.png'), Path('train/3/43027.png'), Path('train/3/43029.png'), Path('train/3/43031.png'), Path('train/3/43043.png'), Path('train/3/43064.png'), Path('train/3/43065.png'), Path('train/3/43067.png'), Path('train/3/43070.png'), Path('train/3/43076.png'), Path('train/3/43080.png'), Path('train/3/43090.png'), Path('train/3/43100.png'), Path('train/3/43103.png'), Path('train/3/43126.png'), Path('train/3/43132.png'), Path('train/3/43135.png'), Path('train/3/43140.png'), Path('train/3/43155.png'), Path('train/3/43171.png'), Path('train/3/43180.png'), Path('train/3/43192.png'), Path('train/3/43196.png'), Path('train/3/43198.png'), Path('train/3/43200.png'), Path('train/3/43204.png'), Path('train/3/43208.png'), Path('train/3/43209.png'), Path('train/3/43224.png'), Path('train/3/43230.png'), Path('train/3/43235.png'), Path('train/3/43252.png'), Path('train/3/43255.png'), Path('train/3/43256.png'), Path('train/3/4328.png'), Path('train/3/43280.png'), Path('train/3/43287.png'), Path('train/3/43298.png'), Path('train/3/433.png'), Path('train/3/43301.png'), Path('train/3/43327.png'), Path('train/3/43330.png'), Path('train/3/4335.png'), Path('train/3/43353.png'), Path('train/3/43373.png'), Path('train/3/43380.png'), Path('train/3/4339.png'), Path('train/3/43393.png'), Path('train/3/43417.png'), Path('train/3/4342.png'), Path('train/3/43428.png'), Path('train/3/43435.png'), Path('train/3/43438.png'), Path('train/3/43448.png'), Path('train/3/43456.png'), Path('train/3/43460.png'), Path('train/3/43466.png'), Path('train/3/43474.png'), Path('train/3/43475.png'), Path('train/3/43476.png'), Path('train/3/43482.png'), Path('train/3/43492.png'), Path('train/3/43494.png'), Path('train/3/43509.png'), Path('train/3/43517.png'), Path('train/3/4352.png'), Path('train/3/43537.png'), Path('train/3/43552.png'), Path('train/3/43557.png'), Path('train/3/43562.png'), Path('train/3/43563.png'), Path('train/3/43573.png'), Path('train/3/4359.png'), Path('train/3/43599.png'), Path('train/3/43619.png'), Path('train/3/43637.png'), Path('train/3/43644.png'), Path('train/3/43654.png'), Path('train/3/43658.png'), Path('train/3/43659.png'), Path('train/3/43666.png'), Path('train/3/43670.png'), Path('train/3/43672.png'), Path('train/3/43677.png'), Path('train/3/4369.png'), Path('train/3/43702.png'), Path('train/3/43711.png'), Path('train/3/43717.png'), Path('train/3/4373.png'), Path('train/3/43730.png'), Path('train/3/43739.png'), Path('train/3/43747.png'), Path('train/3/43758.png'), Path('train/3/43759.png'), Path('train/3/43762.png'), Path('train/3/43773.png'), Path('train/3/43775.png'), Path('train/3/43782.png'), Path('train/3/43783.png'), Path('train/3/43816.png'), Path('train/3/43817.png'), Path('train/3/43833.png'), Path('train/3/43853.png'), Path('train/3/43865.png'), Path('train/3/43868.png'), Path('train/3/43869.png'), Path('train/3/43875.png'), Path('train/3/43883.png'), Path('train/3/43889.png'), Path('train/3/43902.png'), Path('train/3/43922.png'), Path('train/3/43942.png'), Path('train/3/43943.png'), Path('train/3/43952.png'), Path('train/3/43962.png'), Path('train/3/43967.png'), Path('train/3/43978.png'), Path('train/3/43991.png'), Path('train/3/43997.png'), Path('train/3/44.png'), Path('train/3/4400.png'), Path('train/3/44004.png'), Path('train/3/44020.png'), Path('train/3/4403.png'), Path('train/3/44032.png'), Path('train/3/44034.png'), Path('train/3/44035.png'), Path('train/3/44051.png'), Path('train/3/44058.png'), Path('train/3/44101.png'), Path('train/3/44112.png'), Path('train/3/44134.png'), Path('train/3/44138.png'), Path('train/3/44142.png'), Path('train/3/44146.png'), Path('train/3/44157.png'), Path('train/3/44162.png'), Path('train/3/44174.png'), Path('train/3/4418.png'), Path('train/3/44181.png'), Path('train/3/44188.png'), Path('train/3/44191.png'), Path('train/3/44192.png'), Path('train/3/44193.png'), Path('train/3/44211.png'), Path('train/3/44216.png'), Path('train/3/44231.png'), Path('train/3/44240.png'), Path('train/3/44249.png'), Path('train/3/44280.png'), Path('train/3/44282.png'), Path('train/3/4429.png'), Path('train/3/44295.png'), Path('train/3/44303.png'), Path('train/3/44305.png'), Path('train/3/44312.png'), Path('train/3/44338.png'), Path('train/3/44349.png'), Path('train/3/44350.png'), Path('train/3/44373.png'), Path('train/3/44380.png'), Path('train/3/44385.png'), Path('train/3/44388.png'), Path('train/3/44397.png'), Path('train/3/44408.png'), Path('train/3/44416.png'), Path('train/3/44426.png'), Path('train/3/44435.png'), Path('train/3/44439.png'), Path('train/3/44440.png'), Path('train/3/44456.png'), Path('train/3/44457.png'), Path('train/3/44462.png'), Path('train/3/44468.png'), Path('train/3/44477.png'), Path('train/3/44478.png'), Path('train/3/4449.png'), Path('train/3/44497.png'), Path('train/3/44504.png'), Path('train/3/44510.png'), Path('train/3/44519.png'), Path('train/3/44522.png'), Path('train/3/44540.png'), Path('train/3/44543.png'), Path('train/3/44545.png'), Path('train/3/44546.png'), Path('train/3/44555.png'), Path('train/3/44557.png'), Path('train/3/44567.png'), Path('train/3/44575.png'), Path('train/3/44580.png'), Path('train/3/44596.png'), Path('train/3/44608.png'), Path('train/3/44609.png'), Path('train/3/4461.png'), Path('train/3/44630.png'), Path('train/3/44671.png'), Path('train/3/44681.png'), Path('train/3/44684.png'), Path('train/3/44709.png'), Path('train/3/4471.png'), Path('train/3/44716.png'), Path('train/3/44729.png'), Path('train/3/44749.png'), Path('train/3/44764.png'), Path('train/3/44779.png'), Path('train/3/44782.png'), Path('train/3/44799.png'), Path('train/3/44827.png'), Path('train/3/44837.png'), Path('train/3/44848.png'), Path('train/3/44873.png'), Path('train/3/44888.png'), Path('train/3/44889.png'), Path('train/3/4490.png'), Path('train/3/44903.png'), Path('train/3/44906.png'), Path('train/3/4491.png'), Path('train/3/44959.png'), Path('train/3/44969.png'), Path('train/3/45000.png'), Path('train/3/45005.png'), Path('train/3/45008.png'), Path('train/3/45015.png'), Path('train/3/45031.png'), Path('train/3/45043.png'), Path('train/3/45046.png'), Path('train/3/4506.png'), Path('train/3/45079.png'), Path('train/3/4508.png'), Path('train/3/45088.png'), Path('train/3/45089.png'), Path('train/3/45093.png'), Path('train/3/4510.png'), Path('train/3/45108.png'), Path('train/3/4511.png'), Path('train/3/4512.png'), Path('train/3/45135.png'), Path('train/3/45150.png'), Path('train/3/45151.png'), Path('train/3/45164.png'), Path('train/3/45171.png'), Path('train/3/45195.png'), Path('train/3/45196.png'), Path('train/3/452.png'), Path('train/3/45217.png'), Path('train/3/45239.png'), Path('train/3/45246.png'), Path('train/3/45260.png'), Path('train/3/45264.png'), Path('train/3/45266.png'), Path('train/3/45271.png'), Path('train/3/45272.png'), Path('train/3/45273.png'), Path('train/3/45275.png'), Path('train/3/45289.png'), Path('train/3/45312.png'), Path('train/3/45321.png'), Path('train/3/45327.png'), Path('train/3/45328.png'), Path('train/3/45336.png'), Path('train/3/45340.png'), Path('train/3/45364.png'), Path('train/3/45365.png'), Path('train/3/45377.png'), Path('train/3/45389.png'), Path('train/3/45396.png'), Path('train/3/45398.png'), Path('train/3/45400.png'), Path('train/3/45407.png'), Path('train/3/45408.png'), Path('train/3/45419.png'), Path('train/3/4543.png'), Path('train/3/45436.png'), Path('train/3/45441.png'), Path('train/3/45468.png'), Path('train/3/45473.png'), Path('train/3/45474.png'), Path('train/3/45477.png'), Path('train/3/45480.png'), Path('train/3/45508.png'), Path('train/3/45509.png'), Path('train/3/45517.png'), Path('train/3/4552.png'), Path('train/3/45545.png'), Path('train/3/45554.png'), Path('train/3/45563.png'), Path('train/3/45586.png'), Path('train/3/45597.png'), Path('train/3/45599.png'), Path('train/3/45601.png'), Path('train/3/45610.png'), Path('train/3/45612.png'), Path('train/3/45619.png'), Path('train/3/45628.png'), Path('train/3/45636.png'), Path('train/3/45642.png'), Path('train/3/45644.png'), Path('train/3/45655.png'), Path('train/3/45656.png'), Path('train/3/45658.png'), Path('train/3/45675.png'), Path('train/3/45687.png'), Path('train/3/45696.png'), Path('train/3/45699.png'), Path('train/3/4570.png'), Path('train/3/45704.png'), Path('train/3/45707.png'), Path('train/3/45712.png'), Path('train/3/45727.png'), Path('train/3/45732.png'), Path('train/3/45734.png'), Path('train/3/45736.png'), Path('train/3/45747.png'), Path('train/3/45758.png'), Path('train/3/45759.png'), Path('train/3/45764.png'), Path('train/3/45774.png'), Path('train/3/45781.png'), Path('train/3/45783.png'), Path('train/3/45786.png'), Path('train/3/45789.png'), Path('train/3/4579.png'), Path('train/3/45791.png'), Path('train/3/45796.png'), Path('train/3/45801.png'), Path('train/3/45809.png'), Path('train/3/4581.png'), Path('train/3/45814.png'), Path('train/3/45822.png'), Path('train/3/4583.png'), Path('train/3/45836.png'), Path('train/3/4584.png'), Path('train/3/45843.png'), Path('train/3/45848.png'), Path('train/3/45850.png'), Path('train/3/45854.png'), Path('train/3/45862.png'), Path('train/3/45878.png'), Path('train/3/459.png'), Path('train/3/45902.png'), Path('train/3/45903.png'), Path('train/3/45911.png'), Path('train/3/45940.png'), Path('train/3/45945.png'), Path('train/3/45946.png'), Path('train/3/4595.png'), Path('train/3/45959.png'), Path('train/3/45970.png'), Path('train/3/45979.png'), Path('train/3/45983.png'), Path('train/3/45990.png'), Path('train/3/45995.png'), Path('train/3/46005.png'), Path('train/3/46027.png'), Path('train/3/46051.png'), Path('train/3/46061.png'), Path('train/3/46062.png'), Path('train/3/46068.png'), Path('train/3/46070.png'), Path('train/3/46072.png'), Path('train/3/46075.png'), Path('train/3/46079.png'), Path('train/3/46098.png'), Path('train/3/46117.png'), Path('train/3/46126.png'), Path('train/3/46130.png'), Path('train/3/46134.png'), Path('train/3/46136.png'), Path('train/3/46138.png'), Path('train/3/46145.png'), Path('train/3/4615.png'), Path('train/3/46157.png'), Path('train/3/46182.png'), Path('train/3/46184.png'), Path('train/3/46187.png'), Path('train/3/46208.png'), Path('train/3/46211.png'), Path('train/3/46221.png'), Path('train/3/46228.png'), Path('train/3/46241.png'), Path('train/3/46242.png'), Path('train/3/46246.png'), Path('train/3/46247.png'), Path('train/3/46269.png'), Path('train/3/46279.png'), Path('train/3/4628.png'), Path('train/3/46280.png'), Path('train/3/46295.png'), Path('train/3/46296.png'), Path('train/3/46306.png'), Path('train/3/4632.png'), Path('train/3/46329.png'), Path('train/3/46350.png'), Path('train/3/46354.png'), Path('train/3/46370.png'), Path('train/3/46379.png'), Path('train/3/4638.png'), Path('train/3/46403.png'), Path('train/3/46406.png'), Path('train/3/46409.png'), Path('train/3/46424.png'), Path('train/3/46425.png'), Path('train/3/46427.png'), Path('train/3/46442.png'), Path('train/3/46449.png'), Path('train/3/46454.png'), Path('train/3/46465.png'), Path('train/3/46480.png'), Path('train/3/46485.png'), Path('train/3/46500.png'), Path('train/3/46506.png'), Path('train/3/46523.png'), Path('train/3/46525.png'), Path('train/3/46532.png'), Path('train/3/46534.png'), Path('train/3/46548.png'), Path('train/3/46549.png'), Path('train/3/46555.png'), Path('train/3/46563.png'), Path('train/3/46566.png'), Path('train/3/46570.png'), Path('train/3/4658.png'), Path('train/3/46588.png'), Path('train/3/46592.png'), Path('train/3/46595.png'), Path('train/3/46600.png'), Path('train/3/46621.png'), Path('train/3/46634.png'), Path('train/3/46639.png'), Path('train/3/46652.png'), Path('train/3/46666.png'), Path('train/3/46674.png'), Path('train/3/46681.png'), Path('train/3/46689.png'), Path('train/3/46692.png'), Path('train/3/46702.png'), Path('train/3/46709.png'), Path('train/3/46729.png'), Path('train/3/46736.png'), Path('train/3/4674.png'), Path('train/3/46743.png'), Path('train/3/46803.png'), Path('train/3/46807.png'), Path('train/3/4681.png'), Path('train/3/46815.png'), Path('train/3/46821.png'), Path('train/3/46834.png'), Path('train/3/46838.png'), Path('train/3/46848.png'), Path('train/3/46853.png'), Path('train/3/46854.png'), Path('train/3/46856.png'), Path('train/3/46857.png'), Path('train/3/46882.png'), Path('train/3/46899.png'), Path('train/3/46900.png'), Path('train/3/46902.png'), Path('train/3/46908.png'), Path('train/3/46911.png'), Path('train/3/46918.png'), Path('train/3/46923.png'), Path('train/3/46932.png'), Path('train/3/46937.png'), Path('train/3/4694.png'), Path('train/3/46953.png'), Path('train/3/46971.png'), Path('train/3/46979.png'), Path('train/3/46981.png'), Path('train/3/46983.png'), Path('train/3/46986.png'), Path('train/3/47007.png'), Path('train/3/47027.png'), Path('train/3/47059.png'), Path('train/3/47090.png'), Path('train/3/47095.png'), Path('train/3/47123.png'), Path('train/3/47140.png'), Path('train/3/47145.png'), Path('train/3/47157.png'), Path('train/3/47173.png'), Path('train/3/4719.png'), Path('train/3/47192.png'), Path('train/3/47195.png'), Path('train/3/47207.png'), Path('train/3/47217.png'), Path('train/3/47225.png'), Path('train/3/47245.png'), Path('train/3/47280.png'), Path('train/3/47287.png'), Path('train/3/47311.png'), Path('train/3/47329.png'), Path('train/3/4735.png'), Path('train/3/47352.png'), Path('train/3/47356.png'), Path('train/3/4736.png'), Path('train/3/47361.png'), Path('train/3/47367.png'), Path('train/3/47377.png'), Path('train/3/47380.png'), Path('train/3/47395.png'), Path('train/3/4740.png'), Path('train/3/47411.png'), Path('train/3/4742.png'), Path('train/3/47424.png'), Path('train/3/47426.png'), Path('train/3/47441.png'), Path('train/3/47455.png'), Path('train/3/47461.png'), Path('train/3/47469.png'), Path('train/3/47481.png'), Path('train/3/47493.png'), Path('train/3/47496.png'), Path('train/3/47510.png'), Path('train/3/47514.png'), Path('train/3/47519.png'), Path('train/3/47520.png'), Path('train/3/47533.png'), Path('train/3/47539.png'), Path('train/3/4755.png'), Path('train/3/47587.png'), Path('train/3/47592.png'), Path('train/3/47594.png'), Path('train/3/47602.png'), Path('train/3/47605.png'), Path('train/3/47618.png'), Path('train/3/4762.png'), Path('train/3/47620.png'), Path('train/3/47625.png'), Path('train/3/47628.png'), Path('train/3/47643.png'), Path('train/3/47651.png'), Path('train/3/47653.png'), Path('train/3/47654.png'), Path('train/3/47655.png'), Path('train/3/47669.png'), Path('train/3/47676.png'), Path('train/3/47678.png'), Path('train/3/47684.png'), Path('train/3/47689.png'), Path('train/3/47720.png'), Path('train/3/47724.png'), Path('train/3/47725.png'), Path('train/3/47742.png'), Path('train/3/47746.png'), Path('train/3/47749.png'), Path('train/3/47760.png'), Path('train/3/47781.png'), Path('train/3/47795.png'), Path('train/3/47802.png'), Path('train/3/47803.png'), Path('train/3/47818.png'), Path('train/3/47821.png'), Path('train/3/4783.png'), Path('train/3/47834.png'), Path('train/3/47838.png'), Path('train/3/47841.png'), Path('train/3/47872.png'), Path('train/3/47876.png'), Path('train/3/47881.png'), Path('train/3/47895.png'), Path('train/3/479.png'), Path('train/3/47901.png'), Path('train/3/47913.png'), Path('train/3/4792.png'), Path('train/3/47925.png'), Path('train/3/47930.png'), Path('train/3/47939.png'), Path('train/3/47946.png'), Path('train/3/4795.png'), Path('train/3/47950.png'), Path('train/3/47970.png'), Path('train/3/47975.png'), Path('train/3/47979.png'), Path('train/3/47992.png'), Path('train/3/48014.png'), Path('train/3/48031.png'), Path('train/3/48038.png'), Path('train/3/48045.png'), Path('train/3/48064.png'), Path('train/3/48065.png'), Path('train/3/48076.png'), Path('train/3/4808.png'), Path('train/3/48088.png'), Path('train/3/48091.png'), Path('train/3/48137.png'), Path('train/3/48139.png'), Path('train/3/48163.png'), Path('train/3/48164.png'), Path('train/3/48174.png'), Path('train/3/48179.png'), Path('train/3/48193.png'), Path('train/3/48213.png'), Path('train/3/4823.png'), Path('train/3/48233.png'), Path('train/3/48258.png'), Path('train/3/48264.png'), Path('train/3/48281.png'), Path('train/3/48291.png'), Path('train/3/48300.png'), Path('train/3/48302.png'), Path('train/3/48311.png'), Path('train/3/48321.png'), Path('train/3/48324.png'), Path('train/3/48325.png'), Path('train/3/48336.png'), Path('train/3/48352.png'), Path('train/3/48355.png'), Path('train/3/4836.png'), Path('train/3/48360.png'), Path('train/3/48385.png'), Path('train/3/48386.png'), Path('train/3/48392.png'), Path('train/3/48396.png'), Path('train/3/48415.png'), Path('train/3/48426.png'), Path('train/3/48431.png'), Path('train/3/48435.png'), Path('train/3/48445.png'), Path('train/3/48465.png'), Path('train/3/48480.png'), Path('train/3/48482.png'), Path('train/3/48485.png'), Path('train/3/48498.png'), Path('train/3/48499.png'), Path('train/3/4850.png'), Path('train/3/48500.png'), Path('train/3/48521.png'), Path('train/3/48551.png'), Path('train/3/48557.png'), Path('train/3/48563.png'), Path('train/3/48579.png'), Path('train/3/48587.png'), Path('train/3/48599.png'), Path('train/3/486.png'), Path('train/3/48626.png'), Path('train/3/48628.png'), Path('train/3/4864.png'), Path('train/3/48642.png'), Path('train/3/4866.png'), Path('train/3/48662.png'), Path('train/3/48666.png'), Path('train/3/48667.png'), Path('train/3/4868.png'), Path('train/3/48682.png'), Path('train/3/48683.png'), Path('train/3/48700.png'), Path('train/3/48701.png'), Path('train/3/48702.png'), Path('train/3/48722.png'), Path('train/3/48725.png'), Path('train/3/48732.png'), Path('train/3/48735.png'), Path('train/3/48746.png'), Path('train/3/48761.png'), Path('train/3/48770.png'), Path('train/3/4878.png'), Path('train/3/48781.png'), Path('train/3/48783.png'), Path('train/3/48788.png'), Path('train/3/48794.png'), Path('train/3/48798.png'), Path('train/3/48806.png'), Path('train/3/4881.png'), Path('train/3/48817.png'), Path('train/3/4883.png'), Path('train/3/48849.png'), Path('train/3/48859.png'), Path('train/3/48868.png'), Path('train/3/48873.png'), Path('train/3/48901.png'), Path('train/3/48904.png'), Path('train/3/4891.png'), Path('train/3/48917.png'), Path('train/3/48922.png'), Path('train/3/48930.png'), Path('train/3/48932.png'), Path('train/3/48935.png'), Path('train/3/48965.png'), Path('train/3/48974.png'), Path('train/3/48978.png'), Path('train/3/4898.png'), Path('train/3/48981.png'), Path('train/3/48995.png'), Path('train/3/48998.png'), Path('train/3/49.png'), Path('train/3/490.png'), Path('train/3/49006.png'), Path('train/3/49018.png'), Path('train/3/49020.png'), Path('train/3/49054.png'), Path('train/3/49055.png'), Path('train/3/49057.png'), Path('train/3/49077.png'), Path('train/3/49080.png'), Path('train/3/49081.png'), Path('train/3/49082.png'), Path('train/3/49091.png'), Path('train/3/49103.png'), Path('train/3/49108.png'), Path('train/3/49117.png'), Path('train/3/49122.png'), Path('train/3/49135.png'), Path('train/3/49137.png'), Path('train/3/49142.png'), Path('train/3/49147.png'), Path('train/3/49149.png'), Path('train/3/49156.png'), Path('train/3/49157.png'), Path('train/3/49166.png'), Path('train/3/4917.png'), Path('train/3/49183.png'), Path('train/3/49188.png'), Path('train/3/49193.png'), Path('train/3/49207.png'), Path('train/3/49222.png'), Path('train/3/49228.png'), Path('train/3/49230.png'), Path('train/3/49234.png'), Path('train/3/49249.png'), Path('train/3/49254.png'), Path('train/3/49269.png'), Path('train/3/49286.png'), Path('train/3/49287.png'), Path('train/3/49288.png'), Path('train/3/49294.png'), Path('train/3/49297.png'), Path('train/3/49300.png'), Path('train/3/49307.png'), Path('train/3/49312.png'), Path('train/3/49318.png'), Path('train/3/49321.png'), Path('train/3/49324.png'), Path('train/3/49329.png'), Path('train/3/49350.png'), Path('train/3/4937.png'), Path('train/3/49376.png'), Path('train/3/49378.png'), Path('train/3/49390.png'), Path('train/3/49404.png'), Path('train/3/49406.png'), Path('train/3/49410.png'), Path('train/3/49431.png'), Path('train/3/49433.png'), Path('train/3/49435.png'), Path('train/3/49446.png'), Path('train/3/49450.png'), Path('train/3/49461.png'), Path('train/3/49467.png'), Path('train/3/49477.png'), Path('train/3/49494.png'), Path('train/3/495.png'), Path('train/3/49529.png'), Path('train/3/49556.png'), Path('train/3/4956.png'), Path('train/3/49560.png'), Path('train/3/49566.png'), Path('train/3/4957.png'), Path('train/3/49570.png'), Path('train/3/49585.png'), Path('train/3/49586.png'), Path('train/3/49589.png'), Path('train/3/49602.png'), Path('train/3/49607.png'), Path('train/3/49627.png'), Path('train/3/49638.png'), Path('train/3/49645.png'), Path('train/3/49648.png'), Path('train/3/49650.png'), Path('train/3/49654.png'), Path('train/3/4966.png'), Path('train/3/49670.png'), Path('train/3/49673.png'), Path('train/3/49678.png'), Path('train/3/49725.png'), Path('train/3/49729.png'), Path('train/3/49732.png'), Path('train/3/49746.png'), Path('train/3/49748.png'), Path('train/3/49749.png'), Path('train/3/49763.png'), Path('train/3/49771.png'), Path('train/3/49789.png'), Path('train/3/49791.png'), Path('train/3/49809.png'), Path('train/3/49810.png'), Path('train/3/49813.png'), Path('train/3/49814.png'), Path('train/3/49821.png'), Path('train/3/49826.png'), Path('train/3/49841.png'), Path('train/3/49859.png'), Path('train/3/49864.png'), Path('train/3/49868.png'), Path('train/3/4988.png'), Path('train/3/49882.png'), Path('train/3/49893.png'), Path('train/3/49896.png'), Path('train/3/49912.png'), Path('train/3/49913.png'), Path('train/3/49926.png'), Path('train/3/49938.png'), Path('train/3/49946.png'), Path('train/3/49948.png'), Path('train/3/49955.png'), Path('train/3/4996.png'), Path('train/3/49966.png'), Path('train/3/49968.png'), Path('train/3/49981.png'), Path('train/3/49985.png'), Path('train/3/50.png'), Path('train/3/500.png'), Path('train/3/50000.png'), Path('train/3/50007.png'), Path('train/3/5001.png'), Path('train/3/50012.png'), Path('train/3/50025.png'), Path('train/3/50033.png'), Path('train/3/50043.png'), Path('train/3/50045.png'), Path('train/3/50067.png'), Path('train/3/50087.png'), Path('train/3/50107.png'), Path('train/3/5011.png'), Path('train/3/50131.png'), Path('train/3/50140.png'), Path('train/3/50141.png'), Path('train/3/50148.png'), Path('train/3/50175.png'), Path('train/3/50181.png'), Path('train/3/50184.png'), Path('train/3/50195.png'), Path('train/3/50201.png'), Path('train/3/50206.png'), Path('train/3/50210.png'), Path('train/3/50212.png'), Path('train/3/50213.png'), Path('train/3/50214.png'), Path('train/3/50253.png'), Path('train/3/50260.png'), Path('train/3/50262.png'), Path('train/3/50265.png'), Path('train/3/50286.png'), Path('train/3/50288.png'), Path('train/3/50297.png'), Path('train/3/50300.png'), Path('train/3/50308.png'), Path('train/3/5031.png'), Path('train/3/50312.png'), Path('train/3/50317.png'), Path('train/3/50330.png'), Path('train/3/50336.png'), Path('train/3/50337.png'), Path('train/3/50340.png'), Path('train/3/5036.png'), Path('train/3/50361.png'), Path('train/3/50364.png'), Path('train/3/50369.png'), Path('train/3/50372.png'), Path('train/3/50374.png'), Path('train/3/50378.png'), Path('train/3/50401.png'), Path('train/3/50403.png'), Path('train/3/5041.png'), Path('train/3/50412.png'), Path('train/3/50417.png'), Path('train/3/50431.png'), Path('train/3/50470.png'), Path('train/3/50481.png'), Path('train/3/50491.png'), Path('train/3/50500.png'), Path('train/3/50516.png'), Path('train/3/50529.png'), Path('train/3/50545.png'), Path('train/3/50554.png'), Path('train/3/50560.png'), Path('train/3/50565.png'), Path('train/3/50603.png'), Path('train/3/50611.png'), Path('train/3/50613.png'), Path('train/3/50644.png'), Path('train/3/50658.png'), Path('train/3/5067.png'), Path('train/3/50671.png'), Path('train/3/50672.png'), Path('train/3/50679.png'), Path('train/3/50680.png'), Path('train/3/50683.png'), Path('train/3/50688.png'), Path('train/3/50693.png'), Path('train/3/50713.png'), Path('train/3/50717.png'), Path('train/3/50726.png'), Path('train/3/50728.png'), Path('train/3/50735.png'), Path('train/3/50755.png'), Path('train/3/50770.png'), Path('train/3/50775.png'), Path('train/3/5080.png'), Path('train/3/50803.png'), Path('train/3/50809.png'), Path('train/3/50815.png'), Path('train/3/50824.png'), Path('train/3/50834.png'), Path('train/3/50837.png'), Path('train/3/5086.png'), Path('train/3/5088.png'), Path('train/3/50885.png'), Path('train/3/50892.png'), Path('train/3/509.png'), Path('train/3/50906.png'), Path('train/3/50915.png'), Path('train/3/5092.png'), Path('train/3/50922.png'), Path('train/3/50935.png'), Path('train/3/50936.png'), Path('train/3/50940.png'), Path('train/3/50946.png'), Path('train/3/50950.png'), Path('train/3/50955.png'), Path('train/3/50960.png'), Path('train/3/50964.png'), Path('train/3/50969.png'), Path('train/3/5097.png'), Path('train/3/50975.png'), Path('train/3/50976.png'), Path('train/3/50982.png'), Path('train/3/50989.png'), Path('train/3/50995.png'), Path('train/3/5102.png'), Path('train/3/51030.png'), Path('train/3/51038.png'), Path('train/3/51054.png'), Path('train/3/51063.png'), Path('train/3/51085.png'), Path('train/3/51091.png'), Path('train/3/51092.png'), Path('train/3/51101.png'), Path('train/3/51106.png'), Path('train/3/51116.png'), Path('train/3/51133.png'), Path('train/3/51142.png'), Path('train/3/51153.png'), Path('train/3/51154.png'), Path('train/3/51173.png'), Path('train/3/51196.png'), Path('train/3/51201.png'), Path('train/3/51211.png'), Path('train/3/51217.png'), Path('train/3/51222.png'), Path('train/3/51230.png'), Path('train/3/51237.png'), Path('train/3/51245.png'), Path('train/3/51257.png'), Path('train/3/51260.png'), Path('train/3/51268.png'), Path('train/3/5127.png'), Path('train/3/51274.png'), Path('train/3/51321.png'), Path('train/3/51332.png'), Path('train/3/51333.png'), Path('train/3/51343.png'), Path('train/3/51373.png'), Path('train/3/51376.png'), Path('train/3/51381.png'), Path('train/3/51388.png'), Path('train/3/5139.png'), Path('train/3/51401.png'), Path('train/3/51421.png'), Path('train/3/51428.png'), Path('train/3/5143.png'), Path('train/3/51462.png'), Path('train/3/51463.png'), Path('train/3/51469.png'), Path('train/3/51471.png'), Path('train/3/51474.png'), Path('train/3/5148.png'), Path('train/3/51486.png'), Path('train/3/51519.png'), Path('train/3/5152.png'), Path('train/3/51522.png'), Path('train/3/5153.png'), Path('train/3/51534.png'), Path('train/3/51536.png'), Path('train/3/51543.png'), Path('train/3/51555.png'), Path('train/3/51561.png'), Path('train/3/51571.png'), Path('train/3/51578.png'), Path('train/3/5160.png'), Path('train/3/51613.png'), Path('train/3/51616.png'), Path('train/3/51617.png'), Path('train/3/51635.png'), Path('train/3/51640.png'), Path('train/3/51655.png'), Path('train/3/51675.png'), Path('train/3/51686.png'), Path('train/3/51695.png'), Path('train/3/51701.png'), Path('train/3/51706.png'), Path('train/3/51717.png'), Path('train/3/5173.png'), Path('train/3/51756.png'), Path('train/3/51759.png'), Path('train/3/51763.png'), Path('train/3/51768.png'), Path('train/3/51771.png'), Path('train/3/51776.png'), Path('train/3/51790.png'), Path('train/3/51798.png'), Path('train/3/51799.png'), Path('train/3/51811.png'), Path('train/3/51816.png'), Path('train/3/51837.png'), Path('train/3/5184.png'), Path('train/3/51848.png'), Path('train/3/51851.png'), Path('train/3/5186.png'), Path('train/3/51871.png'), Path('train/3/51890.png'), Path('train/3/51896.png'), Path('train/3/5190.png'), Path('train/3/51903.png'), Path('train/3/51909.png'), Path('train/3/51915.png'), Path('train/3/51918.png'), Path('train/3/5193.png'), Path('train/3/51934.png'), Path('train/3/51940.png'), Path('train/3/51946.png'), Path('train/3/51947.png'), Path('train/3/51970.png'), Path('train/3/51987.png'), Path('train/3/51991.png'), Path('train/3/51998.png'), Path('train/3/52014.png'), Path('train/3/52022.png'), Path('train/3/52027.png'), Path('train/3/52035.png'), Path('train/3/52038.png'), Path('train/3/52041.png'), Path('train/3/52059.png'), Path('train/3/5207.png'), Path('train/3/52085.png'), Path('train/3/52096.png'), Path('train/3/52098.png'), Path('train/3/52101.png'), Path('train/3/52104.png'), Path('train/3/52111.png'), Path('train/3/52116.png'), Path('train/3/52129.png'), Path('train/3/52134.png'), Path('train/3/52160.png'), Path('train/3/52164.png'), Path('train/3/52168.png'), Path('train/3/52191.png'), Path('train/3/52209.png'), Path('train/3/52227.png'), Path('train/3/52240.png'), Path('train/3/52252.png'), Path('train/3/52259.png'), Path('train/3/52269.png'), Path('train/3/52272.png'), Path('train/3/52281.png'), Path('train/3/52287.png'), Path('train/3/52298.png'), Path('train/3/52300.png'), Path('train/3/52307.png'), Path('train/3/52327.png'), Path('train/3/52350.png'), Path('train/3/52371.png'), Path('train/3/52375.png'), Path('train/3/52378.png'), Path('train/3/52379.png'), Path('train/3/5238.png'), Path('train/3/52385.png'), Path('train/3/52386.png'), Path('train/3/52394.png'), Path('train/3/52404.png'), Path('train/3/52415.png'), Path('train/3/52432.png'), Path('train/3/52435.png'), Path('train/3/52446.png'), Path('train/3/52455.png'), Path('train/3/52464.png'), Path('train/3/52476.png'), Path('train/3/52479.png'), Path('train/3/52487.png'), Path('train/3/5252.png'), Path('train/3/52539.png'), Path('train/3/52543.png'), Path('train/3/52545.png'), Path('train/3/52563.png'), Path('train/3/52565.png'), Path('train/3/52585.png'), Path('train/3/52590.png'), Path('train/3/52601.png'), Path('train/3/52607.png'), Path('train/3/52636.png'), Path('train/3/52661.png'), Path('train/3/52664.png'), Path('train/3/52676.png'), Path('train/3/52679.png'), Path('train/3/52690.png'), Path('train/3/52692.png'), Path('train/3/52697.png'), Path('train/3/5270.png'), Path('train/3/52700.png'), Path('train/3/52702.png'), Path('train/3/52713.png'), Path('train/3/52740.png'), Path('train/3/52747.png'), Path('train/3/52751.png'), Path('train/3/52753.png'), Path('train/3/5277.png'), Path('train/3/52771.png'), Path('train/3/52773.png'), Path('train/3/52785.png'), Path('train/3/52790.png'), Path('train/3/52794.png'), Path('train/3/52810.png'), Path('train/3/52816.png'), Path('train/3/52818.png'), Path('train/3/52828.png'), Path('train/3/5284.png'), Path('train/3/52853.png'), Path('train/3/52864.png'), Path('train/3/52871.png'), Path('train/3/52891.png'), Path('train/3/52904.png'), Path('train/3/52907.png'), Path('train/3/52917.png'), Path('train/3/52922.png'), Path('train/3/52924.png'), Path('train/3/52931.png'), Path('train/3/52936.png'), Path('train/3/52939.png'), Path('train/3/52940.png'), Path('train/3/52966.png'), Path('train/3/52972.png'), Path('train/3/52974.png'), Path('train/3/52994.png'), Path('train/3/53035.png'), Path('train/3/53037.png'), Path('train/3/53039.png'), Path('train/3/53042.png'), Path('train/3/53048.png'), Path('train/3/53075.png'), Path('train/3/53083.png'), Path('train/3/53084.png'), Path('train/3/53091.png'), Path('train/3/53104.png'), Path('train/3/53107.png'), Path('train/3/53108.png'), Path('train/3/53123.png'), Path('train/3/53136.png'), Path('train/3/5315.png'), Path('train/3/53156.png'), Path('train/3/53158.png'), Path('train/3/53165.png'), Path('train/3/53167.png'), Path('train/3/53182.png'), Path('train/3/53209.png'), Path('train/3/53223.png'), Path('train/3/53225.png'), Path('train/3/5323.png'), Path('train/3/53231.png'), Path('train/3/53241.png'), Path('train/3/53246.png'), Path('train/3/53252.png'), Path('train/3/53262.png'), Path('train/3/5328.png'), Path('train/3/53282.png'), Path('train/3/53283.png'), Path('train/3/53287.png'), Path('train/3/53305.png'), Path('train/3/5332.png'), Path('train/3/53325.png'), Path('train/3/53332.png'), Path('train/3/53345.png'), Path('train/3/53357.png'), Path('train/3/53358.png'), Path('train/3/53365.png'), Path('train/3/5337.png'), Path('train/3/53374.png'), Path('train/3/53376.png'), Path('train/3/53382.png'), Path('train/3/53385.png'), Path('train/3/53402.png'), Path('train/3/53412.png'), Path('train/3/53419.png'), Path('train/3/53447.png'), Path('train/3/53453.png'), Path('train/3/53457.png'), Path('train/3/53474.png'), Path('train/3/53475.png'), Path('train/3/53480.png'), Path('train/3/53482.png'), Path('train/3/53488.png'), Path('train/3/53493.png'), Path('train/3/53514.png'), Path('train/3/53527.png'), Path('train/3/5354.png'), Path('train/3/53542.png'), Path('train/3/53545.png'), Path('train/3/53547.png'), Path('train/3/53554.png'), Path('train/3/53558.png'), Path('train/3/53560.png'), Path('train/3/53566.png'), Path('train/3/53570.png'), Path('train/3/5358.png'), Path('train/3/53583.png'), Path('train/3/53584.png'), Path('train/3/53586.png'), Path('train/3/5359.png'), Path('train/3/53591.png'), Path('train/3/53595.png'), Path('train/3/53609.png'), Path('train/3/53619.png'), Path('train/3/53630.png'), Path('train/3/53671.png'), Path('train/3/53688.png'), Path('train/3/53691.png'), Path('train/3/5370.png'), Path('train/3/53704.png'), Path('train/3/53711.png'), Path('train/3/53712.png'), Path('train/3/53716.png'), Path('train/3/53722.png'), Path('train/3/53724.png'), Path('train/3/53740.png'), Path('train/3/53749.png'), Path('train/3/53755.png'), Path('train/3/53757.png'), Path('train/3/53758.png'), Path('train/3/5379.png'), Path('train/3/53803.png'), Path('train/3/53815.png'), Path('train/3/53838.png'), Path('train/3/53846.png'), Path('train/3/53863.png'), Path('train/3/53874.png'), Path('train/3/53875.png'), Path('train/3/5388.png'), Path('train/3/53889.png'), Path('train/3/53903.png'), Path('train/3/5392.png'), Path('train/3/53923.png'), Path('train/3/53938.png'), Path('train/3/53943.png'), Path('train/3/53954.png'), Path('train/3/53958.png'), Path('train/3/5396.png'), Path('train/3/53960.png'), Path('train/3/53975.png'), Path('train/3/53987.png'), Path('train/3/5399.png'), Path('train/3/53995.png'), Path('train/3/540.png'), Path('train/3/54001.png'), Path('train/3/54008.png'), Path('train/3/54013.png'), Path('train/3/54014.png'), Path('train/3/54016.png'), Path('train/3/54020.png'), Path('train/3/54028.png'), Path('train/3/54029.png'), Path('train/3/54060.png'), Path('train/3/54062.png'), Path('train/3/54073.png'), Path('train/3/54074.png'), Path('train/3/54077.png'), Path('train/3/5408.png'), Path('train/3/54084.png'), Path('train/3/54088.png'), Path('train/3/54107.png'), Path('train/3/5412.png'), Path('train/3/54126.png'), Path('train/3/54127.png'), Path('train/3/54140.png'), Path('train/3/54147.png'), Path('train/3/54174.png'), Path('train/3/54191.png'), Path('train/3/54199.png'), Path('train/3/54201.png'), Path('train/3/54208.png'), Path('train/3/54228.png'), Path('train/3/54242.png'), Path('train/3/54248.png'), Path('train/3/54249.png'), Path('train/3/54250.png'), Path('train/3/54258.png'), Path('train/3/54270.png'), Path('train/3/54273.png'), Path('train/3/54285.png'), Path('train/3/54291.png'), Path('train/3/54296.png'), Path('train/3/54301.png'), Path('train/3/54304.png'), Path('train/3/5432.png'), Path('train/3/54322.png'), Path('train/3/5433.png'), Path('train/3/54339.png'), Path('train/3/5434.png'), Path('train/3/54343.png'), Path('train/3/54357.png'), Path('train/3/54377.png'), Path('train/3/54397.png'), Path('train/3/54398.png'), Path('train/3/54402.png'), Path('train/3/54406.png'), Path('train/3/54413.png'), Path('train/3/5442.png'), Path('train/3/54430.png'), Path('train/3/54436.png'), Path('train/3/54444.png'), Path('train/3/54460.png'), Path('train/3/54476.png'), Path('train/3/54481.png'), Path('train/3/54487.png'), Path('train/3/54493.png'), Path('train/3/54499.png'), Path('train/3/54516.png'), Path('train/3/54524.png'), Path('train/3/54526.png'), Path('train/3/54530.png'), Path('train/3/54531.png'), Path('train/3/54534.png'), Path('train/3/54535.png'), Path('train/3/5455.png'), Path('train/3/54559.png'), Path('train/3/54560.png'), Path('train/3/54568.png'), Path('train/3/5458.png'), Path('train/3/54587.png'), Path('train/3/546.png'), Path('train/3/54603.png'), Path('train/3/54615.png'), Path('train/3/54616.png'), Path('train/3/54622.png'), Path('train/3/54635.png'), Path('train/3/54648.png'), Path('train/3/54655.png'), Path('train/3/54658.png'), Path('train/3/54660.png'), Path('train/3/5467.png'), Path('train/3/54694.png'), Path('train/3/54697.png'), Path('train/3/54700.png'), Path('train/3/54704.png'), Path('train/3/54706.png'), Path('train/3/54707.png'), Path('train/3/5471.png'), Path('train/3/54722.png'), Path('train/3/54724.png'), Path('train/3/54727.png'), Path('train/3/54730.png'), Path('train/3/54735.png'), Path('train/3/54736.png'), Path('train/3/54739.png'), Path('train/3/54746.png'), Path('train/3/54767.png'), Path('train/3/54772.png'), Path('train/3/54780.png'), Path('train/3/54782.png'), Path('train/3/54797.png'), Path('train/3/54798.png'), Path('train/3/54829.png'), Path('train/3/54845.png'), Path('train/3/54849.png'), Path('train/3/54856.png'), Path('train/3/54858.png'), Path('train/3/54859.png'), Path('train/3/54867.png'), Path('train/3/54879.png'), Path('train/3/54888.png'), Path('train/3/54892.png'), Path('train/3/54898.png'), Path('train/3/549.png'), Path('train/3/5491.png'), Path('train/3/54910.png'), Path('train/3/54915.png'), Path('train/3/5493.png'), Path('train/3/54930.png'), Path('train/3/54952.png'), Path('train/3/54953.png'), Path('train/3/5497.png'), Path('train/3/54972.png'), Path('train/3/54976.png'), Path('train/3/54977.png'), Path('train/3/54983.png'), Path('train/3/54996.png'), Path('train/3/55008.png'), Path('train/3/55017.png'), Path('train/3/55028.png'), Path('train/3/55035.png'), Path('train/3/55038.png'), Path('train/3/55050.png'), Path('train/3/55051.png'), Path('train/3/55054.png'), Path('train/3/55062.png'), Path('train/3/55071.png'), Path('train/3/55091.png'), Path('train/3/55093.png'), Path('train/3/5510.png'), Path('train/3/55103.png'), Path('train/3/55104.png'), Path('train/3/55106.png'), Path('train/3/5511.png'), Path('train/3/55116.png'), Path('train/3/55133.png'), Path('train/3/55139.png'), Path('train/3/55144.png'), Path('train/3/55151.png'), Path('train/3/55179.png'), Path('train/3/55190.png'), Path('train/3/55194.png'), Path('train/3/55198.png'), Path('train/3/55231.png'), Path('train/3/55249.png'), Path('train/3/55257.png'), Path('train/3/55283.png'), Path('train/3/55292.png'), Path('train/3/55301.png'), Path('train/3/5531.png'), Path('train/3/55312.png'), Path('train/3/55321.png'), Path('train/3/55334.png'), Path('train/3/55336.png'), Path('train/3/55341.png'), Path('train/3/55343.png'), Path('train/3/55353.png'), Path('train/3/55377.png'), Path('train/3/55378.png'), Path('train/3/55383.png'), Path('train/3/55393.png'), Path('train/3/55419.png'), Path('train/3/5542.png'), Path('train/3/55432.png'), Path('train/3/55440.png'), Path('train/3/55461.png'), Path('train/3/5547.png'), Path('train/3/55470.png'), Path('train/3/55472.png'), Path('train/3/55474.png'), Path('train/3/55482.png'), Path('train/3/55485.png'), Path('train/3/55488.png'), Path('train/3/55509.png'), Path('train/3/55527.png'), Path('train/3/55547.png'), Path('train/3/55548.png'), Path('train/3/55550.png'), Path('train/3/55566.png'), Path('train/3/55579.png'), Path('train/3/55580.png'), Path('train/3/55592.png'), Path('train/3/5562.png'), Path('train/3/55628.png'), Path('train/3/55640.png'), Path('train/3/55649.png'), Path('train/3/55665.png'), Path('train/3/5567.png'), Path('train/3/55677.png'), Path('train/3/55688.png'), Path('train/3/55694.png'), Path('train/3/55698.png'), Path('train/3/557.png'), Path('train/3/55705.png'), Path('train/3/55715.png'), Path('train/3/55717.png'), Path('train/3/55726.png'), Path('train/3/5573.png'), Path('train/3/55732.png'), Path('train/3/55737.png'), Path('train/3/55743.png'), Path('train/3/55746.png'), Path('train/3/55751.png'), Path('train/3/55758.png'), Path('train/3/55771.png'), Path('train/3/5578.png'), Path('train/3/55791.png'), Path('train/3/55796.png'), Path('train/3/55831.png'), Path('train/3/55844.png'), Path('train/3/55845.png'), Path('train/3/55851.png'), Path('train/3/55858.png'), Path('train/3/55864.png'), Path('train/3/55866.png'), Path('train/3/55869.png'), Path('train/3/55874.png'), Path('train/3/55876.png'), Path('train/3/5588.png'), Path('train/3/55881.png'), Path('train/3/55893.png'), Path('train/3/55914.png'), Path('train/3/55923.png'), Path('train/3/55926.png'), Path('train/3/55932.png'), Path('train/3/55937.png'), Path('train/3/55941.png'), Path('train/3/55947.png'), Path('train/3/55960.png'), Path('train/3/55962.png'), Path('train/3/55966.png'), Path('train/3/55974.png'), Path('train/3/55998.png'), Path('train/3/55999.png'), Path('train/3/56006.png'), Path('train/3/56008.png'), Path('train/3/56012.png'), Path('train/3/56029.png'), Path('train/3/56043.png'), Path('train/3/56047.png'), Path('train/3/5605.png'), Path('train/3/56053.png'), Path('train/3/56067.png'), Path('train/3/56073.png'), Path('train/3/561.png'), Path('train/3/5611.png'), Path('train/3/56134.png'), Path('train/3/56136.png'), Path('train/3/56139.png'), Path('train/3/5616.png'), Path('train/3/56164.png'), Path('train/3/56165.png'), Path('train/3/56191.png'), Path('train/3/56197.png'), Path('train/3/56198.png'), Path('train/3/56204.png'), Path('train/3/56207.png'), Path('train/3/5621.png'), Path('train/3/56225.png'), Path('train/3/56228.png'), Path('train/3/56234.png'), Path('train/3/56245.png'), Path('train/3/56260.png'), Path('train/3/56265.png'), Path('train/3/56275.png'), Path('train/3/56288.png'), Path('train/3/56297.png'), Path('train/3/56305.png'), Path('train/3/56321.png'), Path('train/3/56324.png'), Path('train/3/56337.png'), Path('train/3/5637.png'), Path('train/3/56383.png'), Path('train/3/56391.png'), Path('train/3/56398.png'), Path('train/3/5640.png'), Path('train/3/5642.png'), Path('train/3/56420.png'), Path('train/3/56434.png'), Path('train/3/56437.png'), Path('train/3/56448.png'), Path('train/3/56449.png'), Path('train/3/56457.png'), Path('train/3/56474.png'), Path('train/3/56475.png'), Path('train/3/56488.png'), Path('train/3/5649.png'), Path('train/3/56492.png'), Path('train/3/56495.png'), Path('train/3/56504.png'), Path('train/3/56515.png'), Path('train/3/56524.png'), Path('train/3/56528.png'), Path('train/3/56535.png'), Path('train/3/56561.png'), Path('train/3/56565.png'), Path('train/3/56574.png'), Path('train/3/56578.png'), Path('train/3/56581.png'), Path('train/3/56585.png'), Path('train/3/5660.png'), Path('train/3/56615.png'), Path('train/3/56616.png'), Path('train/3/56621.png'), Path('train/3/56624.png'), Path('train/3/56645.png'), Path('train/3/56654.png'), Path('train/3/56657.png'), Path('train/3/56697.png'), Path('train/3/56721.png'), Path('train/3/56730.png'), Path('train/3/56738.png'), Path('train/3/56741.png'), Path('train/3/56754.png'), Path('train/3/56761.png'), Path('train/3/56776.png'), Path('train/3/5679.png'), Path('train/3/56791.png'), Path('train/3/56817.png'), Path('train/3/56820.png'), Path('train/3/56823.png'), Path('train/3/5683.png'), Path('train/3/56849.png'), Path('train/3/56869.png'), Path('train/3/5687.png'), Path('train/3/56871.png'), Path('train/3/56875.png'), Path('train/3/56921.png'), Path('train/3/56925.png'), Path('train/3/56927.png'), Path('train/3/56934.png'), Path('train/3/56966.png'), Path('train/3/56974.png'), Path('train/3/56975.png'), Path('train/3/56994.png'), Path('train/3/56995.png'), Path('train/3/57004.png'), Path('train/3/57009.png'), Path('train/3/57016.png'), Path('train/3/5702.png'), Path('train/3/57040.png'), Path('train/3/57056.png'), Path('train/3/5710.png'), Path('train/3/57103.png'), Path('train/3/57107.png'), Path('train/3/57131.png'), Path('train/3/57141.png'), Path('train/3/57149.png'), Path('train/3/57166.png'), Path('train/3/5717.png'), Path('train/3/57171.png'), Path('train/3/57172.png'), Path('train/3/57173.png'), Path('train/3/57194.png'), Path('train/3/57195.png'), Path('train/3/57199.png'), Path('train/3/57207.png'), Path('train/3/57227.png'), Path('train/3/57247.png'), Path('train/3/57264.png'), Path('train/3/57265.png'), Path('train/3/57278.png'), Path('train/3/5728.png'), Path('train/3/57291.png'), Path('train/3/57300.png'), Path('train/3/57306.png'), Path('train/3/57308.png'), Path('train/3/57312.png'), Path('train/3/57336.png'), Path('train/3/57341.png'), Path('train/3/57351.png'), Path('train/3/5736.png'), Path('train/3/57373.png'), Path('train/3/5738.png'), Path('train/3/57391.png'), Path('train/3/57396.png'), Path('train/3/57399.png'), Path('train/3/574.png'), Path('train/3/57401.png'), Path('train/3/57402.png'), Path('train/3/57415.png'), Path('train/3/57424.png'), Path('train/3/57426.png'), Path('train/3/57441.png'), Path('train/3/57457.png'), Path('train/3/57468.png'), Path('train/3/57472.png'), Path('train/3/57474.png'), Path('train/3/57477.png'), Path('train/3/5748.png'), Path('train/3/57488.png'), Path('train/3/57492.png'), Path('train/3/57495.png'), Path('train/3/57522.png'), Path('train/3/57523.png'), Path('train/3/57527.png'), Path('train/3/5753.png'), Path('train/3/57533.png'), Path('train/3/57568.png'), Path('train/3/57584.png'), Path('train/3/57594.png'), Path('train/3/57598.png'), Path('train/3/57608.png'), Path('train/3/57612.png'), Path('train/3/57625.png'), Path('train/3/57635.png'), Path('train/3/57651.png'), Path('train/3/57660.png'), Path('train/3/57679.png'), Path('train/3/57680.png'), Path('train/3/57689.png'), Path('train/3/57698.png'), Path('train/3/5770.png'), Path('train/3/57717.png'), Path('train/3/57734.png'), Path('train/3/57735.png'), Path('train/3/57739.png'), Path('train/3/57750.png'), Path('train/3/57762.png'), Path('train/3/57765.png'), Path('train/3/57766.png'), Path('train/3/57771.png'), Path('train/3/57781.png'), Path('train/3/57788.png'), Path('train/3/57801.png'), Path('train/3/57804.png'), Path('train/3/57806.png'), Path('train/3/57817.png'), Path('train/3/57820.png'), Path('train/3/57833.png'), Path('train/3/57856.png'), Path('train/3/57863.png'), Path('train/3/57864.png'), Path('train/3/57868.png'), Path('train/3/5787.png'), Path('train/3/57872.png'), Path('train/3/57877.png'), Path('train/3/57879.png'), Path('train/3/5788.png'), Path('train/3/57886.png'), Path('train/3/57893.png'), Path('train/3/57897.png'), Path('train/3/57909.png'), Path('train/3/57914.png'), Path('train/3/57919.png'), Path('train/3/57920.png'), Path('train/3/5793.png'), Path('train/3/57932.png'), Path('train/3/57941.png'), Path('train/3/57952.png'), Path('train/3/57967.png'), Path('train/3/57974.png'), Path('train/3/5798.png'), Path('train/3/57983.png'), Path('train/3/5799.png'), Path('train/3/57990.png'), Path('train/3/58001.png'), Path('train/3/58021.png'), Path('train/3/58045.png'), Path('train/3/58048.png'), Path('train/3/58064.png'), Path('train/3/58065.png'), Path('train/3/58067.png'), Path('train/3/58077.png'), Path('train/3/58079.png'), Path('train/3/58080.png'), Path('train/3/58084.png'), Path('train/3/58086.png'), Path('train/3/58089.png'), Path('train/3/58097.png'), Path('train/3/581.png'), Path('train/3/58113.png'), Path('train/3/5812.png'), Path('train/3/58144.png'), Path('train/3/58149.png'), Path('train/3/58163.png'), Path('train/3/58173.png'), Path('train/3/58183.png'), Path('train/3/5820.png'), Path('train/3/58200.png'), Path('train/3/58219.png'), Path('train/3/58227.png'), Path('train/3/58237.png'), Path('train/3/58249.png'), Path('train/3/58250.png'), Path('train/3/58252.png'), Path('train/3/58257.png'), Path('train/3/58268.png'), Path('train/3/58278.png'), Path('train/3/58288.png'), Path('train/3/58298.png'), Path('train/3/5831.png'), Path('train/3/58311.png'), Path('train/3/58324.png'), Path('train/3/58327.png'), Path('train/3/58328.png'), Path('train/3/58333.png'), Path('train/3/58336.png'), Path('train/3/58339.png'), Path('train/3/58343.png'), Path('train/3/58379.png'), Path('train/3/5838.png'), Path('train/3/58389.png'), Path('train/3/58399.png'), Path('train/3/58406.png'), Path('train/3/58410.png'), Path('train/3/58411.png'), Path('train/3/58412.png'), Path('train/3/58421.png'), Path('train/3/58431.png'), Path('train/3/58449.png'), Path('train/3/58465.png'), Path('train/3/58483.png'), Path('train/3/58491.png'), Path('train/3/58495.png'), Path('train/3/58503.png'), Path('train/3/58513.png'), Path('train/3/5852.png'), Path('train/3/58525.png'), Path('train/3/58527.png'), Path('train/3/58541.png'), Path('train/3/58544.png'), Path('train/3/58550.png'), Path('train/3/58558.png'), Path('train/3/58564.png'), Path('train/3/5858.png'), Path('train/3/58582.png'), Path('train/3/58587.png'), Path('train/3/58602.png'), Path('train/3/58612.png'), Path('train/3/58620.png'), Path('train/3/58640.png'), Path('train/3/58642.png'), Path('train/3/58654.png'), Path('train/3/58656.png'), Path('train/3/58660.png'), Path('train/3/58664.png'), Path('train/3/58667.png'), Path('train/3/58678.png'), Path('train/3/5870.png'), Path('train/3/58700.png'), Path('train/3/58707.png'), Path('train/3/5871.png'), Path('train/3/58711.png'), Path('train/3/58721.png'), Path('train/3/58729.png'), Path('train/3/58747.png'), Path('train/3/5875.png'), Path('train/3/58758.png'), Path('train/3/58759.png'), Path('train/3/58760.png'), Path('train/3/58774.png'), Path('train/3/58785.png'), Path('train/3/58793.png'), Path('train/3/58800.png'), Path('train/3/58812.png'), Path('train/3/58822.png'), Path('train/3/58832.png'), Path('train/3/58853.png'), Path('train/3/58855.png'), Path('train/3/58874.png'), Path('train/3/58878.png'), Path('train/3/58881.png'), Path('train/3/58892.png'), Path('train/3/58924.png'), Path('train/3/58931.png'), Path('train/3/58937.png'), Path('train/3/58946.png'), Path('train/3/58955.png'), Path('train/3/58966.png'), Path('train/3/58971.png'), Path('train/3/58983.png'), Path('train/3/59001.png'), Path('train/3/59014.png'), Path('train/3/59016.png'), Path('train/3/59038.png'), Path('train/3/59046.png'), Path('train/3/59054.png'), Path('train/3/59062.png'), Path('train/3/59070.png'), Path('train/3/59081.png'), Path('train/3/59092.png'), Path('train/3/59100.png'), Path('train/3/59104.png'), Path('train/3/5911.png'), Path('train/3/59119.png'), Path('train/3/59120.png'), Path('train/3/59137.png'), Path('train/3/59151.png'), Path('train/3/59158.png'), Path('train/3/59168.png'), Path('train/3/59178.png'), Path('train/3/5919.png'), Path('train/3/59195.png'), Path('train/3/59202.png'), Path('train/3/5922.png'), Path('train/3/59228.png'), Path('train/3/59229.png'), Path('train/3/5923.png'), Path('train/3/59239.png'), Path('train/3/59242.png'), Path('train/3/5926.png'), Path('train/3/59262.png'), Path('train/3/59263.png'), Path('train/3/59271.png'), Path('train/3/59275.png'), Path('train/3/59282.png'), Path('train/3/59299.png'), Path('train/3/59307.png'), Path('train/3/59308.png'), Path('train/3/59315.png'), Path('train/3/59318.png'), Path('train/3/59322.png'), Path('train/3/59328.png'), Path('train/3/59334.png'), Path('train/3/59350.png'), Path('train/3/59352.png'), Path('train/3/59356.png'), Path('train/3/59366.png'), Path('train/3/59375.png'), Path('train/3/59383.png'), Path('train/3/59394.png'), Path('train/3/59398.png'), Path('train/3/59408.png'), Path('train/3/5941.png'), Path('train/3/59416.png'), Path('train/3/5942.png'), Path('train/3/59436.png'), Path('train/3/59440.png'), Path('train/3/59461.png'), Path('train/3/59467.png'), Path('train/3/59471.png'), Path('train/3/59480.png'), Path('train/3/59490.png'), Path('train/3/59500.png'), Path('train/3/59512.png'), Path('train/3/59528.png'), Path('train/3/59529.png'), Path('train/3/59535.png'), Path('train/3/59550.png'), Path('train/3/59569.png'), Path('train/3/5958.png'), Path('train/3/59588.png'), Path('train/3/59598.png'), Path('train/3/59624.png'), Path('train/3/59630.png'), Path('train/3/59631.png'), Path('train/3/59643.png'), Path('train/3/59652.png'), Path('train/3/59660.png'), Path('train/3/5967.png'), Path('train/3/59678.png'), Path('train/3/59691.png'), Path('train/3/59699.png'), Path('train/3/5970.png'), Path('train/3/59707.png'), Path('train/3/59715.png'), Path('train/3/59725.png'), Path('train/3/59735.png'), Path('train/3/5974.png'), Path('train/3/59760.png'), Path('train/3/59769.png'), Path('train/3/59777.png'), Path('train/3/59778.png'), Path('train/3/59798.png'), Path('train/3/5980.png'), Path('train/3/59808.png'), Path('train/3/59815.png'), Path('train/3/59818.png'), Path('train/3/59825.png'), Path('train/3/59828.png'), Path('train/3/59860.png'), Path('train/3/5987.png'), Path('train/3/59870.png'), Path('train/3/59883.png'), Path('train/3/59886.png'), Path('train/3/59891.png'), Path('train/3/59904.png'), Path('train/3/59914.png'), Path('train/3/59921.png'), Path('train/3/59930.png'), Path('train/3/59955.png'), Path('train/3/59957.png'), Path('train/3/59961.png'), Path('train/3/59964.png'), Path('train/3/59978.png'), Path('train/3/59980.png'), Path('train/3/59996.png'), Path('train/3/6007.png'), Path('train/3/6016.png'), Path('train/3/6032.png'), Path('train/3/6033.png'), Path('train/3/6040.png'), Path('train/3/6048.png'), Path('train/3/6057.png'), Path('train/3/6059.png'), Path('train/3/6069.png'), Path('train/3/6071.png'), Path('train/3/6081.png'), Path('train/3/6089.png'), Path('train/3/6098.png'), Path('train/3/6106.png'), Path('train/3/6118.png'), Path('train/3/6123.png'), Path('train/3/613.png'), Path('train/3/6148.png'), Path('train/3/6170.png'), Path('train/3/6175.png'), Path('train/3/6182.png'), Path('train/3/6185.png'), Path('train/3/6213.png'), Path('train/3/6216.png'), Path('train/3/6230.png'), Path('train/3/6233.png'), Path('train/3/6251.png'), Path('train/3/6269.png'), Path('train/3/6282.png'), Path('train/3/6286.png'), Path('train/3/629.png'), Path('train/3/6291.png'), Path('train/3/6293.png'), Path('train/3/6297.png'), Path('train/3/6298.png'), Path('train/3/6299.png'), Path('train/3/6309.png'), Path('train/3/6317.png'), Path('train/3/6340.png'), Path('train/3/6342.png'), Path('train/3/6347.png'), Path('train/3/6350.png'), Path('train/3/6362.png'), Path('train/3/6398.png'), Path('train/3/6405.png'), Path('train/3/6410.png'), Path('train/3/6415.png'), Path('train/3/6416.png'), Path('train/3/6420.png'), Path('train/3/6427.png'), Path('train/3/6428.png'), Path('train/3/643.png'), Path('train/3/6430.png'), Path('train/3/6440.png'), Path('train/3/6447.png'), Path('train/3/645.png'), Path('train/3/6450.png'), Path('train/3/6467.png'), Path('train/3/6489.png'), Path('train/3/6497.png'), Path('train/3/6500.png'), Path('train/3/6516.png'), Path('train/3/6522.png'), Path('train/3/6539.png'), Path('train/3/6543.png'), Path('train/3/6545.png'), Path('train/3/6559.png'), Path('train/3/6561.png'), Path('train/3/6576.png'), Path('train/3/6584.png'), Path('train/3/6585.png'), Path('train/3/659.png'), Path('train/3/6592.png'), Path('train/3/6594.png'), Path('train/3/6595.png'), Path('train/3/6601.png'), Path('train/3/6612.png'), Path('train/3/6632.png'), Path('train/3/6651.png'), Path('train/3/6658.png'), Path('train/3/6662.png'), Path('train/3/6667.png'), Path('train/3/6687.png'), Path('train/3/670.png'), Path('train/3/6706.png'), Path('train/3/6710.png'), Path('train/3/6711.png'), Path('train/3/6719.png'), Path('train/3/6739.png'), Path('train/3/675.png'), Path('train/3/6750.png'), Path('train/3/6754.png'), Path('train/3/6762.png'), Path('train/3/6766.png'), Path('train/3/6784.png'), Path('train/3/6809.png'), Path('train/3/6825.png'), Path('train/3/6826.png'), Path('train/3/6827.png'), Path('train/3/6844.png'), Path('train/3/6855.png'), Path('train/3/6856.png'), Path('train/3/6858.png'), Path('train/3/6863.png'), Path('train/3/6892.png'), Path('train/3/6894.png'), Path('train/3/6898.png'), Path('train/3/6904.png'), Path('train/3/6906.png'), Path('train/3/6912.png'), Path('train/3/6920.png'), Path('train/3/6939.png'), Path('train/3/6945.png'), Path('train/3/695.png'), Path('train/3/6959.png'), Path('train/3/6966.png'), Path('train/3/7.png'), Path('train/3/7030.png'), Path('train/3/7031.png'), Path('train/3/7043.png'), Path('train/3/7046.png'), Path('train/3/7058.png'), Path('train/3/7065.png'), Path('train/3/7067.png'), Path('train/3/7080.png'), Path('train/3/7097.png'), Path('train/3/7106.png'), Path('train/3/7123.png'), Path('train/3/7132.png'), Path('train/3/7134.png'), Path('train/3/7147.png'), Path('train/3/715.png'), Path('train/3/7150.png'), Path('train/3/7156.png'), Path('train/3/7162.png'), Path('train/3/7189.png'), Path('train/3/7192.png'), Path('train/3/7209.png'), Path('train/3/7214.png'), Path('train/3/7225.png'), Path('train/3/7250.png'), Path('train/3/7261.png'), Path('train/3/7263.png'), Path('train/3/7283.png'), Path('train/3/7288.png'), Path('train/3/7293.png'), Path('train/3/7295.png'), Path('train/3/731.png'), Path('train/3/7322.png'), Path('train/3/7332.png'), Path('train/3/7336.png'), Path('train/3/7339.png'), Path('train/3/7367.png'), Path('train/3/7383.png'), Path('train/3/7387.png'), Path('train/3/7396.png'), Path('train/3/7397.png'), Path('train/3/74.png'), Path('train/3/7412.png'), Path('train/3/7415.png'), Path('train/3/7422.png'), Path('train/3/7433.png'), Path('train/3/7455.png'), Path('train/3/7463.png'), Path('train/3/7483.png'), Path('train/3/7497.png'), Path('train/3/7501.png'), Path('train/3/7507.png'), Path('train/3/752.png'), Path('train/3/7521.png'), Path('train/3/7556.png'), Path('train/3/7569.png'), Path('train/3/7582.png'), Path('train/3/7584.png'), Path('train/3/7590.png'), Path('train/3/760.png'), Path('train/3/7600.png'), Path('train/3/7613.png'), Path('train/3/7618.png'), Path('train/3/7625.png'), Path('train/3/7626.png'), Path('train/3/7634.png'), Path('train/3/7635.png'), Path('train/3/7655.png'), Path('train/3/7660.png'), Path('train/3/7666.png'), Path('train/3/767.png'), Path('train/3/7672.png'), Path('train/3/7675.png'), Path('train/3/7678.png'), Path('train/3/7692.png'), Path('train/3/7698.png'), Path('train/3/7701.png'), Path('train/3/7721.png'), Path('train/3/7745.png'), Path('train/3/7762.png'), Path('train/3/7765.png'), Path('train/3/7766.png'), Path('train/3/7767.png'), Path('train/3/7771.png'), Path('train/3/7778.png'), Path('train/3/7784.png'), Path('train/3/7794.png'), Path('train/3/7800.png'), Path('train/3/7803.png'), Path('train/3/7832.png'), Path('train/3/7841.png'), Path('train/3/7861.png'), Path('train/3/7862.png'), Path('train/3/7878.png'), Path('train/3/7881.png'), Path('train/3/789.png'), Path('train/3/7915.png'), Path('train/3/7935.png'), Path('train/3/7966.png'), Path('train/3/7976.png'), Path('train/3/7980.png'), Path('train/3/7982.png'), Path('train/3/7987.png'), Path('train/3/8012.png'), Path('train/3/8013.png'), Path('train/3/8014.png'), Path('train/3/8017.png'), Path('train/3/8018.png'), Path('train/3/8039.png'), Path('train/3/8048.png'), Path('train/3/8052.png'), Path('train/3/8054.png'), Path('train/3/8055.png'), Path('train/3/8065.png'), Path('train/3/8075.png'), Path('train/3/8077.png'), Path('train/3/808.png'), Path('train/3/8094.png'), Path('train/3/8099.png'), Path('train/3/811.png'), Path('train/3/8115.png'), Path('train/3/8120.png'), Path('train/3/8122.png'), Path('train/3/8135.png'), Path('train/3/8163.png'), Path('train/3/8164.png'), Path('train/3/8169.png'), Path('train/3/8184.png'), Path('train/3/8188.png'), Path('train/3/8192.png'), Path('train/3/8195.png'), Path('train/3/8200.png'), Path('train/3/8227.png'), Path('train/3/8228.png'), Path('train/3/8230.png'), Path('train/3/8236.png'), Path('train/3/8241.png'), Path('train/3/8246.png'), Path('train/3/8254.png'), Path('train/3/8259.png'), Path('train/3/8264.png'), Path('train/3/8279.png'), Path('train/3/8295.png'), Path('train/3/8338.png'), Path('train/3/8350.png'), Path('train/3/8360.png'), Path('train/3/8381.png'), Path('train/3/8395.png'), Path('train/3/840.png'), Path('train/3/8405.png'), Path('train/3/8406.png'), Path('train/3/8425.png'), Path('train/3/8427.png'), Path('train/3/843.png'), Path('train/3/8447.png'), Path('train/3/8450.png'), Path('train/3/8455.png'), Path('train/3/8475.png'), Path('train/3/8494.png'), Path('train/3/8498.png'), Path('train/3/8505.png'), Path('train/3/8524.png'), Path('train/3/8528.png'), Path('train/3/8537.png'), Path('train/3/8541.png'), Path('train/3/8544.png'), Path('train/3/8551.png'), Path('train/3/8554.png'), Path('train/3/8557.png'), Path('train/3/856.png'), Path('train/3/8568.png'), Path('train/3/857.png'), Path('train/3/8597.png'), Path('train/3/86.png'), Path('train/3/8605.png'), Path('train/3/8606.png'), Path('train/3/861.png'), Path('train/3/8635.png'), Path('train/3/8643.png'), Path('train/3/8663.png'), Path('train/3/867.png'), Path('train/3/8672.png'), Path('train/3/8684.png'), Path('train/3/8693.png'), Path('train/3/8700.png'), Path('train/3/8708.png'), Path('train/3/8709.png'), Path('train/3/8710.png'), Path('train/3/8716.png'), Path('train/3/8729.png'), Path('train/3/874.png'), Path('train/3/875.png'), Path('train/3/8756.png'), Path('train/3/8762.png'), Path('train/3/8765.png'), Path('train/3/8771.png'), Path('train/3/8773.png'), Path('train/3/878.png'), Path('train/3/8786.png'), Path('train/3/8790.png'), Path('train/3/8794.png'), Path('train/3/8795.png'), Path('train/3/8800.png'), Path('train/3/8808.png'), Path('train/3/8816.png'), Path('train/3/8818.png'), Path('train/3/8821.png'), Path('train/3/8824.png'), Path('train/3/8830.png'), Path('train/3/8865.png'), Path('train/3/8879.png'), Path('train/3/8880.png'), Path('train/3/8882.png'), Path('train/3/8884.png'), Path('train/3/8888.png'), Path('train/3/8893.png'), Path('train/3/890.png'), Path('train/3/8907.png'), Path('train/3/8923.png'), Path('train/3/8936.png'), Path('train/3/8941.png'), Path('train/3/8946.png'), Path('train/3/8948.png'), Path('train/3/895.png'), Path('train/3/8957.png'), Path('train/3/8958.png'), Path('train/3/8967.png'), Path('train/3/8976.png'), Path('train/3/9004.png'), Path('train/3/9006.png'), Path('train/3/9037.png'), Path('train/3/9053.png'), Path('train/3/9059.png'), Path('train/3/9065.png'), Path('train/3/9074.png'), Path('train/3/9078.png'), Path('train/3/9080.png'), Path('train/3/9089.png'), Path('train/3/909.png'), Path('train/3/9107.png'), Path('train/3/9140.png'), Path('train/3/9141.png'), Path('train/3/9146.png'), Path('train/3/9153.png'), Path('train/3/9168.png'), Path('train/3/9180.png'), Path('train/3/9182.png'), Path('train/3/9183.png'), Path('train/3/9184.png'), Path('train/3/9192.png'), Path('train/3/9226.png'), Path('train/3/9230.png'), Path('train/3/9253.png'), Path('train/3/9255.png'), Path('train/3/9268.png'), Path('train/3/9272.png'), Path('train/3/9278.png'), Path('train/3/9279.png'), Path('train/3/9289.png'), Path('train/3/9293.png'), Path('train/3/9294.png'), Path('train/3/9300.png'), Path('train/3/9302.png'), Path('train/3/9303.png'), Path('train/3/9319.png'), Path('train/3/9324.png'), Path('train/3/9335.png'), Path('train/3/9355.png'), Path('train/3/9363.png'), Path('train/3/9380.png'), Path('train/3/9386.png'), Path('train/3/9400.png'), Path('train/3/9401.png'), Path('train/3/9403.png'), Path('train/3/9411.png'), Path('train/3/9412.png'), Path('train/3/9413.png'), Path('train/3/9418.png'), Path('train/3/9420.png'), Path('train/3/9424.png'), Path('train/3/9427.png'), Path('train/3/9443.png'), Path('train/3/9466.png'), Path('train/3/9482.png'), Path('train/3/9491.png'), Path('train/3/9511.png'), Path('train/3/9516.png'), Path('train/3/9520.png'), Path('train/3/9529.png'), Path('train/3/953.png'), Path('train/3/9553.png'), Path('train/3/9561.png'), Path('train/3/9592.png'), Path('train/3/9602.png'), Path('train/3/9610.png'), Path('train/3/9612.png'), Path('train/3/9617.png'), Path('train/3/9620.png'), Path('train/3/9621.png'), Path('train/3/9623.png'), Path('train/3/9624.png'), Path('train/3/9636.png'), Path('train/3/9637.png'), Path('train/3/9638.png'), Path('train/3/9639.png'), Path('train/3/9648.png'), Path('train/3/966.png'), Path('train/3/9663.png'), Path('train/3/9664.png'), Path('train/3/9670.png'), Path('train/3/9679.png'), Path('train/3/9680.png'), Path('train/3/9685.png'), Path('train/3/9696.png'), Path('train/3/9706.png'), Path('train/3/9730.png'), Path('train/3/9739.png'), Path('train/3/975.png'), Path('train/3/9759.png'), Path('train/3/9766.png'), Path('train/3/9778.png'), Path('train/3/9779.png'), Path('train/3/9786.png'), Path('train/3/9797.png'), Path('train/3/98.png'), Path('train/3/9812.png'), Path('train/3/9829.png'), Path('train/3/983.png'), Path('train/3/9848.png'), Path('train/3/9851.png'), Path('train/3/9864.png'), Path('train/3/9868.png'), Path('train/3/9871.png'), Path('train/3/9879.png'), Path('train/3/9904.png'), Path('train/3/9913.png'), Path('train/3/9915.png'), Path('train/3/9916.png'), Path('train/3/992.png'), Path('train/3/9932.png'), Path('train/3/9953.png'), Path('train/3/9959.png'), Path('train/3/9974.png'), Path('train/3/9977.png'), Path('train/3/998.png'), Path('train/3/9991.png')]\n"
          ]
        }
      ],
      "source": [
        "threes = (path/'train'/'3').ls().sorted()\n",
        "sevens = (path/'train'/'7').ls().sorted()\n",
        "print(f\"length of THREES: {len(threes)}\")\n",
        "print(threes)"
      ]
    },
    {
      "cell_type": "markdown",
      "metadata": {
        "id": "5O5-zVVXxOyr"
      },
      "source": [
        "As we might expect, it's full of image files. Let’s take a look at one now. Here’s an image of a handwritten number 3, taken from the famous MNIST dataset of handwritten numbers:"
      ]
    },
    {
      "cell_type": "code",
      "execution_count": 19,
      "metadata": {
        "id": "-uyYRpY7xOyr",
        "outputId": "2e314d01-9556-4554-a584-4b3f54072123",
        "colab": {
          "base_uri": "https://localhost:8080/",
          "height": 45
        }
      },
      "outputs": [
        {
          "output_type": "execute_result",
          "data": {
            "text/plain": [
              "<PIL.PngImagePlugin.PngImageFile image mode=L size=28x28>"
            ],
            "image/png": "[encoded data removed]"
          },
          "metadata": {},
          "execution_count": 19
        }
      ],
      "source": [
        "im3_path = threes[1]\n",
        "im3 = Image.open(im3_path)\n",
        "im3"
      ]
    },
    {
      "cell_type": "markdown",
      "metadata": {
        "id": "UA0B1KSSxOys"
      },
      "source": [
        "Here we are using the `Image` class from the *Python Imaging Library* (PIL), which is the most widely used Python package for opening, manipulating, and viewing images. Jupyter knows about PIL images, so it displays the image for us automatically.\n",
        "\n",
        "In a computer, everything is represented as a number. To view the numbers that make up this image, we have to convert it to a *NumPy array* or a *PyTorch tensor*. For instance, here's what a section of the image looks like, converted to a NumPy array:"
      ]
    },
    {
      "cell_type": "code",
      "execution_count": 20,
      "metadata": {
        "id": "WtR66GPAxOys",
        "outputId": "ac4b01f6-1e5e-4d99-913c-83ba77ef9642",
        "colab": {
          "base_uri": "https://localhost:8080/"
        }
      },
      "outputs": [
        {
          "output_type": "execute_result",
          "data": {
            "text/plain": [
              "array([[  0,   0,   0,   0,   0,   0],\n",
              "       [  0,   0,   0,   0,   0,  29],\n",
              "       [  0,   0,   0,  48, 166, 224],\n",
              "       [  0,  93, 244, 249, 253, 187],\n",
              "       [  0, 107, 253, 253, 230,  48],\n",
              "       [  0,   3,  20,  20,  15,   0]], dtype=uint8)"
            ]
          },
          "metadata": {},
          "execution_count": 20
        }
      ],
      "source": [
        "array(im3)[4:10,4:10]"
      ]
    },
    {
      "cell_type": "markdown",
      "metadata": {
        "id": "fhVhE9l-xOys"
      },
      "source": [
        "The `4:10` indicates we requested the rows from index 4 (included) to 10 (not included) and the same for the columns. NumPy indexes from top to bottom and left to right, so this section is located in the top-left corner of the image. Here's the same thing as a PyTorch tensor:"
      ]
    },
    {
      "cell_type": "code",
      "execution_count": 21,
      "metadata": {
        "id": "jWFy9VZ_xOys",
        "outputId": "84c0ba85-af0c-4453-80d1-79fdc1902072",
        "colab": {
          "base_uri": "https://localhost:8080/"
        }
      },
      "outputs": [
        {
          "output_type": "execute_result",
          "data": {
            "text/plain": [
              "tensor([[  0,   0,   0,   0,   0,   0],\n",
              "        [  0,   0,   0,   0,   0,  29],\n",
              "        [  0,   0,   0,  48, 166, 224],\n",
              "        [  0,  93, 244, 249, 253, 187],\n",
              "        [  0, 107, 253, 253, 230,  48],\n",
              "        [  0,   3,  20,  20,  15,   0]], dtype=torch.uint8)"
            ]
          },
          "metadata": {},
          "execution_count": 21
        }
      ],
      "source": [
        "tensor(im3)[4:10,4:10]"
      ]
    },
    {
      "cell_type": "markdown",
      "metadata": {
        "id": "wbV_pkTrxOyt"
      },
      "source": [
        "We can slice the array to pick just the part with the top of the digit in it, and then use a Pandas DataFrame to color-code the values using a gradient, which shows us clearly how the image is created from the pixel values:"
      ]
    },
    {
      "cell_type": "code",
      "execution_count": null,
      "metadata": {
        "id": "WH4h1gnUxOyt",
        "outputId": "705f8c61-19b3-47bc-d7fc-b2047a82144c"
      },
      "outputs": [
        {
          "data": {
            "text/html": [
              "<style  type=\"text/css\" >\n",
              "    #T_5949cb40_7ea5_11ea_8470_251223b34593row0_col0 {\n",
              "            font-size:  6pt;\n",
              "            background-color:  #ffffff;\n",
              "            color:  #000000;\n",
              "        }    #T_5949cb40_7ea5_11ea_8470_251223b34593row0_col1 {\n",
              "            font-size:  6pt;\n",
              "            background-color:  #ffffff;\n",
              "            color:  #000000;\n",
              "        }    #T_5949cb40_7ea5_11ea_8470_251223b34593row0_col2 {\n",
              "            font-size:  6pt;\n",
              "            background-color:  #ffffff;\n",
              "            color:  #000000;\n",
              "        }    #T_5949cb40_7ea5_11ea_8470_251223b34593row0_col3 {\n",
              "            font-size:  6pt;\n",
              "            background-color:  #ffffff;\n",
              "            color:  #000000;\n",
              "        }    #T_5949cb40_7ea5_11ea_8470_251223b34593row0_col4 {\n",
              "            font-size:  6pt;\n",
              "            background-color:  #ffffff;\n",
              "            color:  #000000;\n",
              "        }    #T_5949cb40_7ea5_11ea_8470_251223b34593row0_col5 {\n",
              "            font-size:  6pt;\n",
              "            background-color:  #ffffff;\n",
              "            color:  #000000;\n",
              "        }    #T_5949cb40_7ea5_11ea_8470_251223b34593row0_col6 {\n",
              "            font-size:  6pt;\n",
              "            background-color:  #ffffff;\n",
              "            color:  #000000;\n",
              "        }    #T_5949cb40_7ea5_11ea_8470_251223b34593row0_col7 {\n",
              "            font-size:  6pt;\n",
              "            background-color:  #ffffff;\n",
              "            color:  #000000;\n",
              "        }    #T_5949cb40_7ea5_11ea_8470_251223b34593row0_col8 {\n",
              "            font-size:  6pt;\n",
              "            background-color:  #ffffff;\n",
              "            color:  #000000;\n",
              "        }    #T_5949cb40_7ea5_11ea_8470_251223b34593row0_col9 {\n",
              "            font-size:  6pt;\n",
              "            background-color:  #ffffff;\n",
              "            color:  #000000;\n",
              "        }    #T_5949cb40_7ea5_11ea_8470_251223b34593row0_col10 {\n",
              "            font-size:  6pt;\n",
              "            background-color:  #ffffff;\n",
              "            color:  #000000;\n",
              "        }    #T_5949cb40_7ea5_11ea_8470_251223b34593row0_col11 {\n",
              "            font-size:  6pt;\n",
              "            background-color:  #ffffff;\n",
              "            color:  #000000;\n",
              "        }    #T_5949cb40_7ea5_11ea_8470_251223b34593row0_col12 {\n",
              "            font-size:  6pt;\n",
              "            background-color:  #ffffff;\n",
              "            color:  #000000;\n",
              "        }    #T_5949cb40_7ea5_11ea_8470_251223b34593row0_col13 {\n",
              "            font-size:  6pt;\n",
              "            background-color:  #ffffff;\n",
              "            color:  #000000;\n",
              "        }    #T_5949cb40_7ea5_11ea_8470_251223b34593row0_col14 {\n",
              "            font-size:  6pt;\n",
              "            background-color:  #ffffff;\n",
              "            color:  #000000;\n",
              "        }    #T_5949cb40_7ea5_11ea_8470_251223b34593row0_col15 {\n",
              "            font-size:  6pt;\n",
              "            background-color:  #ffffff;\n",
              "            color:  #000000;\n",
              "        }    #T_5949cb40_7ea5_11ea_8470_251223b34593row0_col16 {\n",
              "            font-size:  6pt;\n",
              "            background-color:  #ffffff;\n",
              "            color:  #000000;\n",
              "        }    #T_5949cb40_7ea5_11ea_8470_251223b34593row0_col17 {\n",
              "            font-size:  6pt;\n",
              "            background-color:  #ffffff;\n",
              "            color:  #000000;\n",
              "        }    #T_5949cb40_7ea5_11ea_8470_251223b34593row1_col0 {\n",
              "            font-size:  6pt;\n",
              "            background-color:  #ffffff;\n",
              "            color:  #000000;\n",
              "        }    #T_5949cb40_7ea5_11ea_8470_251223b34593row1_col1 {\n",
              "            font-size:  6pt;\n",
              "            background-color:  #ffffff;\n",
              "            color:  #000000;\n",
              "        }    #T_5949cb40_7ea5_11ea_8470_251223b34593row1_col2 {\n",
              "            font-size:  6pt;\n",
              "            background-color:  #ffffff;\n",
              "            color:  #000000;\n",
              "        }    #T_5949cb40_7ea5_11ea_8470_251223b34593row1_col3 {\n",
              "            font-size:  6pt;\n",
              "            background-color:  #ffffff;\n",
              "            color:  #000000;\n",
              "        }    #T_5949cb40_7ea5_11ea_8470_251223b34593row1_col4 {\n",
              "            font-size:  6pt;\n",
              "            background-color:  #ffffff;\n",
              "            color:  #000000;\n",
              "        }    #T_5949cb40_7ea5_11ea_8470_251223b34593row1_col5 {\n",
              "            font-size:  6pt;\n",
              "            background-color:  #efefef;\n",
              "            color:  #000000;\n",
              "        }    #T_5949cb40_7ea5_11ea_8470_251223b34593row1_col6 {\n",
              "            font-size:  6pt;\n",
              "            background-color:  #7c7c7c;\n",
              "            color:  #000000;\n",
              "        }    #T_5949cb40_7ea5_11ea_8470_251223b34593row1_col7 {\n",
              "            font-size:  6pt;\n",
              "            background-color:  #4a4a4a;\n",
              "            color:  #f1f1f1;\n",
              "        }    #T_5949cb40_7ea5_11ea_8470_251223b34593row1_col8 {\n",
              "            font-size:  6pt;\n",
              "            background-color:  #000000;\n",
              "            color:  #f1f1f1;\n",
              "        }    #T_5949cb40_7ea5_11ea_8470_251223b34593row1_col9 {\n",
              "            font-size:  6pt;\n",
              "            background-color:  #000000;\n",
              "            color:  #f1f1f1;\n",
              "        }    #T_5949cb40_7ea5_11ea_8470_251223b34593row1_col10 {\n",
              "            font-size:  6pt;\n",
              "            background-color:  #000000;\n",
              "            color:  #f1f1f1;\n",
              "        }    #T_5949cb40_7ea5_11ea_8470_251223b34593row1_col11 {\n",
              "            font-size:  6pt;\n",
              "            background-color:  #606060;\n",
              "            color:  #f1f1f1;\n",
              "        }    #T_5949cb40_7ea5_11ea_8470_251223b34593row1_col12 {\n",
              "            font-size:  6pt;\n",
              "            background-color:  #4d4d4d;\n",
              "            color:  #f1f1f1;\n",
              "        }    #T_5949cb40_7ea5_11ea_8470_251223b34593row1_col13 {\n",
              "            font-size:  6pt;\n",
              "            background-color:  #7c7c7c;\n",
              "            color:  #000000;\n",
              "        }    #T_5949cb40_7ea5_11ea_8470_251223b34593row1_col14 {\n",
              "            font-size:  6pt;\n",
              "            background-color:  #bbbbbb;\n",
              "            color:  #000000;\n",
              "        }    #T_5949cb40_7ea5_11ea_8470_251223b34593row1_col15 {\n",
              "            font-size:  6pt;\n",
              "            background-color:  #ffffff;\n",
              "            color:  #000000;\n",
              "        }    #T_5949cb40_7ea5_11ea_8470_251223b34593row1_col16 {\n",
              "            font-size:  6pt;\n",
              "            background-color:  #ffffff;\n",
              "            color:  #000000;\n",
              "        }    #T_5949cb40_7ea5_11ea_8470_251223b34593row1_col17 {\n",
              "            font-size:  6pt;\n",
              "            background-color:  #ffffff;\n",
              "            color:  #000000;\n",
              "        }    #T_5949cb40_7ea5_11ea_8470_251223b34593row2_col0 {\n",
              "            font-size:  6pt;\n",
              "            background-color:  #ffffff;\n",
              "            color:  #000000;\n",
              "        }    #T_5949cb40_7ea5_11ea_8470_251223b34593row2_col1 {\n",
              "            font-size:  6pt;\n",
              "            background-color:  #ffffff;\n",
              "            color:  #000000;\n",
              "        }    #T_5949cb40_7ea5_11ea_8470_251223b34593row2_col2 {\n",
              "            font-size:  6pt;\n",
              "            background-color:  #ffffff;\n",
              "            color:  #000000;\n",
              "        }    #T_5949cb40_7ea5_11ea_8470_251223b34593row2_col3 {\n",
              "            font-size:  6pt;\n",
              "            background-color:  #e4e4e4;\n",
              "            color:  #000000;\n",
              "        }    #T_5949cb40_7ea5_11ea_8470_251223b34593row2_col4 {\n",
              "            font-size:  6pt;\n",
              "            background-color:  #6b6b6b;\n",
              "            color:  #000000;\n",
              "        }    #T_5949cb40_7ea5_11ea_8470_251223b34593row2_col5 {\n",
              "            font-size:  6pt;\n",
              "            background-color:  #000000;\n",
              "            color:  #f1f1f1;\n",
              "        }    #T_5949cb40_7ea5_11ea_8470_251223b34593row2_col6 {\n",
              "            font-size:  6pt;\n",
              "            background-color:  #000000;\n",
              "            color:  #f1f1f1;\n",
              "        }    #T_5949cb40_7ea5_11ea_8470_251223b34593row2_col7 {\n",
              "            font-size:  6pt;\n",
              "            background-color:  #000000;\n",
              "            color:  #f1f1f1;\n",
              "        }    #T_5949cb40_7ea5_11ea_8470_251223b34593row2_col8 {\n",
              "            font-size:  6pt;\n",
              "            background-color:  #171717;\n",
              "            color:  #f1f1f1;\n",
              "        }    #T_5949cb40_7ea5_11ea_8470_251223b34593row2_col9 {\n",
              "            font-size:  6pt;\n",
              "            background-color:  #4b4b4b;\n",
              "            color:  #f1f1f1;\n",
              "        }    #T_5949cb40_7ea5_11ea_8470_251223b34593row2_col10 {\n",
              "            font-size:  6pt;\n",
              "            background-color:  #010101;\n",
              "            color:  #f1f1f1;\n",
              "        }    #T_5949cb40_7ea5_11ea_8470_251223b34593row2_col11 {\n",
              "            font-size:  6pt;\n",
              "            background-color:  #000000;\n",
              "            color:  #f1f1f1;\n",
              "        }    #T_5949cb40_7ea5_11ea_8470_251223b34593row2_col12 {\n",
              "            font-size:  6pt;\n",
              "            background-color:  #000000;\n",
              "            color:  #f1f1f1;\n",
              "        }    #T_5949cb40_7ea5_11ea_8470_251223b34593row2_col13 {\n",
              "            font-size:  6pt;\n",
              "            background-color:  #000000;\n",
              "            color:  #f1f1f1;\n",
              "        }    #T_5949cb40_7ea5_11ea_8470_251223b34593row2_col14 {\n",
              "            font-size:  6pt;\n",
              "            background-color:  #171717;\n",
              "            color:  #f1f1f1;\n",
              "        }    #T_5949cb40_7ea5_11ea_8470_251223b34593row2_col15 {\n",
              "            font-size:  6pt;\n",
              "            background-color:  #ffffff;\n",
              "            color:  #000000;\n",
              "        }    #T_5949cb40_7ea5_11ea_8470_251223b34593row2_col16 {\n",
              "            font-size:  6pt;\n",
              "            background-color:  #ffffff;\n",
              "            color:  #000000;\n",
              "        }    #T_5949cb40_7ea5_11ea_8470_251223b34593row2_col17 {\n",
              "            font-size:  6pt;\n",
              "            background-color:  #ffffff;\n",
              "            color:  #000000;\n",
              "        }    #T_5949cb40_7ea5_11ea_8470_251223b34593row3_col0 {\n",
              "            font-size:  6pt;\n",
              "            background-color:  #ffffff;\n",
              "            color:  #000000;\n",
              "        }    #T_5949cb40_7ea5_11ea_8470_251223b34593row3_col1 {\n",
              "            font-size:  6pt;\n",
              "            background-color:  #272727;\n",
              "            color:  #f1f1f1;\n",
              "        }    #T_5949cb40_7ea5_11ea_8470_251223b34593row3_col2 {\n",
              "            font-size:  6pt;\n",
              "            background-color:  #0a0a0a;\n",
              "            color:  #f1f1f1;\n",
              "        }    #T_5949cb40_7ea5_11ea_8470_251223b34593row3_col3 {\n",
              "            font-size:  6pt;\n",
              "            background-color:  #050505;\n",
              "            color:  #f1f1f1;\n",
              "        }    #T_5949cb40_7ea5_11ea_8470_251223b34593row3_col4 {\n",
              "            font-size:  6pt;\n",
              "            background-color:  #000000;\n",
              "            color:  #f1f1f1;\n",
              "        }    #T_5949cb40_7ea5_11ea_8470_251223b34593row3_col5 {\n",
              "            font-size:  6pt;\n",
              "            background-color:  #333333;\n",
              "            color:  #f1f1f1;\n",
              "        }    #T_5949cb40_7ea5_11ea_8470_251223b34593row3_col6 {\n",
              "            font-size:  6pt;\n",
              "            background-color:  #e6e6e6;\n",
              "            color:  #000000;\n",
              "        }    #T_5949cb40_7ea5_11ea_8470_251223b34593row3_col7 {\n",
              "            font-size:  6pt;\n",
              "            background-color:  #fafafa;\n",
              "            color:  #000000;\n",
              "        }    #T_5949cb40_7ea5_11ea_8470_251223b34593row3_col8 {\n",
              "            font-size:  6pt;\n",
              "            background-color:  #fbfbfb;\n",
              "            color:  #000000;\n",
              "        }    #T_5949cb40_7ea5_11ea_8470_251223b34593row3_col9 {\n",
              "            font-size:  6pt;\n",
              "            background-color:  #fdfdfd;\n",
              "            color:  #000000;\n",
              "        }    #T_5949cb40_7ea5_11ea_8470_251223b34593row3_col10 {\n",
              "            font-size:  6pt;\n",
              "            background-color:  #fafafa;\n",
              "            color:  #000000;\n",
              "        }    #T_5949cb40_7ea5_11ea_8470_251223b34593row3_col11 {\n",
              "            font-size:  6pt;\n",
              "            background-color:  #4b4b4b;\n",
              "            color:  #f1f1f1;\n",
              "        }    #T_5949cb40_7ea5_11ea_8470_251223b34593row3_col12 {\n",
              "            font-size:  6pt;\n",
              "            background-color:  #000000;\n",
              "            color:  #f1f1f1;\n",
              "        }    #T_5949cb40_7ea5_11ea_8470_251223b34593row3_col13 {\n",
              "            font-size:  6pt;\n",
              "            background-color:  #000000;\n",
              "            color:  #f1f1f1;\n",
              "        }    #T_5949cb40_7ea5_11ea_8470_251223b34593row3_col14 {\n",
              "            font-size:  6pt;\n",
              "            background-color:  #171717;\n",
              "            color:  #f1f1f1;\n",
              "        }    #T_5949cb40_7ea5_11ea_8470_251223b34593row3_col15 {\n",
              "            font-size:  6pt;\n",
              "            background-color:  #ffffff;\n",
              "            color:  #000000;\n",
              "        }    #T_5949cb40_7ea5_11ea_8470_251223b34593row3_col16 {\n",
              "            font-size:  6pt;\n",
              "            background-color:  #ffffff;\n",
              "            color:  #000000;\n",
              "        }    #T_5949cb40_7ea5_11ea_8470_251223b34593row3_col17 {\n",
              "            font-size:  6pt;\n",
              "            background-color:  #ffffff;\n",
              "            color:  #000000;\n",
              "        }    #T_5949cb40_7ea5_11ea_8470_251223b34593row4_col0 {\n",
              "            font-size:  6pt;\n",
              "            background-color:  #ffffff;\n",
              "            color:  #000000;\n",
              "        }    #T_5949cb40_7ea5_11ea_8470_251223b34593row4_col1 {\n",
              "            font-size:  6pt;\n",
              "            background-color:  #000000;\n",
              "            color:  #f1f1f1;\n",
              "        }    #T_5949cb40_7ea5_11ea_8470_251223b34593row4_col2 {\n",
              "            font-size:  6pt;\n",
              "            background-color:  #000000;\n",
              "            color:  #f1f1f1;\n",
              "        }    #T_5949cb40_7ea5_11ea_8470_251223b34593row4_col3 {\n",
              "            font-size:  6pt;\n",
              "            background-color:  #000000;\n",
              "            color:  #f1f1f1;\n",
              "        }    #T_5949cb40_7ea5_11ea_8470_251223b34593row4_col4 {\n",
              "            font-size:  6pt;\n",
              "            background-color:  #1b1b1b;\n",
              "            color:  #f1f1f1;\n",
              "        }    #T_5949cb40_7ea5_11ea_8470_251223b34593row4_col5 {\n",
              "            font-size:  6pt;\n",
              "            background-color:  #e0e0e0;\n",
              "            color:  #000000;\n",
              "        }    #T_5949cb40_7ea5_11ea_8470_251223b34593row4_col6 {\n",
              "            font-size:  6pt;\n",
              "            background-color:  #ffffff;\n",
              "            color:  #000000;\n",
              "        }    #T_5949cb40_7ea5_11ea_8470_251223b34593row4_col7 {\n",
              "            font-size:  6pt;\n",
              "            background-color:  #ffffff;\n",
              "            color:  #000000;\n",
              "        }    #T_5949cb40_7ea5_11ea_8470_251223b34593row4_col8 {\n",
              "            font-size:  6pt;\n",
              "            background-color:  #ffffff;\n",
              "            color:  #000000;\n",
              "        }    #T_5949cb40_7ea5_11ea_8470_251223b34593row4_col9 {\n",
              "            font-size:  6pt;\n",
              "            background-color:  #ffffff;\n",
              "            color:  #000000;\n",
              "        }    #T_5949cb40_7ea5_11ea_8470_251223b34593row4_col10 {\n",
              "            font-size:  6pt;\n",
              "            background-color:  #ffffff;\n",
              "            color:  #000000;\n",
              "        }    #T_5949cb40_7ea5_11ea_8470_251223b34593row4_col11 {\n",
              "            font-size:  6pt;\n",
              "            background-color:  #4e4e4e;\n",
              "            color:  #f1f1f1;\n",
              "        }    #T_5949cb40_7ea5_11ea_8470_251223b34593row4_col12 {\n",
              "            font-size:  6pt;\n",
              "            background-color:  #000000;\n",
              "            color:  #f1f1f1;\n",
              "        }    #T_5949cb40_7ea5_11ea_8470_251223b34593row4_col13 {\n",
              "            font-size:  6pt;\n",
              "            background-color:  #000000;\n",
              "            color:  #f1f1f1;\n",
              "        }    #T_5949cb40_7ea5_11ea_8470_251223b34593row4_col14 {\n",
              "            font-size:  6pt;\n",
              "            background-color:  #767676;\n",
              "            color:  #000000;\n",
              "        }    #T_5949cb40_7ea5_11ea_8470_251223b34593row4_col15 {\n",
              "            font-size:  6pt;\n",
              "            background-color:  #ffffff;\n",
              "            color:  #000000;\n",
              "        }    #T_5949cb40_7ea5_11ea_8470_251223b34593row4_col16 {\n",
              "            font-size:  6pt;\n",
              "            background-color:  #ffffff;\n",
              "            color:  #000000;\n",
              "        }    #T_5949cb40_7ea5_11ea_8470_251223b34593row4_col17 {\n",
              "            font-size:  6pt;\n",
              "            background-color:  #ffffff;\n",
              "            color:  #000000;\n",
              "        }    #T_5949cb40_7ea5_11ea_8470_251223b34593row5_col0 {\n",
              "            font-size:  6pt;\n",
              "            background-color:  #ffffff;\n",
              "            color:  #000000;\n",
              "        }    #T_5949cb40_7ea5_11ea_8470_251223b34593row5_col1 {\n",
              "            font-size:  6pt;\n",
              "            background-color:  #fcfcfc;\n",
              "            color:  #000000;\n",
              "        }    #T_5949cb40_7ea5_11ea_8470_251223b34593row5_col2 {\n",
              "            font-size:  6pt;\n",
              "            background-color:  #f6f6f6;\n",
              "            color:  #000000;\n",
              "        }    #T_5949cb40_7ea5_11ea_8470_251223b34593row5_col3 {\n",
              "            font-size:  6pt;\n",
              "            background-color:  #f6f6f6;\n",
              "            color:  #000000;\n",
              "        }    #T_5949cb40_7ea5_11ea_8470_251223b34593row5_col4 {\n",
              "            font-size:  6pt;\n",
              "            background-color:  #f8f8f8;\n",
              "            color:  #000000;\n",
              "        }    #T_5949cb40_7ea5_11ea_8470_251223b34593row5_col5 {\n",
              "            font-size:  6pt;\n",
              "            background-color:  #ffffff;\n",
              "            color:  #000000;\n",
              "        }    #T_5949cb40_7ea5_11ea_8470_251223b34593row5_col6 {\n",
              "            font-size:  6pt;\n",
              "            background-color:  #ffffff;\n",
              "            color:  #000000;\n",
              "        }    #T_5949cb40_7ea5_11ea_8470_251223b34593row5_col7 {\n",
              "            font-size:  6pt;\n",
              "            background-color:  #ffffff;\n",
              "            color:  #000000;\n",
              "        }    #T_5949cb40_7ea5_11ea_8470_251223b34593row5_col8 {\n",
              "            font-size:  6pt;\n",
              "            background-color:  #ffffff;\n",
              "            color:  #000000;\n",
              "        }    #T_5949cb40_7ea5_11ea_8470_251223b34593row5_col9 {\n",
              "            font-size:  6pt;\n",
              "            background-color:  #ffffff;\n",
              "            color:  #000000;\n",
              "        }    #T_5949cb40_7ea5_11ea_8470_251223b34593row5_col10 {\n",
              "            font-size:  6pt;\n",
              "            background-color:  #e8e8e8;\n",
              "            color:  #000000;\n",
              "        }    #T_5949cb40_7ea5_11ea_8470_251223b34593row5_col11 {\n",
              "            font-size:  6pt;\n",
              "            background-color:  #222222;\n",
              "            color:  #f1f1f1;\n",
              "        }    #T_5949cb40_7ea5_11ea_8470_251223b34593row5_col12 {\n",
              "            font-size:  6pt;\n",
              "            background-color:  #000000;\n",
              "            color:  #f1f1f1;\n",
              "        }    #T_5949cb40_7ea5_11ea_8470_251223b34593row5_col13 {\n",
              "            font-size:  6pt;\n",
              "            background-color:  #090909;\n",
              "            color:  #f1f1f1;\n",
              "        }    #T_5949cb40_7ea5_11ea_8470_251223b34593row5_col14 {\n",
              "            font-size:  6pt;\n",
              "            background-color:  #d0d0d0;\n",
              "            color:  #000000;\n",
              "        }    #T_5949cb40_7ea5_11ea_8470_251223b34593row5_col15 {\n",
              "            font-size:  6pt;\n",
              "            background-color:  #ffffff;\n",
              "            color:  #000000;\n",
              "        }    #T_5949cb40_7ea5_11ea_8470_251223b34593row5_col16 {\n",
              "            font-size:  6pt;\n",
              "            background-color:  #ffffff;\n",
              "            color:  #000000;\n",
              "        }    #T_5949cb40_7ea5_11ea_8470_251223b34593row5_col17 {\n",
              "            font-size:  6pt;\n",
              "            background-color:  #ffffff;\n",
              "            color:  #000000;\n",
              "        }    #T_5949cb40_7ea5_11ea_8470_251223b34593row6_col0 {\n",
              "            font-size:  6pt;\n",
              "            background-color:  #ffffff;\n",
              "            color:  #000000;\n",
              "        }    #T_5949cb40_7ea5_11ea_8470_251223b34593row6_col1 {\n",
              "            font-size:  6pt;\n",
              "            background-color:  #ffffff;\n",
              "            color:  #000000;\n",
              "        }    #T_5949cb40_7ea5_11ea_8470_251223b34593row6_col2 {\n",
              "            font-size:  6pt;\n",
              "            background-color:  #ffffff;\n",
              "            color:  #000000;\n",
              "        }    #T_5949cb40_7ea5_11ea_8470_251223b34593row6_col3 {\n",
              "            font-size:  6pt;\n",
              "            background-color:  #ffffff;\n",
              "            color:  #000000;\n",
              "        }    #T_5949cb40_7ea5_11ea_8470_251223b34593row6_col4 {\n",
              "            font-size:  6pt;\n",
              "            background-color:  #ffffff;\n",
              "            color:  #000000;\n",
              "        }    #T_5949cb40_7ea5_11ea_8470_251223b34593row6_col5 {\n",
              "            font-size:  6pt;\n",
              "            background-color:  #ffffff;\n",
              "            color:  #000000;\n",
              "        }    #T_5949cb40_7ea5_11ea_8470_251223b34593row6_col6 {\n",
              "            font-size:  6pt;\n",
              "            background-color:  #ffffff;\n",
              "            color:  #000000;\n",
              "        }    #T_5949cb40_7ea5_11ea_8470_251223b34593row6_col7 {\n",
              "            font-size:  6pt;\n",
              "            background-color:  #ffffff;\n",
              "            color:  #000000;\n",
              "        }    #T_5949cb40_7ea5_11ea_8470_251223b34593row6_col8 {\n",
              "            font-size:  6pt;\n",
              "            background-color:  #ffffff;\n",
              "            color:  #000000;\n",
              "        }    #T_5949cb40_7ea5_11ea_8470_251223b34593row6_col9 {\n",
              "            font-size:  6pt;\n",
              "            background-color:  #ffffff;\n",
              "            color:  #000000;\n",
              "        }    #T_5949cb40_7ea5_11ea_8470_251223b34593row6_col10 {\n",
              "            font-size:  6pt;\n",
              "            background-color:  #060606;\n",
              "            color:  #f1f1f1;\n",
              "        }    #T_5949cb40_7ea5_11ea_8470_251223b34593row6_col11 {\n",
              "            font-size:  6pt;\n",
              "            background-color:  #000000;\n",
              "            color:  #f1f1f1;\n",
              "        }    #T_5949cb40_7ea5_11ea_8470_251223b34593row6_col12 {\n",
              "            font-size:  6pt;\n",
              "            background-color:  #090909;\n",
              "            color:  #f1f1f1;\n",
              "        }    #T_5949cb40_7ea5_11ea_8470_251223b34593row6_col13 {\n",
              "            font-size:  6pt;\n",
              "            background-color:  #979797;\n",
              "            color:  #000000;\n",
              "        }    #T_5949cb40_7ea5_11ea_8470_251223b34593row6_col14 {\n",
              "            font-size:  6pt;\n",
              "            background-color:  #ffffff;\n",
              "            color:  #000000;\n",
              "        }    #T_5949cb40_7ea5_11ea_8470_251223b34593row6_col15 {\n",
              "            font-size:  6pt;\n",
              "            background-color:  #ffffff;\n",
              "            color:  #000000;\n",
              "        }    #T_5949cb40_7ea5_11ea_8470_251223b34593row6_col16 {\n",
              "            font-size:  6pt;\n",
              "            background-color:  #ffffff;\n",
              "            color:  #000000;\n",
              "        }    #T_5949cb40_7ea5_11ea_8470_251223b34593row6_col17 {\n",
              "            font-size:  6pt;\n",
              "            background-color:  #ffffff;\n",
              "            color:  #000000;\n",
              "        }    #T_5949cb40_7ea5_11ea_8470_251223b34593row7_col0 {\n",
              "            font-size:  6pt;\n",
              "            background-color:  #ffffff;\n",
              "            color:  #000000;\n",
              "        }    #T_5949cb40_7ea5_11ea_8470_251223b34593row7_col1 {\n",
              "            font-size:  6pt;\n",
              "            background-color:  #ffffff;\n",
              "            color:  #000000;\n",
              "        }    #T_5949cb40_7ea5_11ea_8470_251223b34593row7_col2 {\n",
              "            font-size:  6pt;\n",
              "            background-color:  #ffffff;\n",
              "            color:  #000000;\n",
              "        }    #T_5949cb40_7ea5_11ea_8470_251223b34593row7_col3 {\n",
              "            font-size:  6pt;\n",
              "            background-color:  #ffffff;\n",
              "            color:  #000000;\n",
              "        }    #T_5949cb40_7ea5_11ea_8470_251223b34593row7_col4 {\n",
              "            font-size:  6pt;\n",
              "            background-color:  #ffffff;\n",
              "            color:  #000000;\n",
              "        }    #T_5949cb40_7ea5_11ea_8470_251223b34593row7_col5 {\n",
              "            font-size:  6pt;\n",
              "            background-color:  #ffffff;\n",
              "            color:  #000000;\n",
              "        }    #T_5949cb40_7ea5_11ea_8470_251223b34593row7_col6 {\n",
              "            font-size:  6pt;\n",
              "            background-color:  #ffffff;\n",
              "            color:  #000000;\n",
              "        }    #T_5949cb40_7ea5_11ea_8470_251223b34593row7_col7 {\n",
              "            font-size:  6pt;\n",
              "            background-color:  #f8f8f8;\n",
              "            color:  #000000;\n",
              "        }    #T_5949cb40_7ea5_11ea_8470_251223b34593row7_col8 {\n",
              "            font-size:  6pt;\n",
              "            background-color:  #b6b6b6;\n",
              "            color:  #000000;\n",
              "        }    #T_5949cb40_7ea5_11ea_8470_251223b34593row7_col9 {\n",
              "            font-size:  6pt;\n",
              "            background-color:  #252525;\n",
              "            color:  #f1f1f1;\n",
              "        }    #T_5949cb40_7ea5_11ea_8470_251223b34593row7_col10 {\n",
              "            font-size:  6pt;\n",
              "            background-color:  #010101;\n",
              "            color:  #f1f1f1;\n",
              "        }    #T_5949cb40_7ea5_11ea_8470_251223b34593row7_col11 {\n",
              "            font-size:  6pt;\n",
              "            background-color:  #060606;\n",
              "            color:  #f1f1f1;\n",
              "        }    #T_5949cb40_7ea5_11ea_8470_251223b34593row7_col12 {\n",
              "            font-size:  6pt;\n",
              "            background-color:  #999999;\n",
              "            color:  #000000;\n",
              "        }    #T_5949cb40_7ea5_11ea_8470_251223b34593row7_col13 {\n",
              "            font-size:  6pt;\n",
              "            background-color:  #ffffff;\n",
              "            color:  #000000;\n",
              "        }    #T_5949cb40_7ea5_11ea_8470_251223b34593row7_col14 {\n",
              "            font-size:  6pt;\n",
              "            background-color:  #ffffff;\n",
              "            color:  #000000;\n",
              "        }    #T_5949cb40_7ea5_11ea_8470_251223b34593row7_col15 {\n",
              "            font-size:  6pt;\n",
              "            background-color:  #ffffff;\n",
              "            color:  #000000;\n",
              "        }    #T_5949cb40_7ea5_11ea_8470_251223b34593row7_col16 {\n",
              "            font-size:  6pt;\n",
              "            background-color:  #ffffff;\n",
              "            color:  #000000;\n",
              "        }    #T_5949cb40_7ea5_11ea_8470_251223b34593row7_col17 {\n",
              "            font-size:  6pt;\n",
              "            background-color:  #ffffff;\n",
              "            color:  #000000;\n",
              "        }    #T_5949cb40_7ea5_11ea_8470_251223b34593row8_col0 {\n",
              "            font-size:  6pt;\n",
              "            background-color:  #ffffff;\n",
              "            color:  #000000;\n",
              "        }    #T_5949cb40_7ea5_11ea_8470_251223b34593row8_col1 {\n",
              "            font-size:  6pt;\n",
              "            background-color:  #ffffff;\n",
              "            color:  #000000;\n",
              "        }    #T_5949cb40_7ea5_11ea_8470_251223b34593row8_col2 {\n",
              "            font-size:  6pt;\n",
              "            background-color:  #ffffff;\n",
              "            color:  #000000;\n",
              "        }    #T_5949cb40_7ea5_11ea_8470_251223b34593row8_col3 {\n",
              "            font-size:  6pt;\n",
              "            background-color:  #ffffff;\n",
              "            color:  #000000;\n",
              "        }    #T_5949cb40_7ea5_11ea_8470_251223b34593row8_col4 {\n",
              "            font-size:  6pt;\n",
              "            background-color:  #ffffff;\n",
              "            color:  #000000;\n",
              "        }    #T_5949cb40_7ea5_11ea_8470_251223b34593row8_col5 {\n",
              "            font-size:  6pt;\n",
              "            background-color:  #f9f9f9;\n",
              "            color:  #000000;\n",
              "        }    #T_5949cb40_7ea5_11ea_8470_251223b34593row8_col6 {\n",
              "            font-size:  6pt;\n",
              "            background-color:  #6b6b6b;\n",
              "            color:  #000000;\n",
              "        }    #T_5949cb40_7ea5_11ea_8470_251223b34593row8_col7 {\n",
              "            font-size:  6pt;\n",
              "            background-color:  #101010;\n",
              "            color:  #f1f1f1;\n",
              "        }    #T_5949cb40_7ea5_11ea_8470_251223b34593row8_col8 {\n",
              "            font-size:  6pt;\n",
              "            background-color:  #010101;\n",
              "            color:  #f1f1f1;\n",
              "        }    #T_5949cb40_7ea5_11ea_8470_251223b34593row8_col9 {\n",
              "            font-size:  6pt;\n",
              "            background-color:  #020202;\n",
              "            color:  #f1f1f1;\n",
              "        }    #T_5949cb40_7ea5_11ea_8470_251223b34593row8_col10 {\n",
              "            font-size:  6pt;\n",
              "            background-color:  #010101;\n",
              "            color:  #f1f1f1;\n",
              "        }    #T_5949cb40_7ea5_11ea_8470_251223b34593row8_col11 {\n",
              "            font-size:  6pt;\n",
              "            background-color:  #545454;\n",
              "            color:  #f1f1f1;\n",
              "        }    #T_5949cb40_7ea5_11ea_8470_251223b34593row8_col12 {\n",
              "            font-size:  6pt;\n",
              "            background-color:  #f1f1f1;\n",
              "            color:  #000000;\n",
              "        }    #T_5949cb40_7ea5_11ea_8470_251223b34593row8_col13 {\n",
              "            font-size:  6pt;\n",
              "            background-color:  #ffffff;\n",
              "            color:  #000000;\n",
              "        }    #T_5949cb40_7ea5_11ea_8470_251223b34593row8_col14 {\n",
              "            font-size:  6pt;\n",
              "            background-color:  #ffffff;\n",
              "            color:  #000000;\n",
              "        }    #T_5949cb40_7ea5_11ea_8470_251223b34593row8_col15 {\n",
              "            font-size:  6pt;\n",
              "            background-color:  #ffffff;\n",
              "            color:  #000000;\n",
              "        }    #T_5949cb40_7ea5_11ea_8470_251223b34593row8_col16 {\n",
              "            font-size:  6pt;\n",
              "            background-color:  #ffffff;\n",
              "            color:  #000000;\n",
              "        }    #T_5949cb40_7ea5_11ea_8470_251223b34593row8_col17 {\n",
              "            font-size:  6pt;\n",
              "            background-color:  #ffffff;\n",
              "            color:  #000000;\n",
              "        }    #T_5949cb40_7ea5_11ea_8470_251223b34593row9_col0 {\n",
              "            font-size:  6pt;\n",
              "            background-color:  #ffffff;\n",
              "            color:  #000000;\n",
              "        }    #T_5949cb40_7ea5_11ea_8470_251223b34593row9_col1 {\n",
              "            font-size:  6pt;\n",
              "            background-color:  #ffffff;\n",
              "            color:  #000000;\n",
              "        }    #T_5949cb40_7ea5_11ea_8470_251223b34593row9_col2 {\n",
              "            font-size:  6pt;\n",
              "            background-color:  #ffffff;\n",
              "            color:  #000000;\n",
              "        }    #T_5949cb40_7ea5_11ea_8470_251223b34593row9_col3 {\n",
              "            font-size:  6pt;\n",
              "            background-color:  #ffffff;\n",
              "            color:  #000000;\n",
              "        }    #T_5949cb40_7ea5_11ea_8470_251223b34593row9_col4 {\n",
              "            font-size:  6pt;\n",
              "            background-color:  #ffffff;\n",
              "            color:  #000000;\n",
              "        }    #T_5949cb40_7ea5_11ea_8470_251223b34593row9_col5 {\n",
              "            font-size:  6pt;\n",
              "            background-color:  #f7f7f7;\n",
              "            color:  #000000;\n",
              "        }    #T_5949cb40_7ea5_11ea_8470_251223b34593row9_col6 {\n",
              "            font-size:  6pt;\n",
              "            background-color:  #060606;\n",
              "            color:  #f1f1f1;\n",
              "        }    #T_5949cb40_7ea5_11ea_8470_251223b34593row9_col7 {\n",
              "            font-size:  6pt;\n",
              "            background-color:  #030303;\n",
              "            color:  #f1f1f1;\n",
              "        }    #T_5949cb40_7ea5_11ea_8470_251223b34593row9_col8 {\n",
              "            font-size:  6pt;\n",
              "            background-color:  #010101;\n",
              "            color:  #f1f1f1;\n",
              "        }    #T_5949cb40_7ea5_11ea_8470_251223b34593row9_col9 {\n",
              "            font-size:  6pt;\n",
              "            background-color:  #020202;\n",
              "            color:  #f1f1f1;\n",
              "        }    #T_5949cb40_7ea5_11ea_8470_251223b34593row9_col10 {\n",
              "            font-size:  6pt;\n",
              "            background-color:  #010101;\n",
              "            color:  #f1f1f1;\n",
              "        }    #T_5949cb40_7ea5_11ea_8470_251223b34593row9_col11 {\n",
              "            font-size:  6pt;\n",
              "            background-color:  #000000;\n",
              "            color:  #f1f1f1;\n",
              "        }    #T_5949cb40_7ea5_11ea_8470_251223b34593row9_col12 {\n",
              "            font-size:  6pt;\n",
              "            background-color:  #181818;\n",
              "            color:  #f1f1f1;\n",
              "        }    #T_5949cb40_7ea5_11ea_8470_251223b34593row9_col13 {\n",
              "            font-size:  6pt;\n",
              "            background-color:  #303030;\n",
              "            color:  #f1f1f1;\n",
              "        }    #T_5949cb40_7ea5_11ea_8470_251223b34593row9_col14 {\n",
              "            font-size:  6pt;\n",
              "            background-color:  #a9a9a9;\n",
              "            color:  #000000;\n",
              "        }    #T_5949cb40_7ea5_11ea_8470_251223b34593row9_col15 {\n",
              "            font-size:  6pt;\n",
              "            background-color:  #fefefe;\n",
              "            color:  #000000;\n",
              "        }    #T_5949cb40_7ea5_11ea_8470_251223b34593row9_col16 {\n",
              "            font-size:  6pt;\n",
              "            background-color:  #ffffff;\n",
              "            color:  #000000;\n",
              "        }    #T_5949cb40_7ea5_11ea_8470_251223b34593row9_col17 {\n",
              "            font-size:  6pt;\n",
              "            background-color:  #ffffff;\n",
              "            color:  #000000;\n",
              "        }    #T_5949cb40_7ea5_11ea_8470_251223b34593row10_col0 {\n",
              "            font-size:  6pt;\n",
              "            background-color:  #ffffff;\n",
              "            color:  #000000;\n",
              "        }    #T_5949cb40_7ea5_11ea_8470_251223b34593row10_col1 {\n",
              "            font-size:  6pt;\n",
              "            background-color:  #ffffff;\n",
              "            color:  #000000;\n",
              "        }    #T_5949cb40_7ea5_11ea_8470_251223b34593row10_col2 {\n",
              "            font-size:  6pt;\n",
              "            background-color:  #ffffff;\n",
              "            color:  #000000;\n",
              "        }    #T_5949cb40_7ea5_11ea_8470_251223b34593row10_col3 {\n",
              "            font-size:  6pt;\n",
              "            background-color:  #ffffff;\n",
              "            color:  #000000;\n",
              "        }    #T_5949cb40_7ea5_11ea_8470_251223b34593row10_col4 {\n",
              "            font-size:  6pt;\n",
              "            background-color:  #ffffff;\n",
              "            color:  #000000;\n",
              "        }    #T_5949cb40_7ea5_11ea_8470_251223b34593row10_col5 {\n",
              "            font-size:  6pt;\n",
              "            background-color:  #ffffff;\n",
              "            color:  #000000;\n",
              "        }    #T_5949cb40_7ea5_11ea_8470_251223b34593row10_col6 {\n",
              "            font-size:  6pt;\n",
              "            background-color:  #ffffff;\n",
              "            color:  #000000;\n",
              "        }    #T_5949cb40_7ea5_11ea_8470_251223b34593row10_col7 {\n",
              "            font-size:  6pt;\n",
              "            background-color:  #e8e8e8;\n",
              "            color:  #000000;\n",
              "        }    #T_5949cb40_7ea5_11ea_8470_251223b34593row10_col8 {\n",
              "            font-size:  6pt;\n",
              "            background-color:  #bababa;\n",
              "            color:  #000000;\n",
              "        }    #T_5949cb40_7ea5_11ea_8470_251223b34593row10_col9 {\n",
              "            font-size:  6pt;\n",
              "            background-color:  #bababa;\n",
              "            color:  #000000;\n",
              "        }    #T_5949cb40_7ea5_11ea_8470_251223b34593row10_col10 {\n",
              "            font-size:  6pt;\n",
              "            background-color:  #393939;\n",
              "            color:  #f1f1f1;\n",
              "        }    #T_5949cb40_7ea5_11ea_8470_251223b34593row10_col11 {\n",
              "            font-size:  6pt;\n",
              "            background-color:  #000000;\n",
              "            color:  #f1f1f1;\n",
              "        }    #T_5949cb40_7ea5_11ea_8470_251223b34593row10_col12 {\n",
              "            font-size:  6pt;\n",
              "            background-color:  #000000;\n",
              "            color:  #f1f1f1;\n",
              "        }    #T_5949cb40_7ea5_11ea_8470_251223b34593row10_col13 {\n",
              "            font-size:  6pt;\n",
              "            background-color:  #000000;\n",
              "            color:  #f1f1f1;\n",
              "        }    #T_5949cb40_7ea5_11ea_8470_251223b34593row10_col14 {\n",
              "            font-size:  6pt;\n",
              "            background-color:  #000000;\n",
              "            color:  #f1f1f1;\n",
              "        }    #T_5949cb40_7ea5_11ea_8470_251223b34593row10_col15 {\n",
              "            font-size:  6pt;\n",
              "            background-color:  #000000;\n",
              "            color:  #f1f1f1;\n",
              "        }    #T_5949cb40_7ea5_11ea_8470_251223b34593row10_col16 {\n",
              "            font-size:  6pt;\n",
              "            background-color:  #000000;\n",
              "            color:  #f1f1f1;\n",
              "        }    #T_5949cb40_7ea5_11ea_8470_251223b34593row10_col17 {\n",
              "            font-size:  6pt;\n",
              "            background-color:  #ffffff;\n",
              "            color:  #000000;\n",
              "        }</style><table id=\"T_5949cb40_7ea5_11ea_8470_251223b34593\" ><thead>    <tr>        <th class=\"blank level0\" ></th>        <th class=\"col_heading level0 col0\" >0</th>        <th class=\"col_heading level0 col1\" >1</th>        <th class=\"col_heading level0 col2\" >2</th>        <th class=\"col_heading level0 col3\" >3</th>        <th class=\"col_heading level0 col4\" >4</th>        <th class=\"col_heading level0 col5\" >5</th>        <th class=\"col_heading level0 col6\" >6</th>        <th class=\"col_heading level0 col7\" >7</th>        <th class=\"col_heading level0 col8\" >8</th>        <th class=\"col_heading level0 col9\" >9</th>        <th class=\"col_heading level0 col10\" >10</th>        <th class=\"col_heading level0 col11\" >11</th>        <th class=\"col_heading level0 col12\" >12</th>        <th class=\"col_heading level0 col13\" >13</th>        <th class=\"col_heading level0 col14\" >14</th>        <th class=\"col_heading level0 col15\" >15</th>        <th class=\"col_heading level0 col16\" >16</th>        <th class=\"col_heading level0 col17\" >17</th>    </tr></thead><tbody>\n",
              "                <tr>\n",
              "                        <th id=\"T_5949cb40_7ea5_11ea_8470_251223b34593level0_row0\" class=\"row_heading level0 row0\" >0</th>\n",
              "                        <td id=\"T_5949cb40_7ea5_11ea_8470_251223b34593row0_col0\" class=\"data row0 col0\" >0</td>\n",
              "                        <td id=\"T_5949cb40_7ea5_11ea_8470_251223b34593row0_col1\" class=\"data row0 col1\" >0</td>\n",
              "                        <td id=\"T_5949cb40_7ea5_11ea_8470_251223b34593row0_col2\" class=\"data row0 col2\" >0</td>\n",
              "                        <td id=\"T_5949cb40_7ea5_11ea_8470_251223b34593row0_col3\" class=\"data row0 col3\" >0</td>\n",
              "                        <td id=\"T_5949cb40_7ea5_11ea_8470_251223b34593row0_col4\" class=\"data row0 col4\" >0</td>\n",
              "                        <td id=\"T_5949cb40_7ea5_11ea_8470_251223b34593row0_col5\" class=\"data row0 col5\" >0</td>\n",
              "                        <td id=\"T_5949cb40_7ea5_11ea_8470_251223b34593row0_col6\" class=\"data row0 col6\" >0</td>\n",
              "                        <td id=\"T_5949cb40_7ea5_11ea_8470_251223b34593row0_col7\" class=\"data row0 col7\" >0</td>\n",
              "                        <td id=\"T_5949cb40_7ea5_11ea_8470_251223b34593row0_col8\" class=\"data row0 col8\" >0</td>\n",
              "                        <td id=\"T_5949cb40_7ea5_11ea_8470_251223b34593row0_col9\" class=\"data row0 col9\" >0</td>\n",
              "                        <td id=\"T_5949cb40_7ea5_11ea_8470_251223b34593row0_col10\" class=\"data row0 col10\" >0</td>\n",
              "                        <td id=\"T_5949cb40_7ea5_11ea_8470_251223b34593row0_col11\" class=\"data row0 col11\" >0</td>\n",
              "                        <td id=\"T_5949cb40_7ea5_11ea_8470_251223b34593row0_col12\" class=\"data row0 col12\" >0</td>\n",
              "                        <td id=\"T_5949cb40_7ea5_11ea_8470_251223b34593row0_col13\" class=\"data row0 col13\" >0</td>\n",
              "                        <td id=\"T_5949cb40_7ea5_11ea_8470_251223b34593row0_col14\" class=\"data row0 col14\" >0</td>\n",
              "                        <td id=\"T_5949cb40_7ea5_11ea_8470_251223b34593row0_col15\" class=\"data row0 col15\" >0</td>\n",
              "                        <td id=\"T_5949cb40_7ea5_11ea_8470_251223b34593row0_col16\" class=\"data row0 col16\" >0</td>\n",
              "                        <td id=\"T_5949cb40_7ea5_11ea_8470_251223b34593row0_col17\" class=\"data row0 col17\" >0</td>\n",
              "            </tr>\n",
              "            <tr>\n",
              "                        <th id=\"T_5949cb40_7ea5_11ea_8470_251223b34593level0_row1\" class=\"row_heading level0 row1\" >1</th>\n",
              "                        <td id=\"T_5949cb40_7ea5_11ea_8470_251223b34593row1_col0\" class=\"data row1 col0\" >0</td>\n",
              "                        <td id=\"T_5949cb40_7ea5_11ea_8470_251223b34593row1_col1\" class=\"data row1 col1\" >0</td>\n",
              "                        <td id=\"T_5949cb40_7ea5_11ea_8470_251223b34593row1_col2\" class=\"data row1 col2\" >0</td>\n",
              "                        <td id=\"T_5949cb40_7ea5_11ea_8470_251223b34593row1_col3\" class=\"data row1 col3\" >0</td>\n",
              "                        <td id=\"T_5949cb40_7ea5_11ea_8470_251223b34593row1_col4\" class=\"data row1 col4\" >0</td>\n",
              "                        <td id=\"T_5949cb40_7ea5_11ea_8470_251223b34593row1_col5\" class=\"data row1 col5\" >29</td>\n",
              "                        <td id=\"T_5949cb40_7ea5_11ea_8470_251223b34593row1_col6\" class=\"data row1 col6\" >150</td>\n",
              "                        <td id=\"T_5949cb40_7ea5_11ea_8470_251223b34593row1_col7\" class=\"data row1 col7\" >195</td>\n",
              "                        <td id=\"T_5949cb40_7ea5_11ea_8470_251223b34593row1_col8\" class=\"data row1 col8\" >254</td>\n",
              "                        <td id=\"T_5949cb40_7ea5_11ea_8470_251223b34593row1_col9\" class=\"data row1 col9\" >255</td>\n",
              "                        <td id=\"T_5949cb40_7ea5_11ea_8470_251223b34593row1_col10\" class=\"data row1 col10\" >254</td>\n",
              "                        <td id=\"T_5949cb40_7ea5_11ea_8470_251223b34593row1_col11\" class=\"data row1 col11\" >176</td>\n",
              "                        <td id=\"T_5949cb40_7ea5_11ea_8470_251223b34593row1_col12\" class=\"data row1 col12\" >193</td>\n",
              "                        <td id=\"T_5949cb40_7ea5_11ea_8470_251223b34593row1_col13\" class=\"data row1 col13\" >150</td>\n",
              "                        <td id=\"T_5949cb40_7ea5_11ea_8470_251223b34593row1_col14\" class=\"data row1 col14\" >96</td>\n",
              "                        <td id=\"T_5949cb40_7ea5_11ea_8470_251223b34593row1_col15\" class=\"data row1 col15\" >0</td>\n",
              "                        <td id=\"T_5949cb40_7ea5_11ea_8470_251223b34593row1_col16\" class=\"data row1 col16\" >0</td>\n",
              "                        <td id=\"T_5949cb40_7ea5_11ea_8470_251223b34593row1_col17\" class=\"data row1 col17\" >0</td>\n",
              "            </tr>\n",
              "            <tr>\n",
              "                        <th id=\"T_5949cb40_7ea5_11ea_8470_251223b34593level0_row2\" class=\"row_heading level0 row2\" >2</th>\n",
              "                        <td id=\"T_5949cb40_7ea5_11ea_8470_251223b34593row2_col0\" class=\"data row2 col0\" >0</td>\n",
              "                        <td id=\"T_5949cb40_7ea5_11ea_8470_251223b34593row2_col1\" class=\"data row2 col1\" >0</td>\n",
              "                        <td id=\"T_5949cb40_7ea5_11ea_8470_251223b34593row2_col2\" class=\"data row2 col2\" >0</td>\n",
              "                        <td id=\"T_5949cb40_7ea5_11ea_8470_251223b34593row2_col3\" class=\"data row2 col3\" >48</td>\n",
              "                        <td id=\"T_5949cb40_7ea5_11ea_8470_251223b34593row2_col4\" class=\"data row2 col4\" >166</td>\n",
              "                        <td id=\"T_5949cb40_7ea5_11ea_8470_251223b34593row2_col5\" class=\"data row2 col5\" >224</td>\n",
              "                        <td id=\"T_5949cb40_7ea5_11ea_8470_251223b34593row2_col6\" class=\"data row2 col6\" >253</td>\n",
              "                        <td id=\"T_5949cb40_7ea5_11ea_8470_251223b34593row2_col7\" class=\"data row2 col7\" >253</td>\n",
              "                        <td id=\"T_5949cb40_7ea5_11ea_8470_251223b34593row2_col8\" class=\"data row2 col8\" >234</td>\n",
              "                        <td id=\"T_5949cb40_7ea5_11ea_8470_251223b34593row2_col9\" class=\"data row2 col9\" >196</td>\n",
              "                        <td id=\"T_5949cb40_7ea5_11ea_8470_251223b34593row2_col10\" class=\"data row2 col10\" >253</td>\n",
              "                        <td id=\"T_5949cb40_7ea5_11ea_8470_251223b34593row2_col11\" class=\"data row2 col11\" >253</td>\n",
              "                        <td id=\"T_5949cb40_7ea5_11ea_8470_251223b34593row2_col12\" class=\"data row2 col12\" >253</td>\n",
              "                        <td id=\"T_5949cb40_7ea5_11ea_8470_251223b34593row2_col13\" class=\"data row2 col13\" >253</td>\n",
              "                        <td id=\"T_5949cb40_7ea5_11ea_8470_251223b34593row2_col14\" class=\"data row2 col14\" >233</td>\n",
              "                        <td id=\"T_5949cb40_7ea5_11ea_8470_251223b34593row2_col15\" class=\"data row2 col15\" >0</td>\n",
              "                        <td id=\"T_5949cb40_7ea5_11ea_8470_251223b34593row2_col16\" class=\"data row2 col16\" >0</td>\n",
              "                        <td id=\"T_5949cb40_7ea5_11ea_8470_251223b34593row2_col17\" class=\"data row2 col17\" >0</td>\n",
              "            </tr>\n",
              "            <tr>\n",
              "                        <th id=\"T_5949cb40_7ea5_11ea_8470_251223b34593level0_row3\" class=\"row_heading level0 row3\" >3</th>\n",
              "                        <td id=\"T_5949cb40_7ea5_11ea_8470_251223b34593row3_col0\" class=\"data row3 col0\" >0</td>\n",
              "                        <td id=\"T_5949cb40_7ea5_11ea_8470_251223b34593row3_col1\" class=\"data row3 col1\" >93</td>\n",
              "                        <td id=\"T_5949cb40_7ea5_11ea_8470_251223b34593row3_col2\" class=\"data row3 col2\" >244</td>\n",
              "                        <td id=\"T_5949cb40_7ea5_11ea_8470_251223b34593row3_col3\" class=\"data row3 col3\" >249</td>\n",
              "                        <td id=\"T_5949cb40_7ea5_11ea_8470_251223b34593row3_col4\" class=\"data row3 col4\" >253</td>\n",
              "                        <td id=\"T_5949cb40_7ea5_11ea_8470_251223b34593row3_col5\" class=\"data row3 col5\" >187</td>\n",
              "                        <td id=\"T_5949cb40_7ea5_11ea_8470_251223b34593row3_col6\" class=\"data row3 col6\" >46</td>\n",
              "                        <td id=\"T_5949cb40_7ea5_11ea_8470_251223b34593row3_col7\" class=\"data row3 col7\" >10</td>\n",
              "                        <td id=\"T_5949cb40_7ea5_11ea_8470_251223b34593row3_col8\" class=\"data row3 col8\" >8</td>\n",
              "                        <td id=\"T_5949cb40_7ea5_11ea_8470_251223b34593row3_col9\" class=\"data row3 col9\" >4</td>\n",
              "                        <td id=\"T_5949cb40_7ea5_11ea_8470_251223b34593row3_col10\" class=\"data row3 col10\" >10</td>\n",
              "                        <td id=\"T_5949cb40_7ea5_11ea_8470_251223b34593row3_col11\" class=\"data row3 col11\" >194</td>\n",
              "                        <td id=\"T_5949cb40_7ea5_11ea_8470_251223b34593row3_col12\" class=\"data row3 col12\" >253</td>\n",
              "                        <td id=\"T_5949cb40_7ea5_11ea_8470_251223b34593row3_col13\" class=\"data row3 col13\" >253</td>\n",
              "                        <td id=\"T_5949cb40_7ea5_11ea_8470_251223b34593row3_col14\" class=\"data row3 col14\" >233</td>\n",
              "                        <td id=\"T_5949cb40_7ea5_11ea_8470_251223b34593row3_col15\" class=\"data row3 col15\" >0</td>\n",
              "                        <td id=\"T_5949cb40_7ea5_11ea_8470_251223b34593row3_col16\" class=\"data row3 col16\" >0</td>\n",
              "                        <td id=\"T_5949cb40_7ea5_11ea_8470_251223b34593row3_col17\" class=\"data row3 col17\" >0</td>\n",
              "            </tr>\n",
              "            <tr>\n",
              "                        <th id=\"T_5949cb40_7ea5_11ea_8470_251223b34593level0_row4\" class=\"row_heading level0 row4\" >4</th>\n",
              "                        <td id=\"T_5949cb40_7ea5_11ea_8470_251223b34593row4_col0\" class=\"data row4 col0\" >0</td>\n",
              "                        <td id=\"T_5949cb40_7ea5_11ea_8470_251223b34593row4_col1\" class=\"data row4 col1\" >107</td>\n",
              "                        <td id=\"T_5949cb40_7ea5_11ea_8470_251223b34593row4_col2\" class=\"data row4 col2\" >253</td>\n",
              "                        <td id=\"T_5949cb40_7ea5_11ea_8470_251223b34593row4_col3\" class=\"data row4 col3\" >253</td>\n",
              "                        <td id=\"T_5949cb40_7ea5_11ea_8470_251223b34593row4_col4\" class=\"data row4 col4\" >230</td>\n",
              "                        <td id=\"T_5949cb40_7ea5_11ea_8470_251223b34593row4_col5\" class=\"data row4 col5\" >48</td>\n",
              "                        <td id=\"T_5949cb40_7ea5_11ea_8470_251223b34593row4_col6\" class=\"data row4 col6\" >0</td>\n",
              "                        <td id=\"T_5949cb40_7ea5_11ea_8470_251223b34593row4_col7\" class=\"data row4 col7\" >0</td>\n",
              "                        <td id=\"T_5949cb40_7ea5_11ea_8470_251223b34593row4_col8\" class=\"data row4 col8\" >0</td>\n",
              "                        <td id=\"T_5949cb40_7ea5_11ea_8470_251223b34593row4_col9\" class=\"data row4 col9\" >0</td>\n",
              "                        <td id=\"T_5949cb40_7ea5_11ea_8470_251223b34593row4_col10\" class=\"data row4 col10\" >0</td>\n",
              "                        <td id=\"T_5949cb40_7ea5_11ea_8470_251223b34593row4_col11\" class=\"data row4 col11\" >192</td>\n",
              "                        <td id=\"T_5949cb40_7ea5_11ea_8470_251223b34593row4_col12\" class=\"data row4 col12\" >253</td>\n",
              "                        <td id=\"T_5949cb40_7ea5_11ea_8470_251223b34593row4_col13\" class=\"data row4 col13\" >253</td>\n",
              "                        <td id=\"T_5949cb40_7ea5_11ea_8470_251223b34593row4_col14\" class=\"data row4 col14\" >156</td>\n",
              "                        <td id=\"T_5949cb40_7ea5_11ea_8470_251223b34593row4_col15\" class=\"data row4 col15\" >0</td>\n",
              "                        <td id=\"T_5949cb40_7ea5_11ea_8470_251223b34593row4_col16\" class=\"data row4 col16\" >0</td>\n",
              "                        <td id=\"T_5949cb40_7ea5_11ea_8470_251223b34593row4_col17\" class=\"data row4 col17\" >0</td>\n",
              "            </tr>\n",
              "            <tr>\n",
              "                        <th id=\"T_5949cb40_7ea5_11ea_8470_251223b34593level0_row5\" class=\"row_heading level0 row5\" >5</th>\n",
              "                        <td id=\"T_5949cb40_7ea5_11ea_8470_251223b34593row5_col0\" class=\"data row5 col0\" >0</td>\n",
              "                        <td id=\"T_5949cb40_7ea5_11ea_8470_251223b34593row5_col1\" class=\"data row5 col1\" >3</td>\n",
              "                        <td id=\"T_5949cb40_7ea5_11ea_8470_251223b34593row5_col2\" class=\"data row5 col2\" >20</td>\n",
              "                        <td id=\"T_5949cb40_7ea5_11ea_8470_251223b34593row5_col3\" class=\"data row5 col3\" >20</td>\n",
              "                        <td id=\"T_5949cb40_7ea5_11ea_8470_251223b34593row5_col4\" class=\"data row5 col4\" >15</td>\n",
              "                        <td id=\"T_5949cb40_7ea5_11ea_8470_251223b34593row5_col5\" class=\"data row5 col5\" >0</td>\n",
              "                        <td id=\"T_5949cb40_7ea5_11ea_8470_251223b34593row5_col6\" class=\"data row5 col6\" >0</td>\n",
              "                        <td id=\"T_5949cb40_7ea5_11ea_8470_251223b34593row5_col7\" class=\"data row5 col7\" >0</td>\n",
              "                        <td id=\"T_5949cb40_7ea5_11ea_8470_251223b34593row5_col8\" class=\"data row5 col8\" >0</td>\n",
              "                        <td id=\"T_5949cb40_7ea5_11ea_8470_251223b34593row5_col9\" class=\"data row5 col9\" >0</td>\n",
              "                        <td id=\"T_5949cb40_7ea5_11ea_8470_251223b34593row5_col10\" class=\"data row5 col10\" >43</td>\n",
              "                        <td id=\"T_5949cb40_7ea5_11ea_8470_251223b34593row5_col11\" class=\"data row5 col11\" >224</td>\n",
              "                        <td id=\"T_5949cb40_7ea5_11ea_8470_251223b34593row5_col12\" class=\"data row5 col12\" >253</td>\n",
              "                        <td id=\"T_5949cb40_7ea5_11ea_8470_251223b34593row5_col13\" class=\"data row5 col13\" >245</td>\n",
              "                        <td id=\"T_5949cb40_7ea5_11ea_8470_251223b34593row5_col14\" class=\"data row5 col14\" >74</td>\n",
              "                        <td id=\"T_5949cb40_7ea5_11ea_8470_251223b34593row5_col15\" class=\"data row5 col15\" >0</td>\n",
              "                        <td id=\"T_5949cb40_7ea5_11ea_8470_251223b34593row5_col16\" class=\"data row5 col16\" >0</td>\n",
              "                        <td id=\"T_5949cb40_7ea5_11ea_8470_251223b34593row5_col17\" class=\"data row5 col17\" >0</td>\n",
              "            </tr>\n",
              "            <tr>\n",
              "                        <th id=\"T_5949cb40_7ea5_11ea_8470_251223b34593level0_row6\" class=\"row_heading level0 row6\" >6</th>\n",
              "                        <td id=\"T_5949cb40_7ea5_11ea_8470_251223b34593row6_col0\" class=\"data row6 col0\" >0</td>\n",
              "                        <td id=\"T_5949cb40_7ea5_11ea_8470_251223b34593row6_col1\" class=\"data row6 col1\" >0</td>\n",
              "                        <td id=\"T_5949cb40_7ea5_11ea_8470_251223b34593row6_col2\" class=\"data row6 col2\" >0</td>\n",
              "                        <td id=\"T_5949cb40_7ea5_11ea_8470_251223b34593row6_col3\" class=\"data row6 col3\" >0</td>\n",
              "                        <td id=\"T_5949cb40_7ea5_11ea_8470_251223b34593row6_col4\" class=\"data row6 col4\" >0</td>\n",
              "                        <td id=\"T_5949cb40_7ea5_11ea_8470_251223b34593row6_col5\" class=\"data row6 col5\" >0</td>\n",
              "                        <td id=\"T_5949cb40_7ea5_11ea_8470_251223b34593row6_col6\" class=\"data row6 col6\" >0</td>\n",
              "                        <td id=\"T_5949cb40_7ea5_11ea_8470_251223b34593row6_col7\" class=\"data row6 col7\" >0</td>\n",
              "                        <td id=\"T_5949cb40_7ea5_11ea_8470_251223b34593row6_col8\" class=\"data row6 col8\" >0</td>\n",
              "                        <td id=\"T_5949cb40_7ea5_11ea_8470_251223b34593row6_col9\" class=\"data row6 col9\" >0</td>\n",
              "                        <td id=\"T_5949cb40_7ea5_11ea_8470_251223b34593row6_col10\" class=\"data row6 col10\" >249</td>\n",
              "                        <td id=\"T_5949cb40_7ea5_11ea_8470_251223b34593row6_col11\" class=\"data row6 col11\" >253</td>\n",
              "                        <td id=\"T_5949cb40_7ea5_11ea_8470_251223b34593row6_col12\" class=\"data row6 col12\" >245</td>\n",
              "                        <td id=\"T_5949cb40_7ea5_11ea_8470_251223b34593row6_col13\" class=\"data row6 col13\" >126</td>\n",
              "                        <td id=\"T_5949cb40_7ea5_11ea_8470_251223b34593row6_col14\" class=\"data row6 col14\" >0</td>\n",
              "                        <td id=\"T_5949cb40_7ea5_11ea_8470_251223b34593row6_col15\" class=\"data row6 col15\" >0</td>\n",
              "                        <td id=\"T_5949cb40_7ea5_11ea_8470_251223b34593row6_col16\" class=\"data row6 col16\" >0</td>\n",
              "                        <td id=\"T_5949cb40_7ea5_11ea_8470_251223b34593row6_col17\" class=\"data row6 col17\" >0</td>\n",
              "            </tr>\n",
              "            <tr>\n",
              "                        <th id=\"T_5949cb40_7ea5_11ea_8470_251223b34593level0_row7\" class=\"row_heading level0 row7\" >7</th>\n",
              "                        <td id=\"T_5949cb40_7ea5_11ea_8470_251223b34593row7_col0\" class=\"data row7 col0\" >0</td>\n",
              "                        <td id=\"T_5949cb40_7ea5_11ea_8470_251223b34593row7_col1\" class=\"data row7 col1\" >0</td>\n",
              "                        <td id=\"T_5949cb40_7ea5_11ea_8470_251223b34593row7_col2\" class=\"data row7 col2\" >0</td>\n",
              "                        <td id=\"T_5949cb40_7ea5_11ea_8470_251223b34593row7_col3\" class=\"data row7 col3\" >0</td>\n",
              "                        <td id=\"T_5949cb40_7ea5_11ea_8470_251223b34593row7_col4\" class=\"data row7 col4\" >0</td>\n",
              "                        <td id=\"T_5949cb40_7ea5_11ea_8470_251223b34593row7_col5\" class=\"data row7 col5\" >0</td>\n",
              "                        <td id=\"T_5949cb40_7ea5_11ea_8470_251223b34593row7_col6\" class=\"data row7 col6\" >0</td>\n",
              "                        <td id=\"T_5949cb40_7ea5_11ea_8470_251223b34593row7_col7\" class=\"data row7 col7\" >14</td>\n",
              "                        <td id=\"T_5949cb40_7ea5_11ea_8470_251223b34593row7_col8\" class=\"data row7 col8\" >101</td>\n",
              "                        <td id=\"T_5949cb40_7ea5_11ea_8470_251223b34593row7_col9\" class=\"data row7 col9\" >223</td>\n",
              "                        <td id=\"T_5949cb40_7ea5_11ea_8470_251223b34593row7_col10\" class=\"data row7 col10\" >253</td>\n",
              "                        <td id=\"T_5949cb40_7ea5_11ea_8470_251223b34593row7_col11\" class=\"data row7 col11\" >248</td>\n",
              "                        <td id=\"T_5949cb40_7ea5_11ea_8470_251223b34593row7_col12\" class=\"data row7 col12\" >124</td>\n",
              "                        <td id=\"T_5949cb40_7ea5_11ea_8470_251223b34593row7_col13\" class=\"data row7 col13\" >0</td>\n",
              "                        <td id=\"T_5949cb40_7ea5_11ea_8470_251223b34593row7_col14\" class=\"data row7 col14\" >0</td>\n",
              "                        <td id=\"T_5949cb40_7ea5_11ea_8470_251223b34593row7_col15\" class=\"data row7 col15\" >0</td>\n",
              "                        <td id=\"T_5949cb40_7ea5_11ea_8470_251223b34593row7_col16\" class=\"data row7 col16\" >0</td>\n",
              "                        <td id=\"T_5949cb40_7ea5_11ea_8470_251223b34593row7_col17\" class=\"data row7 col17\" >0</td>\n",
              "            </tr>\n",
              "            <tr>\n",
              "                        <th id=\"T_5949cb40_7ea5_11ea_8470_251223b34593level0_row8\" class=\"row_heading level0 row8\" >8</th>\n",
              "                        <td id=\"T_5949cb40_7ea5_11ea_8470_251223b34593row8_col0\" class=\"data row8 col0\" >0</td>\n",
              "                        <td id=\"T_5949cb40_7ea5_11ea_8470_251223b34593row8_col1\" class=\"data row8 col1\" >0</td>\n",
              "                        <td id=\"T_5949cb40_7ea5_11ea_8470_251223b34593row8_col2\" class=\"data row8 col2\" >0</td>\n",
              "                        <td id=\"T_5949cb40_7ea5_11ea_8470_251223b34593row8_col3\" class=\"data row8 col3\" >0</td>\n",
              "                        <td id=\"T_5949cb40_7ea5_11ea_8470_251223b34593row8_col4\" class=\"data row8 col4\" >0</td>\n",
              "                        <td id=\"T_5949cb40_7ea5_11ea_8470_251223b34593row8_col5\" class=\"data row8 col5\" >11</td>\n",
              "                        <td id=\"T_5949cb40_7ea5_11ea_8470_251223b34593row8_col6\" class=\"data row8 col6\" >166</td>\n",
              "                        <td id=\"T_5949cb40_7ea5_11ea_8470_251223b34593row8_col7\" class=\"data row8 col7\" >239</td>\n",
              "                        <td id=\"T_5949cb40_7ea5_11ea_8470_251223b34593row8_col8\" class=\"data row8 col8\" >253</td>\n",
              "                        <td id=\"T_5949cb40_7ea5_11ea_8470_251223b34593row8_col9\" class=\"data row8 col9\" >253</td>\n",
              "                        <td id=\"T_5949cb40_7ea5_11ea_8470_251223b34593row8_col10\" class=\"data row8 col10\" >253</td>\n",
              "                        <td id=\"T_5949cb40_7ea5_11ea_8470_251223b34593row8_col11\" class=\"data row8 col11\" >187</td>\n",
              "                        <td id=\"T_5949cb40_7ea5_11ea_8470_251223b34593row8_col12\" class=\"data row8 col12\" >30</td>\n",
              "                        <td id=\"T_5949cb40_7ea5_11ea_8470_251223b34593row8_col13\" class=\"data row8 col13\" >0</td>\n",
              "                        <td id=\"T_5949cb40_7ea5_11ea_8470_251223b34593row8_col14\" class=\"data row8 col14\" >0</td>\n",
              "                        <td id=\"T_5949cb40_7ea5_11ea_8470_251223b34593row8_col15\" class=\"data row8 col15\" >0</td>\n",
              "                        <td id=\"T_5949cb40_7ea5_11ea_8470_251223b34593row8_col16\" class=\"data row8 col16\" >0</td>\n",
              "                        <td id=\"T_5949cb40_7ea5_11ea_8470_251223b34593row8_col17\" class=\"data row8 col17\" >0</td>\n",
              "            </tr>\n",
              "            <tr>\n",
              "                        <th id=\"T_5949cb40_7ea5_11ea_8470_251223b34593level0_row9\" class=\"row_heading level0 row9\" >9</th>\n",
              "                        <td id=\"T_5949cb40_7ea5_11ea_8470_251223b34593row9_col0\" class=\"data row9 col0\" >0</td>\n",
              "                        <td id=\"T_5949cb40_7ea5_11ea_8470_251223b34593row9_col1\" class=\"data row9 col1\" >0</td>\n",
              "                        <td id=\"T_5949cb40_7ea5_11ea_8470_251223b34593row9_col2\" class=\"data row9 col2\" >0</td>\n",
              "                        <td id=\"T_5949cb40_7ea5_11ea_8470_251223b34593row9_col3\" class=\"data row9 col3\" >0</td>\n",
              "                        <td id=\"T_5949cb40_7ea5_11ea_8470_251223b34593row9_col4\" class=\"data row9 col4\" >0</td>\n",
              "                        <td id=\"T_5949cb40_7ea5_11ea_8470_251223b34593row9_col5\" class=\"data row9 col5\" >16</td>\n",
              "                        <td id=\"T_5949cb40_7ea5_11ea_8470_251223b34593row9_col6\" class=\"data row9 col6\" >248</td>\n",
              "                        <td id=\"T_5949cb40_7ea5_11ea_8470_251223b34593row9_col7\" class=\"data row9 col7\" >250</td>\n",
              "                        <td id=\"T_5949cb40_7ea5_11ea_8470_251223b34593row9_col8\" class=\"data row9 col8\" >253</td>\n",
              "                        <td id=\"T_5949cb40_7ea5_11ea_8470_251223b34593row9_col9\" class=\"data row9 col9\" >253</td>\n",
              "                        <td id=\"T_5949cb40_7ea5_11ea_8470_251223b34593row9_col10\" class=\"data row9 col10\" >253</td>\n",
              "                        <td id=\"T_5949cb40_7ea5_11ea_8470_251223b34593row9_col11\" class=\"data row9 col11\" >253</td>\n",
              "                        <td id=\"T_5949cb40_7ea5_11ea_8470_251223b34593row9_col12\" class=\"data row9 col12\" >232</td>\n",
              "                        <td id=\"T_5949cb40_7ea5_11ea_8470_251223b34593row9_col13\" class=\"data row9 col13\" >213</td>\n",
              "                        <td id=\"T_5949cb40_7ea5_11ea_8470_251223b34593row9_col14\" class=\"data row9 col14\" >111</td>\n",
              "                        <td id=\"T_5949cb40_7ea5_11ea_8470_251223b34593row9_col15\" class=\"data row9 col15\" >2</td>\n",
              "                        <td id=\"T_5949cb40_7ea5_11ea_8470_251223b34593row9_col16\" class=\"data row9 col16\" >0</td>\n",
              "                        <td id=\"T_5949cb40_7ea5_11ea_8470_251223b34593row9_col17\" class=\"data row9 col17\" >0</td>\n",
              "            </tr>\n",
              "            <tr>\n",
              "                        <th id=\"T_5949cb40_7ea5_11ea_8470_251223b34593level0_row10\" class=\"row_heading level0 row10\" >10</th>\n",
              "                        <td id=\"T_5949cb40_7ea5_11ea_8470_251223b34593row10_col0\" class=\"data row10 col0\" >0</td>\n",
              "                        <td id=\"T_5949cb40_7ea5_11ea_8470_251223b34593row10_col1\" class=\"data row10 col1\" >0</td>\n",
              "                        <td id=\"T_5949cb40_7ea5_11ea_8470_251223b34593row10_col2\" class=\"data row10 col2\" >0</td>\n",
              "                        <td id=\"T_5949cb40_7ea5_11ea_8470_251223b34593row10_col3\" class=\"data row10 col3\" >0</td>\n",
              "                        <td id=\"T_5949cb40_7ea5_11ea_8470_251223b34593row10_col4\" class=\"data row10 col4\" >0</td>\n",
              "                        <td id=\"T_5949cb40_7ea5_11ea_8470_251223b34593row10_col5\" class=\"data row10 col5\" >0</td>\n",
              "                        <td id=\"T_5949cb40_7ea5_11ea_8470_251223b34593row10_col6\" class=\"data row10 col6\" >0</td>\n",
              "                        <td id=\"T_5949cb40_7ea5_11ea_8470_251223b34593row10_col7\" class=\"data row10 col7\" >43</td>\n",
              "                        <td id=\"T_5949cb40_7ea5_11ea_8470_251223b34593row10_col8\" class=\"data row10 col8\" >98</td>\n",
              "                        <td id=\"T_5949cb40_7ea5_11ea_8470_251223b34593row10_col9\" class=\"data row10 col9\" >98</td>\n",
              "                        <td id=\"T_5949cb40_7ea5_11ea_8470_251223b34593row10_col10\" class=\"data row10 col10\" >208</td>\n",
              "                        <td id=\"T_5949cb40_7ea5_11ea_8470_251223b34593row10_col11\" class=\"data row10 col11\" >253</td>\n",
              "                        <td id=\"T_5949cb40_7ea5_11ea_8470_251223b34593row10_col12\" class=\"data row10 col12\" >253</td>\n",
              "                        <td id=\"T_5949cb40_7ea5_11ea_8470_251223b34593row10_col13\" class=\"data row10 col13\" >253</td>\n",
              "                        <td id=\"T_5949cb40_7ea5_11ea_8470_251223b34593row10_col14\" class=\"data row10 col14\" >253</td>\n",
              "                        <td id=\"T_5949cb40_7ea5_11ea_8470_251223b34593row10_col15\" class=\"data row10 col15\" >187</td>\n",
              "                        <td id=\"T_5949cb40_7ea5_11ea_8470_251223b34593row10_col16\" class=\"data row10 col16\" >22</td>\n",
              "                        <td id=\"T_5949cb40_7ea5_11ea_8470_251223b34593row10_col17\" class=\"data row10 col17\" >0</td>\n",
              "            </tr>\n",
              "    </tbody></table>"
            ],
            "text/plain": [
              "<pandas.io.formats.style.Styler at 0x7f10d4f3b8d0>"
            ]
          },
          "execution_count": null,
          "metadata": {},
          "output_type": "execute_result"
        }
      ],
      "source": [
        "#hide_output\n",
        "im3_t = tensor(im3)\n",
        "df = pd.DataFrame(im3_t[4:15,4:22])\n",
        "df.style.set_properties(**{'font-size':'6pt'}).background_gradient('Greys')"
      ]
    },
    {
      "cell_type": "markdown",
      "metadata": {
        "id": "_ERCmMJAxOyt"
      },
      "source": [
        "<img width=\"453\" id=\"output_pd_pixels\" src=\"https://github.com/fastai/fastbook/blob/master/images/att_00058.png?raw=1\">"
      ]
    },
    {
      "cell_type": "markdown",
      "metadata": {
        "id": "3YZkywbAxOyt"
      },
      "source": [
        "You can see that the background white pixels are stored as the number 0, black is the number 255, and shades of gray are between the two. The entire image contains 28 pixels across and 28 pixels down, for a total of 784 pixels. (This is much smaller than an image that you would get from a phone camera, which has millions of pixels, but is a convenient size for our initial learning and experiments. We will build up to bigger, full-color images soon.)\n",
        "\n",
        "So, now you've seen what an image looks like to a computer, let's recall our goal: create a model that can recognize 3s and 7s. How might you go about getting a computer to do that?\n",
        "\n",
        "> Warning: Stop and Think!: Before you read on, take a moment to think about how a computer might be able to recognize these two different digits. What kinds of features might it be able to look at? How might it be able to identify these features? How could it combine them together? Learning works best when you try to solve problems yourself, rather than just reading somebody else's answers; so step away from this book for a few minutes, grab a piece of paper and pen, and jot some ideas down…"
      ]
    },
    {
      "cell_type": "markdown",
      "metadata": {
        "id": "-3VjHA9FxOyt"
      },
      "source": [
        "## First Try: Pixel Similarity"
      ]
    },
    {
      "cell_type": "markdown",
      "metadata": {
        "id": "1omyoE64xOyu"
      },
      "source": [
        "So, here is a first idea: how about we find the average pixel value for every pixel of the 3s, then do the same for the 7s. This will give us two group averages, defining what we might call the \"ideal\" 3 and 7. Then, to classify an image as one digit or the other, we see which of these two ideal digits the image is most similar to. This certainly seems like it should be better than nothing, so it will make a good baseline."
      ]
    },
    {
      "cell_type": "markdown",
      "metadata": {
        "id": "YojdIKy2xOyw"
      },
      "source": [
        "> jargon: Baseline: A simple model which you are confident should perform reasonably well. It should be very simple to implement, and very easy to test, so that you can then test each of your improved ideas, and make sure they are always better than your baseline. Without starting with a sensible baseline, it is very difficult to know whether your super-fancy models are actually any good. One good approach to creating a baseline is doing what we have done here: think of a simple, easy-to-implement model. Another good approach is to search around to find other people that have solved similar problems to yours, and download and run their code on your dataset. Ideally, try both of these!"
      ]
    },
    {
      "cell_type": "markdown",
      "metadata": {
        "id": "PTSScJFnxOyx"
      },
      "source": [
        "Step one for our simple model is to get the average of pixel values for each of our two groups. In the process of doing this, we will learn a lot of neat Python numeric programming tricks!\n",
        "\n",
        "Let's create a tensor containing all of our 3s stacked together. We already know how to create a tensor containing a single image. To create a tensor containing all the images in a directory, we will first use a Python list comprehension to create a plain list of the single image tensors.\n",
        "\n",
        "We will use Jupyter to do some little checks of our work along the way—in this case, making sure that the number of returned items seems reasonable:"
      ]
    },
    {
      "cell_type": "code",
      "execution_count": null,
      "metadata": {
        "id": "B3RITa_hxOyx",
        "outputId": "01b19da9-999f-43cb-9e7e-313758e33743"
      },
      "outputs": [
        {
          "data": {
            "text/plain": [
              "(6131, 6265)"
            ]
          },
          "execution_count": null,
          "metadata": {},
          "output_type": "execute_result"
        }
      ],
      "source": [
        "seven_tensors = [tensor(Image.open(o)) for o in sevens]\n",
        "three_tensors = [tensor(Image.open(o)) for o in threes]\n",
        "len(three_tensors),len(seven_tensors)"
      ]
    },
    {
      "cell_type": "markdown",
      "metadata": {
        "id": "qg2URCQIxOyz"
      },
      "source": [
        "> note: List Comprehensions: List and dictionary comprehensions are a wonderful feature of Python. Many Python programmers use them every day, including the authors of this book—they are part of \"idiomatic Python.\" But programmers coming from other languages may have never seen them before. There are a lot of great tutorials just a web search away, so we won't spend a long time discussing them now. Here is a quick explanation and example to get you started. A list comprehension looks like this: `new_list = [f(o) for o in a_list if o>0]`. This will return every element of `a_list` that is greater than 0, after passing it to the function `f`. There are three parts here: the collection you are iterating over (`a_list`), an optional filter (`if o>0`), and something to do to each element (`f(o)`). It's not only shorter to write but way faster than the alternative ways of creating the same list with a loop."
      ]
    },
    {
      "cell_type": "markdown",
      "metadata": {
        "id": "k3Q39S5OxOy0"
      },
      "source": [
        "We'll also check that one of the images looks okay. Since we now have tensors (which Jupyter by default will print as values), rather than PIL images (which Jupyter by default will display as images), we need to use fastai's `show_image` function to display it:"
      ]
    },
    {
      "cell_type": "code",
      "execution_count": null,
      "metadata": {
        "id": "D0S9UHmoxOy0",
        "outputId": "6d464d7a-a98b-4c58-ae27-b4f657b54f66"
      },
      "outputs": [
        {
          "data": {
            "image/png": "[encoded data removed]",
            "text/plain": [
              "<Figure size 72x72 with 1 Axes>"
            ]
          },
          "metadata": {
            "needs_background": "light"
          },
          "output_type": "display_data"
        }
      ],
      "source": [
        "show_image(three_tensors[1]);"
      ]
    },
    {
      "cell_type": "markdown",
      "metadata": {
        "id": "7OunhTc3xOy0"
      },
      "source": [
        "For every pixel position, we want to compute the average over all the images of the intensity of that pixel. To do this we first combine all the images in this list into a single three-dimensional tensor. The most common way to describe such a tensor is to call it a *rank-3 tensor*. We often need to stack up individual tensors in a collection into a single tensor. Unsurprisingly, PyTorch comes with a function called `stack` that we can use for this purpose.\n",
        "\n",
        "Some operations in PyTorch, such as taking a mean, require us to *cast* our integer types to float types. Since we'll be needing this later, we'll also cast our stacked tensor to `float` now. Casting in PyTorch is as simple as typing the name of the type you wish to cast to, and treating it as a method.\n",
        "\n",
        "Generally when images are floats, the pixel values are expected to be between 0 and 1, so we will also divide by 255 here:"
      ]
    },
    {
      "cell_type": "code",
      "execution_count": null,
      "metadata": {
        "id": "eG0zqmm1xOy0",
        "outputId": "d78c71c5-e055-49f3-a771-7be3e84e01b2"
      },
      "outputs": [
        {
          "data": {
            "text/plain": [
              "torch.Size([6131, 28, 28])"
            ]
          },
          "execution_count": null,
          "metadata": {},
          "output_type": "execute_result"
        }
      ],
      "source": [
        "stacked_sevens = torch.stack(seven_tensors).float()/255\n",
        "stacked_threes = torch.stack(three_tensors).float()/255\n",
        "stacked_threes.shape"
      ]
    },
    {
      "cell_type": "markdown",
      "metadata": {
        "id": "z-MusBpwxOy1"
      },
      "source": [
        "Perhaps the most important attribute of a tensor is its *shape*. This tells you the length of each axis. In this case, we can see that we have 6,131 images, each of size 28×28 pixels. There is nothing specifically about this tensor that says that the first axis is the number of images, the second is the height, and the third is the width—the semantics of a tensor are entirely up to us, and how we construct it. As far as PyTorch is concerned, it is just a bunch of numbers in memory.\n",
        "\n",
        "The *length* of a tensor's shape is its rank:"
      ]
    },
    {
      "cell_type": "code",
      "execution_count": null,
      "metadata": {
        "id": "8hZLK3FYxOy1",
        "outputId": "cf645ced-8d18-4655-c877-083cc25c2af6"
      },
      "outputs": [
        {
          "data": {
            "text/plain": [
              "3"
            ]
          },
          "execution_count": null,
          "metadata": {},
          "output_type": "execute_result"
        }
      ],
      "source": [
        "len(stacked_threes.shape)"
      ]
    },
    {
      "cell_type": "markdown",
      "metadata": {
        "id": "uDoTQJspxOy1"
      },
      "source": [
        "It is really important for you to commit to memory and practice these bits of tensor jargon: _rank_ is the number of axes or dimensions in a tensor; _shape_ is the size of each axis of a tensor.\n",
        "\n",
        "> A: Watch out because the term \"dimension\" is sometimes used in two ways. Consider that we live in \"three-dimensonal space\" where a physical position can be described by a 3-vector `v`. But according to PyTorch, the attribute `v.ndim` (which sure looks like the \"number of dimensions\" of `v`) equals one, not three! Why? Because `v` is a vector, which is a tensor of rank one, meaning that it has only one _axis_ (even if that axis has a length of three). In other words, sometimes dimension is used for the size of an axis (\"space is three-dimensional\"); other times, it is used for the rank, or the number of axes (\"a matrix has two dimensions\"). When confused, I find it helpful to translate all statements into terms of rank, axis, and length, which are unambiguous terms."
      ]
    },
    {
      "cell_type": "markdown",
      "metadata": {
        "id": "VeIlUXBYxOy2"
      },
      "source": [
        "We can also get a tensor's rank directly with `ndim`:"
      ]
    },
    {
      "cell_type": "code",
      "execution_count": null,
      "metadata": {
        "id": "S66H1JRvxOy2",
        "outputId": "cc48f9c9-3d6a-425e-efb2-f67444de9c0a"
      },
      "outputs": [
        {
          "data": {
            "text/plain": [
              "3"
            ]
          },
          "execution_count": null,
          "metadata": {},
          "output_type": "execute_result"
        }
      ],
      "source": [
        "stacked_threes.ndim"
      ]
    },
    {
      "cell_type": "markdown",
      "metadata": {
        "id": "OOd6ic6rxOy2"
      },
      "source": [
        "Finally, we can compute what the ideal 3 looks like. We calculate the mean of all the image tensors by taking the mean along dimension 0 of our stacked, rank-3 tensor. This is the dimension that indexes over all the images.\n",
        "\n",
        "In other words, for every pixel position, this will compute the average of that pixel over all images. The result will be one value for every pixel position, or a single image. Here it is:"
      ]
    },
    {
      "cell_type": "code",
      "execution_count": null,
      "metadata": {
        "id": "TDGoHO1-xOy2",
        "outputId": "1ecca663-9c58-481a-dac1-198e619decb5"
      },
      "outputs": [
        {
          "data": {
            "image/png": "[encoded data removed]",
            "text/plain": [
              "<Figure size 72x72 with 1 Axes>"
            ]
          },
          "metadata": {
            "needs_background": "light"
          },
          "output_type": "display_data"
        }
      ],
      "source": [
        "mean3 = stacked_threes.mean(0)\n",
        "show_image(mean3);"
      ]
    },
    {
      "cell_type": "markdown",
      "metadata": {
        "id": "Tehmcz5FxOy3"
      },
      "source": [
        "According to this dataset, this is the ideal number 3! (You may not like it, but this is what peak number 3 performance looks like.) You can see how it's very dark where all the images agree it should be dark, but it becomes wispy and blurry where the images disagree. \n",
        "\n",
        "Let's do the same thing for the 7s, but put all the steps together at once to save some time:"
      ]
    },
    {
      "cell_type": "code",
      "execution_count": null,
      "metadata": {
        "id": "H4BVjj1dxOy3",
        "outputId": "b067cda9-cb4d-49e3-ed2e-426dcf02582a"
      },
      "outputs": [
        {
          "data": {
            "image/png": "[encoded data removed]",
            "text/plain": [
              "<Figure size 72x72 with 1 Axes>"
            ]
          },
          "metadata": {
            "needs_background": "light"
          },
          "output_type": "display_data"
        }
      ],
      "source": [
        "mean7 = stacked_sevens.mean(0)\n",
        "show_image(mean7);"
      ]
    },
    {
      "cell_type": "markdown",
      "metadata": {
        "id": "9B116GBOxOy3"
      },
      "source": [
        "Let's now pick an arbitrary 3 and measure its *distance* from our \"ideal digits.\"\n",
        "\n",
        "> stop: Stop and Think!: How would you calculate how similar a particular image is to each of our ideal digits? Remember to step away from this book and jot down some ideas before you move on! Research shows that recall and understanding improves dramatically when you are engaged with the learning process by solving problems, experimenting, and trying new ideas yourself\n",
        "\n",
        "Here's a sample 3:"
      ]
    },
    {
      "cell_type": "code",
      "execution_count": null,
      "metadata": {
        "id": "XUwuTV9VxOy3",
        "outputId": "b8a35081-16f9-4aa7-81d9-dac47daa30f1"
      },
      "outputs": [
        {
          "data": {
            "image/png": "[encoded data removed]",
            "text/plain": [
              "<Figure size 72x72 with 1 Axes>"
            ]
          },
          "metadata": {
            "needs_background": "light"
          },
          "output_type": "display_data"
        }
      ],
      "source": [
        "a_3 = stacked_threes[1]\n",
        "show_image(a_3);"
      ]
    },
    {
      "cell_type": "markdown",
      "metadata": {
        "id": "QWhK_M6JxOy3"
      },
      "source": [
        "How can we determine its distance from our ideal 3? We can't just add up the differences between the pixels of this image and the ideal digit. Some differences will be positive while others will be negative, and these differences will cancel out, resulting in a situation where an image that is too dark in some places and too light in others might be shown as having zero total differences from the ideal. That would be misleading!\n",
        "\n",
        "To avoid this, there are two main ways data scientists measure distance in this context:\n",
        "\n",
        "- Take the mean of the *absolute value* of differences (absolute value is the function that replaces negative values with positive values). This is called the *mean absolute difference* or *L1 norm*\n",
        "- Take the mean of the *square* of differences (which makes everything positive) and then take the *square root* (which undoes the squaring). This is called the *root mean squared error* (RMSE) or *L2 norm*.\n",
        "\n",
        "> important: It's Okay to Have Forgotten Your Math: In this book we generally assume that you have completed high school math, and remember at least some of it... But everybody forgets some things! It all depends on what you happen to have had reason to practice in the meantime. Perhaps you have forgotten what a _square root_ is, or exactly how they work. No problem! Any time you come across a maths concept that is not explained fully in this book, don't just keep moving on; instead, stop and look it up. Make sure you understand the basic idea, how it works, and why we might be using it. One of the best places to refresh your understanding is Khan Academy. For instance, Khan Academy has a great [introduction to square roots](https://www.khanacademy.org/math/algebra/x2f8bb11595b61c86:rational-exponents-radicals/x2f8bb11595b61c86:radicals/v/understanding-square-roots)."
      ]
    },
    {
      "cell_type": "markdown",
      "metadata": {
        "id": "Sep58yWrxOy4"
      },
      "source": [
        "Let's try both of these now:"
      ]
    },
    {
      "cell_type": "code",
      "execution_count": null,
      "metadata": {
        "id": "N2qEDrqgxOy4",
        "outputId": "c23b29e2-158b-487b-dde9-e50eb6659496"
      },
      "outputs": [
        {
          "data": {
            "text/plain": [
              "(tensor(0.1114), tensor(0.2021))"
            ]
          },
          "execution_count": null,
          "metadata": {},
          "output_type": "execute_result"
        }
      ],
      "source": [
        "dist_3_abs = (a_3 - mean3).abs().mean()\n",
        "dist_3_sqr = ((a_3 - mean3)**2).mean().sqrt()\n",
        "dist_3_abs,dist_3_sqr"
      ]
    },
    {
      "cell_type": "code",
      "execution_count": null,
      "metadata": {
        "id": "FxyI81NPxOy4",
        "outputId": "24a67003-deda-4b20-80b4-09c1c902940c"
      },
      "outputs": [
        {
          "data": {
            "text/plain": [
              "(tensor(0.1586), tensor(0.3021))"
            ]
          },
          "execution_count": null,
          "metadata": {},
          "output_type": "execute_result"
        }
      ],
      "source": [
        "dist_7_abs = (a_3 - mean7).abs().mean()\n",
        "dist_7_sqr = ((a_3 - mean7)**2).mean().sqrt()\n",
        "dist_7_abs,dist_7_sqr"
      ]
    },
    {
      "cell_type": "markdown",
      "metadata": {
        "id": "mr4qXj0-xOy4"
      },
      "source": [
        "In both cases, the distance between our 3 and the \"ideal\" 3 is less than the distance to the ideal 7. So our simple model will give the right prediction in this case."
      ]
    },
    {
      "cell_type": "markdown",
      "metadata": {
        "id": "YmwdHAIUxOy4"
      },
      "source": [
        "PyTorch already provides both of these as *loss functions*. You'll find these inside `torch.nn.functional`, which the PyTorch team recommends importing as `F` (and is available by default under that name in fastai):"
      ]
    },
    {
      "cell_type": "code",
      "execution_count": null,
      "metadata": {
        "id": "HLMME0P4xOy5",
        "outputId": "7c2c9ae2-8598-4bcd-ebae-3a82954ab4fa"
      },
      "outputs": [
        {
          "data": {
            "text/plain": [
              "(tensor(0.1586), tensor(0.3021))"
            ]
          },
          "execution_count": null,
          "metadata": {},
          "output_type": "execute_result"
        }
      ],
      "source": [
        "F.l1_loss(a_3.float(),mean7), F.mse_loss(a_3,mean7).sqrt()"
      ]
    },
    {
      "cell_type": "markdown",
      "metadata": {
        "id": "WD2PRK-txOy5"
      },
      "source": [
        "Here `mse` stands for *mean squared error*, and `l1` refers to the standard mathematical jargon for *mean absolute value* (in math it's called the *L1 norm*)."
      ]
    },
    {
      "cell_type": "markdown",
      "metadata": {
        "id": "k0CHo2yGxOy5"
      },
      "source": [
        "> S: Intuitively, the difference between L1 norm and mean squared error (MSE) is that the latter will penalize bigger mistakes more heavily than the former (and be more lenient with small mistakes)."
      ]
    },
    {
      "cell_type": "markdown",
      "metadata": {
        "id": "1Ci08IYwxOy5"
      },
      "source": [
        "> J: When I first came across this \"L1\" thingie, I looked it up to see what on earth it meant. I found on Google that it is a _vector norm_ using _absolute value_, so looked up _vector norm_ and started reading: _Given a vector space V over a field F of the real or complex numbers, a norm on V is a nonnegative-valued any function p: V → \\[0,+∞) with the following properties: For all a ∈ F and all u, v ∈ V, p(u + v) ≤ p(u) + p(v)..._ Then I stopped reading. \"Ugh, I'll never understand math!\" I thought, for the thousandth time. Since then I've learned that every time these complex mathy bits of jargon come up in practice, it turns out I can replace them with a tiny bit of code! Like, the _L1 loss_ is just equal to `(a-b).abs().mean()`, where `a` and `b` are tensors. I guess mathy folks just think differently than me... I'll make sure in this book that every time some mathy jargon comes up, I'll give you the little bit of code it's equal to as well, and explain in common-sense terms what's going on."
      ]
    },
    {
      "cell_type": "markdown",
      "metadata": {
        "id": "DoVnSOQuxOy5"
      },
      "source": [
        "We just completed various mathematical operations on PyTorch tensors. If you've done some numeric programming in NumPy before, you may recognize these as being similar to NumPy arrays. Let's have a look at those two very important data structures."
      ]
    },
    {
      "cell_type": "markdown",
      "metadata": {
        "id": "iRPNiUsQxOy5"
      },
      "source": [
        "### NumPy Arrays and PyTorch Tensors"
      ]
    },
    {
      "cell_type": "markdown",
      "metadata": {
        "id": "IYTNlf9GxOy6"
      },
      "source": [
        "[NumPy](https://numpy.org/) is the most widely used library for scientific and numeric programming in Python. It provides very similar functionality and a very similar API to that provided by PyTorch; however, it does not support using the GPU or calculating gradients, which are both critical for deep learning. Therefore, in this book we will generally use PyTorch tensors instead of NumPy arrays, where possible.\n",
        "\n",
        "(Note that fastai adds some features to NumPy and PyTorch to make them a bit more similar to each other. If any code in this book doesn't work on your computer, it's possible that you forgot to include a line like this at the start of your notebook: `from fastai.vision.all import *`.)\n",
        "\n",
        "But what are arrays and tensors, and why should you care?"
      ]
    },
    {
      "cell_type": "markdown",
      "metadata": {
        "id": "HfD8fgLTxOy6"
      },
      "source": [
        "Python is slow compared to many languages. Anything fast in Python, NumPy, or PyTorch is likely to be a wrapper for a compiled object written (and optimized) in another language—specifically C. In fact, **NumPy arrays and PyTorch tensors can finish computations many thousands of times faster than using pure Python.**\n",
        "\n",
        "A NumPy array is a multidimensional table of data, with all items of the same type. Since that can be any type at all, they can even be arrays of arrays, with the innermost arrays potentially being different sizes—this is called a \"jagged array.\" By \"multidimensional table\" we mean, for instance, a list (dimension of one), a table or matrix (dimension of two), a \"table of tables\" or \"cube\" (dimension of three), and so forth. If the items are all of some simple type such as integer or float, then NumPy will store them as a compact C data structure in memory. This is where NumPy shines. NumPy has a wide variety of operators and methods that can run computations on these compact structures at the same speed as optimized C, because they are written in optimized C.\n",
        "\n",
        "A PyTorch tensor is nearly the same thing as a NumPy array, but with an additional restriction that unlocks some additional capabilities. It's the same in that it, too, is a multidimensional table of data, with all items of the same type. However, the restriction is that a tensor cannot use just any old type—it has to use a single basic numeric type for all components. For example, a PyTorch tensor cannot be jagged. It is always a regularly shaped multidimensional rectangular structure.\n",
        "\n",
        "The vast majority of methods and operators supported by NumPy on these structures are also supported by PyTorch, but PyTorch tensors have additional capabilities. One major capability is that these structures can live on the GPU, in which case their computation will be optimized for the GPU and can run much faster (given lots of values to work on). In addition, PyTorch can automatically calculate derivatives of these operations, including combinations of operations. As you'll see, it would be impossible to do deep learning in practice without this capability.\n",
        "\n",
        "> S: If you don't know what C is, don't worry as you won't need it at all. In a nutshell, it's a low-level  (low-level means more similar to the language that computers use internally) language that is very fast compared to Python. To take advantage of its speed while programming in Python, try to avoid as much as possible writing loops, and replace them by commands that work directly on arrays or tensors.\n",
        "\n",
        "Perhaps the most important new coding skill for a Python programmer to learn is how to effectively use the array/tensor APIs. We will be showing lots more tricks later in this book, but here's a summary of the key things you need to know for now."
      ]
    },
    {
      "cell_type": "markdown",
      "metadata": {
        "id": "JtGJIKFDxOy6"
      },
      "source": [
        "To create an array or tensor, pass a list (or list of lists, or list of lists of lists, etc.) to `array()` or `tensor()`:"
      ]
    },
    {
      "cell_type": "code",
      "execution_count": null,
      "metadata": {
        "id": "1LCizujAxOy6"
      },
      "outputs": [],
      "source": [
        "data = [[1,2,3],[4,5,6]]\n",
        "arr = array (data)\n",
        "tns = tensor(data)"
      ]
    },
    {
      "cell_type": "code",
      "execution_count": null,
      "metadata": {
        "id": "psk1QvJAxOy6",
        "outputId": "c4d1e420-f69c-4e0c-d9a3-ddd8bdc4afd7"
      },
      "outputs": [
        {
          "data": {
            "text/plain": [
              "array([[1, 2, 3],\n",
              "       [4, 5, 6]])"
            ]
          },
          "execution_count": null,
          "metadata": {},
          "output_type": "execute_result"
        }
      ],
      "source": [
        "arr  # numpy"
      ]
    },
    {
      "cell_type": "code",
      "execution_count": null,
      "metadata": {
        "id": "W9xV53dIxOy7",
        "outputId": "e5ed34f9-a92c-40ab-c4df-7afe900aa738"
      },
      "outputs": [
        {
          "data": {
            "text/plain": [
              "tensor([[1, 2, 3],\n",
              "        [4, 5, 6]])"
            ]
          },
          "execution_count": null,
          "metadata": {},
          "output_type": "execute_result"
        }
      ],
      "source": [
        "tns  # pytorch"
      ]
    },
    {
      "cell_type": "markdown",
      "metadata": {
        "id": "wNwCVsa5xOy7"
      },
      "source": [
        "All the operations that follow are shown on tensors, but the syntax and results for NumPy arrays is identical.\n",
        "\n",
        "You can select a row (note that, like lists in Python, tensors are 0-indexed so 1 refers to the second row/column):"
      ]
    },
    {
      "cell_type": "code",
      "execution_count": null,
      "metadata": {
        "id": "g8CxJ9U0xOy7",
        "outputId": "4abe8ee1-ad42-4e0a-b1ea-028dfb7402b1"
      },
      "outputs": [
        {
          "data": {
            "text/plain": [
              "tensor([4, 5, 6])"
            ]
          },
          "execution_count": null,
          "metadata": {},
          "output_type": "execute_result"
        }
      ],
      "source": [
        "tns[1]"
      ]
    },
    {
      "cell_type": "markdown",
      "metadata": {
        "id": "Q1p3-dyoxOy7"
      },
      "source": [
        "or a column, by using `:` to indicate *all of the first axis* (we sometimes refer to the dimensions of tensors/arrays as *axes*):"
      ]
    },
    {
      "cell_type": "code",
      "execution_count": null,
      "metadata": {
        "id": "WX0IvK_ExOy7",
        "outputId": "43dfd101-6eb9-4151-fc29-88f6f2eaf7a6"
      },
      "outputs": [
        {
          "data": {
            "text/plain": [
              "tensor([2, 5])"
            ]
          },
          "execution_count": null,
          "metadata": {},
          "output_type": "execute_result"
        }
      ],
      "source": [
        "tns[:,1]"
      ]
    },
    {
      "cell_type": "markdown",
      "metadata": {
        "id": "B5ArIBEAxOy8"
      },
      "source": [
        "You can combine these with Python slice syntax (`[start:end]` with `end` being excluded) to select part of a row or column:"
      ]
    },
    {
      "cell_type": "code",
      "execution_count": null,
      "metadata": {
        "id": "zPiom8VHxOy8",
        "outputId": "f98b86b7-9380-4da0-f0e5-c6986ba7db7f"
      },
      "outputs": [
        {
          "data": {
            "text/plain": [
              "tensor([5, 6])"
            ]
          },
          "execution_count": null,
          "metadata": {},
          "output_type": "execute_result"
        }
      ],
      "source": [
        "tns[1,1:3]"
      ]
    },
    {
      "cell_type": "markdown",
      "metadata": {
        "id": "Dm1uW0qWxOy8"
      },
      "source": [
        "And you can use the standard operators such as `+`, `-`, `*`, `/`:"
      ]
    },
    {
      "cell_type": "code",
      "execution_count": null,
      "metadata": {
        "id": "uq3uBxiUxOy8",
        "outputId": "6459d718-defb-4647-9d85-fef2b7f817b0"
      },
      "outputs": [
        {
          "data": {
            "text/plain": [
              "tensor([[2, 3, 4],\n",
              "        [5, 6, 7]])"
            ]
          },
          "execution_count": null,
          "metadata": {},
          "output_type": "execute_result"
        }
      ],
      "source": [
        "tns+1"
      ]
    },
    {
      "cell_type": "markdown",
      "metadata": {
        "id": "xq86g3VsxOy8"
      },
      "source": [
        "Tensors have a type:"
      ]
    },
    {
      "cell_type": "code",
      "execution_count": null,
      "metadata": {
        "id": "NHxzV697xOy8",
        "outputId": "89c4a280-e102-4cdb-a532-101c16370721"
      },
      "outputs": [
        {
          "data": {
            "text/plain": [
              "'torch.LongTensor'"
            ]
          },
          "execution_count": null,
          "metadata": {},
          "output_type": "execute_result"
        }
      ],
      "source": [
        "tns.type()"
      ]
    },
    {
      "cell_type": "markdown",
      "metadata": {
        "id": "tA9wz6G-xOy9"
      },
      "source": [
        "And will automatically change type as needed, for example from `int` to `float`:"
      ]
    },
    {
      "cell_type": "code",
      "execution_count": null,
      "metadata": {
        "id": "lSWU9VDuxOy9",
        "outputId": "39f8d42a-7489-49a9-90dc-7e702ecf76d0"
      },
      "outputs": [
        {
          "data": {
            "text/plain": [
              "tensor([[1.5000, 3.0000, 4.5000],\n",
              "        [6.0000, 7.5000, 9.0000]])"
            ]
          },
          "execution_count": null,
          "metadata": {},
          "output_type": "execute_result"
        }
      ],
      "source": [
        "tns*1.5"
      ]
    },
    {
      "cell_type": "markdown",
      "metadata": {
        "id": "FWOELPa4xOy9"
      },
      "source": [
        "So, is our baseline model any good? To quantify this, we must define a metric."
      ]
    },
    {
      "cell_type": "markdown",
      "metadata": {
        "id": "CMfbIYgBxOy9"
      },
      "source": [
        "## Computing Metrics Using Broadcasting"
      ]
    },
    {
      "cell_type": "markdown",
      "metadata": {
        "id": "m1mwPRqqxOy9"
      },
      "source": [
        "Recall that a metric is a number that is calculated based on the predictions of our model, and the correct labels in our dataset, in order to tell us how good our model is. For instance, we could use either of the functions we saw in the previous section, mean squared error, or mean absolute error, and take the average of them over the whole dataset. However, neither of these are numbers that are very understandable to most people; in practice, we normally use *accuracy* as the metric for classification models.\n",
        "\n",
        "As we've discussed, we want to calculate our metric over a *validation set*. This is so that we don't inadvertently overfit—that is, train a model to work well only on our training data. This is not really a risk with the pixel similarity model we're using here as a first try, since it has no trained components, but we'll use a validation set anyway to follow normal practices and to be ready for our second try later.\n",
        "\n",
        "To get a validation set we need to remove some of the data from training entirely, so it is not seen by the model at all. As it turns out, the creators of the MNIST dataset have already done this for us. Do you remember how there was a whole separate directory called *valid*? That's what this directory is for!\n",
        "\n",
        "So to start with, let's create tensors for our 3s and 7s from that directory. These are the tensors we will use to calculate a metric measuring the quality of our first-try model, which measures distance from an ideal image:"
      ]
    },
    {
      "cell_type": "code",
      "execution_count": null,
      "metadata": {
        "id": "12O4HpgmxOy-",
        "outputId": "0d181a12-d036-4b21-b610-27cd74ae0efe"
      },
      "outputs": [
        {
          "data": {
            "text/plain": [
              "(torch.Size([1010, 28, 28]), torch.Size([1028, 28, 28]))"
            ]
          },
          "execution_count": null,
          "metadata": {},
          "output_type": "execute_result"
        }
      ],
      "source": [
        "valid_3_tens = torch.stack([tensor(Image.open(o)) \n",
        "                            for o in (path/'valid'/'3').ls()])\n",
        "valid_3_tens = valid_3_tens.float()/255\n",
        "valid_7_tens = torch.stack([tensor(Image.open(o)) \n",
        "                            for o in (path/'valid'/'7').ls()])\n",
        "valid_7_tens = valid_7_tens.float()/255\n",
        "valid_3_tens.shape,valid_7_tens.shape"
      ]
    },
    {
      "cell_type": "markdown",
      "metadata": {
        "id": "uFp3STWKxOy-"
      },
      "source": [
        "It's good to get in the habit of checking shapes as you go. Here we see two tensors, one representing the 3s validation set of 1,010 images of size 28×28, and one representing the 7s validation set of 1,028 images of size 28×28.\n",
        "\n",
        "We ultimately want to write a function, `is_3`, that will decide if an arbitrary image is a 3 or a 7. It will do this by deciding which of our two \"ideal digits\" this arbitrary image is closer to. For that we need to define a notion of distance—that is, a function that calculates the distance between two images.\n",
        "\n",
        "We can write a simple function that calculates the mean absolute error using an expression very similar to the one we wrote in the last section:"
      ]
    },
    {
      "cell_type": "code",
      "execution_count": null,
      "metadata": {
        "id": "g2fy_o2mxOy-",
        "outputId": "df82857e-3ad7-4150-d934-4461b33caf5d"
      },
      "outputs": [
        {
          "data": {
            "text/plain": [
              "tensor(0.1114)"
            ]
          },
          "execution_count": null,
          "metadata": {},
          "output_type": "execute_result"
        }
      ],
      "source": [
        "def mnist_distance(a,b): return (a-b).abs().mean((-1,-2))\n",
        "mnist_distance(a_3, mean3)"
      ]
    },
    {
      "cell_type": "markdown",
      "metadata": {
        "id": "1zTl5uq6xOy-"
      },
      "source": [
        "This is the same value we previously calculated for the distance between these two images, the ideal 3 `mean3` and the arbitrary sample 3 `a_3`, which are both single-image tensors with a shape of `[28,28]`.\n",
        "\n",
        "But in order to calculate a metric for overall accuracy, we will need to calculate the distance to the ideal 3 for _every_ image in the validation set. How do we do that calculation? We could write a loop over all of the single-image tensors that are stacked within our validation set tensor, `valid_3_tens`, which has a shape of `[1010,28,28]` representing 1,010 images. But there is a better way.\n",
        "\n",
        "Something very interesting happens when we take this exact same distance function, designed for comparing two single images, but pass in as an argument `valid_3_tens`, the tensor that represents the 3s validation set:"
      ]
    },
    {
      "cell_type": "code",
      "execution_count": null,
      "metadata": {
        "id": "HByEXfirxOzB",
        "outputId": "a7f8a180-cc90-46fd-f8b2-b751e5d1a7c3"
      },
      "outputs": [
        {
          "data": {
            "text/plain": [
              "(tensor([0.1050, 0.1526, 0.1186,  ..., 0.1122, 0.1170, 0.1086]),\n",
              " torch.Size([1010]))"
            ]
          },
          "execution_count": null,
          "metadata": {},
          "output_type": "execute_result"
        }
      ],
      "source": [
        "valid_3_dist = mnist_distance(valid_3_tens, mean3)\n",
        "valid_3_dist, valid_3_dist.shape"
      ]
    },
    {
      "cell_type": "markdown",
      "metadata": {
        "id": "MT_CgvMCxOzB"
      },
      "source": [
        "Instead of complaining about shapes not matching, it returned the distance for every single image as a vector (i.e., a rank-1 tensor) of length 1,010 (the number of 3s in our validation set). How did that happen?\n",
        "\n",
        "Take another look at our function `mnist_distance`, and you'll see we have there the subtraction `(a-b)`. The magic trick is that PyTorch, when it tries to perform a simple subtraction operation between two tensors of different ranks, will use *broadcasting*. That is, it will automatically expand the tensor with the smaller rank to have the same size as the one with the larger rank. Broadcasting is an important capability that makes tensor code much easier to write.\n",
        "\n",
        "After broadcasting so the two argument tensors have the same rank, PyTorch applies its usual logic for two tensors of the same rank: it performs the operation on each corresponding element of the two tensors, and returns the tensor result. For instance:"
      ]
    },
    {
      "cell_type": "code",
      "execution_count": null,
      "metadata": {
        "id": "hFPoZAH8xOzB",
        "outputId": "5c357e1a-8687-4b3c-dc18-c0d37a8e6a84"
      },
      "outputs": [
        {
          "data": {
            "text/plain": [
              "tensor([2, 3, 4])"
            ]
          },
          "execution_count": null,
          "metadata": {},
          "output_type": "execute_result"
        }
      ],
      "source": [
        "tensor([1,2,3]) + tensor(1)"
      ]
    },
    {
      "cell_type": "markdown",
      "metadata": {
        "id": "cx_nP4FfxOzB"
      },
      "source": [
        "So in this case, PyTorch treats `mean3`, a rank-2 tensor representing a single image, as if it were 1,010 copies of the same image, and then subtracts each of those copies from each 3 in our validation set. What shape would you expect this tensor to have? Try to figure it out yourself before you look at the answer below:"
      ]
    },
    {
      "cell_type": "code",
      "execution_count": null,
      "metadata": {
        "id": "Ls5h8e9gxOzE",
        "outputId": "0dae1c08-8ebe-4d0a-e06c-96fe3a9c2ccd"
      },
      "outputs": [
        {
          "data": {
            "text/plain": [
              "torch.Size([1010, 28, 28])"
            ]
          },
          "execution_count": null,
          "metadata": {},
          "output_type": "execute_result"
        }
      ],
      "source": [
        "(valid_3_tens-mean3).shape"
      ]
    },
    {
      "cell_type": "markdown",
      "metadata": {
        "id": "yW0Y-Sv6xOzE"
      },
      "source": [
        "We are calculating the difference between our \"ideal 3\" and each of the 1,010 3s in the validation set, for each of 28×28 images, resulting in the shape `[1010,28,28]`.\n",
        "\n",
        "There are a couple of important points about how broadcasting is implemented, which make it valuable not just for expressivity but also for performance:\n",
        "\n",
        "- PyTorch doesn't *actually* copy `mean3` 1,010 times. It *pretends* it were a tensor of that shape, but doesn't actually allocate any additional memory\n",
        "- It does the whole calculation in C (or, if you're using a GPU, in CUDA, the equivalent of C on the GPU), tens of thousands of times faster than pure Python (up to millions of times faster on a GPU!).\n",
        "\n",
        "This is true of all broadcasting and elementwise operations and functions done in PyTorch. *It's the most important technique for you to know to create efficient PyTorch code.*\n",
        "\n",
        "Next in `mnist_distance` we see `abs`. You might be able to guess now what this does when applied to a tensor. It applies the method to each individual element in the tensor, and returns a tensor of the results (that is, it applies the method \"elementwise\"). So in this case, we'll get back 1,010 matrices of absolute values.\n",
        "\n",
        "Finally, our function calls `mean((-1,-2))`. The tuple `(-1,-2)` represents a range of axes. In Python, `-1` refers to the last element, and `-2` refers to the second-to-last. So in this case, this tells PyTorch that we want to take the mean ranging over the values indexed by the last two axes of the tensor. The last two axes are the horizontal and vertical dimensions of an image. After taking the mean over the last two axes, we are left with just the first tensor axis, which indexes over our images, which is why our final size was `(1010)`. In other words, for every image, we averaged the intensity of all the pixels in that image.\n",
        "\n",
        "We'll be learning lots more about broadcasting throughout this book, especially in <<chapter_foundations>>, and will be practicing it regularly too.\n",
        "\n",
        "We can use `mnist_distance` to figure out whether an image is a 3 or not by using the following logic: if the distance between the digit in question and the ideal 3 is less than the distance to the ideal 7, then it's a 3. This function will automatically do broadcasting and be applied elementwise, just like all PyTorch functions and operators:"
      ]
    },
    {
      "cell_type": "code",
      "execution_count": null,
      "metadata": {
        "id": "ON9t6jJ3xOzF"
      },
      "outputs": [],
      "source": [
        "def is_3(x): return mnist_distance(x,mean3) < mnist_distance(x,mean7)"
      ]
    },
    {
      "cell_type": "markdown",
      "metadata": {
        "id": "e1qrY2xsxOzI"
      },
      "source": [
        "Let's test it on our example case:"
      ]
    },
    {
      "cell_type": "code",
      "execution_count": null,
      "metadata": {
        "id": "ZC88_CGRxOzI",
        "outputId": "42f2877f-7ab8-4d46-bf4f-c59102107877"
      },
      "outputs": [
        {
          "data": {
            "text/plain": [
              "(tensor(True), tensor(1.))"
            ]
          },
          "execution_count": null,
          "metadata": {},
          "output_type": "execute_result"
        }
      ],
      "source": [
        "is_3(a_3), is_3(a_3).float()"
      ]
    },
    {
      "cell_type": "markdown",
      "metadata": {
        "id": "fgwaF0iyxOzI"
      },
      "source": [
        "Note that when we convert the Boolean response to a float, we get `1.0` for `True` and `0.0` for `False`. Thanks to broadcasting, we can also test it on the full validation set of 3s:"
      ]
    },
    {
      "cell_type": "code",
      "execution_count": null,
      "metadata": {
        "id": "lI979LeLxOzI",
        "outputId": "b7086c7c-41b3-42e0-de57-4886321eaca1"
      },
      "outputs": [
        {
          "data": {
            "text/plain": [
              "tensor([True, True, True,  ..., True, True, True])"
            ]
          },
          "execution_count": null,
          "metadata": {},
          "output_type": "execute_result"
        }
      ],
      "source": [
        "is_3(valid_3_tens)"
      ]
    },
    {
      "cell_type": "markdown",
      "metadata": {
        "id": "-F_gom8dxOzJ"
      },
      "source": [
        "Now we can calculate the accuracy for each of the 3s and 7s by taking the average of that function for all 3s and its inverse for all 7s:"
      ]
    },
    {
      "cell_type": "code",
      "execution_count": null,
      "metadata": {
        "id": "aNqbYCwexOzJ",
        "outputId": "693a15c0-f16e-43e5-8c5a-fc957fa24be2"
      },
      "outputs": [
        {
          "data": {
            "text/plain": [
              "(tensor(0.9168), tensor(0.9854), tensor(0.9511))"
            ]
          },
          "execution_count": null,
          "metadata": {},
          "output_type": "execute_result"
        }
      ],
      "source": [
        "accuracy_3s =      is_3(valid_3_tens).float() .mean()\n",
        "accuracy_7s = (1 - is_3(valid_7_tens).float()).mean()\n",
        "\n",
        "accuracy_3s,accuracy_7s,(accuracy_3s+accuracy_7s)/2"
      ]
    },
    {
      "cell_type": "markdown",
      "metadata": {
        "id": "-KMjC5irxOzJ"
      },
      "source": [
        "This looks like a pretty good start! We're getting over 90% accuracy on both 3s and 7s, and we've seen how to define a metric conveniently using broadcasting.\n",
        "\n",
        "But let's be honest: 3s and 7s are very different-looking digits. And we're only classifying 2 out of the 10 possible digits so far. So we're going to need to do better!\n",
        "\n",
        "To do better, perhaps it is time to try a system that does some real learning—that is, that can automatically modify itself to improve its performance. In other words, it's time to talk about the training process, and SGD."
      ]
    },
    {
      "cell_type": "markdown",
      "metadata": {
        "id": "5m158bxaxOzJ"
      },
      "source": [
        "## Stochastic Gradient Descent (SGD)"
      ]
    },
    {
      "cell_type": "markdown",
      "metadata": {
        "id": "PsQdtJ1SxOzJ"
      },
      "source": [
        "Do you remember the way that Arthur Samuel described machine learning, which we quoted in <<chapter_intro>>?\n",
        "\n",
        "> : Suppose we arrange for some automatic means of testing the effectiveness of any current weight assignment in terms of actual performance and provide a mechanism for altering the weight assignment so as to maximize the performance. We need not go into the details of such a procedure to see that it could be made entirely automatic and to see that a machine so programmed would \"learn\" from its experience.\n",
        "\n",
        "As we discussed, this is the key to allowing us to have a model that can get better and better—that can learn. But our pixel similarity approach does not really do this. We do not have any kind of weight assignment, or any way of improving based on testing the effectiveness of a weight assignment. In other words, we can't really improve our pixel similarity approach by modifying a set of parameters. In order to take advantage of the power of deep learning, we will first have to represent our task in the way that Arthur Samuel described it.\n",
        "\n",
        "Instead of trying to find the similarity between an image and an \"ideal image,\" we could instead look at each individual pixel and come up with a set of weights for each one, such that the highest weights are associated with those pixels most likely to be black for a particular category. For instance, pixels toward the bottom right are not very likely to be activated for a 7, so they should have a low weight for a 7, but they are likely to be activated for an 8, so they should have a high weight for an 8. This can be represented as a function and set of weight values for each possible category—for instance the probability of being the number 8:\n",
        "\n",
        "```\n",
        "def pr_eight(x,w): return (x*w).sum()\n",
        "```"
      ]
    },
    {
      "cell_type": "markdown",
      "metadata": {
        "id": "HRg3P9TCxOzK"
      },
      "source": [
        "Here we are assuming that `x` is the image, represented as a vector—in other words, with all of the rows stacked up end to end into a single long line. And we are assuming that the weights are a vector `w`. If we have this function, then we just need some way to update the weights to make them a little bit better. With such an approach, we can repeat that step a number of times, making the weights better and better, until they are as good as we can make them.\n",
        "\n",
        "We want to find the specific values for the vector `w` that causes the result of our function to be high for those images that are actually 8s, and low for those images that are not. Searching for the best vector `w` is a way to search for the best function for recognising 8s. (Because we are not yet using a deep neural network, we are limited by what our function can actually do—we are going to fix that constraint later in this chapter.) \n",
        "\n",
        "To be more specific, here are the steps that we are going to require, to turn this function into a machine learning classifier:\n",
        "\n",
        "1. *Initialize* the weights.\n",
        "1. For each image, use these weights to *predict* whether it appears to be a 3 or a 7.\n",
        "1. Based on these predictions, calculate how good the model is (its *loss*).\n",
        "1. Calculate the *gradient*, which measures for each weight, how changing that weight would change the loss\n",
        "1. *Step* (that is, change) all the weights based on that calculation.\n",
        "1. Go back to the step 2, and *repeat* the process.\n",
        "1. Iterate until you decide to *stop* the training process (for instance, because the model is good enough or you don't want to wait any longer)."
      ]
    },
    {
      "cell_type": "markdown",
      "metadata": {
        "id": "Wpu65noUxOzK"
      },
      "source": [
        "These seven steps, illustrated in <<gradient_descent>>, are the key to the training of all deep learning models. That deep learning turns out to rely entirely on these steps is extremely surprising and counterintuitive. It's amazing that this process can solve such complex problems. But, as you'll see, it really does!"
      ]
    },
    {
      "cell_type": "code",
      "execution_count": null,
      "metadata": {
        "hide_input": true,
        "id": "1-v-ix2RxOzK",
        "outputId": "dcf32b79-aa1f-41ae-a5c2-533388a83686"
      },
      "outputs": [
        {
          "data": {
            "image/svg+xml": [
              "<?xml version=\"1.0\" encoding=\"UTF-8\" standalone=\"no\"?>\n",
              "<!DOCTYPE svg PUBLIC \"-//W3C//DTD SVG 1.1//EN\"\n",
              " \"http://www.w3.org/Graphics/SVG/1.1/DTD/svg11.dtd\">\n",
              "<!-- Generated by graphviz version 2.40.1 (20161225.0304)\n",
              " -->\n",
              "<!-- Title: G Pages: 1 -->\n",
              "<svg width=\"591pt\" height=\"78pt\"\n",
              " viewBox=\"0.00 0.00 591.49 78.00\" xmlns=\"http://www.w3.org/2000/svg\" xmlns:xlink=\"http://www.w3.org/1999/xlink\">\n",
              "<g id=\"graph0\" class=\"graph\" transform=\"scale(1 1) rotate(0) translate(4 74)\">\n",
              "<title>G</title>\n",
              "<polygon fill=\"#ffffff\" stroke=\"transparent\" points=\"-4,4 -4,-74 587.4867,-74 587.4867,4 -4,4\"/>\n",
              "<!-- init -->\n",
              "<g id=\"node1\" class=\"node\">\n",
              "<title>init</title>\n",
              "<ellipse fill=\"none\" stroke=\"#000000\" cx=\"27\" cy=\"-18\" rx=\"27\" ry=\"18\"/>\n",
              "<text text-anchor=\"middle\" x=\"27\" y=\"-14.3\" font-family=\"Times,serif\" font-size=\"14.00\" fill=\"#000000\">init</text>\n",
              "</g>\n",
              "<!-- predict -->\n",
              "<g id=\"node2\" class=\"node\">\n",
              "<title>predict</title>\n",
              "<ellipse fill=\"none\" stroke=\"#000000\" cx=\"126.0969\" cy=\"-18\" rx=\"35.194\" ry=\"18\"/>\n",
              "<text text-anchor=\"middle\" x=\"126.0969\" y=\"-14.3\" font-family=\"Times,serif\" font-size=\"14.00\" fill=\"#000000\">predict</text>\n",
              "</g>\n",
              "<!-- init&#45;&gt;predict -->\n",
              "<g id=\"edge1\" class=\"edge\">\n",
              "<title>init&#45;&gt;predict</title>\n",
              "<path fill=\"none\" stroke=\"#000000\" d=\"M54.0787,-18C62.3227,-18 71.6196,-18 80.7269,-18\"/>\n",
              "<polygon fill=\"#000000\" stroke=\"#000000\" points=\"80.8626,-21.5001 90.8626,-18 80.8625,-14.5001 80.8626,-21.5001\"/>\n",
              "</g>\n",
              "<!-- loss -->\n",
              "<g id=\"node3\" class=\"node\">\n",
              "<title>loss</title>\n",
              "<ellipse fill=\"none\" stroke=\"#000000\" cx=\"225.1938\" cy=\"-52\" rx=\"27\" ry=\"18\"/>\n",
              "<text text-anchor=\"middle\" x=\"225.1938\" y=\"-48.3\" font-family=\"Times,serif\" font-size=\"14.00\" fill=\"#000000\">loss</text>\n",
              "</g>\n",
              "<!-- predict&#45;&gt;loss -->\n",
              "<g id=\"edge2\" class=\"edge\">\n",
              "<title>predict&#45;&gt;loss</title>\n",
              "<path fill=\"none\" stroke=\"#000000\" d=\"M155.2932,-28.0172C166.6224,-31.9043 179.6698,-36.3808 191.4018,-40.406\"/>\n",
              "<polygon fill=\"#000000\" stroke=\"#000000\" points=\"190.2859,-43.7234 200.8806,-43.6582 192.5577,-37.1023 190.2859,-43.7234\"/>\n",
              "</g>\n",
              "<!-- gradient -->\n",
              "<g id=\"node4\" class=\"node\">\n",
              "<title>gradient</title>\n",
              "<ellipse fill=\"none\" stroke=\"#000000\" cx=\"361.8403\" cy=\"-52\" rx=\"39.7935\" ry=\"18\"/>\n",
              "<text text-anchor=\"middle\" x=\"361.8403\" y=\"-48.3\" font-family=\"Times,serif\" font-size=\"14.00\" fill=\"#000000\">gradient</text>\n",
              "</g>\n",
              "<!-- loss&#45;&gt;gradient -->\n",
              "<g id=\"edge3\" class=\"edge\">\n",
              "<title>loss&#45;&gt;gradient</title>\n",
              "<path fill=\"none\" stroke=\"#000000\" d=\"M252.5178,-52C269.4967,-52 291.836,-52 311.8929,-52\"/>\n",
              "<polygon fill=\"#000000\" stroke=\"#000000\" points=\"312.1329,-55.5001 322.1329,-52 312.1328,-48.5001 312.1329,-55.5001\"/>\n",
              "</g>\n",
              "<!-- step -->\n",
              "<g id=\"node5\" class=\"node\">\n",
              "<title>step</title>\n",
              "<ellipse fill=\"none\" stroke=\"#000000\" cx=\"465.4867\" cy=\"-18\" rx=\"27\" ry=\"18\"/>\n",
              "<text text-anchor=\"middle\" x=\"465.4867\" y=\"-14.3\" font-family=\"Times,serif\" font-size=\"14.00\" fill=\"#000000\">step</text>\n",
              "</g>\n",
              "<!-- gradient&#45;&gt;step -->\n",
              "<g id=\"edge4\" class=\"edge\">\n",
              "<title>gradient&#45;&gt;step</title>\n",
              "<path fill=\"none\" stroke=\"#000000\" d=\"M394.0665,-41.4286C405.9515,-37.5298 419.4492,-33.1021 431.4862,-29.1535\"/>\n",
              "<polygon fill=\"#000000\" stroke=\"#000000\" points=\"432.7754,-32.4142 441.1862,-25.9715 430.5935,-25.7629 432.7754,-32.4142\"/>\n",
              "</g>\n",
              "<!-- step&#45;&gt;predict -->\n",
              "<g id=\"edge6\" class=\"edge\">\n",
              "<title>step&#45;&gt;predict</title>\n",
              "<path fill=\"none\" stroke=\"#000000\" d=\"M438.4132,-18C380.3272,-18 243.2155,-18 171.5401,-18\"/>\n",
              "<polygon fill=\"#000000\" stroke=\"#000000\" points=\"171.4571,-14.5001 161.4571,-18 171.4571,-21.5001 171.4571,-14.5001\"/>\n",
              "<text text-anchor=\"middle\" x=\"287.1938\" y=\"-21.8\" font-family=\"Times,serif\" font-size=\"14.00\" fill=\"#000000\">repeat</text>\n",
              "</g>\n",
              "<!-- stop -->\n",
              "<g id=\"node6\" class=\"node\">\n",
              "<title>stop</title>\n",
              "<ellipse fill=\"none\" stroke=\"#000000\" cx=\"556.4867\" cy=\"-18\" rx=\"27\" ry=\"18\"/>\n",
              "<text text-anchor=\"middle\" x=\"556.4867\" y=\"-14.3\" font-family=\"Times,serif\" font-size=\"14.00\" fill=\"#000000\">stop</text>\n",
              "</g>\n",
              "<!-- step&#45;&gt;stop -->\n",
              "<g id=\"edge5\" class=\"edge\">\n",
              "<title>step&#45;&gt;stop</title>\n",
              "<path fill=\"none\" stroke=\"#000000\" d=\"M492.7897,-18C501.068,-18 510.3085,-18 519.1272,-18\"/>\n",
              "<polygon fill=\"#000000\" stroke=\"#000000\" points=\"519.203,-21.5001 529.203,-18 519.203,-14.5001 519.203,-21.5001\"/>\n",
              "</g>\n",
              "</g>\n",
              "</svg>\n"
            ],
            "text/plain": [
              "<graphviz.files.Source at 0x7f10d475e550>"
            ]
          },
          "execution_count": null,
          "metadata": {},
          "output_type": "execute_result"
        }
      ],
      "source": [
        "#id gradient_descent\n",
        "#caption The gradient descent process\n",
        "#alt Graph showing the steps for Gradient Descent\n",
        "gv('''\n",
        "init->predict->loss->gradient->step->stop\n",
        "step->predict[label=repeat]\n",
        "''')"
      ]
    },
    {
      "cell_type": "markdown",
      "metadata": {
        "id": "4JciXbaXxOzK"
      },
      "source": [
        "There are many different ways to do each of these seven steps, and we will be learning about them throughout the rest of this book. These are the details that make a big difference for deep learning practitioners, but it turns out that the general approach to each one generally follows some basic principles. Here are a few guidelines:\n",
        "\n",
        "- Initialize:: We initialize the parameters to random values. This may sound surprising. There are certainly other choices we could make, such as initializing them to the percentage of times that pixel is activated for that category—but since we already know that we have a routine to improve these weights, it turns out that just starting with random weights works perfectly well.\n",
        "- Loss:: This is what Samuel referred to when he spoke of *testing the effectiveness of any current weight assignment in terms of actual performance*. We need some function that will return a number that is small if the performance of the model is good (the standard approach is to treat a small loss as good, and a large loss as bad, although this is just a convention).\n",
        "- Step:: A simple way to figure out whether a weight should be increased a bit, or decreased a bit, would be just to try it: increase the weight by a small amount, and see if the loss goes up or down. Once you find the correct direction, you could then change that amount by a bit more, and a bit less, until you find an amount that works well. However, this is slow! As we will see, the magic of calculus allows us to directly figure out in which direction, and by roughly how much, to change each weight, without having to try all these small changes. The way to do this is by calculating *gradients*. This is just a performance optimization, we would get exactly the same results by using the slower manual process as well.\n",
        "- Stop:: Once we've decided how many epochs to train the model for (a few suggestions for this were given in the earlier list), we apply that decision. This is where that decision is applied. For our digit classifier, we would keep training until the accuracy of the model started getting worse, or we ran out of time."
      ]
    },
    {
      "cell_type": "markdown",
      "metadata": {
        "id": "Arv2rmwrxOzL"
      },
      "source": [
        "Before applying these steps to our image classification problem, let's illustrate what they look like in a simpler case. First we will define a very simple function, the quadratic—let's pretend that this is our loss function, and `x` is a weight parameter of the function:"
      ]
    },
    {
      "cell_type": "code",
      "execution_count": null,
      "metadata": {
        "id": "L0Cxkxw1xOzL"
      },
      "outputs": [],
      "source": [
        "def f(x): return x**2"
      ]
    },
    {
      "cell_type": "markdown",
      "metadata": {
        "id": "BcdZvtVixOzL"
      },
      "source": [
        "Here is a graph of that function:"
      ]
    },
    {
      "cell_type": "code",
      "execution_count": null,
      "metadata": {
        "id": "WCOkVrNkxOzL",
        "outputId": "a7e02de3-9660-4352-e209-696785ab734e"
      },
      "outputs": [
        {
          "data": {
            "image/png": "[encoded data removed]",
            "text/plain": [
              "<Figure size 432x288 with 1 Axes>"
            ]
          },
          "metadata": {
            "needs_background": "light"
          },
          "output_type": "display_data"
        }
      ],
      "source": [
        "plot_function(f, 'x', 'x**2')"
      ]
    },
    {
      "cell_type": "markdown",
      "metadata": {
        "id": "tcxgdCO1xOzL"
      },
      "source": [
        "The sequence of steps we described earlier starts by picking some random value for a parameter, and calculating the value of the loss:"
      ]
    },
    {
      "cell_type": "code",
      "execution_count": null,
      "metadata": {
        "id": "BKl1p8GpxOzM",
        "outputId": "93dee85b-e01e-4a4f-cd6d-15cb3d2dc8d1"
      },
      "outputs": [
        {
          "data": {
            "image/png": "[encoded data removed]",
            "text/plain": [
              "<Figure size 432x288 with 1 Axes>"
            ]
          },
          "metadata": {
            "needs_background": "light"
          },
          "output_type": "display_data"
        }
      ],
      "source": [
        "plot_function(f, 'x', 'x**2')\n",
        "plt.scatter(-1.5, f(-1.5), color='red');"
      ]
    },
    {
      "cell_type": "markdown",
      "metadata": {
        "id": "ufoJJ-WvxOzM"
      },
      "source": [
        "Now we look to see what would happen if we increased or decreased our parameter by a little bit—the *adjustment*. This is simply the slope at a particular point:"
      ]
    },
    {
      "cell_type": "markdown",
      "metadata": {
        "id": "AQkqM770xOzM"
      },
      "source": [
        "<img alt=\"A graph showing the squared function with the slope at one point\" width=\"400\" src=\"https://github.com/fastai/fastbook/blob/master/images/grad_illustration.svg?raw=1\"/>"
      ]
    },
    {
      "cell_type": "markdown",
      "metadata": {
        "id": "vWfcYhv-xOzM"
      },
      "source": [
        "We can change our weight by a little in the direction of the slope, calculate our loss and adjustment again, and repeat this a few times. Eventually, we will get to the lowest point on our curve:"
      ]
    },
    {
      "cell_type": "markdown",
      "metadata": {
        "id": "Zg2opjB_xOzM"
      },
      "source": [
        "<img alt=\"An illustration of gradient descent\" width=\"400\" src=\"https://github.com/fastai/fastbook/blob/master/images/chapter2_perfect.svg?raw=1\"/>"
      ]
    },
    {
      "cell_type": "markdown",
      "metadata": {
        "id": "5j3xpqg0xOzM"
      },
      "source": [
        "This basic idea goes all the way back to Isaac Newton, who pointed out that we can optimize arbitrary functions in this way. Regardless of how complicated our functions become, this basic approach of gradient descent will not significantly change. The only minor changes we will see later in this book are some handy ways we can make it faster, by finding better steps."
      ]
    },
    {
      "cell_type": "markdown",
      "metadata": {
        "id": "7k8544sZxOzM"
      },
      "source": [
        "### Calculating Gradients"
      ]
    },
    {
      "cell_type": "markdown",
      "metadata": {
        "id": "uJOkyxVbxOzN"
      },
      "source": [
        "The one magic step is the bit where we calculate the gradients. As we mentioned, we use calculus as a performance optimization; it allows us to more quickly calculate whether our loss will go up or down when we adjust our parameters up or down. In other words, the gradients will tell us how much we have to change each weight to make our model better.\n",
        "\n",
        "You may remember from your high school calculus class that the *derivative* of a function tells you how much a change in its parameters will change its result. If not, don't worry, lots of us forget calculus once high school is behind us! But you will have to have some intuitive understanding of what a derivative is before you continue, so if this is all very fuzzy in your head, head over to Khan Academy and complete the [lessons on basic derivatives](https://www.khanacademy.org/math/differential-calculus/dc-diff-intro). You won't have to know how to calculate them yourselves, you just have to know what a derivative is.\n",
        "\n",
        "The key point about a derivative is this: for any function, such as the quadratic function we saw in the previous section, we can calculate its derivative. The derivative is another function. It calculates the change, rather than the value. For instance, the derivative of the quadratic function at the value 3 tells us how rapidly the function changes at the value 3. More specifically, you may recall that gradient is defined as *rise/run*, that is, the change in the value of the function, divided by the change in the value of the parameter. When we know how our function will change, then we know what we need to do to make it smaller. This is the key to machine learning: having a way to change the parameters of a function to make it smaller. Calculus provides us with a computational shortcut, the derivative, which lets us directly calculate the gradients of our functions."
      ]
    },
    {
      "cell_type": "markdown",
      "metadata": {
        "id": "0ZJKE3YxxOzN"
      },
      "source": [
        "One important thing to be aware of is that our function has lots of weights that we need to adjust, so when we calculate the derivative we won't get back one number, but lots of them—a gradient for every weight. But there is nothing mathematically tricky here; you can calculate the derivative with respect to one weight, and treat all the other ones as constant, then repeat that for each other weight. This is how all of the gradients are calculated, for every weight.\n",
        "\n",
        "We mentioned just now that you won't have to calculate any gradients yourself. How can that be? Amazingly enough, PyTorch is able to automatically compute the derivative of nearly any function! What's more, it does it very fast. Most of the time, it will be at least as fast as any derivative function that you can create by hand. Let's see an example.\n",
        "\n",
        "First, let's pick a tensor value which we want gradients at:"
      ]
    },
    {
      "cell_type": "code",
      "execution_count": null,
      "metadata": {
        "id": "VsPAF19VxOzN"
      },
      "outputs": [],
      "source": [
        "xt = tensor(3.).requires_grad_()"
      ]
    },
    {
      "cell_type": "markdown",
      "metadata": {
        "id": "56KXB93CxOzN"
      },
      "source": [
        "Notice the special method `requires_grad_`? That's the magical incantation we use to tell PyTorch that we want to calculate gradients with respect to that variable at that value. It is essentially tagging the variable, so PyTorch will remember to keep track of how to compute gradients of the other, direct calculations on it that you will ask for.\n",
        "\n",
        "> a: This API might throw you off if you're coming from math or physics. In those contexts the \"gradient\" of a function is just another function (i.e., its derivative), so you might expect gradient-related APIs to give you a new function. But in deep learning, \"gradients\" usually means the _value_ of a function's derivative at a particular argument value. The PyTorch API also puts the focus on the argument, not the function you're actually computing the gradients of. It may feel backwards at first, but it's just a different perspective.\n",
        "\n",
        "Now we calculate our function with that value. Notice how PyTorch prints not just the value calculated, but also a note that it has a gradient function it'll be using to calculate our gradients when needed:"
      ]
    },
    {
      "cell_type": "code",
      "execution_count": null,
      "metadata": {
        "id": "m4cfSb9cxOzN",
        "outputId": "e3c9d7fc-8464-4570-b914-69858166a706"
      },
      "outputs": [
        {
          "data": {
            "text/plain": [
              "tensor(9., grad_fn=<PowBackward0>)"
            ]
          },
          "execution_count": null,
          "metadata": {},
          "output_type": "execute_result"
        }
      ],
      "source": [
        "yt = f(xt)\n",
        "yt"
      ]
    },
    {
      "cell_type": "markdown",
      "metadata": {
        "id": "_npbjlr6xOzO"
      },
      "source": [
        "Finally, we tell PyTorch to calculate the gradients for us:"
      ]
    },
    {
      "cell_type": "code",
      "execution_count": null,
      "metadata": {
        "id": "PDgdEbbUxOzO"
      },
      "outputs": [],
      "source": [
        "yt.backward()"
      ]
    },
    {
      "cell_type": "markdown",
      "metadata": {
        "id": "pFlKGK2TxOzO"
      },
      "source": [
        "The \"backward\" here refers to *backpropagation*, which is the name given to the process of calculating the derivative of each layer. We'll see how this is done exactly in chapter <<chapter_foundations>>, when we calculate the gradients of a deep neural net from scratch. This is called the \"backward pass\" of the network, as opposed to the \"forward pass,\" which is where the activations are calculated. Life would probably be easier if `backward` was just called `calculate_grad`, but deep learning folks really do like to add jargon everywhere they can!"
      ]
    },
    {
      "cell_type": "markdown",
      "metadata": {
        "id": "vMQuldZUxOzO"
      },
      "source": [
        "We can now view the gradients by checking the `grad` attribute of our tensor:"
      ]
    },
    {
      "cell_type": "code",
      "execution_count": null,
      "metadata": {
        "id": "NOG2BnbbxOzO",
        "outputId": "05bbbbf4-8eda-405b-c797-67ef5fd55db3"
      },
      "outputs": [
        {
          "data": {
            "text/plain": [
              "tensor(6.)"
            ]
          },
          "execution_count": null,
          "metadata": {},
          "output_type": "execute_result"
        }
      ],
      "source": [
        "xt.grad"
      ]
    },
    {
      "cell_type": "markdown",
      "metadata": {
        "id": "5Menedw3xOzO"
      },
      "source": [
        "If you remember your high school calculus rules, the derivative of `x**2` is `2*x`, and we have `x=3`, so the gradients should be `2*3=6`, which is what PyTorch calculated for us!\n",
        "\n",
        "Now we'll repeat the preceding steps, but with a vector argument for our function:"
      ]
    },
    {
      "cell_type": "code",
      "execution_count": null,
      "metadata": {
        "id": "t94AoG-1xOzP",
        "outputId": "120e273f-6c85-48e6-f3e1-249250aa6cea"
      },
      "outputs": [
        {
          "data": {
            "text/plain": [
              "tensor([ 3.,  4., 10.], requires_grad=True)"
            ]
          },
          "execution_count": null,
          "metadata": {},
          "output_type": "execute_result"
        }
      ],
      "source": [
        "xt = tensor([3.,4.,10.]).requires_grad_()\n",
        "xt"
      ]
    },
    {
      "cell_type": "markdown",
      "metadata": {
        "id": "wEl3_T8axOzP"
      },
      "source": [
        "And we'll add `sum` to our function so it can take a vector (i.e., a rank-1 tensor), and return a scalar (i.e., a rank-0 tensor):"
      ]
    },
    {
      "cell_type": "code",
      "execution_count": null,
      "metadata": {
        "id": "wgNcZQVsxOzQ",
        "outputId": "7ac02269-6db7-46b9-f514-dc68e724c0d5"
      },
      "outputs": [
        {
          "data": {
            "text/plain": [
              "tensor(125., grad_fn=<SumBackward0>)"
            ]
          },
          "execution_count": null,
          "metadata": {},
          "output_type": "execute_result"
        }
      ],
      "source": [
        "def f(x): return (x**2).sum()\n",
        "\n",
        "yt = f(xt)\n",
        "yt"
      ]
    },
    {
      "cell_type": "markdown",
      "metadata": {
        "id": "TN4ppKPbxOzR"
      },
      "source": [
        "Our gradients are `2*xt`, as we'd expect!"
      ]
    },
    {
      "cell_type": "code",
      "execution_count": null,
      "metadata": {
        "id": "cKogjZMuxOzR",
        "outputId": "fda726bd-c72b-45a0-9dfa-83ea00cac4ce"
      },
      "outputs": [
        {
          "data": {
            "text/plain": [
              "tensor([ 6.,  8., 20.])"
            ]
          },
          "execution_count": null,
          "metadata": {},
          "output_type": "execute_result"
        }
      ],
      "source": [
        "yt.backward()\n",
        "xt.grad"
      ]
    },
    {
      "cell_type": "markdown",
      "metadata": {
        "id": "oc0q2eO8xOzS"
      },
      "source": [
        "The gradients only tell us the slope of our function, they don't actually tell us exactly how far to adjust the parameters. But it gives us some idea of how far; if the slope is very large, then that may suggest that we have more adjustments to do, whereas if the slope is very small, that may suggest that we are close to the optimal value."
      ]
    },
    {
      "cell_type": "markdown",
      "metadata": {
        "id": "XHDl35UtxOzS"
      },
      "source": [
        "### Stepping With a Learning Rate"
      ]
    },
    {
      "cell_type": "markdown",
      "metadata": {
        "id": "AOub4ETLxOzS"
      },
      "source": [
        "Deciding how to change our parameters based on the values of the gradients is an important part of the deep learning process. Nearly all approaches start with the basic idea of multiplying the gradient by some small number, called the *learning rate* (LR). The learning rate is often a number between 0.001 and 0.1, although it could be anything. Often, people select a learning rate just by trying a few, and finding which results in the best model after training (we'll show you a better approach later in this book, called the *learning rate finder*). Once you've picked a learning rate, you can adjust your parameters using this simple function:\n",
        "\n",
        "```\n",
        "w -= gradient(w) * lr\n",
        "```\n",
        "\n",
        "This is known as *stepping* your parameters, using an *optimizer step*. Notice how we _subtract_ the `gradient * lr` from the parameter to update it.  This allows us to adjust the parameter in the direction of the slope by increasing the parameter when the slope is negative and decreasing the parameter when the slope is positive.  We want to adjust our parameters in the direction of the slope because our goal in deep learning is to _minimize_ the loss.\n",
        "\n",
        "If you pick a learning rate that's too low, it can mean having to do a lot of steps. <<descent_small>> illustrates that."
      ]
    },
    {
      "cell_type": "markdown",
      "metadata": {
        "id": "RK1hg4ZQxOzS"
      },
      "source": [
        "<img alt=\"An illustration of gradient descent with a LR too low\" width=\"400\" caption=\"Gradient descent with low LR\" src=\"https://github.com/fastai/fastbook/blob/master/images/chapter2_small.svg?raw=1\" id=\"descent_small\"/>"
      ]
    },
    {
      "cell_type": "markdown",
      "metadata": {
        "id": "ieYY7P9jxOzV"
      },
      "source": [
        "But picking a learning rate that's too high is even worse—it can actually result in the loss getting *worse*, as we see in <<descent_div>>!"
      ]
    },
    {
      "cell_type": "markdown",
      "metadata": {
        "id": "m7zw8j7zxOzV"
      },
      "source": [
        "<img alt=\"An illustration of gradient descent with a LR too high\" width=\"400\" caption=\"Gradient descent with high LR\" src=\"https://github.com/fastai/fastbook/blob/master/images/chapter2_div.svg?raw=1\" id=\"descent_div\"/>"
      ]
    },
    {
      "cell_type": "markdown",
      "metadata": {
        "id": "JX6WTYHjxOzV"
      },
      "source": [
        "If the learning rate is too high, it may also \"bounce\" around, rather than actually diverging; <<descent_bouncy>> shows how this has the result of taking many steps to train successfully."
      ]
    },
    {
      "cell_type": "markdown",
      "metadata": {
        "id": "egzk7mDrxOzW"
      },
      "source": [
        "<img alt=\"An illustation of gradient descent with a bouncy LR\" width=\"400\" caption=\"Gradient descent with bouncy LR\" src=\"https://github.com/fastai/fastbook/blob/master/images/chapter2_bouncy.svg?raw=1\" id=\"descent_bouncy\"/>"
      ]
    },
    {
      "cell_type": "markdown",
      "metadata": {
        "id": "WHPON7-ExOzW"
      },
      "source": [
        "Now let's apply all of this in an end-to-end example."
      ]
    },
    {
      "cell_type": "markdown",
      "metadata": {
        "id": "e131IqQaxOzW"
      },
      "source": [
        "### An End-to-End SGD Example"
      ]
    },
    {
      "cell_type": "markdown",
      "metadata": {
        "id": "hsHrgY_1xOzW"
      },
      "source": [
        "We've seen how to use gradients to find a minimum. Now it's time to look at an SGD example and see how finding a minimum can be used to train a model to fit data better.\n",
        "\n",
        "Let's start with a simple, synthetic, example model. Imagine you were measuring the speed of a roller coaster as it went over the top of a hump. It would start fast, and then get slower as it went up the hill; it would be slowest at the top, and it would then speed up again as it went downhill. You want to build a model of how the speed changes over time. If you were measuring the speed manually every second for 20 seconds, it might look something like this:"
      ]
    },
    {
      "cell_type": "code",
      "execution_count": null,
      "metadata": {
        "id": "SRhISbhZxOzW",
        "outputId": "56bfc863-dd10-4a20-c3eb-f043bf39c913"
      },
      "outputs": [
        {
          "data": {
            "text/plain": [
              "tensor([ 0.,  1.,  2.,  3.,  4.,  5.,  6.,  7.,  8.,  9., 10., 11., 12., 13., 14., 15., 16., 17., 18., 19.])"
            ]
          },
          "execution_count": null,
          "metadata": {},
          "output_type": "execute_result"
        }
      ],
      "source": [
        "time = torch.arange(0,20).float(); time"
      ]
    },
    {
      "cell_type": "code",
      "execution_count": null,
      "metadata": {
        "id": "-Osuv0e7xOzW",
        "outputId": "a16813d9-0346-49de-b67c-dac24b33c8e7"
      },
      "outputs": [
        {
          "data": {
            "image/png": "[encoded data removed]",
            "text/plain": [
              "<Figure size 432x288 with 1 Axes>"
            ]
          },
          "metadata": {
            "needs_background": "light"
          },
          "output_type": "display_data"
        }
      ],
      "source": [
        "speed = torch.randn(20)*3 + 0.75*(time-9.5)**2 + 1\n",
        "plt.scatter(time,speed);"
      ]
    },
    {
      "cell_type": "markdown",
      "metadata": {
        "id": "PlcGg3zixOzX"
      },
      "source": [
        "We've added a bit of random noise, since measuring things manually isn't precise. This means it's not that easy to answer the question: what was the roller coaster's speed? Using SGD we can try to find a function that matches our observations. We can't consider every possible function, so let's use a guess that it will be quadratic; i.e., a function of the form `a*(time**2)+(b*time)+c`.\n",
        "\n",
        "We want to distinguish clearly between the function's input (the time when we are measuring the coaster's speed) and its parameters (the values that define *which* quadratic we're trying). So, let's collect the parameters in one argument and thus separate the input, `t`, and the parameters, `params`, in the function's signature: "
      ]
    },
    {
      "cell_type": "code",
      "execution_count": null,
      "metadata": {
        "id": "Tk8rT-Y0xOzX"
      },
      "outputs": [],
      "source": [
        "def f(t, params):\n",
        "    a,b,c = params\n",
        "    return a*(t**2) + (b*t) + c"
      ]
    },
    {
      "cell_type": "markdown",
      "metadata": {
        "id": "C7LhymKAxOza"
      },
      "source": [
        "In other words, we've restricted the problem of finding the best imaginable function that fits the data, to finding the best *quadratic* function. This greatly simplifies the problem, since every quadratic function is fully defined by the three parameters `a`, `b`, and `c`. Thus, to find the best quadratic function, we only need to find the best values for `a`, `b`, and `c`.\n",
        "\n",
        "If we can solve this problem for the three parameters of a quadratic function, we'll be able to apply the same approach for other, more complex functions with more parameters—such as a neural net. Let's find the parameters for `f` first, and then we'll come back and do the same thing for the MNIST dataset with a neural net.\n",
        "\n",
        "We need to define first what we mean by \"best.\" We define this precisely by choosing a *loss function*, which will return a value based on a prediction and a target, where lower values of the function correspond to \"better\" predictions. It is important for loss functions to return _lower_ values when predictions are more accurate, as the SGD procedure we defined earlier will try to _minimize_ this loss. For continuous data, it's common to use *mean squared error*:"
      ]
    },
    {
      "cell_type": "code",
      "execution_count": null,
      "metadata": {
        "id": "80hdE22kxOza"
      },
      "outputs": [],
      "source": [
        "def mse(preds, targets): return ((preds-targets)**2).mean()"
      ]
    },
    {
      "cell_type": "markdown",
      "metadata": {
        "id": "XBOQsrGOxOza"
      },
      "source": [
        "Now, let's work through our 7 step process."
      ]
    },
    {
      "cell_type": "markdown",
      "metadata": {
        "id": "M79EcAcNxOza"
      },
      "source": [
        "#### Step 1: Initialize the parameters"
      ]
    },
    {
      "cell_type": "markdown",
      "metadata": {
        "id": "YS9Q6Me_xOza"
      },
      "source": [
        "First, we initialize the parameters to random values, and tell PyTorch that we want to track their gradients, using `requires_grad_`:"
      ]
    },
    {
      "cell_type": "code",
      "execution_count": null,
      "metadata": {
        "id": "zPqRfnZIxOzb"
      },
      "outputs": [],
      "source": [
        "params = torch.randn(3).requires_grad_()"
      ]
    },
    {
      "cell_type": "code",
      "execution_count": null,
      "metadata": {
        "id": "Nm2fEyUxxOzb"
      },
      "outputs": [],
      "source": [
        "#hide\n",
        "orig_params = params.clone()"
      ]
    },
    {
      "cell_type": "markdown",
      "metadata": {
        "id": "Er4cDpMoxOzb"
      },
      "source": [
        "#### Step 2: Calculate the predictions"
      ]
    },
    {
      "cell_type": "markdown",
      "metadata": {
        "id": "tHI741AlxOzb"
      },
      "source": [
        "Next, we calculate the predictions:"
      ]
    },
    {
      "cell_type": "code",
      "execution_count": null,
      "metadata": {
        "id": "woefkygDxOzb"
      },
      "outputs": [],
      "source": [
        "preds = f(time, params)"
      ]
    },
    {
      "cell_type": "markdown",
      "metadata": {
        "id": "_bCz5Ku-xOzb"
      },
      "source": [
        "Let's create a little function to see how close our predictions are to our targets, and take a look:"
      ]
    },
    {
      "cell_type": "code",
      "execution_count": null,
      "metadata": {
        "id": "uewGekegxOzc"
      },
      "outputs": [],
      "source": [
        "def show_preds(preds, ax=None):\n",
        "    if ax is None: ax=plt.subplots()[1]\n",
        "    ax.scatter(time, speed)\n",
        "    ax.scatter(time, to_np(preds), color='red')\n",
        "    ax.set_ylim(-300,100)"
      ]
    },
    {
      "cell_type": "code",
      "execution_count": null,
      "metadata": {
        "id": "L2hBDWPoxOzc",
        "outputId": "eded3158-ac15-44a6-a35e-1308102db145"
      },
      "outputs": [
        {
          "data": {
            "image/png": "[encoded data removed]",
            "text/plain": [
              "<Figure size 432x288 with 1 Axes>"
            ]
          },
          "metadata": {
            "needs_background": "light"
          },
          "output_type": "display_data"
        }
      ],
      "source": [
        "show_preds(preds)"
      ]
    },
    {
      "cell_type": "markdown",
      "metadata": {
        "id": "Q4rXQSVTxOzc"
      },
      "source": [
        "This doesn't look very close—our random parameters suggest that the roller coaster will end up going backwards, since we have negative speeds!"
      ]
    },
    {
      "cell_type": "markdown",
      "metadata": {
        "id": "rttBs4DPxOzd"
      },
      "source": [
        "#### Step 3: Calculate the loss"
      ]
    },
    {
      "cell_type": "markdown",
      "metadata": {
        "id": "S-XSTYNbxOzd"
      },
      "source": [
        "We calculate the loss as follows:"
      ]
    },
    {
      "cell_type": "code",
      "execution_count": null,
      "metadata": {
        "id": "ARh33ZMFxOzd",
        "outputId": "104a1771-541c-420d-8bbd-85b8714f9799"
      },
      "outputs": [
        {
          "data": {
            "text/plain": [
              "tensor(25823.8086, grad_fn=<MeanBackward0>)"
            ]
          },
          "execution_count": null,
          "metadata": {},
          "output_type": "execute_result"
        }
      ],
      "source": [
        "loss = mse(preds, speed)\n",
        "loss"
      ]
    },
    {
      "cell_type": "markdown",
      "metadata": {
        "id": "NNtD4ou7xOzd"
      },
      "source": [
        "Our goal is now to improve this. To do that, we'll need to know the gradients."
      ]
    },
    {
      "cell_type": "markdown",
      "metadata": {
        "id": "EMCTeRtVxOzd"
      },
      "source": [
        "#### Step 4: Calculate the gradients"
      ]
    },
    {
      "cell_type": "markdown",
      "metadata": {
        "id": "bLbl9J7BxOzd"
      },
      "source": [
        "The next step is to calculate the gradients. In other words, calculate an approximation of how the parameters need to change:"
      ]
    },
    {
      "cell_type": "code",
      "execution_count": null,
      "metadata": {
        "id": "W9dA1J6DxOzd",
        "outputId": "5810566b-6848-41d7-a6e8-1a518e1538fc"
      },
      "outputs": [
        {
          "data": {
            "text/plain": [
              "tensor([-53195.8594,  -3419.7146,   -253.8908])"
            ]
          },
          "execution_count": null,
          "metadata": {},
          "output_type": "execute_result"
        }
      ],
      "source": [
        "loss.backward()\n",
        "params.grad"
      ]
    },
    {
      "cell_type": "code",
      "execution_count": null,
      "metadata": {
        "id": "7bFI2XpfxOze",
        "outputId": "15cd5c5b-08b9-4a00-af5d-4555a11e7603"
      },
      "outputs": [
        {
          "data": {
            "text/plain": [
              "tensor([-0.5320, -0.0342, -0.0025])"
            ]
          },
          "execution_count": null,
          "metadata": {},
          "output_type": "execute_result"
        }
      ],
      "source": [
        "params.grad * 1e-5"
      ]
    },
    {
      "cell_type": "markdown",
      "metadata": {
        "id": "6B4mLHXoxOze"
      },
      "source": [
        "We can use these gradients to improve our parameters. We'll need to pick a learning rate (we'll discuss how to do that in practice in the next chapter; for now we'll just use 1e-5, or 0.00001):"
      ]
    },
    {
      "cell_type": "code",
      "execution_count": null,
      "metadata": {
        "id": "IjtfyBZxxOze",
        "outputId": "95650cea-8c27-4b9e-f865-c2ed656ebd11"
      },
      "outputs": [
        {
          "data": {
            "text/plain": [
              "tensor([-0.7658, -0.7506,  1.3525], requires_grad=True)"
            ]
          },
          "execution_count": null,
          "metadata": {},
          "output_type": "execute_result"
        }
      ],
      "source": [
        "params"
      ]
    },
    {
      "cell_type": "markdown",
      "metadata": {
        "id": "KXrAHtsNxOze"
      },
      "source": [
        "#### Step 5: Step the weights. "
      ]
    },
    {
      "cell_type": "markdown",
      "metadata": {
        "id": "ftKqYnAsxOze"
      },
      "source": [
        "Now we need to update the parameters based on the gradients we just calculated:"
      ]
    },
    {
      "cell_type": "code",
      "execution_count": null,
      "metadata": {
        "id": "dQG4qUgFxOzf"
      },
      "outputs": [],
      "source": [
        "lr = 1e-5\n",
        "params.data -= lr * params.grad.data\n",
        "params.grad = None"
      ]
    },
    {
      "cell_type": "markdown",
      "metadata": {
        "id": "0cxEtqOrxOzf"
      },
      "source": [
        "> a: Understanding this bit depends on remembering recent history. To calculate the gradients we call `backward` on the `loss`. But this `loss` was itself calculated by `mse`, which in turn took `preds` as an input, which was calculated using `f` taking as an input `params`, which was the object on which we originally called `requires_grad_`—which is the original call that now allows us to call `backward` on `loss`. This chain of function calls represents the mathematical composition of functions, which enables PyTorch to use calculus's chain rule under the hood to calculate these gradients."
      ]
    },
    {
      "cell_type": "markdown",
      "metadata": {
        "id": "NMeBFQA9xOzf"
      },
      "source": [
        "Let's see if the loss has improved:"
      ]
    },
    {
      "cell_type": "code",
      "execution_count": null,
      "metadata": {
        "id": "EfFYzXHBxOzf",
        "outputId": "c4c42ecf-7de3-4b4c-c6d3-3a63e8850ab7"
      },
      "outputs": [
        {
          "data": {
            "text/plain": [
              "tensor(5435.5366, grad_fn=<MeanBackward0>)"
            ]
          },
          "execution_count": null,
          "metadata": {},
          "output_type": "execute_result"
        }
      ],
      "source": [
        "preds = f(time,params)\n",
        "mse(preds, speed)"
      ]
    },
    {
      "cell_type": "markdown",
      "metadata": {
        "id": "kJDuoJd2xOzf"
      },
      "source": [
        "And take a look at the plot:"
      ]
    },
    {
      "cell_type": "code",
      "execution_count": null,
      "metadata": {
        "id": "fMj-kWNYxOzf",
        "outputId": "19a8d2c1-8515-410b-a086-a1c143b7c5a8"
      },
      "outputs": [
        {
          "data": {
            "image/png": "[encoded data removed]",
            "text/plain": [
              "<Figure size 432x288 with 1 Axes>"
            ]
          },
          "metadata": {
            "needs_background": "light"
          },
          "output_type": "display_data"
        }
      ],
      "source": [
        "show_preds(preds)"
      ]
    },
    {
      "cell_type": "markdown",
      "metadata": {
        "id": "iospMyD5xOzg"
      },
      "source": [
        "We need to repeat this a few times, so we'll create a function to apply one step:"
      ]
    },
    {
      "cell_type": "code",
      "execution_count": null,
      "metadata": {
        "id": "350Yj4irxOzg"
      },
      "outputs": [],
      "source": [
        "def apply_step(params, prn=True):\n",
        "    preds = f(time, params)\n",
        "    loss = mse(preds, speed)\n",
        "    loss.backward()\n",
        "    params.data -= lr * params.grad.data\n",
        "    params.grad = None\n",
        "    if prn: print(loss.item())\n",
        "    return preds"
      ]
    },
    {
      "cell_type": "markdown",
      "metadata": {
        "id": "k9HGB6PxxOzg"
      },
      "source": [
        "#### Step 6: Repeat the process "
      ]
    },
    {
      "cell_type": "markdown",
      "metadata": {
        "id": "ogzf5SrsxOzg"
      },
      "source": [
        "Now we iterate. By looping and performing many improvements, we hope to reach a good result:"
      ]
    },
    {
      "cell_type": "code",
      "execution_count": null,
      "metadata": {
        "id": "DJ6mcoNuxOzh",
        "outputId": "cb972665-b23b-4d3a-fe8b-005871baa590"
      },
      "outputs": [
        {
          "name": "stdout",
          "output_type": "stream",
          "text": [
            "5435.53662109375\n",
            "1577.4495849609375\n",
            "847.3780517578125\n",
            "709.22265625\n",
            "683.0757446289062\n",
            "678.12451171875\n",
            "677.1839599609375\n",
            "677.0025024414062\n",
            "676.96435546875\n",
            "676.9537353515625\n"
          ]
        }
      ],
      "source": [
        "for i in range(10): apply_step(params)"
      ]
    },
    {
      "cell_type": "code",
      "execution_count": null,
      "metadata": {
        "id": "Yy6HXeaqxOzh"
      },
      "outputs": [],
      "source": [
        "#hide\n",
        "params = orig_params.detach().requires_grad_()"
      ]
    },
    {
      "cell_type": "markdown",
      "metadata": {
        "id": "TNujYA_JxOzh"
      },
      "source": [
        "The loss is going down, just as we hoped! But looking only at these loss numbers disguises the fact that each iteration represents an entirely different quadratic function being tried, on the way to finding the best possible quadratic function. We can see this process visually if, instead of printing out the loss function, we plot the function at every step. Then we can see how the shape is approaching the best possible quadratic function for our data:"
      ]
    },
    {
      "cell_type": "code",
      "execution_count": null,
      "metadata": {
        "id": "zcry2OqYxOzh",
        "outputId": "e08af31d-6431-40f1-d516-3b6e2092fdad"
      },
      "outputs": [
        {
          "data": {
            "image/png": "[encoded data removed]",
            "text/plain": [
              "<Figure size 864x216 with 4 Axes>"
            ]
          },
          "metadata": {
            "needs_background": "light"
          },
          "output_type": "display_data"
        }
      ],
      "source": [
        "_,axs = plt.subplots(1,4,figsize=(12,3))\n",
        "for ax in axs: show_preds(apply_step(params, False), ax)\n",
        "plt.tight_layout()"
      ]
    },
    {
      "cell_type": "markdown",
      "metadata": {
        "id": "1ROyg-RDxOzh"
      },
      "source": [
        "#### Step 7: stop"
      ]
    },
    {
      "cell_type": "markdown",
      "metadata": {
        "id": "kSRqrPMGxOzh"
      },
      "source": [
        "We just decided to stop after 10 epochs arbitrarily. In practice, we would watch the training and validation losses and our metrics to decide when to stop, as we've discussed."
      ]
    },
    {
      "cell_type": "markdown",
      "metadata": {
        "id": "nuz4c3EMxOzh"
      },
      "source": [
        "### Summarizing Gradient Descent"
      ]
    },
    {
      "cell_type": "code",
      "execution_count": null,
      "metadata": {
        "hide_input": false,
        "id": "4VYnl1ZjxOzt",
        "outputId": "dc086542-2666-460c-954d-11c64493aa49"
      },
      "outputs": [
        {
          "data": {
            "image/svg+xml": [
              "<?xml version=\"1.0\" encoding=\"UTF-8\" standalone=\"no\"?>\n",
              "<!DOCTYPE svg PUBLIC \"-//W3C//DTD SVG 1.1//EN\"\n",
              " \"http://www.w3.org/Graphics/SVG/1.1/DTD/svg11.dtd\">\n",
              "<!-- Generated by graphviz version 2.40.1 (20161225.0304)\n",
              " -->\n",
              "<!-- Title: G Pages: 1 -->\n",
              "<svg width=\"591pt\" height=\"78pt\"\n",
              " viewBox=\"0.00 0.00 591.49 78.00\" xmlns=\"http://www.w3.org/2000/svg\" xmlns:xlink=\"http://www.w3.org/1999/xlink\">\n",
              "<g id=\"graph0\" class=\"graph\" transform=\"scale(1 1) rotate(0) translate(4 74)\">\n",
              "<title>G</title>\n",
              "<polygon fill=\"#ffffff\" stroke=\"transparent\" points=\"-4,4 -4,-74 587.4867,-74 587.4867,4 -4,4\"/>\n",
              "<!-- init -->\n",
              "<g id=\"node1\" class=\"node\">\n",
              "<title>init</title>\n",
              "<ellipse fill=\"none\" stroke=\"#000000\" cx=\"27\" cy=\"-18\" rx=\"27\" ry=\"18\"/>\n",
              "<text text-anchor=\"middle\" x=\"27\" y=\"-14.3\" font-family=\"Times,serif\" font-size=\"14.00\" fill=\"#000000\">init</text>\n",
              "</g>\n",
              "<!-- predict -->\n",
              "<g id=\"node2\" class=\"node\">\n",
              "<title>predict</title>\n",
              "<ellipse fill=\"none\" stroke=\"#000000\" cx=\"126.0969\" cy=\"-18\" rx=\"35.194\" ry=\"18\"/>\n",
              "<text text-anchor=\"middle\" x=\"126.0969\" y=\"-14.3\" font-family=\"Times,serif\" font-size=\"14.00\" fill=\"#000000\">predict</text>\n",
              "</g>\n",
              "<!-- init&#45;&gt;predict -->\n",
              "<g id=\"edge1\" class=\"edge\">\n",
              "<title>init&#45;&gt;predict</title>\n",
              "<path fill=\"none\" stroke=\"#000000\" d=\"M54.0787,-18C62.3227,-18 71.6196,-18 80.7269,-18\"/>\n",
              "<polygon fill=\"#000000\" stroke=\"#000000\" points=\"80.8626,-21.5001 90.8626,-18 80.8625,-14.5001 80.8626,-21.5001\"/>\n",
              "</g>\n",
              "<!-- loss -->\n",
              "<g id=\"node3\" class=\"node\">\n",
              "<title>loss</title>\n",
              "<ellipse fill=\"none\" stroke=\"#000000\" cx=\"225.1938\" cy=\"-52\" rx=\"27\" ry=\"18\"/>\n",
              "<text text-anchor=\"middle\" x=\"225.1938\" y=\"-48.3\" font-family=\"Times,serif\" font-size=\"14.00\" fill=\"#000000\">loss</text>\n",
              "</g>\n",
              "<!-- predict&#45;&gt;loss -->\n",
              "<g id=\"edge2\" class=\"edge\">\n",
              "<title>predict&#45;&gt;loss</title>\n",
              "<path fill=\"none\" stroke=\"#000000\" d=\"M155.2932,-28.0172C166.6224,-31.9043 179.6698,-36.3808 191.4018,-40.406\"/>\n",
              "<polygon fill=\"#000000\" stroke=\"#000000\" points=\"190.2859,-43.7234 200.8806,-43.6582 192.5577,-37.1023 190.2859,-43.7234\"/>\n",
              "</g>\n",
              "<!-- gradient -->\n",
              "<g id=\"node4\" class=\"node\">\n",
              "<title>gradient</title>\n",
              "<ellipse fill=\"none\" stroke=\"#000000\" cx=\"361.8403\" cy=\"-52\" rx=\"39.7935\" ry=\"18\"/>\n",
              "<text text-anchor=\"middle\" x=\"361.8403\" y=\"-48.3\" font-family=\"Times,serif\" font-size=\"14.00\" fill=\"#000000\">gradient</text>\n",
              "</g>\n",
              "<!-- loss&#45;&gt;gradient -->\n",
              "<g id=\"edge3\" class=\"edge\">\n",
              "<title>loss&#45;&gt;gradient</title>\n",
              "<path fill=\"none\" stroke=\"#000000\" d=\"M252.5178,-52C269.4967,-52 291.836,-52 311.8929,-52\"/>\n",
              "<polygon fill=\"#000000\" stroke=\"#000000\" points=\"312.1329,-55.5001 322.1329,-52 312.1328,-48.5001 312.1329,-55.5001\"/>\n",
              "</g>\n",
              "<!-- step -->\n",
              "<g id=\"node5\" class=\"node\">\n",
              "<title>step</title>\n",
              "<ellipse fill=\"none\" stroke=\"#000000\" cx=\"465.4867\" cy=\"-18\" rx=\"27\" ry=\"18\"/>\n",
              "<text text-anchor=\"middle\" x=\"465.4867\" y=\"-14.3\" font-family=\"Times,serif\" font-size=\"14.00\" fill=\"#000000\">step</text>\n",
              "</g>\n",
              "<!-- gradient&#45;&gt;step -->\n",
              "<g id=\"edge4\" class=\"edge\">\n",
              "<title>gradient&#45;&gt;step</title>\n",
              "<path fill=\"none\" stroke=\"#000000\" d=\"M394.0665,-41.4286C405.9515,-37.5298 419.4492,-33.1021 431.4862,-29.1535\"/>\n",
              "<polygon fill=\"#000000\" stroke=\"#000000\" points=\"432.7754,-32.4142 441.1862,-25.9715 430.5935,-25.7629 432.7754,-32.4142\"/>\n",
              "</g>\n",
              "<!-- step&#45;&gt;predict -->\n",
              "<g id=\"edge6\" class=\"edge\">\n",
              "<title>step&#45;&gt;predict</title>\n",
              "<path fill=\"none\" stroke=\"#000000\" d=\"M438.4132,-18C380.3272,-18 243.2155,-18 171.5401,-18\"/>\n",
              "<polygon fill=\"#000000\" stroke=\"#000000\" points=\"171.4571,-14.5001 161.4571,-18 171.4571,-21.5001 171.4571,-14.5001\"/>\n",
              "<text text-anchor=\"middle\" x=\"287.1938\" y=\"-21.8\" font-family=\"Times,serif\" font-size=\"14.00\" fill=\"#000000\">repeat</text>\n",
              "</g>\n",
              "<!-- stop -->\n",
              "<g id=\"node6\" class=\"node\">\n",
              "<title>stop</title>\n",
              "<ellipse fill=\"none\" stroke=\"#000000\" cx=\"556.4867\" cy=\"-18\" rx=\"27\" ry=\"18\"/>\n",
              "<text text-anchor=\"middle\" x=\"556.4867\" y=\"-14.3\" font-family=\"Times,serif\" font-size=\"14.00\" fill=\"#000000\">stop</text>\n",
              "</g>\n",
              "<!-- step&#45;&gt;stop -->\n",
              "<g id=\"edge5\" class=\"edge\">\n",
              "<title>step&#45;&gt;stop</title>\n",
              "<path fill=\"none\" stroke=\"#000000\" d=\"M492.7897,-18C501.068,-18 510.3085,-18 519.1272,-18\"/>\n",
              "<polygon fill=\"#000000\" stroke=\"#000000\" points=\"519.203,-21.5001 529.203,-18 519.203,-14.5001 519.203,-21.5001\"/>\n",
              "</g>\n",
              "</g>\n",
              "</svg>\n"
            ],
            "text/plain": [
              "<graphviz.files.Source at 0x7f10d352e250>"
            ]
          },
          "execution_count": null,
          "metadata": {},
          "output_type": "execute_result"
        }
      ],
      "source": [
        "#hide_input\n",
        "#id gradient_descent\n",
        "#caption The gradient descent process\n",
        "#alt Graph showing the steps for Gradient Descent\n",
        "gv('''\n",
        "init->predict->loss->gradient->step->stop\n",
        "step->predict[label=repeat]\n",
        "''')"
      ]
    },
    {
      "cell_type": "markdown",
      "metadata": {
        "id": "qWL1ZyTixOzu"
      },
      "source": [
        "To summarize, at the beginning, the weights of our model can be random (training *from scratch*) or come from a pretrained model (*transfer learning*). In the first case, the output we will get from our inputs won't have anything to do with what we want, and even in the second case, it's very likely the pretrained model won't be very good at the specific task we are targeting. So the model will need to *learn* better weights.\n",
        "\n",
        "We begin by comparing the outputs the model gives us with our targets (we have labeled data, so we know what result the model should give) using a *loss function*, which returns a number that we want to make as low as possible by improving our weights. To do this, we take a few data items (such as images) from the training set and feed them to our model. We compare the corresponding targets using our loss function, and the score we get tells us how wrong our predictions were. We then change the weights a little bit to make it slightly better.\n",
        "\n",
        "To find how to change the weights to make the loss a bit better, we use calculus to calculate the *gradients*. (Actually, we let PyTorch do it for us!) Let's consider an analogy. Imagine you are lost in the mountains with your car parked at the lowest point. To find your way back to it, you might wander in a random direction, but that probably wouldn't help much. Since you know your vehicle is at the lowest point, you would be better off going downhill. By always taking a step in the direction of the steepest downward slope, you should eventually arrive at your destination. We use the magnitude of the gradient (i.e., the steepness of the slope) to tell us how big a step to take; specifically, we multiply the gradient by a number we choose called the *learning rate* to decide on the step size. We then *iterate* until we have reached the lowest point, which will be our parking lot, then we can *stop*.\n",
        "\n",
        "All of that we just saw can be transposed directly to the MNIST dataset, except for the loss function. Let's now see how we can define a good training objective. "
      ]
    },
    {
      "cell_type": "markdown",
      "metadata": {
        "id": "Dtcc8Ld8xOzu"
      },
      "source": [
        "## The MNIST Loss Function"
      ]
    },
    {
      "cell_type": "markdown",
      "metadata": {
        "id": "o4GhCr_3xOzu"
      },
      "source": [
        "We already have our independent variables `x`—these are the images themselves. We'll concatenate them all into a single tensor, and also change them from a list of matrices (a rank-3 tensor) to a list of vectors (a rank-2 tensor). We can do this using `view`, which is a PyTorch method that changes the shape of a tensor without changing its contents. `-1` is a special parameter to `view` that means \"make this axis as big as necessary to fit all the data\":"
      ]
    },
    {
      "cell_type": "code",
      "execution_count": null,
      "metadata": {
        "id": "FSzuj6dhxOzu"
      },
      "outputs": [],
      "source": [
        "train_x = torch.cat([stacked_threes, stacked_sevens]).view(-1, 28*28)"
      ]
    },
    {
      "cell_type": "markdown",
      "metadata": {
        "id": "m8WYJsdJxOzv"
      },
      "source": [
        "We need a label for each image. We'll use `1` for 3s and `0` for 7s:"
      ]
    },
    {
      "cell_type": "code",
      "execution_count": null,
      "metadata": {
        "id": "N4I36TfZxOzv",
        "outputId": "8c549545-afb0-4105-bb13-bc8de665f756"
      },
      "outputs": [
        {
          "data": {
            "text/plain": [
              "(torch.Size([12396, 784]), torch.Size([12396, 1]))"
            ]
          },
          "execution_count": null,
          "metadata": {},
          "output_type": "execute_result"
        }
      ],
      "source": [
        "train_y = tensor([1]*len(threes) + [0]*len(sevens)).unsqueeze(1)\n",
        "train_x.shape,train_y.shape"
      ]
    },
    {
      "cell_type": "markdown",
      "metadata": {
        "id": "DHYKqr2WxOzv"
      },
      "source": [
        "A `Dataset` in PyTorch is required to return a tuple of `(x,y)` when indexed. Python provides a `zip` function which, when combined with `list`, provides a simple way to get this functionality:"
      ]
    },
    {
      "cell_type": "code",
      "execution_count": null,
      "metadata": {
        "id": "e7mIglSdxOzv",
        "outputId": "f1d2ad83-9c3c-43ee-8b0d-c75f78febdc7"
      },
      "outputs": [
        {
          "data": {
            "text/plain": [
              "(torch.Size([784]), tensor([1]))"
            ]
          },
          "execution_count": null,
          "metadata": {},
          "output_type": "execute_result"
        }
      ],
      "source": [
        "dset = list(zip(train_x,train_y))\n",
        "x,y = dset[0]\n",
        "x.shape,y"
      ]
    },
    {
      "cell_type": "code",
      "execution_count": null,
      "metadata": {
        "id": "sQJWk6pOxOzv"
      },
      "outputs": [],
      "source": [
        "valid_x = torch.cat([valid_3_tens, valid_7_tens]).view(-1, 28*28)\n",
        "valid_y = tensor([1]*len(valid_3_tens) + [0]*len(valid_7_tens)).unsqueeze(1)\n",
        "valid_dset = list(zip(valid_x,valid_y))"
      ]
    },
    {
      "cell_type": "markdown",
      "metadata": {
        "id": "W44pkvxlxOzw"
      },
      "source": [
        "Now we need an (initially random) weight for every pixel (this is the *initialize* step in our seven-step process):"
      ]
    },
    {
      "cell_type": "code",
      "execution_count": null,
      "metadata": {
        "id": "VMx2aA9uxOzw"
      },
      "outputs": [],
      "source": [
        "def init_params(size, std=1.0): return (torch.randn(size)*std).requires_grad_()"
      ]
    },
    {
      "cell_type": "code",
      "execution_count": null,
      "metadata": {
        "id": "cYkhn5cCxOzw"
      },
      "outputs": [],
      "source": [
        "weights = init_params((28*28,1))"
      ]
    },
    {
      "cell_type": "markdown",
      "metadata": {
        "id": "P7GgDqxXxOzw"
      },
      "source": [
        "The function `weights*pixels` won't be flexible enough—it is always equal to 0 when the pixels are equal to 0 (i.e., its *intercept* is 0). You might remember from high school math that the formula for a line is `y=w*x+b`; we still need the `b`. We'll initialize it to a random number too:"
      ]
    },
    {
      "cell_type": "code",
      "execution_count": null,
      "metadata": {
        "id": "d4BHclh5xOzw"
      },
      "outputs": [],
      "source": [
        "bias = init_params(1)"
      ]
    },
    {
      "cell_type": "markdown",
      "metadata": {
        "id": "hpqsXdRCxOzw"
      },
      "source": [
        "In neural networks, the `w` in the equation `y=w*x+b` is called the *weights*, and the `b` is called the *bias*. Together, the weights and bias make up the *parameters*."
      ]
    },
    {
      "cell_type": "markdown",
      "metadata": {
        "id": "F6Q0SMllxOzw"
      },
      "source": [
        "> jargon: Parameters: The _weights_ and _biases_ of a model. The weights are the `w` in the equation `w*x+b`, and the biases are the `b` in that equation."
      ]
    },
    {
      "cell_type": "markdown",
      "metadata": {
        "id": "08YQwHp0xOzx"
      },
      "source": [
        "We can now calculate a prediction for one image:"
      ]
    },
    {
      "cell_type": "code",
      "execution_count": null,
      "metadata": {
        "id": "yWeIgLWIxOzx",
        "outputId": "b364ff14-5bd0-41e1-8339-b1f91b207dff"
      },
      "outputs": [
        {
          "data": {
            "text/plain": [
              "tensor([20.2336], grad_fn=<AddBackward0>)"
            ]
          },
          "execution_count": null,
          "metadata": {},
          "output_type": "execute_result"
        }
      ],
      "source": [
        "(train_x[0]*weights.T).sum() + bias"
      ]
    },
    {
      "cell_type": "markdown",
      "metadata": {
        "id": "SD44UjZWxOzx"
      },
      "source": [
        "While we could use a Python `for` loop to calculate the prediction for each image, that would be very slow. Because Python loops don't run on the GPU, and because Python is a slow language for loops in general, we need to represent as much of the computation in a model as possible using higher-level functions.\n",
        "\n",
        "In this case, there's an extremely convenient mathematical operation that calculates `w*x` for every row of a matrix—it's called *matrix multiplication*. <<matmul>> shows what matrix multiplication looks like."
      ]
    },
    {
      "cell_type": "markdown",
      "metadata": {
        "id": "sJmrxvsBxOzx"
      },
      "source": [
        "<img alt=\"Matrix multiplication\" width=\"400\" caption=\"Matrix multiplication\" src=\"https://github.com/fastai/fastbook/blob/master/images/matmul2.svg?raw=1\" id=\"matmul\"/>"
      ]
    },
    {
      "cell_type": "markdown",
      "metadata": {
        "id": "FpVkxCqPxOzx"
      },
      "source": [
        "This image shows two matrices, `A` and `B`, being multiplied together. Each item of the result, which we'll call `AB`, contains each item of its corresponding row of `A` multiplied by each item of its corresponding column of `B`, added together. For instance, row 1, column 2 (the yellow dot with a red border) is calculated as $a_{1,1} * b_{1,2} + a_{1,2} * b_{2,2}$. If you need a refresher on matrix multiplication, we suggest you take a look at the [Intro to Matrix Multiplication](https://youtu.be/kT4Mp9EdVqs) on *Khan Academy*, since this is the most important mathematical operation in deep learning.\n",
        "\n",
        "In Python, matrix multiplication is represented with the `@` operator. Let's try it:"
      ]
    },
    {
      "cell_type": "code",
      "execution_count": null,
      "metadata": {
        "id": "7lCJGBgzxOz5",
        "outputId": "39ea6de2-da81-4b4c-c8e8-8f1ba466e9fd"
      },
      "outputs": [
        {
          "data": {
            "text/plain": [
              "tensor([[20.2336],\n",
              "        [17.0644],\n",
              "        [15.2384],\n",
              "        ...,\n",
              "        [18.3804],\n",
              "        [23.8567],\n",
              "        [28.6816]], grad_fn=<AddBackward0>)"
            ]
          },
          "execution_count": null,
          "metadata": {},
          "output_type": "execute_result"
        }
      ],
      "source": [
        "def linear1(xb): return xb@weights + bias\n",
        "preds = linear1(train_x)\n",
        "preds"
      ]
    },
    {
      "cell_type": "markdown",
      "metadata": {
        "id": "2nOUyYDnxOz6"
      },
      "source": [
        "The first element is the same as we calculated before, as we'd expect. This equation, `batch@weights + bias`, is one of the two fundamental equations of any neural network (the other one is the *activation function*, which we'll see in a moment)."
      ]
    },
    {
      "cell_type": "markdown",
      "metadata": {
        "id": "hCVWOBAbxOz6"
      },
      "source": [
        "Let's check our accuracy. To decide if an output represents a 3 or a 7, we can just check whether it's greater than 0.0, so our accuracy for each item can be calculated (using broadcasting, so no loops!) with:"
      ]
    },
    {
      "cell_type": "code",
      "execution_count": null,
      "metadata": {
        "id": "RVdlVCe3xOz6",
        "outputId": "b6677c5e-ae97-4291-8fd7-84b64c6c8654"
      },
      "outputs": [
        {
          "data": {
            "text/plain": [
              "tensor([[ True],\n",
              "        [ True],\n",
              "        [ True],\n",
              "        ...,\n",
              "        [False],\n",
              "        [False],\n",
              "        [False]])"
            ]
          },
          "execution_count": null,
          "metadata": {},
          "output_type": "execute_result"
        }
      ],
      "source": [
        "corrects = (preds>0.0).float() == train_y\n",
        "corrects"
      ]
    },
    {
      "cell_type": "code",
      "execution_count": null,
      "metadata": {
        "id": "n_S7qC1uxOz6",
        "outputId": "f44b03bb-86d8-4590-ab2e-1ef6cdfba073"
      },
      "outputs": [
        {
          "data": {
            "text/plain": [
              "0.4912068545818329"
            ]
          },
          "execution_count": null,
          "metadata": {},
          "output_type": "execute_result"
        }
      ],
      "source": [
        "corrects.float().mean().item()"
      ]
    },
    {
      "cell_type": "markdown",
      "metadata": {
        "id": "O0vEpF-axOz6"
      },
      "source": [
        "Now let's see what the change in accuracy is for a small change in one of the weights (note that we have to ask PyTorch not to calculate gradients as we do this, which is what `with torch.no_grad()` is doing here):"
      ]
    },
    {
      "cell_type": "code",
      "execution_count": null,
      "metadata": {
        "id": "Y83cJO5fxOz7"
      },
      "outputs": [],
      "source": [
        "with torch.no_grad(): weights[0] *= 1.0001"
      ]
    },
    {
      "cell_type": "code",
      "execution_count": null,
      "metadata": {
        "id": "CaUscCP9xOz7",
        "outputId": "891c0781-8421-4d23-8979-25ea47348d53"
      },
      "outputs": [
        {
          "data": {
            "text/plain": [
              "0.4912068545818329"
            ]
          },
          "execution_count": null,
          "metadata": {},
          "output_type": "execute_result"
        }
      ],
      "source": [
        "preds = linear1(train_x)\n",
        "((preds>0.0).float() == train_y).float().mean().item()"
      ]
    },
    {
      "cell_type": "markdown",
      "metadata": {
        "id": "LHWeN6WkxOz7"
      },
      "source": [
        "As we've seen, we need gradients in order to improve our model using SGD, and in order to calculate gradients we need some *loss function* that represents how good our model is. That is because the gradients are a measure of how that loss function changes with small tweaks to the weights.\n",
        "\n",
        "So, we need to choose a loss function. The obvious approach would be to use accuracy, which is our metric, as our loss function as well. In this case, we would calculate our prediction for each image, collect these values to calculate an overall accuracy, and then calculate the gradients of each weight with respect to that overall accuracy.\n",
        "\n",
        "Unfortunately, we have a significant technical problem here. The gradient of a function is its *slope*, or its steepness, which can be defined as *rise over run*—that is, how much the value of the function goes up or down, divided by how much we changed the input. We can write this in mathematically as: `(y_new - y_old) / (x_new - x_old)`. This gives us a good approximation of the gradient when `x_new` is very similar to `x_old`, meaning that their difference is very small. But accuracy only changes at all when a prediction changes from a 3 to a 7, or vice versa. The problem is that a small change in weights from `x_old` to `x_new` isn't likely to cause any prediction to change, so `(y_new - y_old)` will almost always be 0. In other words, the gradient is 0 almost everywhere."
      ]
    },
    {
      "cell_type": "markdown",
      "metadata": {
        "id": "T7J0IuQ7xOz7"
      },
      "source": [
        "A very small change in the value of a weight will often not actually change the accuracy at all. This means it is not useful to use accuracy as a loss function—if we do, most of the time our gradients will actually be 0, and the model will not be able to learn from that number.\n",
        "\n",
        "> S: In mathematical terms, accuracy is a function that is constant almost everywhere (except at the threshold, 0.5), so its derivative is nil almost everywhere (and infinity at the threshold). This then gives gradients that are 0 or infinite, which are useless for updating the model.\n",
        "\n",
        "Instead, we need a loss function which, when our weights result in slightly better predictions, gives us a slightly better loss. So what does a \"slightly better prediction\" look like, exactly? Well, in this case, it means that if the correct answer is a 3 the score is a little higher, or if the correct answer is a 7 the score is a little lower.\n",
        "\n",
        "Let's write such a function now. What form does it take?\n",
        "\n",
        "The loss function receives not the images themselves, but the predictions from the model. Let's make one argument, `prds`, of values between 0 and 1, where each value is the prediction that an image is a 3. It is a vector (i.e., a rank-1 tensor), indexed over the images.\n",
        "\n",
        "The purpose of the loss function is to measure the difference between predicted values and the true values — that is, the targets (aka labels). Let's make another argument, `trgts`, with values of 0 or 1 which tells whether an image actually is a 3 or not. It is also a vector (i.e., another rank-1 tensor), indexed over the images.\n",
        "\n",
        "So, for instance, suppose we had three images which we knew were a 3, a 7, and a 3. And suppose our model predicted with high confidence (`0.9`) that the first was a 3, with slight confidence (`0.4`) that the second was a 7, and with fair confidence (`0.2`), but incorrectly, that the last was a 7. This would mean our loss function would receive these values as its inputs:"
      ]
    },
    {
      "cell_type": "code",
      "execution_count": null,
      "metadata": {
        "id": "KBWhCaD2xOz7"
      },
      "outputs": [],
      "source": [
        "trgts  = tensor([1,0,1])\n",
        "prds   = tensor([0.9, 0.4, 0.2])"
      ]
    },
    {
      "cell_type": "markdown",
      "metadata": {
        "id": "-35REgEcxOz7"
      },
      "source": [
        "Here's a first try at a loss function that measures the distance between `predictions` and `targets`:"
      ]
    },
    {
      "cell_type": "code",
      "execution_count": null,
      "metadata": {
        "id": "44z6c_QKxOz8"
      },
      "outputs": [],
      "source": [
        "def mnist_loss(predictions, targets):\n",
        "    return torch.where(targets==1, 1-predictions, predictions).mean()"
      ]
    },
    {
      "cell_type": "markdown",
      "metadata": {
        "id": "TB650IH8xOz8"
      },
      "source": [
        "We're using a new function, `torch.where(a,b,c)`. This is the same as running the list comprehension `[b[i] if a[i] else c[i] for i in range(len(a))]`, except it works on tensors, at C/CUDA speed. In plain English, this function will measure how distant each prediction is from 1 if it should be 1, and how distant it is from 0 if it should be 0, and then it will take the mean of all those distances.\n",
        "\n",
        "> note: Read the Docs: It's important to learn about PyTorch functions like this, because looping over tensors in Python performs at Python speed, not C/CUDA speed! Try running `help(torch.where)` now to read the docs for this function, or, better still, look it up on the PyTorch documentation site."
      ]
    },
    {
      "cell_type": "markdown",
      "metadata": {
        "id": "4J66N90zxOz8"
      },
      "source": [
        "Let's try it on our `prds` and `trgts`:"
      ]
    },
    {
      "cell_type": "code",
      "execution_count": null,
      "metadata": {
        "id": "SgKCkZ1nxOz8",
        "outputId": "45747a7f-69e5-4bc6-dd88-4de46939c0f6"
      },
      "outputs": [
        {
          "data": {
            "text/plain": [
              "tensor([0.1000, 0.4000, 0.8000])"
            ]
          },
          "execution_count": null,
          "metadata": {},
          "output_type": "execute_result"
        }
      ],
      "source": [
        "torch.where(trgts==1, 1-prds, prds)"
      ]
    },
    {
      "cell_type": "markdown",
      "metadata": {
        "id": "ScyHZhDHxOz8"
      },
      "source": [
        "You can see that this function returns a lower number when predictions are more accurate, when accurate predictions are more confident (higher absolute values), and when inaccurate predictions are less confident. In PyTorch, we always assume that a lower value of a loss function is better. Since we need a scalar for the final loss, `mnist_loss` takes the mean of the previous tensor:"
      ]
    },
    {
      "cell_type": "code",
      "execution_count": null,
      "metadata": {
        "id": "-5tYtKg6xOz8",
        "outputId": "e2b4060e-b53f-49bb-eec3-eb909896bc9f"
      },
      "outputs": [
        {
          "data": {
            "text/plain": [
              "tensor(0.4333)"
            ]
          },
          "execution_count": null,
          "metadata": {},
          "output_type": "execute_result"
        }
      ],
      "source": [
        "mnist_loss(prds,trgts)"
      ]
    },
    {
      "cell_type": "markdown",
      "metadata": {
        "id": "Eh_sOMPQxOz9"
      },
      "source": [
        "For instance, if we change our prediction for the one \"false\" target from `0.2` to `0.8` the loss will go down, indicating that this is a better prediction:"
      ]
    },
    {
      "cell_type": "code",
      "execution_count": null,
      "metadata": {
        "id": "syQW_nWSxOz9",
        "outputId": "1a385fd5-56e1-4263-9b29-536c19fa734d"
      },
      "outputs": [
        {
          "data": {
            "text/plain": [
              "tensor(0.2333)"
            ]
          },
          "execution_count": null,
          "metadata": {},
          "output_type": "execute_result"
        }
      ],
      "source": [
        "mnist_loss(tensor([0.9, 0.4, 0.8]),trgts)"
      ]
    },
    {
      "cell_type": "markdown",
      "metadata": {
        "id": "vir3rbmlxOz9"
      },
      "source": [
        "One problem with `mnist_loss` as currently defined is that it assumes that predictions are always between 0 and 1. We need to ensure, then, that this is actually the case! As it happens, there is a function that does exactly that—let's take a look."
      ]
    },
    {
      "cell_type": "markdown",
      "metadata": {
        "id": "8UMALr7VxOz9"
      },
      "source": [
        "### Sigmoid"
      ]
    },
    {
      "cell_type": "markdown",
      "metadata": {
        "id": "LZn22a5SxOz9"
      },
      "source": [
        "The `sigmoid` function always outputs a number between 0 and 1. It's defined as follows:"
      ]
    },
    {
      "cell_type": "code",
      "execution_count": null,
      "metadata": {
        "id": "51wxaCbdxOz9"
      },
      "outputs": [],
      "source": [
        "def sigmoid(x): return 1/(1+torch.exp(-x))"
      ]
    },
    {
      "cell_type": "markdown",
      "metadata": {
        "id": "ljXCLsTxxOz9"
      },
      "source": [
        "Pytorch defines an accelerated version for us, so we don’t really need our own. This is an important function in deep learning, since we often want to ensure values are between 0 and 1. This is what it looks like:"
      ]
    },
    {
      "cell_type": "code",
      "execution_count": null,
      "metadata": {
        "id": "Kk0y7WaqxOz-",
        "outputId": "6f9f50df-fb21-4632-8f25-e1461ab57db5"
      },
      "outputs": [
        {
          "data": {
            "image/png": "[encoded data removed]",
            "text/plain": [
              "<Figure size 432x288 with 1 Axes>"
            ]
          },
          "metadata": {
            "needs_background": "light"
          },
          "output_type": "display_data"
        }
      ],
      "source": [
        "plot_function(torch.sigmoid, title='Sigmoid', min=-4, max=4)"
      ]
    },
    {
      "cell_type": "markdown",
      "metadata": {
        "id": "CSOsOHG9xOz-"
      },
      "source": [
        "As you can see, it takes any input value, positive or negative, and smooshes it onto an output value between 0 and 1. It's also a smooth curve that only goes up, which makes it easier for SGD to find meaningful gradients. \n",
        "\n",
        "Let's update `mnist_loss` to first apply `sigmoid` to the inputs:"
      ]
    },
    {
      "cell_type": "code",
      "execution_count": null,
      "metadata": {
        "id": "bI4UzC4_xOz-"
      },
      "outputs": [],
      "source": [
        "def mnist_loss(predictions, targets):\n",
        "    predictions = predictions.sigmoid()\n",
        "    return torch.where(targets==1, 1-predictions, predictions).mean()"
      ]
    },
    {
      "cell_type": "markdown",
      "metadata": {
        "id": "kNjRdM8GxOz-"
      },
      "source": [
        "Now we can be confident our loss function will work, even if the predictions are not between 0 and 1. All that is required is that a higher prediction corresponds to higher confidence an image is a 3.\n",
        "\n",
        "Having defined a loss function, now is a good moment to recapitulate why we did this. After all, we already had a metric, which was overall accuracy. So why did we define a loss?\n",
        "\n",
        "The key difference is that the metric is to drive human understanding and the loss is to drive automated learning. To drive automated learning, the loss must be a function that has a meaningful derivative. It can't have big flat sections and large jumps, but instead must be reasonably smooth. This is why we designed a loss function that would respond to small changes in confidence level. This requirement means that sometimes it does not really reflect exactly what we are trying to achieve, but is rather a compromise between our real goal and a function that can be optimized using its gradient. The loss function is calculated for each item in our dataset, and then at the end of an epoch the loss values are all averaged and the overall mean is reported for the epoch.\n",
        "\n",
        "Metrics, on the other hand, are the numbers that we really care about. These are the values that are printed at the end of each epoch that tell us how our model is really doing. It is important that we learn to focus on these metrics, rather than the loss, when judging the performance of a model."
      ]
    },
    {
      "cell_type": "markdown",
      "metadata": {
        "id": "o33gVAw8xOz-"
      },
      "source": [
        "### SGD and Mini-Batches"
      ]
    },
    {
      "cell_type": "markdown",
      "metadata": {
        "id": "K_1fWnvUxOz-"
      },
      "source": [
        "Now that we have a loss function that is suitable for driving SGD, we can consider some of the details involved in the next phase of the learning process, which is to change or update the weights based on the gradients. This is called an *optimization step*.\n",
        "\n",
        "In order to take an optimization step we need to calculate the loss over one or more data items. How many should we use? We could calculate it for the whole dataset, and take the average, or we could calculate it for a single data item. But neither of these is ideal. Calculating it for the whole dataset would take a very long time. Calculating it for a single item would not use much information, so it would result in a very imprecise and unstable gradient. That is, you'd be going to the trouble of updating the weights, but taking into account only how that would improve the model's performance on that single item.\n",
        "\n",
        "So instead we take a compromise between the two: we calculate the average loss for a few data items at a time. This is called a *mini-batch*. The number of data items in the mini-batch is called the *batch size*. A larger batch size means that you will get a more accurate and stable estimate of your dataset's gradients from the loss function, but it will take longer, and you will process fewer mini-batches per epoch. Choosing a good batch size is one of the decisions you need to make as a deep learning practitioner to train your model quickly and accurately. We will talk about how to make this choice throughout this book.\n",
        "\n",
        "Another good reason for using mini-batches rather than calculating the gradient on individual data items is that, in practice, we nearly always do our training on an accelerator such as a GPU. These accelerators only perform well if they have lots of work to do at a time, so it's helpful if we can give them lots of data items to work on. Using mini-batches is one of the best ways to do this. However, if you give them too much data to work on at once, they run out of memory—making GPUs happy is also tricky!\n",
        "\n",
        "As we saw in our discussion of data augmentation in <<chapter_production>>, we get better generalization if we can vary things during training. One simple and effective thing we can vary is what data items we put in each mini-batch. Rather than simply enumerating our dataset in order for every epoch, instead what we normally do is randomly shuffle it on every epoch, before we create mini-batches. PyTorch and fastai provide a class that will do the shuffling and mini-batch collation for you, called `DataLoader`.\n",
        "\n",
        "A `DataLoader` can take any Python collection and turn it into an iterator over mini-batches, like so:"
      ]
    },
    {
      "cell_type": "code",
      "execution_count": null,
      "metadata": {
        "id": "ZUpca-VgxOz_",
        "outputId": "ea5d0867-8ca9-4928-bbab-dd5e84046d6c"
      },
      "outputs": [
        {
          "data": {
            "text/plain": [
              "[tensor([ 3, 12,  8, 10,  2]),\n",
              " tensor([ 9,  4,  7, 14,  5]),\n",
              " tensor([ 1, 13,  0,  6, 11])]"
            ]
          },
          "execution_count": null,
          "metadata": {},
          "output_type": "execute_result"
        }
      ],
      "source": [
        "coll = range(15)\n",
        "dl = DataLoader(coll, batch_size=5, shuffle=True)\n",
        "list(dl)"
      ]
    },
    {
      "cell_type": "markdown",
      "metadata": {
        "id": "LIWxTPqYxOz_"
      },
      "source": [
        "For training a model, we don't just want any Python collection, but a collection containing independent and dependent variables (that is, the inputs and targets of the model). A collection that contains tuples of independent and dependent variables is known in PyTorch as a `Dataset`. Here's an example of an extremely simple `Dataset`:"
      ]
    },
    {
      "cell_type": "code",
      "execution_count": null,
      "metadata": {
        "id": "FjF-NjnqxOz_",
        "outputId": "f9cd4991-d80f-4023-b6f6-272aad8949f3"
      },
      "outputs": [
        {
          "data": {
            "text/plain": [
              "(#26) [(0, 'a'),(1, 'b'),(2, 'c'),(3, 'd'),(4, 'e'),(5, 'f'),(6, 'g'),(7, 'h'),(8, 'i'),(9, 'j')...]"
            ]
          },
          "execution_count": null,
          "metadata": {},
          "output_type": "execute_result"
        }
      ],
      "source": [
        "ds = L(enumerate(string.ascii_lowercase))\n",
        "ds"
      ]
    },
    {
      "cell_type": "markdown",
      "metadata": {
        "id": "qzoP7dydxOz_"
      },
      "source": [
        "When we pass a `Dataset` to a `DataLoader` we will get back mini-batches which are themselves tuples of tensors representing batches of independent and dependent variables:"
      ]
    },
    {
      "cell_type": "code",
      "execution_count": null,
      "metadata": {
        "id": "18EOu9tJxO0A",
        "outputId": "e4a9e540-80c2-4cb8-d56a-3fc47ccd4015"
      },
      "outputs": [
        {
          "data": {
            "text/plain": [
              "[(tensor([17, 18, 10, 22,  8, 14]), ('r', 's', 'k', 'w', 'i', 'o')),\n",
              " (tensor([20, 15,  9, 13, 21, 12]), ('u', 'p', 'j', 'n', 'v', 'm')),\n",
              " (tensor([ 7, 25,  6,  5, 11, 23]), ('h', 'z', 'g', 'f', 'l', 'x')),\n",
              " (tensor([ 1,  3,  0, 24, 19, 16]), ('b', 'd', 'a', 'y', 't', 'q')),\n",
              " (tensor([2, 4]), ('c', 'e'))]"
            ]
          },
          "execution_count": null,
          "metadata": {},
          "output_type": "execute_result"
        }
      ],
      "source": [
        "dl = DataLoader(ds, batch_size=6, shuffle=True)\n",
        "list(dl)"
      ]
    },
    {
      "cell_type": "markdown",
      "metadata": {
        "id": "asbILtWtxO0A"
      },
      "source": [
        "We are now ready to write our first training loop for a model using SGD!"
      ]
    },
    {
      "cell_type": "markdown",
      "metadata": {
        "id": "MlBT7vaixO0A"
      },
      "source": [
        "## Putting It All Together"
      ]
    },
    {
      "cell_type": "markdown",
      "metadata": {
        "id": "NmqdiiO5xO0A"
      },
      "source": [
        "It's time to implement the process we saw in <<gradient_descent>>. In code, our process will be implemented something like this for each epoch:\n",
        "\n",
        "```python\n",
        "for x,y in dl:\n",
        "    pred = model(x)\n",
        "    loss = loss_func(pred, y)\n",
        "    loss.backward()\n",
        "    parameters -= parameters.grad * lr\n",
        "```"
      ]
    },
    {
      "cell_type": "markdown",
      "metadata": {
        "id": "azo4Y4fYxO0B"
      },
      "source": [
        "First, let's re-initialize our parameters:"
      ]
    },
    {
      "cell_type": "code",
      "execution_count": null,
      "metadata": {
        "id": "fYGkxp0DxO0B"
      },
      "outputs": [],
      "source": [
        "weights = init_params((28*28,1))\n",
        "bias = init_params(1)"
      ]
    },
    {
      "cell_type": "markdown",
      "metadata": {
        "id": "9Q71XzxVxO0B"
      },
      "source": [
        "A `DataLoader` can be created from a `Dataset`:"
      ]
    },
    {
      "cell_type": "code",
      "execution_count": null,
      "metadata": {
        "id": "PixKuLUOxO0B",
        "outputId": "f7098b44-85e2-4c03-ac72-d37af5a4acdd"
      },
      "outputs": [
        {
          "data": {
            "text/plain": [
              "(torch.Size([256, 784]), torch.Size([256, 1]))"
            ]
          },
          "execution_count": null,
          "metadata": {},
          "output_type": "execute_result"
        }
      ],
      "source": [
        "dl = DataLoader(dset, batch_size=256)\n",
        "xb,yb = first(dl)\n",
        "xb.shape,yb.shape"
      ]
    },
    {
      "cell_type": "markdown",
      "metadata": {
        "id": "m4bDpfodxO0C"
      },
      "source": [
        "We'll do the same for the validation set:"
      ]
    },
    {
      "cell_type": "code",
      "execution_count": null,
      "metadata": {
        "id": "Fuqt05UsxO0C"
      },
      "outputs": [],
      "source": [
        "valid_dl = DataLoader(valid_dset, batch_size=256)"
      ]
    },
    {
      "cell_type": "markdown",
      "metadata": {
        "id": "7bmFrsjvxO0C"
      },
      "source": [
        "Let's create a mini-batch of size 4 for testing:"
      ]
    },
    {
      "cell_type": "code",
      "execution_count": null,
      "metadata": {
        "id": "STQr0PuKxO0D",
        "outputId": "970f8b44-d2ec-4595-a51f-a01b3ef4b8f9"
      },
      "outputs": [
        {
          "data": {
            "text/plain": [
              "torch.Size([4, 784])"
            ]
          },
          "execution_count": null,
          "metadata": {},
          "output_type": "execute_result"
        }
      ],
      "source": [
        "batch = train_x[:4]\n",
        "batch.shape"
      ]
    },
    {
      "cell_type": "code",
      "execution_count": null,
      "metadata": {
        "id": "oiFBvRPYxO0D",
        "outputId": "524cf1d9-cda6-488a-cffd-4be5b6887de1"
      },
      "outputs": [
        {
          "data": {
            "text/plain": [
              "tensor([[-11.1002],\n",
              "        [  5.9263],\n",
              "        [  9.9627],\n",
              "        [ -8.1484]], grad_fn=<AddBackward0>)"
            ]
          },
          "execution_count": null,
          "metadata": {},
          "output_type": "execute_result"
        }
      ],
      "source": [
        "preds = linear1(batch)\n",
        "preds"
      ]
    },
    {
      "cell_type": "code",
      "execution_count": null,
      "metadata": {
        "id": "DS3o-b1BxO0F",
        "outputId": "51554dea-de8f-45b2-8e66-31019ad21b69"
      },
      "outputs": [
        {
          "data": {
            "text/plain": [
              "tensor(0.5006, grad_fn=<MeanBackward0>)"
            ]
          },
          "execution_count": null,
          "metadata": {},
          "output_type": "execute_result"
        }
      ],
      "source": [
        "loss = mnist_loss(preds, train_y[:4])\n",
        "loss"
      ]
    },
    {
      "cell_type": "markdown",
      "metadata": {
        "id": "wuFAms34xO0I"
      },
      "source": [
        "Now we can calculate the gradients:"
      ]
    },
    {
      "cell_type": "code",
      "execution_count": null,
      "metadata": {
        "id": "ksBdEqeExO0J",
        "outputId": "750a56a5-a4d7-4d1c-a193-6669261e743c"
      },
      "outputs": [
        {
          "data": {
            "text/plain": [
              "(torch.Size([784, 1]), tensor(-0.0001), tensor([-0.0008]))"
            ]
          },
          "execution_count": null,
          "metadata": {},
          "output_type": "execute_result"
        }
      ],
      "source": [
        "loss.backward()\n",
        "weights.grad.shape,weights.grad.mean(),bias.grad"
      ]
    },
    {
      "cell_type": "markdown",
      "metadata": {
        "id": "LSzmBRdgxO0J"
      },
      "source": [
        "Let's put that all in a function:"
      ]
    },
    {
      "cell_type": "code",
      "execution_count": null,
      "metadata": {
        "id": "HW5d-t44xO0J"
      },
      "outputs": [],
      "source": [
        "def calc_grad(xb, yb, model):\n",
        "    preds = model(xb)\n",
        "    loss = mnist_loss(preds, yb)\n",
        "    loss.backward()"
      ]
    },
    {
      "cell_type": "markdown",
      "metadata": {
        "id": "RbExRj4JxO0J"
      },
      "source": [
        "and test it:"
      ]
    },
    {
      "cell_type": "code",
      "execution_count": null,
      "metadata": {
        "id": "CDAbpjUZxO0J",
        "outputId": "e3d37f5f-66f6-4350-dda5-3722e6c2dc33"
      },
      "outputs": [
        {
          "data": {
            "text/plain": [
              "(tensor(-0.0002), tensor([-0.0015]))"
            ]
          },
          "execution_count": null,
          "metadata": {},
          "output_type": "execute_result"
        }
      ],
      "source": [
        "calc_grad(batch, train_y[:4], linear1)\n",
        "weights.grad.mean(),bias.grad"
      ]
    },
    {
      "cell_type": "markdown",
      "metadata": {
        "id": "IckCeZEwxO0K"
      },
      "source": [
        "But look what happens if we call it twice:"
      ]
    },
    {
      "cell_type": "code",
      "execution_count": null,
      "metadata": {
        "id": "i3FVyBofxO0K",
        "outputId": "5f797a17-e9d8-4904-cd1d-18c2e1616e35"
      },
      "outputs": [
        {
          "data": {
            "text/plain": [
              "(tensor(-0.0003), tensor([-0.0023]))"
            ]
          },
          "execution_count": null,
          "metadata": {},
          "output_type": "execute_result"
        }
      ],
      "source": [
        "calc_grad(batch, train_y[:4], linear1)\n",
        "weights.grad.mean(),bias.grad"
      ]
    },
    {
      "cell_type": "markdown",
      "metadata": {
        "id": "we3qWpHRxO0K"
      },
      "source": [
        "The gradients have changed! The reason for this is that `loss.backward` actually *adds* the gradients of `loss` to any gradients that are currently stored. So, we have to set the current gradients to 0 first:"
      ]
    },
    {
      "cell_type": "code",
      "execution_count": null,
      "metadata": {
        "id": "pJ5qqkT8xO0K"
      },
      "outputs": [],
      "source": [
        "weights.grad.zero_()\n",
        "bias.grad.zero_();"
      ]
    },
    {
      "cell_type": "markdown",
      "metadata": {
        "id": "72rlM4RuxO0K"
      },
      "source": [
        "> note: Inplace Operations: Methods in PyTorch whose names end in an underscore modify their objects _in place_. For instance, `bias.zero_()` sets all elements of the tensor `bias` to 0."
      ]
    },
    {
      "cell_type": "markdown",
      "metadata": {
        "id": "4Ii8cNggxO0K"
      },
      "source": [
        "Our only remaining step is to update the weights and biases based on the gradient and learning rate. When we do so, we have to tell PyTorch not to take the gradient of this step too—otherwise things will get very confusing when we try to compute the derivative at the next batch! If we assign to the `data` attribute of a tensor then PyTorch will not take the gradient of that step. Here's our basic training loop for an epoch:"
      ]
    },
    {
      "cell_type": "code",
      "execution_count": null,
      "metadata": {
        "id": "JhD2s-bIxO0L"
      },
      "outputs": [],
      "source": [
        "def train_epoch(model, lr, params):\n",
        "    for xb,yb in dl:\n",
        "        calc_grad(xb, yb, model)\n",
        "        for p in params:\n",
        "            p.data -= p.grad*lr\n",
        "            p.grad.zero_()"
      ]
    },
    {
      "cell_type": "markdown",
      "metadata": {
        "id": "iXbWxrylxO0L"
      },
      "source": [
        "We also want to check how we're doing, by looking at the accuracy of the validation set. To decide if an output represents a 3 or a 7, we can just check whether it's greater than 0. So our accuracy for each item can be calculated (using broadcasting, so no loops!) with:"
      ]
    },
    {
      "cell_type": "code",
      "execution_count": null,
      "metadata": {
        "id": "oT3Fc69ZxO0L",
        "outputId": "18289995-201e-4585-cbb4-3a0bef34b2bc"
      },
      "outputs": [
        {
          "data": {
            "text/plain": [
              "tensor([[False],\n",
              "        [ True],\n",
              "        [ True],\n",
              "        [False]])"
            ]
          },
          "execution_count": null,
          "metadata": {},
          "output_type": "execute_result"
        }
      ],
      "source": [
        "(preds>0.0).float() == train_y[:4]"
      ]
    },
    {
      "cell_type": "markdown",
      "metadata": {
        "id": "N0eReXkQxO0L"
      },
      "source": [
        "That gives us this function to calculate our validation accuracy:"
      ]
    },
    {
      "cell_type": "code",
      "execution_count": null,
      "metadata": {
        "id": "1kN7FK7NxO0L"
      },
      "outputs": [],
      "source": [
        "def batch_accuracy(xb, yb):\n",
        "    preds = xb.sigmoid()\n",
        "    correct = (preds>0.5) == yb\n",
        "    return correct.float().mean()"
      ]
    },
    {
      "cell_type": "markdown",
      "metadata": {
        "id": "W8dz5U7ZxO0N"
      },
      "source": [
        "We can check it works:"
      ]
    },
    {
      "cell_type": "code",
      "execution_count": null,
      "metadata": {
        "id": "eC9SwZCcxO0N",
        "outputId": "78f8001f-1558-4dfb-e657-6df264670c27"
      },
      "outputs": [
        {
          "data": {
            "text/plain": [
              "tensor(0.5000)"
            ]
          },
          "execution_count": null,
          "metadata": {},
          "output_type": "execute_result"
        }
      ],
      "source": [
        "batch_accuracy(linear1(batch), train_y[:4])"
      ]
    },
    {
      "cell_type": "markdown",
      "metadata": {
        "id": "sDXv90sTxO0O"
      },
      "source": [
        "and then put the batches together:"
      ]
    },
    {
      "cell_type": "code",
      "execution_count": null,
      "metadata": {
        "id": "m_AngKUCxO0O"
      },
      "outputs": [],
      "source": [
        "def validate_epoch(model):\n",
        "    accs = [batch_accuracy(model(xb), yb) for xb,yb in valid_dl]\n",
        "    return round(torch.stack(accs).mean().item(), 4)"
      ]
    },
    {
      "cell_type": "code",
      "execution_count": null,
      "metadata": {
        "id": "0enSiXGexO0O",
        "outputId": "faedc92e-e704-4c9e-9ae4-b87c6f1d67a5"
      },
      "outputs": [
        {
          "data": {
            "text/plain": [
              "0.5219"
            ]
          },
          "execution_count": null,
          "metadata": {},
          "output_type": "execute_result"
        }
      ],
      "source": [
        "validate_epoch(linear1)"
      ]
    },
    {
      "cell_type": "markdown",
      "metadata": {
        "id": "R5O6QsVGxO0O"
      },
      "source": [
        "That's our starting point. Let's train for one epoch, and see if the accuracy improves:"
      ]
    },
    {
      "cell_type": "code",
      "execution_count": null,
      "metadata": {
        "id": "yrnzYgg9xO0O",
        "outputId": "36b77ff4-248f-4429-ec8e-37cece9be04d"
      },
      "outputs": [
        {
          "data": {
            "text/plain": [
              "0.6883"
            ]
          },
          "execution_count": null,
          "metadata": {},
          "output_type": "execute_result"
        }
      ],
      "source": [
        "lr = 1.\n",
        "params = weights,bias\n",
        "train_epoch(linear1, lr, params)\n",
        "validate_epoch(linear1)"
      ]
    },
    {
      "cell_type": "markdown",
      "metadata": {
        "id": "0UKXImpLxO0O"
      },
      "source": [
        "Then do a few more:"
      ]
    },
    {
      "cell_type": "code",
      "execution_count": null,
      "metadata": {
        "id": "lih4qRnWxO0P",
        "outputId": "cf74ce0a-d034-41d2-834a-e750299ddaef"
      },
      "outputs": [
        {
          "name": "stdout",
          "output_type": "stream",
          "text": [
            "0.8314 0.9017 0.9227 0.9349 0.9438 0.9501 0.9535 0.9564 0.9594 0.9618 0.9613 0.9638 0.9643 0.9652 0.9662 0.9677 0.9687 0.9691 0.9691 0.9696 "
          ]
        }
      ],
      "source": [
        "for i in range(20):\n",
        "    train_epoch(linear1, lr, params)\n",
        "    print(validate_epoch(linear1), end=' ')"
      ]
    },
    {
      "cell_type": "markdown",
      "metadata": {
        "id": "8Q3PZTwpxO0j"
      },
      "source": [
        "Looking good! We're already about at the same accuracy as our \"pixel similarity\" approach, and we've created a general-purpose foundation we can build on. Our next step will be to create an object that will handle the SGD step for us. In PyTorch, it's called an *optimizer*."
      ]
    },
    {
      "cell_type": "markdown",
      "metadata": {
        "id": "Mxp24zYSxO0j"
      },
      "source": [
        "### Creating an Optimizer"
      ]
    },
    {
      "cell_type": "markdown",
      "metadata": {
        "id": "Q9auY56TxO0k"
      },
      "source": [
        "Because this is such a general foundation, PyTorch provides some useful classes to make it easier to implement. The first thing we can do is replace our `linear1` function with PyTorch's `nn.Linear` module. A *module* is an object of a class that inherits from the PyTorch `nn.Module` class. Objects of this class behave identically to standard Python functions, in that you can call them using parentheses and they will return the activations of a model.\n",
        "\n",
        "`nn.Linear` does the same thing as our `init_params` and `linear` together. It contains both the *weights* and *biases* in a single class. Here's how we replicate our model from the previous section:"
      ]
    },
    {
      "cell_type": "code",
      "execution_count": null,
      "metadata": {
        "id": "2b32johUxO0k"
      },
      "outputs": [],
      "source": [
        "linear_model = nn.Linear(28*28,1)"
      ]
    },
    {
      "cell_type": "markdown",
      "metadata": {
        "id": "5aHMr1g6xO0k"
      },
      "source": [
        "Every PyTorch module knows what parameters it has that can be trained; they are available through the `parameters` method:"
      ]
    },
    {
      "cell_type": "code",
      "execution_count": null,
      "metadata": {
        "id": "K4ns76C_xO0k",
        "outputId": "b799212f-22b7-48e7-ddfd-06f8e1b9c46f"
      },
      "outputs": [
        {
          "data": {
            "text/plain": [
              "(torch.Size([1, 784]), torch.Size([1]))"
            ]
          },
          "execution_count": null,
          "metadata": {},
          "output_type": "execute_result"
        }
      ],
      "source": [
        "w,b = linear_model.parameters()\n",
        "w.shape,b.shape"
      ]
    },
    {
      "cell_type": "markdown",
      "metadata": {
        "id": "FZCAjoBJxO0k"
      },
      "source": [
        "We can use this information to create an optimizer:"
      ]
    },
    {
      "cell_type": "code",
      "execution_count": null,
      "metadata": {
        "id": "4dYyRC3QxO0k"
      },
      "outputs": [],
      "source": [
        "class BasicOptim:\n",
        "    def __init__(self,params,lr): self.params,self.lr = list(params),lr\n",
        "\n",
        "    def step(self, *args, **kwargs):\n",
        "        for p in self.params: p.data -= p.grad.data * self.lr\n",
        "\n",
        "    def zero_grad(self, *args, **kwargs):\n",
        "        for p in self.params: p.grad = None"
      ]
    },
    {
      "cell_type": "markdown",
      "metadata": {
        "id": "vyq56xLJxO0l"
      },
      "source": [
        "We can create our optimizer by passing in the model's parameters:"
      ]
    },
    {
      "cell_type": "code",
      "execution_count": null,
      "metadata": {
        "id": "9X7d9o6BxO0l"
      },
      "outputs": [],
      "source": [
        "opt = BasicOptim(linear_model.parameters(), lr)"
      ]
    },
    {
      "cell_type": "markdown",
      "metadata": {
        "id": "uIvWtv5qxO0l"
      },
      "source": [
        "Our training loop can now be simplified to:"
      ]
    },
    {
      "cell_type": "code",
      "execution_count": null,
      "metadata": {
        "id": "Cr3z1l5nxO0l"
      },
      "outputs": [],
      "source": [
        "def train_epoch(model):\n",
        "    for xb,yb in dl:\n",
        "        calc_grad(xb, yb, model)\n",
        "        opt.step()\n",
        "        opt.zero_grad()"
      ]
    },
    {
      "cell_type": "markdown",
      "metadata": {
        "id": "4F8Z6IUqxO0l"
      },
      "source": [
        "Our validation function doesn't need to change at all:"
      ]
    },
    {
      "cell_type": "code",
      "execution_count": null,
      "metadata": {
        "id": "Pdpi2fFtxO0l",
        "outputId": "1c188617-db20-497b-c9c7-077b69cf65db"
      },
      "outputs": [
        {
          "data": {
            "text/plain": [
              "0.4157"
            ]
          },
          "execution_count": null,
          "metadata": {},
          "output_type": "execute_result"
        }
      ],
      "source": [
        "validate_epoch(linear_model)"
      ]
    },
    {
      "cell_type": "markdown",
      "metadata": {
        "id": "viwTdxXzxO0l"
      },
      "source": [
        "Let's put our little training loop in a function, to make things simpler:"
      ]
    },
    {
      "cell_type": "code",
      "execution_count": null,
      "metadata": {
        "id": "Br3C5LTfxO0l"
      },
      "outputs": [],
      "source": [
        "def train_model(model, epochs):\n",
        "    for i in range(epochs):\n",
        "        train_epoch(model)\n",
        "        print(validate_epoch(model), end=' ')"
      ]
    },
    {
      "cell_type": "markdown",
      "metadata": {
        "id": "lFJOWUySxO0m"
      },
      "source": [
        "The results are the same as in the previous section:"
      ]
    },
    {
      "cell_type": "code",
      "execution_count": null,
      "metadata": {
        "id": "XG1fnkGsxO0m",
        "outputId": "5e562d76-bd34-4849-fec9-78b1ec88098d"
      },
      "outputs": [
        {
          "name": "stdout",
          "output_type": "stream",
          "text": [
            "0.4932 0.8618 0.8203 0.9102 0.9331 0.9468 0.9555 0.9629 0.9658 0.9673 0.9687 0.9707 0.9726 0.9751 0.9761 0.9761 0.9775 0.978 0.9785 0.9785 "
          ]
        }
      ],
      "source": [
        "train_model(linear_model, 20)"
      ]
    },
    {
      "cell_type": "markdown",
      "metadata": {
        "id": "Jc35p9EdxO0m"
      },
      "source": [
        "fastai provides the `SGD` class which, by default, does the same thing as our `BasicOptim`:"
      ]
    },
    {
      "cell_type": "code",
      "execution_count": null,
      "metadata": {
        "id": "3Q7kR93MxO0m",
        "outputId": "5d883aad-6d42-4c7d-b912-62b56fad0b8d"
      },
      "outputs": [
        {
          "name": "stdout",
          "output_type": "stream",
          "text": [
            "0.4932 0.852 0.8335 0.9116 0.9326 0.9473 0.9555 0.9624 0.9648 0.9668 0.9692 0.9712 0.9731 0.9746 0.9761 0.9765 0.9775 0.978 0.9785 0.9785 "
          ]
        }
      ],
      "source": [
        "linear_model = nn.Linear(28*28,1)\n",
        "opt = SGD(linear_model.parameters(), lr)\n",
        "train_model(linear_model, 20)"
      ]
    },
    {
      "cell_type": "markdown",
      "metadata": {
        "id": "7cjNCkkXxO0m"
      },
      "source": [
        "fastai also provides `Learner.fit`, which we can use instead of `train_model`. To create a `Learner` we first need to create a `DataLoaders`, by passing in our training and validation `DataLoader`s:"
      ]
    },
    {
      "cell_type": "code",
      "execution_count": null,
      "metadata": {
        "id": "Ya245EgbxO0m"
      },
      "outputs": [],
      "source": [
        "dls = DataLoaders(dl, valid_dl)"
      ]
    },
    {
      "cell_type": "markdown",
      "metadata": {
        "id": "8IT-5YyJxO0m"
      },
      "source": [
        "To create a `Learner` without using an application (such as `vision_learner`) we need to pass in all the elements that we've created in this chapter: the `DataLoaders`, the model, the optimization function (which will be passed the parameters), the loss function, and optionally any metrics to print:"
      ]
    },
    {
      "cell_type": "code",
      "execution_count": null,
      "metadata": {
        "id": "j4zDm5DkxO0n"
      },
      "outputs": [],
      "source": [
        "learn = Learner(dls, nn.Linear(28*28,1), opt_func=SGD,\n",
        "                loss_func=mnist_loss, metrics=batch_accuracy)"
      ]
    },
    {
      "cell_type": "markdown",
      "metadata": {
        "id": "Wd4S7qKtxO0n"
      },
      "source": [
        "Now we can call `fit`:"
      ]
    },
    {
      "cell_type": "code",
      "execution_count": null,
      "metadata": {
        "id": "bw4fCG7LxO0n",
        "outputId": "d29911ae-3b74-4cc2-b163-b24446a15843"
      },
      "outputs": [
        {
          "data": {
            "text/html": [
              "<table border=\"1\" class=\"dataframe\">\n",
              "  <thead>\n",
              "    <tr style=\"text-align: left;\">\n",
              "      <th>epoch</th>\n",
              "      <th>train_loss</th>\n",
              "      <th>valid_loss</th>\n",
              "      <th>batch_accuracy</th>\n",
              "      <th>time</th>\n",
              "    </tr>\n",
              "  </thead>\n",
              "  <tbody>\n",
              "    <tr>\n",
              "      <td>0</td>\n",
              "      <td>0.636857</td>\n",
              "      <td>0.503549</td>\n",
              "      <td>0.495584</td>\n",
              "      <td>00:00</td>\n",
              "    </tr>\n",
              "    <tr>\n",
              "      <td>1</td>\n",
              "      <td>0.545725</td>\n",
              "      <td>0.170281</td>\n",
              "      <td>0.866045</td>\n",
              "      <td>00:00</td>\n",
              "    </tr>\n",
              "    <tr>\n",
              "      <td>2</td>\n",
              "      <td>0.199223</td>\n",
              "      <td>0.184893</td>\n",
              "      <td>0.831207</td>\n",
              "      <td>00:00</td>\n",
              "    </tr>\n",
              "    <tr>\n",
              "      <td>3</td>\n",
              "      <td>0.086580</td>\n",
              "      <td>0.107836</td>\n",
              "      <td>0.911187</td>\n",
              "      <td>00:00</td>\n",
              "    </tr>\n",
              "    <tr>\n",
              "      <td>4</td>\n",
              "      <td>0.045185</td>\n",
              "      <td>0.078481</td>\n",
              "      <td>0.932777</td>\n",
              "      <td>00:00</td>\n",
              "    </tr>\n",
              "    <tr>\n",
              "      <td>5</td>\n",
              "      <td>0.029108</td>\n",
              "      <td>0.062792</td>\n",
              "      <td>0.946516</td>\n",
              "      <td>00:00</td>\n",
              "    </tr>\n",
              "    <tr>\n",
              "      <td>6</td>\n",
              "      <td>0.022560</td>\n",
              "      <td>0.053017</td>\n",
              "      <td>0.955348</td>\n",
              "      <td>00:00</td>\n",
              "    </tr>\n",
              "    <tr>\n",
              "      <td>7</td>\n",
              "      <td>0.019687</td>\n",
              "      <td>0.046500</td>\n",
              "      <td>0.962218</td>\n",
              "      <td>00:00</td>\n",
              "    </tr>\n",
              "    <tr>\n",
              "      <td>8</td>\n",
              "      <td>0.018252</td>\n",
              "      <td>0.041929</td>\n",
              "      <td>0.965162</td>\n",
              "      <td>00:00</td>\n",
              "    </tr>\n",
              "    <tr>\n",
              "      <td>9</td>\n",
              "      <td>0.017402</td>\n",
              "      <td>0.038573</td>\n",
              "      <td>0.967615</td>\n",
              "      <td>00:00</td>\n",
              "    </tr>\n",
              "  </tbody>\n",
              "</table>"
            ],
            "text/plain": [
              "<IPython.core.display.HTML object>"
            ]
          },
          "metadata": {},
          "output_type": "display_data"
        }
      ],
      "source": [
        "learn.fit(10, lr=lr)"
      ]
    },
    {
      "cell_type": "markdown",
      "metadata": {
        "id": "tVQfe2ojxO0v"
      },
      "source": [
        "As you can see, there's nothing magic about the PyTorch and fastai classes. They are just convenient pre-packaged pieces that make your life a bit easier! (They also provide a lot of extra functionality we'll be using in future chapters.)\n",
        "\n",
        "With these classes, we can now replace our linear model with a neural network."
      ]
    },
    {
      "cell_type": "markdown",
      "metadata": {
        "id": "uc4dMa1qxO0w"
      },
      "source": [
        "## Adding a Nonlinearity"
      ]
    },
    {
      "cell_type": "markdown",
      "metadata": {
        "id": "VwWcFSMCxO0w"
      },
      "source": [
        "So far we have a general procedure for optimizing the parameters of a function, and we have tried it out on a very boring function: a simple linear classifier. A linear classifier is very constrained in terms of what it can do. To make it a bit more complex (and able to handle more tasks), we need to add something nonlinear between two linear classifiers—this is what gives us a neural network.\n",
        "\n",
        "Here is the entire definition of a basic neural network:"
      ]
    },
    {
      "cell_type": "code",
      "execution_count": null,
      "metadata": {
        "id": "lqQubt0axO0w"
      },
      "outputs": [],
      "source": [
        "def simple_net(xb): \n",
        "    res = xb@w1 + b1\n",
        "    res = res.max(tensor(0.0))\n",
        "    res = res@w2 + b2\n",
        "    return res"
      ]
    },
    {
      "cell_type": "markdown",
      "metadata": {
        "id": "NJYfKfxsxO0x"
      },
      "source": [
        "That's it! All we have in `simple_net` is two linear classifiers with a `max` function between them.\n",
        "\n",
        "Here, `w1` and `w2` are weight tensors, and `b1` and `b2` are bias tensors; that is, parameters that are initially randomly initialized, just like we did in the previous section:"
      ]
    },
    {
      "cell_type": "code",
      "execution_count": null,
      "metadata": {
        "id": "N0D2ZjmtxO0x"
      },
      "outputs": [],
      "source": [
        "w1 = init_params((28*28,30))\n",
        "b1 = init_params(30)\n",
        "w2 = init_params((30,1))\n",
        "b2 = init_params(1)"
      ]
    },
    {
      "cell_type": "markdown",
      "metadata": {
        "id": "ssZaaDiaxO0y"
      },
      "source": [
        "The key point about this is that `w1` has 30 output activations (which means that `w2` must have 30 input activations, so they match). That means that the first layer can construct 30 different features, each representing some different mix of pixels. You can change that `30` to anything you like, to make the model more or less complex.\n",
        "\n",
        "That little function `res.max(tensor(0.0))` is called a *rectified linear unit*, also known as *ReLU*. We think we can all agree that *rectified linear unit* sounds pretty fancy and complicated... But actually, there's nothing more to it than `res.max(tensor(0.0))`—in other words, replace every negative number with a zero. This tiny function is also available in PyTorch as `F.relu`:"
      ]
    },
    {
      "cell_type": "code",
      "execution_count": null,
      "metadata": {
        "id": "CiRZMA6FxO1z",
        "outputId": "750512a1-3e9c-44dd-a278-32b17cf3c0e9"
      },
      "outputs": [
        {
          "data": {
            "image/png": "[encoded data removed]",
            "text/plain": [
              "<Figure size 432x288 with 1 Axes>"
            ]
          },
          "metadata": {
            "needs_background": "light"
          },
          "output_type": "display_data"
        }
      ],
      "source": [
        "plot_function(F.relu)"
      ]
    },
    {
      "cell_type": "markdown",
      "metadata": {
        "id": "cGxXo6BcxO10"
      },
      "source": [
        "> J: There is an enormous amount of jargon in deep learning, including terms like _rectified linear unit_. The vast vast majority of this jargon is no more complicated than can be implemented in a short line of code, as we saw in this example. The reality is that for academics to get their papers published they need to make them sound as impressive and sophisticated as possible. One of the ways that they do that is to introduce jargon. Unfortunately, this has the result that the field ends up becoming far more intimidating and difficult to get into than it should be. You do have to learn the jargon, because otherwise papers and tutorials are not going to mean much to you. But that doesn't mean you have to find the jargon intimidating. Just remember, when you come across a word or phrase that you haven't seen before, it will almost certainly turn out to be referring to a very simple concept."
      ]
    },
    {
      "cell_type": "markdown",
      "metadata": {
        "id": "Z_nMqWv1xO11"
      },
      "source": [
        "The basic idea is that by using more linear layers, we can have our model do more computation, and therefore model more complex functions. But there's no point just putting one linear layer directly after another one, because when we multiply things together and then add them up multiple times, that could be replaced by multiplying different things together and adding them up just once! That is to say, a series of any number of linear layers in a row can be replaced with a single linear layer with a different set of parameters.\n",
        "\n",
        "But if we put a nonlinear function between them, such as `max`, then this is no longer true. Now each linear layer is actually somewhat decoupled from the other ones, and can do its own useful work. The `max` function is particularly interesting, because it operates as a simple `if` statement."
      ]
    },
    {
      "cell_type": "markdown",
      "metadata": {
        "id": "F1Ll-8tKxO12"
      },
      "source": [
        "> S: Mathematically, we say the composition of two linear functions is another linear function. So, we can stack as many linear classifiers as we want on top of each other, and without nonlinear functions between them, it will just be the same as one linear classifier."
      ]
    },
    {
      "cell_type": "markdown",
      "metadata": {
        "id": "xxdXdBgxxO13"
      },
      "source": [
        "Amazingly enough, it can be mathematically proven that this little function can solve any computable problem to an arbitrarily high level of accuracy, if you can find the right parameters for `w1` and `w2` and if you make these matrices big enough. For any arbitrarily wiggly function, we can approximate it as a bunch of lines joined together; to make it closer to the wiggly function, we just have to use shorter lines. This is known as the *universal approximation theorem*. The three lines of code that we have here are known as *layers*. The first and third are known as *linear layers*, and the second line of code is known variously as a *nonlinearity*, or *activation function*.\n",
        "\n",
        "Just like in the previous section, we can replace this code with something a bit simpler, by taking advantage of PyTorch:"
      ]
    },
    {
      "cell_type": "code",
      "execution_count": null,
      "metadata": {
        "id": "2vUzv7BpxO14"
      },
      "outputs": [],
      "source": [
        "simple_net = nn.Sequential(\n",
        "    nn.Linear(28*28,30),\n",
        "    nn.ReLU(),\n",
        "    nn.Linear(30,1)\n",
        ")"
      ]
    },
    {
      "cell_type": "markdown",
      "metadata": {
        "id": "-qJeOMp4xO18"
      },
      "source": [
        "`nn.Sequential` creates a module that will call each of the listed layers or functions in turn.\n",
        "\n",
        "`nn.ReLU` is a PyTorch module that does exactly the same thing as the `F.relu` function. Most functions that can appear in a model also have identical forms that are modules. Generally, it's just a case of replacing `F` with `nn` and changing the capitalization. When using `nn.Sequential`, PyTorch requires us to use the module version. Since modules are classes, we have to instantiate them, which is why you see `nn.ReLU()` in this example. \n",
        "\n",
        "Because `nn.Sequential` is a module, we can get its parameters, which will return a list of all the parameters of all the modules it contains. Let's try it out! As this is a deeper model, we'll use a lower learning rate and a few more epochs."
      ]
    },
    {
      "cell_type": "code",
      "execution_count": null,
      "metadata": {
        "id": "CRKy-4yoxO19"
      },
      "outputs": [],
      "source": [
        "learn = Learner(dls, simple_net, opt_func=SGD,\n",
        "                loss_func=mnist_loss, metrics=batch_accuracy)"
      ]
    },
    {
      "cell_type": "code",
      "execution_count": null,
      "metadata": {
        "id": "hX8zKdpixO19",
        "outputId": "dd659447-c960-419d-8c3e-e992871bdc09"
      },
      "outputs": [
        {
          "data": {
            "text/html": [
              "<table border=\"1\" class=\"dataframe\">\n",
              "  <thead>\n",
              "    <tr style=\"text-align: left;\">\n",
              "      <th>epoch</th>\n",
              "      <th>train_loss</th>\n",
              "      <th>valid_loss</th>\n",
              "      <th>batch_accuracy</th>\n",
              "      <th>time</th>\n",
              "    </tr>\n",
              "  </thead>\n",
              "  <tbody>\n",
              "    <tr>\n",
              "      <td>0</td>\n",
              "      <td>0.305828</td>\n",
              "      <td>0.399663</td>\n",
              "      <td>0.508341</td>\n",
              "      <td>00:00</td>\n",
              "    </tr>\n",
              "    <tr>\n",
              "      <td>1</td>\n",
              "      <td>0.142960</td>\n",
              "      <td>0.225702</td>\n",
              "      <td>0.807655</td>\n",
              "      <td>00:00</td>\n",
              "    </tr>\n",
              "    <tr>\n",
              "      <td>2</td>\n",
              "      <td>0.079516</td>\n",
              "      <td>0.113519</td>\n",
              "      <td>0.919529</td>\n",
              "      <td>00:00</td>\n",
              "    </tr>\n",
              "    <tr>\n",
              "      <td>3</td>\n",
              "      <td>0.052391</td>\n",
              "      <td>0.076792</td>\n",
              "      <td>0.943081</td>\n",
              "      <td>00:00</td>\n",
              "    </tr>\n",
              "    <tr>\n",
              "      <td>4</td>\n",
              "      <td>0.039796</td>\n",
              "      <td>0.060083</td>\n",
              "      <td>0.956330</td>\n",
              "      <td>00:00</td>\n",
              "    </tr>\n",
              "    <tr>\n",
              "      <td>5</td>\n",
              "      <td>0.033368</td>\n",
              "      <td>0.050713</td>\n",
              "      <td>0.963690</td>\n",
              "      <td>00:00</td>\n",
              "    </tr>\n",
              "    <tr>\n",
              "      <td>6</td>\n",
              "      <td>0.029680</td>\n",
              "      <td>0.044797</td>\n",
              "      <td>0.965653</td>\n",
              "      <td>00:00</td>\n",
              "    </tr>\n",
              "    <tr>\n",
              "      <td>7</td>\n",
              "      <td>0.027290</td>\n",
              "      <td>0.040729</td>\n",
              "      <td>0.968106</td>\n",
              "      <td>00:00</td>\n",
              "    </tr>\n",
              "    <tr>\n",
              "      <td>8</td>\n",
              "      <td>0.025568</td>\n",
              "      <td>0.037771</td>\n",
              "      <td>0.968597</td>\n",
              "      <td>00:00</td>\n",
              "    </tr>\n",
              "    <tr>\n",
              "      <td>9</td>\n",
              "      <td>0.024233</td>\n",
              "      <td>0.035508</td>\n",
              "      <td>0.970559</td>\n",
              "      <td>00:00</td>\n",
              "    </tr>\n",
              "    <tr>\n",
              "      <td>10</td>\n",
              "      <td>0.023149</td>\n",
              "      <td>0.033714</td>\n",
              "      <td>0.972031</td>\n",
              "      <td>00:00</td>\n",
              "    </tr>\n",
              "    <tr>\n",
              "      <td>11</td>\n",
              "      <td>0.022242</td>\n",
              "      <td>0.032243</td>\n",
              "      <td>0.972522</td>\n",
              "      <td>00:00</td>\n",
              "    </tr>\n",
              "    <tr>\n",
              "      <td>12</td>\n",
              "      <td>0.021468</td>\n",
              "      <td>0.031006</td>\n",
              "      <td>0.973503</td>\n",
              "      <td>00:00</td>\n",
              "    </tr>\n",
              "    <tr>\n",
              "      <td>13</td>\n",
              "      <td>0.020796</td>\n",
              "      <td>0.029944</td>\n",
              "      <td>0.974485</td>\n",
              "      <td>00:00</td>\n",
              "    </tr>\n",
              "    <tr>\n",
              "      <td>14</td>\n",
              "      <td>0.020207</td>\n",
              "      <td>0.029016</td>\n",
              "      <td>0.975466</td>\n",
              "      <td>00:00</td>\n",
              "    </tr>\n",
              "    <tr>\n",
              "      <td>15</td>\n",
              "      <td>0.019683</td>\n",
              "      <td>0.028196</td>\n",
              "      <td>0.976448</td>\n",
              "      <td>00:00</td>\n",
              "    </tr>\n",
              "    <tr>\n",
              "      <td>16</td>\n",
              "      <td>0.019215</td>\n",
              "      <td>0.027463</td>\n",
              "      <td>0.976448</td>\n",
              "      <td>00:00</td>\n",
              "    </tr>\n",
              "    <tr>\n",
              "      <td>17</td>\n",
              "      <td>0.018791</td>\n",
              "      <td>0.026806</td>\n",
              "      <td>0.976938</td>\n",
              "      <td>00:00</td>\n",
              "    </tr>\n",
              "    <tr>\n",
              "      <td>18</td>\n",
              "      <td>0.018405</td>\n",
              "      <td>0.026212</td>\n",
              "      <td>0.977920</td>\n",
              "      <td>00:00</td>\n",
              "    </tr>\n",
              "    <tr>\n",
              "      <td>19</td>\n",
              "      <td>0.018051</td>\n",
              "      <td>0.025671</td>\n",
              "      <td>0.977920</td>\n",
              "      <td>00:00</td>\n",
              "    </tr>\n",
              "    <tr>\n",
              "      <td>20</td>\n",
              "      <td>0.017725</td>\n",
              "      <td>0.025179</td>\n",
              "      <td>0.977920</td>\n",
              "      <td>00:00</td>\n",
              "    </tr>\n",
              "    <tr>\n",
              "      <td>21</td>\n",
              "      <td>0.017422</td>\n",
              "      <td>0.024728</td>\n",
              "      <td>0.978410</td>\n",
              "      <td>00:00</td>\n",
              "    </tr>\n",
              "    <tr>\n",
              "      <td>22</td>\n",
              "      <td>0.017141</td>\n",
              "      <td>0.024313</td>\n",
              "      <td>0.978901</td>\n",
              "      <td>00:00</td>\n",
              "    </tr>\n",
              "    <tr>\n",
              "      <td>23</td>\n",
              "      <td>0.016878</td>\n",
              "      <td>0.023932</td>\n",
              "      <td>0.979392</td>\n",
              "      <td>00:00</td>\n",
              "    </tr>\n",
              "    <tr>\n",
              "      <td>24</td>\n",
              "      <td>0.016632</td>\n",
              "      <td>0.023580</td>\n",
              "      <td>0.979882</td>\n",
              "      <td>00:00</td>\n",
              "    </tr>\n",
              "    <tr>\n",
              "      <td>25</td>\n",
              "      <td>0.016400</td>\n",
              "      <td>0.023254</td>\n",
              "      <td>0.979882</td>\n",
              "      <td>00:00</td>\n",
              "    </tr>\n",
              "    <tr>\n",
              "      <td>26</td>\n",
              "      <td>0.016181</td>\n",
              "      <td>0.022952</td>\n",
              "      <td>0.979882</td>\n",
              "      <td>00:00</td>\n",
              "    </tr>\n",
              "    <tr>\n",
              "      <td>27</td>\n",
              "      <td>0.015975</td>\n",
              "      <td>0.022672</td>\n",
              "      <td>0.980864</td>\n",
              "      <td>00:00</td>\n",
              "    </tr>\n",
              "    <tr>\n",
              "      <td>28</td>\n",
              "      <td>0.015779</td>\n",
              "      <td>0.022411</td>\n",
              "      <td>0.980864</td>\n",
              "      <td>00:00</td>\n",
              "    </tr>\n",
              "    <tr>\n",
              "      <td>29</td>\n",
              "      <td>0.015593</td>\n",
              "      <td>0.022168</td>\n",
              "      <td>0.981845</td>\n",
              "      <td>00:00</td>\n",
              "    </tr>\n",
              "    <tr>\n",
              "      <td>30</td>\n",
              "      <td>0.015417</td>\n",
              "      <td>0.021941</td>\n",
              "      <td>0.981845</td>\n",
              "      <td>00:00</td>\n",
              "    </tr>\n",
              "    <tr>\n",
              "      <td>31</td>\n",
              "      <td>0.015249</td>\n",
              "      <td>0.021728</td>\n",
              "      <td>0.981845</td>\n",
              "      <td>00:00</td>\n",
              "    </tr>\n",
              "    <tr>\n",
              "      <td>32</td>\n",
              "      <td>0.015088</td>\n",
              "      <td>0.021529</td>\n",
              "      <td>0.981845</td>\n",
              "      <td>00:00</td>\n",
              "    </tr>\n",
              "    <tr>\n",
              "      <td>33</td>\n",
              "      <td>0.014935</td>\n",
              "      <td>0.021341</td>\n",
              "      <td>0.981845</td>\n",
              "      <td>00:00</td>\n",
              "    </tr>\n",
              "    <tr>\n",
              "      <td>34</td>\n",
              "      <td>0.014788</td>\n",
              "      <td>0.021164</td>\n",
              "      <td>0.981845</td>\n",
              "      <td>00:00</td>\n",
              "    </tr>\n",
              "    <tr>\n",
              "      <td>35</td>\n",
              "      <td>0.014647</td>\n",
              "      <td>0.020998</td>\n",
              "      <td>0.982336</td>\n",
              "      <td>00:00</td>\n",
              "    </tr>\n",
              "    <tr>\n",
              "      <td>36</td>\n",
              "      <td>0.014512</td>\n",
              "      <td>0.020840</td>\n",
              "      <td>0.982826</td>\n",
              "      <td>00:00</td>\n",
              "    </tr>\n",
              "    <tr>\n",
              "      <td>37</td>\n",
              "      <td>0.014382</td>\n",
              "      <td>0.020691</td>\n",
              "      <td>0.982826</td>\n",
              "      <td>00:00</td>\n",
              "    </tr>\n",
              "    <tr>\n",
              "      <td>38</td>\n",
              "      <td>0.014257</td>\n",
              "      <td>0.020550</td>\n",
              "      <td>0.982826</td>\n",
              "      <td>00:00</td>\n",
              "    </tr>\n",
              "    <tr>\n",
              "      <td>39</td>\n",
              "      <td>0.014136</td>\n",
              "      <td>0.020415</td>\n",
              "      <td>0.982826</td>\n",
              "      <td>00:00</td>\n",
              "    </tr>\n",
              "  </tbody>\n",
              "</table>"
            ],
            "text/plain": [
              "<IPython.core.display.HTML object>"
            ]
          },
          "metadata": {},
          "output_type": "display_data"
        }
      ],
      "source": [
        "#hide_output\n",
        "learn.fit(40, 0.1)"
      ]
    },
    {
      "cell_type": "markdown",
      "metadata": {
        "id": "WQ_iomZDxO19"
      },
      "source": [
        "We're not showing the 40 lines of output here to save room; the training process is recorded in `learn.recorder`, with the table of output stored in the `values` attribute, so we can plot the accuracy over training as:"
      ]
    },
    {
      "cell_type": "code",
      "execution_count": null,
      "metadata": {
        "id": "Tpel2MDtxO19",
        "outputId": "a840135a-f326-4df5-a98f-63a3df9899b5"
      },
      "outputs": [
        {
          "data": {
            "image/png": "[encoded data removed]",
            "text/plain": [
              "<Figure size 432x288 with 1 Axes>"
            ]
          },
          "metadata": {
            "needs_background": "light"
          },
          "output_type": "display_data"
        }
      ],
      "source": [
        "plt.plot(L(learn.recorder.values).itemgot(2));"
      ]
    },
    {
      "cell_type": "markdown",
      "metadata": {
        "id": "wX2ev7jMxO19"
      },
      "source": [
        "And we can view the final accuracy:"
      ]
    },
    {
      "cell_type": "code",
      "execution_count": null,
      "metadata": {
        "id": "gYLntMhuxO1-",
        "outputId": "34e1a75a-b602-4a11-f615-b9b4ecca85ae"
      },
      "outputs": [
        {
          "data": {
            "text/plain": [
              "0.982826292514801"
            ]
          },
          "execution_count": null,
          "metadata": {},
          "output_type": "execute_result"
        }
      ],
      "source": [
        "learn.recorder.values[-1][2]"
      ]
    },
    {
      "cell_type": "markdown",
      "metadata": {
        "id": "PZLDqnq_xO1-"
      },
      "source": [
        "At this point we have something that is rather magical:\n",
        "\n",
        "1. A function that can solve any problem to any level of accuracy (the neural network) given the correct set of parameters\n",
        "1. A way to find the best set of parameters for any function (stochastic gradient descent)\n",
        "\n",
        "This is why deep learning can do things which seem rather magical, such fantastic things. Believing that this combination of simple techniques can really solve any problem is one of the biggest steps that we find many students have to take. It seems too good to be true—surely things should be more difficult and complicated than this? Our recommendation: try it out! We just tried it on the MNIST dataset and you have seen the results. And since we are doing everything from scratch ourselves (except for calculating the gradients) you know that there is no special magic hiding behind the scenes."
      ]
    },
    {
      "cell_type": "markdown",
      "metadata": {
        "id": "cC2B--WBxO1-"
      },
      "source": [
        "### Going Deeper"
      ]
    },
    {
      "cell_type": "markdown",
      "metadata": {
        "id": "cga0M7GqxO1-"
      },
      "source": [
        "There is no need to stop at just two linear layers. We can add as many as we want, as long as we add a nonlinearity between each pair of linear layers. As you will learn, however, the deeper the model gets, the harder it is to optimize the parameters in practice. Later in this book you will learn about some simple but brilliantly effective techniques for training deeper models.\n",
        "\n",
        "We already know that a single nonlinearity with two linear layers is enough to approximate any function. So why would we use deeper models? The reason is performance. With a deeper model (that is, one with more layers) we do not need to use as many parameters; it turns out that we can use smaller matrices with more layers, and get better results than we would get with larger matrices, and few layers.\n",
        "\n",
        "That means that we can train the model more quickly, and it will take up less memory. In the 1990s researchers were so focused on the universal approximation theorem that very few were experimenting with more than one nonlinearity. This theoretical but not practical foundation held back the field for years. Some researchers, however, did experiment with deep models, and eventually were able to show that these models could perform much better in practice. Eventually, theoretical results were developed which showed why this happens. Today, it is extremely unusual to find anybody using a neural network with just one nonlinearity.\n",
        "\n",
        "Here is what happens when we train an 18-layer model using the same approach we saw in <<chapter_intro>>:"
      ]
    },
    {
      "cell_type": "code",
      "execution_count": null,
      "metadata": {
        "id": "ZFiOSZAYxO2B",
        "outputId": "0183e763-4564-4ab1-8cde-fdc50e7e6b10"
      },
      "outputs": [
        {
          "data": {
            "text/html": [
              "<table border=\"1\" class=\"dataframe\">\n",
              "  <thead>\n",
              "    <tr style=\"text-align: left;\">\n",
              "      <th>epoch</th>\n",
              "      <th>train_loss</th>\n",
              "      <th>valid_loss</th>\n",
              "      <th>accuracy</th>\n",
              "      <th>time</th>\n",
              "    </tr>\n",
              "  </thead>\n",
              "  <tbody>\n",
              "    <tr>\n",
              "      <td>0</td>\n",
              "      <td>0.082089</td>\n",
              "      <td>0.009578</td>\n",
              "      <td>0.997056</td>\n",
              "      <td>00:11</td>\n",
              "    </tr>\n",
              "  </tbody>\n",
              "</table>"
            ],
            "text/plain": [
              "<IPython.core.display.HTML object>"
            ]
          },
          "metadata": {},
          "output_type": "display_data"
        }
      ],
      "source": [
        "dls = ImageDataLoaders.from_folder(path)\n",
        "learn = vision_learner(dls, resnet18, pretrained=False,\n",
        "                    loss_func=F.cross_entropy, metrics=accuracy)\n",
        "learn.fit_one_cycle(1, 0.1)"
      ]
    },
    {
      "cell_type": "markdown",
      "metadata": {
        "id": "BEs3o39TxO2B"
      },
      "source": [
        "Nearly 100% accuracy! That's a big difference compared to our simple neural net. But as you'll learn in the remainder of this book, there are just a few little tricks you need to use to get such great results from scratch yourself. You already know the key foundational pieces. (Of course, even once you know all the tricks, you'll nearly always want to work with the pre-built classes provided by PyTorch and fastai, because they save you having to think about all the little details yourself.)"
      ]
    },
    {
      "cell_type": "markdown",
      "metadata": {
        "id": "Ahk-YCJYxO2B"
      },
      "source": [
        "## Jargon Recap"
      ]
    },
    {
      "cell_type": "markdown",
      "metadata": {
        "id": "2C1immaYxO2B"
      },
      "source": [
        "Congratulations: you now know how to create and train a deep neural network from scratch! We've gone through quite a few steps to get to this point, but you might be surprised at how simple it really is.\n",
        "\n",
        "Now that we are at this point, it is a good opportunity to define, and review, some jargon and key concepts.\n",
        "\n",
        "A neural network contains a lot of numbers, but they are only of two types: numbers that are calculated, and the parameters that these numbers are calculated from. This gives us the two most important pieces of jargon to learn:\n",
        "\n",
        "- Activations:: Numbers that are calculated (both by linear and nonlinear layers)\n",
        "- Parameters:: Numbers that are randomly initialized, and optimized (that is, the numbers that define the model)\n",
        "\n",
        "We will often talk in this book about activations and parameters. Remember that they have very specific meanings. They are numbers. They are not abstract concepts, but they are actual specific numbers that are in your model. Part of becoming a good deep learning practitioner is getting used to the idea of actually looking at your activations and parameters, and plotting them and testing whether they are behaving correctly.\n",
        "\n",
        "Our activations and parameters are all contained in *tensors*. These are simply regularly shaped arrays—for example, a matrix. Matrices have rows and columns; we call these the *axes* or *dimensions*. The number of dimensions of a tensor is its *rank*. There are some special tensors:\n",
        "\n",
        "- Rank zero: scalar\n",
        "- Rank one: vector\n",
        "- Rank two: matrix\n",
        "\n",
        "A neural network contains a number of layers. Each layer is either *linear* or *nonlinear*. We generally alternate between these two kinds of layers in a neural network. Sometimes people refer to both a linear layer and its subsequent nonlinearity together as a single layer. Yes, this is confusing. Sometimes a nonlinearity is referred to as an *activation function*.\n",
        "\n",
        "<<dljargon1>> summarizes the key concepts related to SGD.\n",
        "\n",
        "```asciidoc\n",
        "[[dljargon1]]\n",
        ".Deep learning vocabulary\n",
        "[options=\"header\"]\n",
        "|=====\n",
        "| Term | Meaning\n",
        "|ReLU | Function that returns 0 for negative numbers and doesn't change positive numbers.\n",
        "|Mini-batch | A small group of inputs and labels gathered together in two arrays. A gradient descent step is updated on this batch (rather than a whole epoch).\n",
        "|Forward pass | Applying the model to some input and computing the predictions.\n",
        "|Loss | A value that represents how well (or badly) our model is doing.\n",
        "|Gradient | The derivative of the loss with respect to some parameter of the model.\n",
        "|Backward pass | Computing the gradients of the loss with respect to all model parameters.\n",
        "|Gradient descent | Taking a step in the directions opposite to the gradients to make the model parameters a little bit better.\n",
        "|Learning rate | The size of the step we take when applying SGD to update the parameters of the model.\n",
        "|=====\n",
        "```"
      ]
    },
    {
      "cell_type": "markdown",
      "metadata": {
        "id": "6sV_n-6_xO2C"
      },
      "source": [
        "> note: _Choose Your Own Adventure_ Reminder: Did you choose to skip over chapters 2 & 3, in your excitement to peek under the hood? Well, here's your reminder to head back to chapter 2 now, because you'll be needing to know that stuff very soon!"
      ]
    },
    {
      "cell_type": "markdown",
      "metadata": {
        "id": "-_acaAC0xO2C"
      },
      "source": [
        "## Questionnaire"
      ]
    },
    {
      "cell_type": "markdown",
      "metadata": {
        "id": "Yw3U70xQxO2C"
      },
      "source": [
        "1. How is a grayscale image represented on a computer? How about a color image?\n",
        "1. How are the files and folders in the `MNIST_SAMPLE` dataset structured? Why?\n",
        "1. Explain how the \"pixel similarity\" approach to classifying digits works.\n",
        "1. What is a list comprehension? Create one now that selects odd numbers from a list and doubles them.\n",
        "1. What is a \"rank-3 tensor\"?\n",
        "1. What is the difference between tensor rank and shape? How do you get the rank from the shape?\n",
        "1. What are RMSE and L1 norm?\n",
        "1. How can you apply a calculation on thousands of numbers at once, many thousands of times faster than a Python loop?\n",
        "1. Create a 3×3 tensor or array containing the numbers from 1 to 9. Double it. Select the bottom-right four numbers.\n",
        "1. What is broadcasting?\n",
        "1. Are metrics generally calculated using the training set, or the validation set? Why?\n",
        "1. What is SGD?\n",
        "1. Why does SGD use mini-batches?\n",
        "1. What are the seven steps in SGD for machine learning?\n",
        "1. How do we initialize the weights in a model?\n",
        "1. What is \"loss\"?\n",
        "1. Why can't we always use a high learning rate?\n",
        "1. What is a \"gradient\"?\n",
        "1. Do you need to know how to calculate gradients yourself?\n",
        "1. Why can't we use accuracy as a loss function?\n",
        "1. Draw the sigmoid function. What is special about its shape?\n",
        "1. What is the difference between a loss function and a metric?\n",
        "1. What is the function to calculate new weights using a learning rate?\n",
        "1. What does the `DataLoader` class do?\n",
        "1. Write pseudocode showing the basic steps taken in each epoch for SGD.\n",
        "1. Create a function that, if passed two arguments `[1,2,3,4]` and `'abcd'`, returns `[(1, 'a'), (2, 'b'), (3, 'c'), (4, 'd')]`. What is special about that output data structure?\n",
        "1. What does `view` do in PyTorch?\n",
        "1. What are the \"bias\" parameters in a neural network? Why do we need them?\n",
        "1. What does the `@` operator do in Python?\n",
        "1. What does the `backward` method do?\n",
        "1. Why do we have to zero the gradients?\n",
        "1. What information do we have to pass to `Learner`?\n",
        "1. Show Python or pseudocode for the basic steps of a training loop.\n",
        "1. What is \"ReLU\"? Draw a plot of it for values from `-2` to `+2`.\n",
        "1. What is an \"activation function\"?\n",
        "1. What's the difference between `F.relu` and `nn.ReLU`?\n",
        "1. The universal approximation theorem shows that any function can be approximated as closely as needed using just one nonlinearity. So why do we normally use more?"
      ]
    },
    {
      "cell_type": "markdown",
      "metadata": {
        "id": "YpEQQ6LoxO2C"
      },
      "source": [
        "### Further Research"
      ]
    },
    {
      "cell_type": "markdown",
      "metadata": {
        "id": "X12VRSzcxO2E"
      },
      "source": [
        "1. Create your own implementation of `Learner` from scratch, based on the training loop shown in this chapter.\n",
        "1. Complete all the steps in this chapter using the full MNIST datasets (that is, for all digits, not just 3s and 7s). This is a significant project and will take you quite a bit of time to complete! You'll need to do some of your own research to figure out how to overcome some obstacles you'll meet on the way."
      ]
    },
    {
      "cell_type": "code",
      "execution_count": null,
      "metadata": {
        "id": "XKK0gHz7xO2E"
      },
      "outputs": [],
      "source": []
    }
  ],
  "metadata": {
    "jupytext": {
      "split_at_heading": true
    },
    "kernelspec": {
      "display_name": "Python 3 (ipykernel)",
      "language": "python",
      "name": "python3"
    },
    "colab": {
      "provenance": []
    }
  },
  "nbformat": 4,
  "nbformat_minor": 0
}