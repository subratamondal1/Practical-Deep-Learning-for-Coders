{
 "cells": [
  {
   "cell_type": "markdown",
   "id": "5783476b",
   "metadata": {
    "papermill": {
     "duration": 0.115797,
     "end_time": "2023-04-08T20:16:22.818295",
     "exception": false,
     "start_time": "2023-04-08T20:16:22.702498",
     "status": "completed"
    },
    "tags": []
   },
   "source": [
    "## Introduction"
   ]
  },
  {
   "cell_type": "markdown",
   "id": "741514f1",
   "metadata": {
    "papermill": {
     "duration": 0.112005,
     "end_time": "2023-04-08T20:16:23.044087",
     "exception": false,
     "start_time": "2023-04-08T20:16:22.932082",
     "status": "completed"
    },
    "tags": []
   },
   "source": [
    "In this notebook we're going to build and train a deep learning model \"from scratch\" -- by which I mean that we're not going to use any pre-built architecture, or optimizers, or data loading frameworks, etc.\n",
    "\n",
    "We'll be assuming you already know the basics of how a neural network works. If you don't, read this notebook first: [How does a neural net really work?\n",
    "](https://www.kaggle.com/code/jhoward/how-does-a-neural-net-really-work). We'll be using Kaggle's [Titanic](https://www.kaggle.com/competitions/titanic/) competition in this notebook, because it's very small and simple, but also has displays many of the tricky real-life issues that we need to handle in most practical projects. (Note, however, that this competition is a small \"learner\" competition on Kaggle, so don't expect to actually see much benefits from using a neural net just yet; that will come once we try our some real competitions!)\n",
    "\n",
    "It's great to be able to run the same notebook on your own machine or Colab, as well as Kaggle. To allow for this, we use this code to download the data as needed when not on Kaggle (see [this notebook](https://www.kaggle.com/code/jhoward/getting-started-with-nlp-for-absolute-beginners/) for details about this technique):"
   ]
  },
  {
   "cell_type": "code",
   "execution_count": 1,
   "id": "978eb7f6",
   "metadata": {
    "execution": {
     "iopub.execute_input": "2023-04-08T20:16:23.270103Z",
     "iopub.status.busy": "2023-04-08T20:16:23.268920Z",
     "iopub.status.idle": "2023-04-08T20:16:23.282837Z",
     "shell.execute_reply": "2023-04-08T20:16:23.281930Z"
    },
    "papermill": {
     "duration": 0.129545,
     "end_time": "2023-04-08T20:16:23.285245",
     "exception": false,
     "start_time": "2023-04-08T20:16:23.155700",
     "status": "completed"
    },
    "tags": []
   },
   "outputs": [],
   "source": [
    "import os\n",
    "from pathlib import Path\n",
    "\n",
    "iskaggle = os.environ.get('KAGGLE_KERNEL_RUN_TYPE', '')\n",
    "if iskaggle: path = Path('../input/titanic')\n",
    "else:\n",
    "    path = Path('titanic')\n",
    "    if not path.exists():\n",
    "        import zipfile,kaggle\n",
    "        kaggle.api.competition_download_cli(str(path))\n",
    "        zipfile.ZipFile(f'{path}.zip').extractall(path)"
   ]
  },
  {
   "cell_type": "markdown",
   "id": "67d6d9a2",
   "metadata": {
    "hidden": true,
    "papermill": {
     "duration": 0.118045,
     "end_time": "2023-04-08T20:16:23.523279",
     "exception": false,
     "start_time": "2023-04-08T20:16:23.405234",
     "status": "completed"
    },
    "tags": []
   },
   "source": [
    "Note that the data for Kaggle comps always lives in the `../input` folder. The easiest way to get the path is to click the \"K\" button in the top-right of the Kaggle notebook, click on the folder shown there, and click the copy button.\n",
    "\n",
    "We'll be using *numpy* and *pytorch* for array calculations in this notebook, and *pandas* for working with tabular data, so we'll import them and set them to display using a bit more space than they default to."
   ]
  },
  {
   "cell_type": "code",
   "execution_count": 2,
   "id": "ee2fde0b",
   "metadata": {
    "execution": {
     "iopub.execute_input": "2023-04-08T20:16:23.763664Z",
     "iopub.status.busy": "2023-04-08T20:16:23.763264Z",
     "iopub.status.idle": "2023-04-08T20:16:25.377206Z",
     "shell.execute_reply": "2023-04-08T20:16:25.376125Z"
    },
    "papermill": {
     "duration": 1.741137,
     "end_time": "2023-04-08T20:16:25.379744",
     "exception": false,
     "start_time": "2023-04-08T20:16:23.638607",
     "status": "completed"
    },
    "tags": []
   },
   "outputs": [],
   "source": [
    "import torch, numpy as np, pandas as pd\n",
    "np.set_printoptions(linewidth=140)\n",
    "torch.set_printoptions(linewidth=140, sci_mode=False, edgeitems=7)\n",
    "pd.set_option('display.width', 140)"
   ]
  },
  {
   "cell_type": "markdown",
   "id": "7690b2e8",
   "metadata": {
    "heading_collapsed": true,
    "papermill": {
     "duration": 0.115049,
     "end_time": "2023-04-08T20:16:25.612282",
     "exception": false,
     "start_time": "2023-04-08T20:16:25.497233",
     "status": "completed"
    },
    "tags": []
   },
   "source": [
    "## Cleaning the data"
   ]
  },
  {
   "cell_type": "markdown",
   "id": "825649a1",
   "metadata": {
    "hidden": true,
    "papermill": {
     "duration": 0.115973,
     "end_time": "2023-04-08T20:16:25.844477",
     "exception": false,
     "start_time": "2023-04-08T20:16:25.728504",
     "status": "completed"
    },
    "tags": []
   },
   "source": [
    "This is a *tabular data* competition -- the data is in the form of a table. It's provided as a Comma Separated Values (CSV) file. We can open it using the *pandas* library, which will create a `DataFrame`."
   ]
  },
  {
   "cell_type": "code",
   "execution_count": 3,
   "id": "0f50dd4e",
   "metadata": {
    "execution": {
     "iopub.execute_input": "2023-04-08T20:16:26.086518Z",
     "iopub.status.busy": "2023-04-08T20:16:26.086143Z",
     "iopub.status.idle": "2023-04-08T20:16:26.141084Z",
     "shell.execute_reply": "2023-04-08T20:16:26.140376Z"
    },
    "hidden": true,
    "papermill": {
     "duration": 0.173148,
     "end_time": "2023-04-08T20:16:26.143629",
     "exception": false,
     "start_time": "2023-04-08T20:16:25.970481",
     "status": "completed"
    },
    "scrolled": true,
    "tags": []
   },
   "outputs": [
    {
     "data": {
      "text/html": [
       "<div>\n",
       "<style scoped>\n",
       "    .dataframe tbody tr th:only-of-type {\n",
       "        vertical-align: middle;\n",
       "    }\n",
       "\n",
       "    .dataframe tbody tr th {\n",
       "        vertical-align: top;\n",
       "    }\n",
       "\n",
       "    .dataframe thead th {\n",
       "        text-align: right;\n",
       "    }\n",
       "</style>\n",
       "<table border=\"1\" class=\"dataframe\">\n",
       "  <thead>\n",
       "    <tr style=\"text-align: right;\">\n",
       "      <th></th>\n",
       "      <th>PassengerId</th>\n",
       "      <th>Survived</th>\n",
       "      <th>Pclass</th>\n",
       "      <th>Name</th>\n",
       "      <th>Sex</th>\n",
       "      <th>Age</th>\n",
       "      <th>SibSp</th>\n",
       "      <th>Parch</th>\n",
       "      <th>Ticket</th>\n",
       "      <th>Fare</th>\n",
       "      <th>Cabin</th>\n",
       "      <th>Embarked</th>\n",
       "    </tr>\n",
       "  </thead>\n",
       "  <tbody>\n",
       "    <tr>\n",
       "      <th>0</th>\n",
       "      <td>1</td>\n",
       "      <td>0</td>\n",
       "      <td>3</td>\n",
       "      <td>Braund, Mr. Owen Harris</td>\n",
       "      <td>male</td>\n",
       "      <td>22.0</td>\n",
       "      <td>1</td>\n",
       "      <td>0</td>\n",
       "      <td>A/5 21171</td>\n",
       "      <td>7.2500</td>\n",
       "      <td>NaN</td>\n",
       "      <td>S</td>\n",
       "    </tr>\n",
       "    <tr>\n",
       "      <th>1</th>\n",
       "      <td>2</td>\n",
       "      <td>1</td>\n",
       "      <td>1</td>\n",
       "      <td>Cumings, Mrs. John Bradley (Florence Briggs Th...</td>\n",
       "      <td>female</td>\n",
       "      <td>38.0</td>\n",
       "      <td>1</td>\n",
       "      <td>0</td>\n",
       "      <td>PC 17599</td>\n",
       "      <td>71.2833</td>\n",
       "      <td>C85</td>\n",
       "      <td>C</td>\n",
       "    </tr>\n",
       "    <tr>\n",
       "      <th>2</th>\n",
       "      <td>3</td>\n",
       "      <td>1</td>\n",
       "      <td>3</td>\n",
       "      <td>Heikkinen, Miss. Laina</td>\n",
       "      <td>female</td>\n",
       "      <td>26.0</td>\n",
       "      <td>0</td>\n",
       "      <td>0</td>\n",
       "      <td>STON/O2. 3101282</td>\n",
       "      <td>7.9250</td>\n",
       "      <td>NaN</td>\n",
       "      <td>S</td>\n",
       "    </tr>\n",
       "    <tr>\n",
       "      <th>3</th>\n",
       "      <td>4</td>\n",
       "      <td>1</td>\n",
       "      <td>1</td>\n",
       "      <td>Futrelle, Mrs. Jacques Heath (Lily May Peel)</td>\n",
       "      <td>female</td>\n",
       "      <td>35.0</td>\n",
       "      <td>1</td>\n",
       "      <td>0</td>\n",
       "      <td>113803</td>\n",
       "      <td>53.1000</td>\n",
       "      <td>C123</td>\n",
       "      <td>S</td>\n",
       "    </tr>\n",
       "    <tr>\n",
       "      <th>4</th>\n",
       "      <td>5</td>\n",
       "      <td>0</td>\n",
       "      <td>3</td>\n",
       "      <td>Allen, Mr. William Henry</td>\n",
       "      <td>male</td>\n",
       "      <td>35.0</td>\n",
       "      <td>0</td>\n",
       "      <td>0</td>\n",
       "      <td>373450</td>\n",
       "      <td>8.0500</td>\n",
       "      <td>NaN</td>\n",
       "      <td>S</td>\n",
       "    </tr>\n",
       "    <tr>\n",
       "      <th>...</th>\n",
       "      <td>...</td>\n",
       "      <td>...</td>\n",
       "      <td>...</td>\n",
       "      <td>...</td>\n",
       "      <td>...</td>\n",
       "      <td>...</td>\n",
       "      <td>...</td>\n",
       "      <td>...</td>\n",
       "      <td>...</td>\n",
       "      <td>...</td>\n",
       "      <td>...</td>\n",
       "      <td>...</td>\n",
       "    </tr>\n",
       "    <tr>\n",
       "      <th>886</th>\n",
       "      <td>887</td>\n",
       "      <td>0</td>\n",
       "      <td>2</td>\n",
       "      <td>Montvila, Rev. Juozas</td>\n",
       "      <td>male</td>\n",
       "      <td>27.0</td>\n",
       "      <td>0</td>\n",
       "      <td>0</td>\n",
       "      <td>211536</td>\n",
       "      <td>13.0000</td>\n",
       "      <td>NaN</td>\n",
       "      <td>S</td>\n",
       "    </tr>\n",
       "    <tr>\n",
       "      <th>887</th>\n",
       "      <td>888</td>\n",
       "      <td>1</td>\n",
       "      <td>1</td>\n",
       "      <td>Graham, Miss. Margaret Edith</td>\n",
       "      <td>female</td>\n",
       "      <td>19.0</td>\n",
       "      <td>0</td>\n",
       "      <td>0</td>\n",
       "      <td>112053</td>\n",
       "      <td>30.0000</td>\n",
       "      <td>B42</td>\n",
       "      <td>S</td>\n",
       "    </tr>\n",
       "    <tr>\n",
       "      <th>888</th>\n",
       "      <td>889</td>\n",
       "      <td>0</td>\n",
       "      <td>3</td>\n",
       "      <td>Johnston, Miss. Catherine Helen \"Carrie\"</td>\n",
       "      <td>female</td>\n",
       "      <td>NaN</td>\n",
       "      <td>1</td>\n",
       "      <td>2</td>\n",
       "      <td>W./C. 6607</td>\n",
       "      <td>23.4500</td>\n",
       "      <td>NaN</td>\n",
       "      <td>S</td>\n",
       "    </tr>\n",
       "    <tr>\n",
       "      <th>889</th>\n",
       "      <td>890</td>\n",
       "      <td>1</td>\n",
       "      <td>1</td>\n",
       "      <td>Behr, Mr. Karl Howell</td>\n",
       "      <td>male</td>\n",
       "      <td>26.0</td>\n",
       "      <td>0</td>\n",
       "      <td>0</td>\n",
       "      <td>111369</td>\n",
       "      <td>30.0000</td>\n",
       "      <td>C148</td>\n",
       "      <td>C</td>\n",
       "    </tr>\n",
       "    <tr>\n",
       "      <th>890</th>\n",
       "      <td>891</td>\n",
       "      <td>0</td>\n",
       "      <td>3</td>\n",
       "      <td>Dooley, Mr. Patrick</td>\n",
       "      <td>male</td>\n",
       "      <td>32.0</td>\n",
       "      <td>0</td>\n",
       "      <td>0</td>\n",
       "      <td>370376</td>\n",
       "      <td>7.7500</td>\n",
       "      <td>NaN</td>\n",
       "      <td>Q</td>\n",
       "    </tr>\n",
       "  </tbody>\n",
       "</table>\n",
       "<p>891 rows × 12 columns</p>\n",
       "</div>"
      ],
      "text/plain": [
       "     PassengerId  Survived  Pclass                                               Name     Sex   Age  SibSp  Parch            Ticket  \\\n",
       "0              1         0       3                            Braund, Mr. Owen Harris    male  22.0      1      0         A/5 21171   \n",
       "1              2         1       1  Cumings, Mrs. John Bradley (Florence Briggs Th...  female  38.0      1      0          PC 17599   \n",
       "2              3         1       3                             Heikkinen, Miss. Laina  female  26.0      0      0  STON/O2. 3101282   \n",
       "3              4         1       1       Futrelle, Mrs. Jacques Heath (Lily May Peel)  female  35.0      1      0            113803   \n",
       "4              5         0       3                           Allen, Mr. William Henry    male  35.0      0      0            373450   \n",
       "..           ...       ...     ...                                                ...     ...   ...    ...    ...               ...   \n",
       "886          887         0       2                              Montvila, Rev. Juozas    male  27.0      0      0            211536   \n",
       "887          888         1       1                       Graham, Miss. Margaret Edith  female  19.0      0      0            112053   \n",
       "888          889         0       3           Johnston, Miss. Catherine Helen \"Carrie\"  female   NaN      1      2        W./C. 6607   \n",
       "889          890         1       1                              Behr, Mr. Karl Howell    male  26.0      0      0            111369   \n",
       "890          891         0       3                                Dooley, Mr. Patrick    male  32.0      0      0            370376   \n",
       "\n",
       "        Fare Cabin Embarked  \n",
       "0     7.2500   NaN        S  \n",
       "1    71.2833   C85        C  \n",
       "2     7.9250   NaN        S  \n",
       "3    53.1000  C123        S  \n",
       "4     8.0500   NaN        S  \n",
       "..       ...   ...      ...  \n",
       "886  13.0000   NaN        S  \n",
       "887  30.0000   B42        S  \n",
       "888  23.4500   NaN        S  \n",
       "889  30.0000  C148        C  \n",
       "890   7.7500   NaN        Q  \n",
       "\n",
       "[891 rows x 12 columns]"
      ]
     },
     "execution_count": 3,
     "metadata": {},
     "output_type": "execute_result"
    }
   ],
   "source": [
    "df = pd.read_csv(path/'train.csv')\n",
    "df"
   ]
  },
  {
   "cell_type": "markdown",
   "id": "4a376d66",
   "metadata": {
    "hidden": true,
    "papermill": {
     "duration": 0.125949,
     "end_time": "2023-04-08T20:16:26.383692",
     "exception": false,
     "start_time": "2023-04-08T20:16:26.257743",
     "status": "completed"
    },
    "tags": []
   },
   "source": [
    "As we learned in the *How does a neural net really work* notebook, we going to want to multiply each column by some coefficients. But we can see in the `Cabin` column that there are `NaN` values, which is how Pandas refers to missing values. We can't multiply something by a missing value!\n",
    "\n",
    "Let's check which columns contain `NaN` values. Pandas' `isna()` function returns `True` (which is treated as `1` when used as a number) for `NaN` values, so we can just add them up for each column:"
   ]
  },
  {
   "cell_type": "code",
   "execution_count": 4,
   "id": "5161068f",
   "metadata": {
    "execution": {
     "iopub.execute_input": "2023-04-08T20:16:26.641971Z",
     "iopub.status.busy": "2023-04-08T20:16:26.641259Z",
     "iopub.status.idle": "2023-04-08T20:16:26.651271Z",
     "shell.execute_reply": "2023-04-08T20:16:26.650319Z"
    },
    "hidden": true,
    "papermill": {
     "duration": 0.147197,
     "end_time": "2023-04-08T20:16:26.653232",
     "exception": false,
     "start_time": "2023-04-08T20:16:26.506035",
     "status": "completed"
    },
    "tags": []
   },
   "outputs": [
    {
     "data": {
      "text/plain": [
       "PassengerId      0\n",
       "Survived         0\n",
       "Pclass           0\n",
       "Name             0\n",
       "Sex              0\n",
       "Age            177\n",
       "SibSp            0\n",
       "Parch            0\n",
       "Ticket           0\n",
       "Fare             0\n",
       "Cabin          687\n",
       "Embarked         2\n",
       "dtype: int64"
      ]
     },
     "execution_count": 4,
     "metadata": {},
     "output_type": "execute_result"
    }
   ],
   "source": [
    "df.isna().sum()"
   ]
  },
  {
   "cell_type": "markdown",
   "id": "8cc8b64c",
   "metadata": {
    "hidden": true,
    "papermill": {
     "duration": 0.113355,
     "end_time": "2023-04-08T20:16:26.883297",
     "exception": false,
     "start_time": "2023-04-08T20:16:26.769942",
     "status": "completed"
    },
    "tags": []
   },
   "source": [
    "Notice that by default Pandas sums over columns.\n",
    "\n",
    "We'll need to replace the missing values with something. It doesn't generally matter too much what we choose. We'll use the most common value (the \"*mode*\"). We can use the `mode` function for that. One wrinkle is that it returns more than one row in the case of ties, so we just grab the first row with `iloc[0]`:"
   ]
  },
  {
   "cell_type": "code",
   "execution_count": 5,
   "id": "2c603e4d",
   "metadata": {
    "execution": {
     "iopub.execute_input": "2023-04-08T20:16:27.114876Z",
     "iopub.status.busy": "2023-04-08T20:16:27.114575Z",
     "iopub.status.idle": "2023-04-08T20:16:27.136065Z",
     "shell.execute_reply": "2023-04-08T20:16:27.135372Z"
    },
    "hidden": true,
    "papermill": {
     "duration": 0.139059,
     "end_time": "2023-04-08T20:16:27.137974",
     "exception": false,
     "start_time": "2023-04-08T20:16:26.998915",
     "status": "completed"
    },
    "tags": []
   },
   "outputs": [
    {
     "data": {
      "text/plain": [
       "PassengerId                      1\n",
       "Survived                       0.0\n",
       "Pclass                         3.0\n",
       "Name           Abbing, Mr. Anthony\n",
       "Sex                           male\n",
       "Age                           24.0\n",
       "SibSp                          0.0\n",
       "Parch                          0.0\n",
       "Ticket                        1601\n",
       "Fare                          8.05\n",
       "Cabin                      B96 B98\n",
       "Embarked                         S\n",
       "Name: 0, dtype: object"
      ]
     },
     "execution_count": 5,
     "metadata": {},
     "output_type": "execute_result"
    }
   ],
   "source": [
    "modes = df.mode().iloc[0]\n",
    "modes"
   ]
  },
  {
   "cell_type": "code",
   "execution_count": 6,
   "id": "e9789b93",
   "metadata": {
    "execution": {
     "iopub.execute_input": "2023-04-08T20:16:27.367944Z",
     "iopub.status.busy": "2023-04-08T20:16:27.367496Z",
     "iopub.status.idle": "2023-04-08T20:16:27.379768Z",
     "shell.execute_reply": "2023-04-08T20:16:27.378899Z"
    },
    "papermill": {
     "duration": 0.130365,
     "end_time": "2023-04-08T20:16:27.382021",
     "exception": false,
     "start_time": "2023-04-08T20:16:27.251656",
     "status": "completed"
    },
    "tags": []
   },
   "outputs": [
    {
     "data": {
      "text/plain": [
       "0      1\n",
       "1      0\n",
       "2      1\n",
       "3      0\n",
       "4      1\n",
       "      ..\n",
       "886    1\n",
       "887    0\n",
       "888    2\n",
       "889    0\n",
       "890    1\n",
       "Name: nan_col, Length: 891, dtype: int64"
      ]
     },
     "execution_count": 6,
     "metadata": {},
     "output_type": "execute_result"
    }
   ],
   "source": [
    "# create new column\n",
    "df[\"nan_col\"] = df.isnull().sum(axis=1)\n",
    "df[\"nan_col\"]"
   ]
  },
  {
   "cell_type": "markdown",
   "id": "ceae7af5",
   "metadata": {
    "hidden": true,
    "papermill": {
     "duration": 0.115519,
     "end_time": "2023-04-08T20:16:27.614984",
     "exception": false,
     "start_time": "2023-04-08T20:16:27.499465",
     "status": "completed"
    },
    "tags": []
   },
   "source": [
    "BTW, it's never a good idea to use functions without understanding them. So be sure to google for anything you're not familiar with. E.g if you want to learn about `iloc` (which is a very important function indeed!) then Google will give you a link to a [great tutorial](https://www.shanelynn.ie/pandas-iloc-loc-select-rows-and-columns-dataframe/).\n",
    "\n",
    "Now that we've got the mode of each column, we can use `fillna` to replace the missing values with the mode of each column. We'll do it \"in place\" -- meaning that we'll change the dataframe itself, rather than returning a new one."
   ]
  },
  {
   "cell_type": "code",
   "execution_count": 7,
   "id": "62cf17f1",
   "metadata": {
    "execution": {
     "iopub.execute_input": "2023-04-08T20:16:27.850682Z",
     "iopub.status.busy": "2023-04-08T20:16:27.850396Z",
     "iopub.status.idle": "2023-04-08T20:16:27.860505Z",
     "shell.execute_reply": "2023-04-08T20:16:27.859748Z"
    },
    "hidden": true,
    "papermill": {
     "duration": 0.131064,
     "end_time": "2023-04-08T20:16:27.862919",
     "exception": false,
     "start_time": "2023-04-08T20:16:27.731855",
     "status": "completed"
    },
    "tags": []
   },
   "outputs": [],
   "source": [
    "# imputation\n",
    "df.fillna(modes, inplace=True)"
   ]
  },
  {
   "cell_type": "markdown",
   "id": "0297de1f",
   "metadata": {
    "hidden": true,
    "papermill": {
     "duration": 0.117943,
     "end_time": "2023-04-08T20:16:28.097527",
     "exception": false,
     "start_time": "2023-04-08T20:16:27.979584",
     "status": "completed"
    },
    "tags": []
   },
   "source": [
    "We can now check there's no missing values left:"
   ]
  },
  {
   "cell_type": "code",
   "execution_count": 8,
   "id": "0b56f89d",
   "metadata": {
    "execution": {
     "iopub.execute_input": "2023-04-08T20:16:28.331622Z",
     "iopub.status.busy": "2023-04-08T20:16:28.331131Z",
     "iopub.status.idle": "2023-04-08T20:16:28.339111Z",
     "shell.execute_reply": "2023-04-08T20:16:28.338446Z"
    },
    "hidden": true,
    "papermill": {
     "duration": 0.126166,
     "end_time": "2023-04-08T20:16:28.341318",
     "exception": false,
     "start_time": "2023-04-08T20:16:28.215152",
     "status": "completed"
    },
    "tags": []
   },
   "outputs": [
    {
     "data": {
      "text/plain": [
       "PassengerId    0\n",
       "Survived       0\n",
       "Pclass         0\n",
       "Name           0\n",
       "Sex            0\n",
       "Age            0\n",
       "SibSp          0\n",
       "Parch          0\n",
       "Ticket         0\n",
       "Fare           0\n",
       "Cabin          0\n",
       "Embarked       0\n",
       "nan_col        0\n",
       "dtype: int64"
      ]
     },
     "execution_count": 8,
     "metadata": {},
     "output_type": "execute_result"
    }
   ],
   "source": [
    "df.isna().sum()"
   ]
  },
  {
   "cell_type": "markdown",
   "id": "0b94efc9",
   "metadata": {
    "hidden": true,
    "papermill": {
     "duration": 0.116098,
     "end_time": "2023-04-08T20:16:28.571814",
     "exception": false,
     "start_time": "2023-04-08T20:16:28.455716",
     "status": "completed"
    },
    "tags": []
   },
   "source": [
    "Here's how we get a quick summary of all the numeric columns in the dataset:"
   ]
  },
  {
   "cell_type": "code",
   "execution_count": 9,
   "id": "6c459235",
   "metadata": {
    "execution": {
     "iopub.execute_input": "2023-04-08T20:16:28.806270Z",
     "iopub.status.busy": "2023-04-08T20:16:28.805796Z",
     "iopub.status.idle": "2023-04-08T20:16:28.843271Z",
     "shell.execute_reply": "2023-04-08T20:16:28.842443Z"
    },
    "hidden": true,
    "papermill": {
     "duration": 0.158304,
     "end_time": "2023-04-08T20:16:28.845644",
     "exception": false,
     "start_time": "2023-04-08T20:16:28.687340",
     "status": "completed"
    },
    "tags": []
   },
   "outputs": [
    {
     "data": {
      "text/html": [
       "<div>\n",
       "<style scoped>\n",
       "    .dataframe tbody tr th:only-of-type {\n",
       "        vertical-align: middle;\n",
       "    }\n",
       "\n",
       "    .dataframe tbody tr th {\n",
       "        vertical-align: top;\n",
       "    }\n",
       "\n",
       "    .dataframe thead th {\n",
       "        text-align: right;\n",
       "    }\n",
       "</style>\n",
       "<table border=\"1\" class=\"dataframe\">\n",
       "  <thead>\n",
       "    <tr style=\"text-align: right;\">\n",
       "      <th></th>\n",
       "      <th>PassengerId</th>\n",
       "      <th>Survived</th>\n",
       "      <th>Pclass</th>\n",
       "      <th>Age</th>\n",
       "      <th>SibSp</th>\n",
       "      <th>Parch</th>\n",
       "      <th>Fare</th>\n",
       "      <th>nan_col</th>\n",
       "    </tr>\n",
       "  </thead>\n",
       "  <tbody>\n",
       "    <tr>\n",
       "      <th>count</th>\n",
       "      <td>891.000000</td>\n",
       "      <td>891.000000</td>\n",
       "      <td>891.000000</td>\n",
       "      <td>891.000000</td>\n",
       "      <td>891.000000</td>\n",
       "      <td>891.000000</td>\n",
       "      <td>891.000000</td>\n",
       "      <td>891.000000</td>\n",
       "    </tr>\n",
       "    <tr>\n",
       "      <th>mean</th>\n",
       "      <td>446.000000</td>\n",
       "      <td>0.383838</td>\n",
       "      <td>2.308642</td>\n",
       "      <td>28.566970</td>\n",
       "      <td>0.523008</td>\n",
       "      <td>0.381594</td>\n",
       "      <td>32.204208</td>\n",
       "      <td>0.971942</td>\n",
       "    </tr>\n",
       "    <tr>\n",
       "      <th>std</th>\n",
       "      <td>257.353842</td>\n",
       "      <td>0.486592</td>\n",
       "      <td>0.836071</td>\n",
       "      <td>13.199572</td>\n",
       "      <td>1.102743</td>\n",
       "      <td>0.806057</td>\n",
       "      <td>49.693429</td>\n",
       "      <td>0.618351</td>\n",
       "    </tr>\n",
       "    <tr>\n",
       "      <th>min</th>\n",
       "      <td>1.000000</td>\n",
       "      <td>0.000000</td>\n",
       "      <td>1.000000</td>\n",
       "      <td>0.420000</td>\n",
       "      <td>0.000000</td>\n",
       "      <td>0.000000</td>\n",
       "      <td>0.000000</td>\n",
       "      <td>0.000000</td>\n",
       "    </tr>\n",
       "    <tr>\n",
       "      <th>25%</th>\n",
       "      <td>223.500000</td>\n",
       "      <td>0.000000</td>\n",
       "      <td>2.000000</td>\n",
       "      <td>22.000000</td>\n",
       "      <td>0.000000</td>\n",
       "      <td>0.000000</td>\n",
       "      <td>7.910400</td>\n",
       "      <td>1.000000</td>\n",
       "    </tr>\n",
       "    <tr>\n",
       "      <th>50%</th>\n",
       "      <td>446.000000</td>\n",
       "      <td>0.000000</td>\n",
       "      <td>3.000000</td>\n",
       "      <td>24.000000</td>\n",
       "      <td>0.000000</td>\n",
       "      <td>0.000000</td>\n",
       "      <td>14.454200</td>\n",
       "      <td>1.000000</td>\n",
       "    </tr>\n",
       "    <tr>\n",
       "      <th>75%</th>\n",
       "      <td>668.500000</td>\n",
       "      <td>1.000000</td>\n",
       "      <td>3.000000</td>\n",
       "      <td>35.000000</td>\n",
       "      <td>1.000000</td>\n",
       "      <td>0.000000</td>\n",
       "      <td>31.000000</td>\n",
       "      <td>1.000000</td>\n",
       "    </tr>\n",
       "    <tr>\n",
       "      <th>max</th>\n",
       "      <td>891.000000</td>\n",
       "      <td>1.000000</td>\n",
       "      <td>3.000000</td>\n",
       "      <td>80.000000</td>\n",
       "      <td>8.000000</td>\n",
       "      <td>6.000000</td>\n",
       "      <td>512.329200</td>\n",
       "      <td>2.000000</td>\n",
       "    </tr>\n",
       "  </tbody>\n",
       "</table>\n",
       "</div>"
      ],
      "text/plain": [
       "       PassengerId    Survived      Pclass         Age       SibSp       Parch        Fare     nan_col\n",
       "count   891.000000  891.000000  891.000000  891.000000  891.000000  891.000000  891.000000  891.000000\n",
       "mean    446.000000    0.383838    2.308642   28.566970    0.523008    0.381594   32.204208    0.971942\n",
       "std     257.353842    0.486592    0.836071   13.199572    1.102743    0.806057   49.693429    0.618351\n",
       "min       1.000000    0.000000    1.000000    0.420000    0.000000    0.000000    0.000000    0.000000\n",
       "25%     223.500000    0.000000    2.000000   22.000000    0.000000    0.000000    7.910400    1.000000\n",
       "50%     446.000000    0.000000    3.000000   24.000000    0.000000    0.000000   14.454200    1.000000\n",
       "75%     668.500000    1.000000    3.000000   35.000000    1.000000    0.000000   31.000000    1.000000\n",
       "max     891.000000    1.000000    3.000000   80.000000    8.000000    6.000000  512.329200    2.000000"
      ]
     },
     "execution_count": 9,
     "metadata": {},
     "output_type": "execute_result"
    }
   ],
   "source": [
    "df.describe(include=(np.number))"
   ]
  },
  {
   "cell_type": "markdown",
   "id": "40d31f75",
   "metadata": {
    "execution": {
     "iopub.execute_input": "2022-05-13T11:02:34.328433Z",
     "iopub.status.busy": "2022-05-13T11:02:34.327999Z",
     "iopub.status.idle": "2022-05-13T11:02:34.336993Z",
     "shell.execute_reply": "2022-05-13T11:02:34.335466Z",
     "shell.execute_reply.started": "2022-05-13T11:02:34.32838Z"
    },
    "hidden": true,
    "papermill": {
     "duration": 0.11576,
     "end_time": "2023-04-08T20:16:29.079290",
     "exception": false,
     "start_time": "2023-04-08T20:16:28.963530",
     "status": "completed"
    },
    "tags": []
   },
   "source": [
    "We can see that `Fare` contains mainly values of around `0` to `30`, but there's a few really big ones. This is very common with fields contain monetary values, and it can cause problems for our model, because once that column is multiplied by a coefficient later, the few rows with really big values will dominate the result.\n",
    "\n",
    "You can see the issue most clearly visually by looking at a histogram, which shows a long tail to the right (and don't forget: if you're not entirely sure what a histogram is, Google \"[histogram tutorial](https://www.google.com/search?q=histogram+tutorial&oq=histogram+tutorial)\" and do a bit of reading before continuing on):"
   ]
  },
  {
   "cell_type": "code",
   "execution_count": 10,
   "id": "fae32ee1",
   "metadata": {
    "execution": {
     "iopub.execute_input": "2023-04-08T20:16:29.316692Z",
     "iopub.status.busy": "2023-04-08T20:16:29.316389Z",
     "iopub.status.idle": "2023-04-08T20:16:29.546928Z",
     "shell.execute_reply": "2023-04-08T20:16:29.545879Z"
    },
    "hidden": true,
    "papermill": {
     "duration": 0.352566,
     "end_time": "2023-04-08T20:16:29.549039",
     "exception": false,
     "start_time": "2023-04-08T20:16:29.196473",
     "status": "completed"
    },
    "tags": []
   },
   "outputs": [
    {
     "data": {
      "image/png": "[encoded data removed]",
      "text/plain": [
       "<Figure size 432x288 with 1 Axes>"
      ]
     },
     "metadata": {
      "needs_background": "light"
     },
     "output_type": "display_data"
    }
   ],
   "source": [
    "df['Fare'].hist();"
   ]
  },
  {
   "cell_type": "markdown",
   "id": "66efd5a8",
   "metadata": {
    "execution": {
     "iopub.execute_input": "2022-05-13T11:02:34.328433Z",
     "iopub.status.busy": "2022-05-13T11:02:34.327999Z",
     "iopub.status.idle": "2022-05-13T11:02:34.336993Z",
     "shell.execute_reply": "2022-05-13T11:02:34.335466Z",
     "shell.execute_reply.started": "2022-05-13T11:02:34.32838Z"
    },
    "hidden": true,
    "papermill": {
     "duration": 0.116644,
     "end_time": "2023-04-08T20:16:29.785745",
     "exception": false,
     "start_time": "2023-04-08T20:16:29.669101",
     "status": "completed"
    },
    "tags": []
   },
   "source": [
    "To fix this, the most common approach is to take the logarithm, which squishes the big numbers and makes the distribution more reasonable. Note, however, that there are zeros in the `Fare` column, and `log(0)` is infinite -- to fix this, we'll simply add `1` to all values first:"
   ]
  },
  {
   "cell_type": "code",
   "execution_count": 11,
   "id": "1162fa58",
   "metadata": {
    "execution": {
     "iopub.execute_input": "2023-04-08T20:16:30.028621Z",
     "iopub.status.busy": "2023-04-08T20:16:30.027723Z",
     "iopub.status.idle": "2023-04-08T20:16:30.033436Z",
     "shell.execute_reply": "2023-04-08T20:16:30.032674Z"
    },
    "hidden": true,
    "papermill": {
     "duration": 0.131108,
     "end_time": "2023-04-08T20:16:30.035930",
     "exception": false,
     "start_time": "2023-04-08T20:16:29.904822",
     "status": "completed"
    },
    "tags": []
   },
   "outputs": [],
   "source": [
    "# we are adding +1 to the df[\"Fare\"] because log(0) is NaN so, it's a useful trick or we can use log_p1\n",
    "df['LogFare'] = np.log(df['Fare']+1)"
   ]
  },
  {
   "cell_type": "markdown",
   "id": "73776a5b",
   "metadata": {
    "papermill": {
     "duration": 0.119478,
     "end_time": "2023-04-08T20:16:30.275850",
     "exception": false,
     "start_time": "2023-04-08T20:16:30.156372",
     "status": "completed"
    },
    "tags": []
   },
   "source": [
    "**`Note`** `log` will be used widely to transform distribution of data say, to treat skewness because log curve doesn't make small data too small and gtransforms too big number to big.\n",
    "\n",
    "* If it's a data of Monetary or population or anything that can grow exponentially then it is better to take log transform of that thing."
   ]
  },
  {
   "cell_type": "markdown",
   "id": "ee243187",
   "metadata": {
    "hidden": true,
    "papermill": {
     "duration": 0.118668,
     "end_time": "2023-04-08T20:16:30.513660",
     "exception": false,
     "start_time": "2023-04-08T20:16:30.394992",
     "status": "completed"
    },
    "tags": []
   },
   "source": [
    "The histogram now shows a more even distribution of values without the long tail:"
   ]
  },
  {
   "cell_type": "code",
   "execution_count": 12,
   "id": "d5e9cb60",
   "metadata": {
    "execution": {
     "iopub.execute_input": "2023-04-08T20:16:30.756315Z",
     "iopub.status.busy": "2023-04-08T20:16:30.755673Z",
     "iopub.status.idle": "2023-04-08T20:16:30.944111Z",
     "shell.execute_reply": "2023-04-08T20:16:30.943130Z"
    },
    "hidden": true,
    "papermill": {
     "duration": 0.311807,
     "end_time": "2023-04-08T20:16:30.946576",
     "exception": false,
     "start_time": "2023-04-08T20:16:30.634769",
     "status": "completed"
    },
    "tags": []
   },
   "outputs": [
    {
     "data": {
      "image/png": "[encoded data removed]",
      "text/plain": [
       "<Figure size 432x288 with 1 Axes>"
      ]
     },
     "metadata": {
      "needs_background": "light"
     },
     "output_type": "display_data"
    }
   ],
   "source": [
    "df['LogFare'].hist();"
   ]
  },
  {
   "cell_type": "markdown",
   "id": "e3e0be52",
   "metadata": {
    "hidden": true,
    "papermill": {
     "duration": 0.119368,
     "end_time": "2023-04-08T20:16:31.187016",
     "exception": false,
     "start_time": "2023-04-08T20:16:31.067648",
     "status": "completed"
    },
    "tags": []
   },
   "source": [
    "It looks from the `describe()` output like `Pclass` contains just 3 values, which we can confirm by looking at the [Data Dictionary](https://www.kaggle.com/competitions/titanic/data) (which you should always study carefully for any project!) -- "
   ]
  },
  {
   "cell_type": "code",
   "execution_count": 13,
   "id": "7b46ba2f",
   "metadata": {
    "execution": {
     "iopub.execute_input": "2023-04-08T20:16:31.432985Z",
     "iopub.status.busy": "2023-04-08T20:16:31.431982Z",
     "iopub.status.idle": "2023-04-08T20:16:31.440793Z",
     "shell.execute_reply": "2023-04-08T20:16:31.439884Z"
    },
    "hidden": true,
    "papermill": {
     "duration": 0.135753,
     "end_time": "2023-04-08T20:16:31.443011",
     "exception": false,
     "start_time": "2023-04-08T20:16:31.307258",
     "status": "completed"
    },
    "tags": []
   },
   "outputs": [
    {
     "data": {
      "text/plain": [
       "[1, 2, 3]"
      ]
     },
     "execution_count": 13,
     "metadata": {},
     "output_type": "execute_result"
    }
   ],
   "source": [
    "pclasses = sorted(df.Pclass.unique())\n",
    "pclasses"
   ]
  },
  {
   "cell_type": "markdown",
   "id": "ee71cace",
   "metadata": {
    "hidden": true,
    "papermill": {
     "duration": 0.120833,
     "end_time": "2023-04-08T20:16:31.686449",
     "exception": false,
     "start_time": "2023-04-08T20:16:31.565616",
     "status": "completed"
    },
    "tags": []
   },
   "source": [
    "Here's how we get a quick summary of all the non-numeric columns in the dataset:"
   ]
  },
  {
   "cell_type": "code",
   "execution_count": 14,
   "id": "46e8e2ad",
   "metadata": {
    "execution": {
     "iopub.execute_input": "2023-04-08T20:16:31.930078Z",
     "iopub.status.busy": "2023-04-08T20:16:31.929496Z",
     "iopub.status.idle": "2023-04-08T20:16:31.950779Z",
     "shell.execute_reply": "2023-04-08T20:16:31.949934Z"
    },
    "hidden": true,
    "papermill": {
     "duration": 0.145127,
     "end_time": "2023-04-08T20:16:31.953058",
     "exception": false,
     "start_time": "2023-04-08T20:16:31.807931",
     "status": "completed"
    },
    "tags": []
   },
   "outputs": [
    {
     "data": {
      "text/html": [
       "<div>\n",
       "<style scoped>\n",
       "    .dataframe tbody tr th:only-of-type {\n",
       "        vertical-align: middle;\n",
       "    }\n",
       "\n",
       "    .dataframe tbody tr th {\n",
       "        vertical-align: top;\n",
       "    }\n",
       "\n",
       "    .dataframe thead th {\n",
       "        text-align: right;\n",
       "    }\n",
       "</style>\n",
       "<table border=\"1\" class=\"dataframe\">\n",
       "  <thead>\n",
       "    <tr style=\"text-align: right;\">\n",
       "      <th></th>\n",
       "      <th>Name</th>\n",
       "      <th>Sex</th>\n",
       "      <th>Ticket</th>\n",
       "      <th>Cabin</th>\n",
       "      <th>Embarked</th>\n",
       "    </tr>\n",
       "  </thead>\n",
       "  <tbody>\n",
       "    <tr>\n",
       "      <th>count</th>\n",
       "      <td>891</td>\n",
       "      <td>891</td>\n",
       "      <td>891</td>\n",
       "      <td>891</td>\n",
       "      <td>891</td>\n",
       "    </tr>\n",
       "    <tr>\n",
       "      <th>unique</th>\n",
       "      <td>891</td>\n",
       "      <td>2</td>\n",
       "      <td>681</td>\n",
       "      <td>147</td>\n",
       "      <td>3</td>\n",
       "    </tr>\n",
       "    <tr>\n",
       "      <th>top</th>\n",
       "      <td>Braund, Mr. Owen Harris</td>\n",
       "      <td>male</td>\n",
       "      <td>347082</td>\n",
       "      <td>B96 B98</td>\n",
       "      <td>S</td>\n",
       "    </tr>\n",
       "    <tr>\n",
       "      <th>freq</th>\n",
       "      <td>1</td>\n",
       "      <td>577</td>\n",
       "      <td>7</td>\n",
       "      <td>691</td>\n",
       "      <td>646</td>\n",
       "    </tr>\n",
       "  </tbody>\n",
       "</table>\n",
       "</div>"
      ],
      "text/plain": [
       "                           Name   Sex  Ticket    Cabin Embarked\n",
       "count                       891   891     891      891      891\n",
       "unique                      891     2     681      147        3\n",
       "top     Braund, Mr. Owen Harris  male  347082  B96 B98        S\n",
       "freq                          1   577       7      691      646"
      ]
     },
     "execution_count": 14,
     "metadata": {},
     "output_type": "execute_result"
    }
   ],
   "source": [
    "df.describe(include=(object))"
   ]
  },
  {
   "cell_type": "markdown",
   "id": "0be92f12",
   "metadata": {
    "hidden": true,
    "papermill": {
     "duration": 0.123189,
     "end_time": "2023-04-08T20:16:32.199218",
     "exception": false,
     "start_time": "2023-04-08T20:16:32.076029",
     "status": "completed"
    },
    "tags": []
   },
   "source": [
    "Clearly we can't multiply strings like `male` or `S` by coefficients, so we need to replace those with numbers.\n",
    "\n",
    "We do that by creating new columns containing *dummy variables*. A dummy variable is a column that contains a `1` where a particular column contains a particular value, or a `0` otherwise. For instance, we could create a dummy variable for `Sex='male'`, which would be a new column containing `1` for rows where `Sex` is `'male'`, and 0 for rows where it isn't.\n",
    "\n",
    "Pandas can create these automatically using `get_dummies`, which also remove the original columns. We'll create dummy variables for `Pclass`, even although it's numeric, since the numbers `1`, `2`, and `3` correspond to first, second, and third class cabins - not to counts or measures that make sense to multiply by. We'll also create dummies for `Sex` and `Embarked` since we'll want to use those as predictors in our model. On the other hand, `Cabin`, `Name`, and `Ticket` have too many unique values for it to make sense creating dummy variables for them."
   ]
  },
  {
   "cell_type": "code",
   "execution_count": 15,
   "id": "c7378ca2",
   "metadata": {
    "execution": {
     "iopub.execute_input": "2023-04-08T20:16:32.441647Z",
     "iopub.status.busy": "2023-04-08T20:16:32.441316Z",
     "iopub.status.idle": "2023-04-08T20:16:32.454799Z",
     "shell.execute_reply": "2023-04-08T20:16:32.453815Z"
    },
    "hidden": true,
    "papermill": {
     "duration": 0.136934,
     "end_time": "2023-04-08T20:16:32.456778",
     "exception": false,
     "start_time": "2023-04-08T20:16:32.319844",
     "status": "completed"
    },
    "tags": []
   },
   "outputs": [
    {
     "data": {
      "text/plain": [
       "Index(['PassengerId', 'Survived', 'Name', 'Age', 'SibSp', 'Parch', 'Ticket', 'Fare', 'Cabin', 'nan_col', 'LogFare', 'Sex_female',\n",
       "       'Sex_male', 'Pclass_1', 'Pclass_2', 'Pclass_3', 'Embarked_C', 'Embarked_Q', 'Embarked_S'],\n",
       "      dtype='object')"
      ]
     },
     "execution_count": 15,
     "metadata": {},
     "output_type": "execute_result"
    }
   ],
   "source": [
    "df = pd.get_dummies(df, columns=[\"Sex\",\"Pclass\",\"Embarked\"])\n",
    "df.columns"
   ]
  },
  {
   "cell_type": "markdown",
   "id": "87e62ada",
   "metadata": {
    "hidden": true,
    "papermill": {
     "duration": 0.119922,
     "end_time": "2023-04-08T20:16:32.699233",
     "exception": false,
     "start_time": "2023-04-08T20:16:32.579311",
     "status": "completed"
    },
    "tags": []
   },
   "source": [
    "We can see that 5 columns have been added to the end -- one for each of the possible values of each of the three columns we requested, and that those three requested columns have been removed.\n",
    "\n",
    "Here's what the first few rows of those newly added columns look like:"
   ]
  },
  {
   "cell_type": "code",
   "execution_count": 16,
   "id": "e70d29e1",
   "metadata": {
    "execution": {
     "iopub.execute_input": "2023-04-08T20:16:32.942936Z",
     "iopub.status.busy": "2023-04-08T20:16:32.942266Z",
     "iopub.status.idle": "2023-04-08T20:16:32.957535Z",
     "shell.execute_reply": "2023-04-08T20:16:32.956596Z"
    },
    "hidden": true,
    "papermill": {
     "duration": 0.139488,
     "end_time": "2023-04-08T20:16:32.959761",
     "exception": false,
     "start_time": "2023-04-08T20:16:32.820273",
     "status": "completed"
    },
    "tags": []
   },
   "outputs": [
    {
     "data": {
      "text/html": [
       "<div>\n",
       "<style scoped>\n",
       "    .dataframe tbody tr th:only-of-type {\n",
       "        vertical-align: middle;\n",
       "    }\n",
       "\n",
       "    .dataframe tbody tr th {\n",
       "        vertical-align: top;\n",
       "    }\n",
       "\n",
       "    .dataframe thead th {\n",
       "        text-align: right;\n",
       "    }\n",
       "</style>\n",
       "<table border=\"1\" class=\"dataframe\">\n",
       "  <thead>\n",
       "    <tr style=\"text-align: right;\">\n",
       "      <th></th>\n",
       "      <th>Sex_male</th>\n",
       "      <th>Sex_female</th>\n",
       "      <th>Pclass_1</th>\n",
       "      <th>Pclass_2</th>\n",
       "      <th>Pclass_3</th>\n",
       "      <th>Embarked_C</th>\n",
       "      <th>Embarked_Q</th>\n",
       "      <th>Embarked_S</th>\n",
       "    </tr>\n",
       "  </thead>\n",
       "  <tbody>\n",
       "    <tr>\n",
       "      <th>0</th>\n",
       "      <td>1</td>\n",
       "      <td>0</td>\n",
       "      <td>0</td>\n",
       "      <td>0</td>\n",
       "      <td>1</td>\n",
       "      <td>0</td>\n",
       "      <td>0</td>\n",
       "      <td>1</td>\n",
       "    </tr>\n",
       "    <tr>\n",
       "      <th>1</th>\n",
       "      <td>0</td>\n",
       "      <td>1</td>\n",
       "      <td>1</td>\n",
       "      <td>0</td>\n",
       "      <td>0</td>\n",
       "      <td>1</td>\n",
       "      <td>0</td>\n",
       "      <td>0</td>\n",
       "    </tr>\n",
       "    <tr>\n",
       "      <th>2</th>\n",
       "      <td>0</td>\n",
       "      <td>1</td>\n",
       "      <td>0</td>\n",
       "      <td>0</td>\n",
       "      <td>1</td>\n",
       "      <td>0</td>\n",
       "      <td>0</td>\n",
       "      <td>1</td>\n",
       "    </tr>\n",
       "    <tr>\n",
       "      <th>3</th>\n",
       "      <td>0</td>\n",
       "      <td>1</td>\n",
       "      <td>1</td>\n",
       "      <td>0</td>\n",
       "      <td>0</td>\n",
       "      <td>0</td>\n",
       "      <td>0</td>\n",
       "      <td>1</td>\n",
       "    </tr>\n",
       "    <tr>\n",
       "      <th>4</th>\n",
       "      <td>1</td>\n",
       "      <td>0</td>\n",
       "      <td>0</td>\n",
       "      <td>0</td>\n",
       "      <td>1</td>\n",
       "      <td>0</td>\n",
       "      <td>0</td>\n",
       "      <td>1</td>\n",
       "    </tr>\n",
       "  </tbody>\n",
       "</table>\n",
       "</div>"
      ],
      "text/plain": [
       "   Sex_male  Sex_female  Pclass_1  Pclass_2  Pclass_3  Embarked_C  Embarked_Q  Embarked_S\n",
       "0         1           0         0         0         1           0           0           1\n",
       "1         0           1         1         0         0           1           0           0\n",
       "2         0           1         0         0         1           0           0           1\n",
       "3         0           1         1         0         0           0           0           1\n",
       "4         1           0         0         0         1           0           0           1"
      ]
     },
     "execution_count": 16,
     "metadata": {},
     "output_type": "execute_result"
    }
   ],
   "source": [
    "added_cols = ['Sex_male', 'Sex_female', 'Pclass_1', 'Pclass_2', 'Pclass_3', 'Embarked_C', 'Embarked_Q', 'Embarked_S']\n",
    "df[added_cols].head()"
   ]
  },
  {
   "cell_type": "markdown",
   "id": "2638bf27",
   "metadata": {
    "hidden": true,
    "papermill": {
     "duration": 0.121997,
     "end_time": "2023-04-08T20:16:33.203688",
     "exception": false,
     "start_time": "2023-04-08T20:16:33.081691",
     "status": "completed"
    },
    "tags": []
   },
   "source": [
    "Now we can create our independent (predictors) and dependent (target) variables. They both need to be PyTorch tensors. Our dependent variable is `Survived`:"
   ]
  },
  {
   "cell_type": "code",
   "execution_count": 17,
   "id": "0328d8c6",
   "metadata": {
    "execution": {
     "iopub.execute_input": "2023-04-08T20:16:33.452810Z",
     "iopub.status.busy": "2023-04-08T20:16:33.452050Z",
     "iopub.status.idle": "2023-04-08T20:16:33.497517Z",
     "shell.execute_reply": "2023-04-08T20:16:33.496641Z"
    },
    "hidden": true,
    "papermill": {
     "duration": 0.172141,
     "end_time": "2023-04-08T20:16:33.499614",
     "exception": false,
     "start_time": "2023-04-08T20:16:33.327473",
     "status": "completed"
    },
    "tags": []
   },
   "outputs": [
    {
     "data": {
      "text/plain": [
       "tensor([0, 1, 1, 1, 0, 0, 0, 0, 1, 1, 1, 1, 0, 0, 0, 1, 0, 1, 0, 1, 0, 1, 1, 1, 0, 1, 0, 0, 1, 0, 0, 1, 1, 0, 0, 0, 1, 0, 0, 1, 0, 0, 0, 1,\n",
       "        1, 0, 0, 1, 0, 0, 0, 0, 1, 1, 0, 1, 1, 0, 1, 0, 0, 1, 0, 0, 0, 1, 1, 0, 1, 0, 0, 0, 0, 0, 1, 0, 0, 0, 1, 1, 0, 1, 1, 0, 1, 1, 0, 0,\n",
       "        1, 0, 0, 0, 0, 0, 0, 0, 0, 1, 1, 0, 0, 0, 0, 0, 0, 0, 1, 1, 0, 1, 0, 0, 0, 0, 0, 0, 0, 0, 0, 0, 0, 0, 0, 1, 0, 1, 0, 1, 1, 0, 0, 0,\n",
       "        0, 1, 0, 0, 1, 0, 0, 0, 0, 1, 1, 0, 0, 0, 1, 0, 0, 0, 0, 1, 0, 0, 0, 0, 1, 0, 0, 0, 0, 1, 0, 0, 0, 1, 1, 0, 0, 0, 0, 0, 1, 0, 0, 0,\n",
       "        0, 0, 0, 0, 0, 0, 0, 1, 1, 0, 1, 1, 0, 0, 1, 0, 1, 1, 1, 1, 0, 0, 1, 0, 0, 0, 0, 0, 1, 0, 0, 1, 1, 1, 0, 1, 0, 0, 0, 1, 1, 0, 1, 0,\n",
       "        1, 0, 0, 0, 1, 0, 1, 0, 0, 0, 1, 0, 0, 1, 0, 0, 0, 1, 0, 0, 0, 1, 0, 0, 0, 0, 0, 1, 1, 0, 0, 0, 0, 0, 0, 1, 1, 1, 1, 1, 0, 1, 0, 0,\n",
       "        0, 0, 0, 1, 1, 1, 0, 1, 1, 0, 1, 1, 0, 0, 0, 1, 0, 0, 0, 1, 0, 0, 1, 0, 1, 1, 1, 1, 0, 0, 0, 0, 0, 0, 1, 1, 1, 1, 0, 1, 0, 1, 1, 1,\n",
       "        0, 1, 1, 1, 0, 0, 0, 1, 1, 0, 1, 1, 0, 0, 1, 1, 0, 1, 0, 1, 1, 1, 1, 0, 0, 0, 1, 0, 0, 1, 1, 0, 1, 1, 0, 0, 0, 1, 1, 1, 1, 0, 0, 0,\n",
       "        0, 0, 0, 0, 1, 0, 1, 1, 0, 0, 0, 0, 0, 0, 1, 1, 1, 1, 1, 0, 0, 0, 0, 1, 1, 0, 0, 0, 1, 1, 0, 1, 0, 0, 0, 1, 0, 1, 1, 1, 0, 1, 1, 0,\n",
       "        0, 0, 0, 1, 1, 0, 0, 0, 0, 0, 0, 1, 0, 0, 0, 0, 1, 0, 1, 0, 1, 1, 0, 0, 0, 0, 0, 0, 0, 0, 1, 1, 0, 1, 1, 1, 1, 0, 0, 1, 0, 1, 0, 0,\n",
       "        1, 0, 0, 1, 1, 1, 1, 1, 1, 1, 0, 0, 0, 1, 0, 1, 0, 1, 1, 0, 1, 0, 0, 0, 0, 0, 0, 0, 0, 1, 0, 0, 1, 1, 0, 0, 0, 0, 0, 1, 0, 0, 0, 1,\n",
       "        1, 0, 1, 0, 0, 1, 0, 0, 0, 0, 0, 0, 1, 0, 0, 0, 0, 0, 0, 0, 1, 0, 1, 1, 0, 1, 1, 0, 1, 1, 0, 0, 1, 0, 1, 0, 1, 0, 0, 1, 0, 0, 1, 0,\n",
       "        0, 0, 1, 0, 0, 1, 0, 1, 0, 1, 0, 1, 1, 0, 0, 1, 0, 0, 1, 1, 0, 1, 1, 0, 0, 1, 1, 0, 1, 0, 1, 1, 0, 0, 0, 0, 0, 0, 0, 0, 0, 1, 1, 1,\n",
       "        1, 1, 0, 0, 1, 1, 0, 1, 1, 1, 0, 0, 0, 1, 0, 1, 0, 0, 0, 1, 0, 0, 0, 0, 1, 0, 0, 1, 1, 0, 0, 0, 1, 0, 0, 1, 1, 1, 0, 0, 1, 0, 0, 1,\n",
       "        0, 0, 1, 0, 0, 1, 1, 0, 0, 0, 0, 1, 0, 0, 1, 0, 1, 0, 0, 1, 0, 0, 0, 0, 0, 1, 0, 1, 1, 1, 0, 1, 0, 1, 0, 1, 0, 1, 0, 0, 0, 0, 0, 0,\n",
       "        1, 0, 0, 0, 1, 0, 0, 0, 0, 1, 1, 0, 0, 1, 0, 0, 0, 1, 0, 1, 0, 1, 0, 0, 0, 0, 0, 0, 0, 1, 1, 1, 1, 0, 0, 0, 0, 1, 0, 0, 1, 1, 0, 0,\n",
       "        0, 0, 1, 1, 1, 1, 1, 0, 1, 0, 0, 0, 1, 1, 0, 0, 1, 0, 0, 0, 1, 0, 1, 1, 0, 0, 1, 0, 0, 0, 0, 0, 0, 1, 0, 0, 1, 0, 1, 0, 1, 0, 0, 1,\n",
       "        0, 0, 1, 1, 0, 0, 1, 1, 0, 0, 0, 1, 0, 0, 1, 1, 0, 1, 0, 0, 0, 0, 0, 0, 0, 0, 1, 0, 0, 1, 0, 1, 1, 1, 0, 0, 0, 0, 1, 0, 1, 0, 0, 0,\n",
       "        0, 0, 0, 0, 1, 1, 0, 0, 0, 1, 1, 1, 1, 0, 0, 0, 0, 1, 0, 0, 0, 0, 0, 0, 0, 0, 0, 0, 1, 1, 0, 1, 0, 0, 0, 1, 1, 1, 1, 1, 0, 0, 0, 1,\n",
       "        0, 0, 1, 1, 0, 0, 1, 0, 0, 0, 0, 0, 0, 1, 0, 0, 0, 1, 0, 1, 1, 1, 1, 0, 0, 0, 1, 0, 0, 1, 1, 0, 0, 1, 0, 1, 0, 0, 1, 1, 0, 0, 0, 1,\n",
       "        1, 0, 0, 0, 0, 0, 0, 1, 0, 1, 0])"
      ]
     },
     "execution_count": 17,
     "metadata": {},
     "output_type": "execute_result"
    }
   ],
   "source": [
    "from torch import tensor\n",
    "\n",
    "t_dep = tensor(df.Survived)\n",
    "t_dep"
   ]
  },
  {
   "cell_type": "markdown",
   "id": "118f1ae6",
   "metadata": {
    "hidden": true,
    "papermill": {
     "duration": 0.121592,
     "end_time": "2023-04-08T20:16:33.744113",
     "exception": false,
     "start_time": "2023-04-08T20:16:33.622521",
     "status": "completed"
    },
    "tags": []
   },
   "source": [
    "Our independent variables are all the continuous variables of interest plus all the dummy variables we just created:"
   ]
  },
  {
   "cell_type": "code",
   "execution_count": 18,
   "id": "2ce3971a",
   "metadata": {
    "execution": {
     "iopub.execute_input": "2023-04-08T20:16:33.991280Z",
     "iopub.status.busy": "2023-04-08T20:16:33.990306Z",
     "iopub.status.idle": "2023-04-08T20:16:34.080464Z",
     "shell.execute_reply": "2023-04-08T20:16:34.079513Z"
    },
    "hidden": true,
    "papermill": {
     "duration": 0.214997,
     "end_time": "2023-04-08T20:16:34.082715",
     "exception": false,
     "start_time": "2023-04-08T20:16:33.867718",
     "status": "completed"
    },
    "tags": []
   },
   "outputs": [
    {
     "name": "stdout",
     "output_type": "stream",
     "text": [
      "['Age', 'SibSp', 'Parch', 'LogFare', 'Sex_male', 'Sex_female', 'Pclass_1', 'Pclass_2', 'Pclass_3', 'Embarked_C', 'Embarked_Q', 'Embarked_S'] \n",
      "\n"
     ]
    },
    {
     "data": {
      "text/plain": [
       "tensor([[22.0000,  1.0000,  0.0000,  2.1102,  1.0000,  0.0000,  0.0000,  0.0000,  1.0000,  0.0000,  0.0000,  1.0000],\n",
       "        [38.0000,  1.0000,  0.0000,  4.2806,  0.0000,  1.0000,  1.0000,  0.0000,  0.0000,  1.0000,  0.0000,  0.0000],\n",
       "        [26.0000,  0.0000,  0.0000,  2.1889,  0.0000,  1.0000,  0.0000,  0.0000,  1.0000,  0.0000,  0.0000,  1.0000],\n",
       "        [35.0000,  1.0000,  0.0000,  3.9908,  0.0000,  1.0000,  1.0000,  0.0000,  0.0000,  0.0000,  0.0000,  1.0000],\n",
       "        [35.0000,  0.0000,  0.0000,  2.2028,  1.0000,  0.0000,  0.0000,  0.0000,  1.0000,  0.0000,  0.0000,  1.0000],\n",
       "        [24.0000,  0.0000,  0.0000,  2.2469,  1.0000,  0.0000,  0.0000,  0.0000,  1.0000,  0.0000,  1.0000,  0.0000],\n",
       "        [54.0000,  0.0000,  0.0000,  3.9677,  1.0000,  0.0000,  1.0000,  0.0000,  0.0000,  0.0000,  0.0000,  1.0000],\n",
       "        ...,\n",
       "        [25.0000,  0.0000,  0.0000,  2.0857,  1.0000,  0.0000,  0.0000,  0.0000,  1.0000,  0.0000,  0.0000,  1.0000],\n",
       "        [39.0000,  0.0000,  5.0000,  3.4054,  0.0000,  1.0000,  0.0000,  0.0000,  1.0000,  0.0000,  1.0000,  0.0000],\n",
       "        [27.0000,  0.0000,  0.0000,  2.6391,  1.0000,  0.0000,  0.0000,  1.0000,  0.0000,  0.0000,  0.0000,  1.0000],\n",
       "        [19.0000,  0.0000,  0.0000,  3.4340,  0.0000,  1.0000,  1.0000,  0.0000,  0.0000,  0.0000,  0.0000,  1.0000],\n",
       "        [24.0000,  1.0000,  2.0000,  3.1966,  0.0000,  1.0000,  0.0000,  0.0000,  1.0000,  0.0000,  0.0000,  1.0000],\n",
       "        [26.0000,  0.0000,  0.0000,  3.4340,  1.0000,  0.0000,  1.0000,  0.0000,  0.0000,  1.0000,  0.0000,  0.0000],\n",
       "        [32.0000,  0.0000,  0.0000,  2.1691,  1.0000,  0.0000,  0.0000,  0.0000,  1.0000,  0.0000,  1.0000,  0.0000]])"
      ]
     },
     "execution_count": 18,
     "metadata": {},
     "output_type": "execute_result"
    }
   ],
   "source": [
    "indep_cols = ['Age', 'SibSp', 'Parch', 'LogFare'] + added_cols\n",
    "print(indep_cols,\"\\n\")\n",
    "\n",
    "t_indep = tensor(df[indep_cols].values, dtype=torch.float)\n",
    "t_indep"
   ]
  },
  {
   "cell_type": "markdown",
   "id": "c35a078a",
   "metadata": {
    "hidden": true,
    "papermill": {
     "duration": 0.124066,
     "end_time": "2023-04-08T20:16:34.332159",
     "exception": false,
     "start_time": "2023-04-08T20:16:34.208093",
     "status": "completed"
    },
    "tags": []
   },
   "source": [
    "Here's the number of rows and columns we have for our independent variables:"
   ]
  },
  {
   "cell_type": "code",
   "execution_count": 19,
   "id": "f655f618",
   "metadata": {
    "execution": {
     "iopub.execute_input": "2023-04-08T20:16:34.579856Z",
     "iopub.status.busy": "2023-04-08T20:16:34.579521Z",
     "iopub.status.idle": "2023-04-08T20:16:34.585033Z",
     "shell.execute_reply": "2023-04-08T20:16:34.584314Z"
    },
    "hidden": true,
    "papermill": {
     "duration": 0.132905,
     "end_time": "2023-04-08T20:16:34.587337",
     "exception": false,
     "start_time": "2023-04-08T20:16:34.454432",
     "status": "completed"
    },
    "tags": []
   },
   "outputs": [
    {
     "data": {
      "text/plain": [
       "torch.Size([891, 12])"
      ]
     },
     "execution_count": 19,
     "metadata": {},
     "output_type": "execute_result"
    }
   ],
   "source": [
    "# shape\n",
    "t_indep.shape"
   ]
  },
  {
   "cell_type": "code",
   "execution_count": 20,
   "id": "95896472",
   "metadata": {
    "execution": {
     "iopub.execute_input": "2023-04-08T20:16:34.837491Z",
     "iopub.status.busy": "2023-04-08T20:16:34.836727Z",
     "iopub.status.idle": "2023-04-08T20:16:34.841971Z",
     "shell.execute_reply": "2023-04-08T20:16:34.841390Z"
    },
    "papermill": {
     "duration": 0.133166,
     "end_time": "2023-04-08T20:16:34.843963",
     "exception": false,
     "start_time": "2023-04-08T20:16:34.710797",
     "status": "completed"
    },
    "tags": []
   },
   "outputs": [
    {
     "data": {
      "text/plain": [
       "2"
      ]
     },
     "execution_count": 20,
     "metadata": {},
     "output_type": "execute_result"
    }
   ],
   "source": [
    "# rank or dimension\n",
    "len(t_indep.shape)"
   ]
  },
  {
   "cell_type": "markdown",
   "id": "2899550d",
   "metadata": {
    "papermill": {
     "duration": 0.122516,
     "end_time": "2023-04-08T20:16:35.091003",
     "exception": false,
     "start_time": "2023-04-08T20:16:34.968487",
     "status": "completed"
    },
    "tags": []
   },
   "source": [
    "## Setting up a linear model"
   ]
  },
  {
   "cell_type": "markdown",
   "id": "9a2b56f8",
   "metadata": {
    "papermill": {
     "duration": 0.123689,
     "end_time": "2023-04-08T20:16:35.337766",
     "exception": false,
     "start_time": "2023-04-08T20:16:35.214077",
     "status": "completed"
    },
    "tags": []
   },
   "source": [
    "Now that we've got a matrix of independent variables and a dependent variable vector, we can work on calculating our predictions and our loss. In this section, we're going to manually do a single step of calculating predictions and loss for every row of our data.\n",
    "\n",
    "Our first model will be a simple linear model. We'll need a coefficient for each column in `t_indep`. We'll pick random numbers in the range `(-0.5,0.5)`, and set our manual seed so that my explanations in the prose in this notebook will be consistent with what you see when you run it."
   ]
  },
  {
   "cell_type": "code",
   "execution_count": 21,
   "id": "45c71ba5",
   "metadata": {
    "execution": {
     "iopub.execute_input": "2023-04-08T20:16:35.585669Z",
     "iopub.status.busy": "2023-04-08T20:16:35.585107Z",
     "iopub.status.idle": "2023-04-08T20:16:35.608732Z",
     "shell.execute_reply": "2023-04-08T20:16:35.607425Z"
    },
    "papermill": {
     "duration": 0.150459,
     "end_time": "2023-04-08T20:16:35.611324",
     "exception": false,
     "start_time": "2023-04-08T20:16:35.460865",
     "status": "completed"
    },
    "tags": []
   },
   "outputs": [
    {
     "name": "stdout",
     "output_type": "stream",
     "text": [
      "12\n"
     ]
    },
    {
     "data": {
      "text/plain": [
       "tensor([-0.4629,  0.1386,  0.2409, -0.2262, -0.2632, -0.3147,  0.4876,  0.3136,  0.2799, -0.4392,  0.2103,  0.3625])"
      ]
     },
     "execution_count": 21,
     "metadata": {},
     "output_type": "execute_result"
    }
   ],
   "source": [
    "torch.manual_seed(442)\n",
    "\n",
    "n_coeff = t_indep.shape[1] # columns\n",
    "print(n_coeff)\n",
    "coeffs = torch.rand(n_coeff)-0.5\n",
    "coeffs"
   ]
  },
  {
   "cell_type": "markdown",
   "id": "c307b7a2",
   "metadata": {
    "papermill": {
     "duration": 0.124124,
     "end_time": "2023-04-08T20:16:35.859660",
     "exception": false,
     "start_time": "2023-04-08T20:16:35.735536",
     "status": "completed"
    },
    "tags": []
   },
   "source": [
    "Our predictions will be calculated by multiplying each row by the coefficients, and adding them up. One interesting point here is that we don't need a separate constant term (also known as a \"bias\" or \"intercept\" term), or a column of all `1`s to give the same effect has having a constant term. That's because our dummy variables already cover the entire dataset -- e.g. there's a column for \"male\" and a column for \"female\", and everyone in the dataset is in exactly one of these; therefore, we don't need a separate intercept term to cover rows that aren't otherwise part of a column.\n",
    "\n",
    "Here's what the multiplication looks like:"
   ]
  },
  {
   "cell_type": "code",
   "execution_count": 22,
   "id": "dd76e93c",
   "metadata": {
    "execution": {
     "iopub.execute_input": "2023-04-08T20:16:36.115250Z",
     "iopub.status.busy": "2023-04-08T20:16:36.114963Z",
     "iopub.status.idle": "2023-04-08T20:16:36.121760Z",
     "shell.execute_reply": "2023-04-08T20:16:36.121155Z"
    },
    "papermill": {
     "duration": 0.137931,
     "end_time": "2023-04-08T20:16:36.123589",
     "exception": false,
     "start_time": "2023-04-08T20:16:35.985658",
     "status": "completed"
    },
    "tags": []
   },
   "outputs": [
    {
     "data": {
      "text/plain": [
       "tensor([[-10.1838,   0.1386,   0.0000,  -0.4772,  -0.2632,  -0.0000,   0.0000,   0.0000,   0.2799,  -0.0000,   0.0000,   0.3625],\n",
       "        [-17.5902,   0.1386,   0.0000,  -0.9681,  -0.0000,  -0.3147,   0.4876,   0.0000,   0.0000,  -0.4392,   0.0000,   0.0000],\n",
       "        [-12.0354,   0.0000,   0.0000,  -0.4950,  -0.0000,  -0.3147,   0.0000,   0.0000,   0.2799,  -0.0000,   0.0000,   0.3625],\n",
       "        [-16.2015,   0.1386,   0.0000,  -0.9025,  -0.0000,  -0.3147,   0.4876,   0.0000,   0.0000,  -0.0000,   0.0000,   0.3625],\n",
       "        [-16.2015,   0.0000,   0.0000,  -0.4982,  -0.2632,  -0.0000,   0.0000,   0.0000,   0.2799,  -0.0000,   0.0000,   0.3625],\n",
       "        [-11.1096,   0.0000,   0.0000,  -0.5081,  -0.2632,  -0.0000,   0.0000,   0.0000,   0.2799,  -0.0000,   0.2103,   0.0000],\n",
       "        [-24.9966,   0.0000,   0.0000,  -0.8973,  -0.2632,  -0.0000,   0.4876,   0.0000,   0.0000,  -0.0000,   0.0000,   0.3625],\n",
       "        ...,\n",
       "        [-11.5725,   0.0000,   0.0000,  -0.4717,  -0.2632,  -0.0000,   0.0000,   0.0000,   0.2799,  -0.0000,   0.0000,   0.3625],\n",
       "        [-18.0531,   0.0000,   1.2045,  -0.7701,  -0.0000,  -0.3147,   0.0000,   0.0000,   0.2799,  -0.0000,   0.2103,   0.0000],\n",
       "        [-12.4983,   0.0000,   0.0000,  -0.5968,  -0.2632,  -0.0000,   0.0000,   0.3136,   0.0000,  -0.0000,   0.0000,   0.3625],\n",
       "        [ -8.7951,   0.0000,   0.0000,  -0.7766,  -0.0000,  -0.3147,   0.4876,   0.0000,   0.0000,  -0.0000,   0.0000,   0.3625],\n",
       "        [-11.1096,   0.1386,   0.4818,  -0.7229,  -0.0000,  -0.3147,   0.0000,   0.0000,   0.2799,  -0.0000,   0.0000,   0.3625],\n",
       "        [-12.0354,   0.0000,   0.0000,  -0.7766,  -0.2632,  -0.0000,   0.4876,   0.0000,   0.0000,  -0.4392,   0.0000,   0.0000],\n",
       "        [-14.8128,   0.0000,   0.0000,  -0.4905,  -0.2632,  -0.0000,   0.0000,   0.0000,   0.2799,  -0.0000,   0.2103,   0.0000]])"
      ]
     },
     "execution_count": 22,
     "metadata": {},
     "output_type": "execute_result"
    }
   ],
   "source": [
    "t_indep*coeffs"
   ]
  },
  {
   "cell_type": "markdown",
   "id": "ff3d5bf9",
   "metadata": {
    "papermill": {
     "duration": 0.127179,
     "end_time": "2023-04-08T20:16:36.377614",
     "exception": false,
     "start_time": "2023-04-08T20:16:36.250435",
     "status": "completed"
    },
    "tags": []
   },
   "source": [
    "We can see we've got a problem here. The sums of each row will be dominated by the first column, which is `Age`, since that's bigger on average than all the others.\n",
    "\n",
    "Let's make all the columns contain numbers from `0` to `1`, by dividing each column by its `max()`:"
   ]
  },
  {
   "cell_type": "code",
   "execution_count": 23,
   "id": "c81bfe2b",
   "metadata": {
    "execution": {
     "iopub.execute_input": "2023-04-08T20:16:36.627586Z",
     "iopub.status.busy": "2023-04-08T20:16:36.626667Z",
     "iopub.status.idle": "2023-04-08T20:16:36.640770Z",
     "shell.execute_reply": "2023-04-08T20:16:36.639906Z"
    },
    "papermill": {
     "duration": 0.144073,
     "end_time": "2023-04-08T20:16:36.643315",
     "exception": false,
     "start_time": "2023-04-08T20:16:36.499242",
     "status": "completed"
    },
    "tags": []
   },
   "outputs": [
    {
     "name": "stdout",
     "output_type": "stream",
     "text": [
      "tensor([80.0000,  8.0000,  6.0000,  6.2409,  1.0000,  1.0000,  1.0000,  1.0000,  1.0000,  1.0000,  1.0000,  1.0000])\n",
      "tensor([630, 159, 678, 258,   0,   1,   1,   9,   0,   1,   5,   0])\n"
     ]
    },
    {
     "data": {
      "text/plain": [
       "tensor([[0.2750, 0.1250, 0.0000, 0.3381, 1.0000, 0.0000, 0.0000, 0.0000, 1.0000, 0.0000, 0.0000, 1.0000],\n",
       "        [0.4750, 0.1250, 0.0000, 0.6859, 0.0000, 1.0000, 1.0000, 0.0000, 0.0000, 1.0000, 0.0000, 0.0000],\n",
       "        [0.3250, 0.0000, 0.0000, 0.3507, 0.0000, 1.0000, 0.0000, 0.0000, 1.0000, 0.0000, 0.0000, 1.0000],\n",
       "        [0.4375, 0.1250, 0.0000, 0.6395, 0.0000, 1.0000, 1.0000, 0.0000, 0.0000, 0.0000, 0.0000, 1.0000],\n",
       "        [0.4375, 0.0000, 0.0000, 0.3530, 1.0000, 0.0000, 0.0000, 0.0000, 1.0000, 0.0000, 0.0000, 1.0000],\n",
       "        [0.3000, 0.0000, 0.0000, 0.3600, 1.0000, 0.0000, 0.0000, 0.0000, 1.0000, 0.0000, 1.0000, 0.0000],\n",
       "        [0.6750, 0.0000, 0.0000, 0.6358, 1.0000, 0.0000, 1.0000, 0.0000, 0.0000, 0.0000, 0.0000, 1.0000],\n",
       "        ...,\n",
       "        [0.3125, 0.0000, 0.0000, 0.3342, 1.0000, 0.0000, 0.0000, 0.0000, 1.0000, 0.0000, 0.0000, 1.0000],\n",
       "        [0.4875, 0.0000, 0.8333, 0.5456, 0.0000, 1.0000, 0.0000, 0.0000, 1.0000, 0.0000, 1.0000, 0.0000],\n",
       "        [0.3375, 0.0000, 0.0000, 0.4229, 1.0000, 0.0000, 0.0000, 1.0000, 0.0000, 0.0000, 0.0000, 1.0000],\n",
       "        [0.2375, 0.0000, 0.0000, 0.5502, 0.0000, 1.0000, 1.0000, 0.0000, 0.0000, 0.0000, 0.0000, 1.0000],\n",
       "        [0.3000, 0.1250, 0.3333, 0.5122, 0.0000, 1.0000, 0.0000, 0.0000, 1.0000, 0.0000, 0.0000, 1.0000],\n",
       "        [0.3250, 0.0000, 0.0000, 0.5502, 1.0000, 0.0000, 1.0000, 0.0000, 0.0000, 1.0000, 0.0000, 0.0000],\n",
       "        [0.4000, 0.0000, 0.0000, 0.3476, 1.0000, 0.0000, 0.0000, 0.0000, 1.0000, 0.0000, 1.0000, 0.0000]])"
      ]
     },
     "execution_count": 23,
     "metadata": {},
     "output_type": "execute_result"
    }
   ],
   "source": [
    "vals,indices = t_indep.max(dim=0)\n",
    "print(vals)\n",
    "print(indices)\n",
    "t_indep = t_indep / vals\n",
    "t_indep"
   ]
  },
  {
   "cell_type": "markdown",
   "id": "3cbcf58a",
   "metadata": {
    "papermill": {
     "duration": 0.136739,
     "end_time": "2023-04-08T20:16:36.905746",
     "exception": false,
     "start_time": "2023-04-08T20:16:36.769007",
     "status": "completed"
    },
    "tags": []
   },
   "source": [
    "As we see, that removes the problem of one column dominating all the others:"
   ]
  },
  {
   "cell_type": "code",
   "execution_count": 24,
   "id": "36ebd2ec",
   "metadata": {
    "execution": {
     "iopub.execute_input": "2023-04-08T20:16:37.157889Z",
     "iopub.status.busy": "2023-04-08T20:16:37.156892Z",
     "iopub.status.idle": "2023-04-08T20:16:37.163889Z",
     "shell.execute_reply": "2023-04-08T20:16:37.163281Z"
    },
    "papermill": {
     "duration": 0.135005,
     "end_time": "2023-04-08T20:16:37.165813",
     "exception": false,
     "start_time": "2023-04-08T20:16:37.030808",
     "status": "completed"
    },
    "tags": []
   },
   "outputs": [
    {
     "data": {
      "text/plain": [
       "tensor([[-0.1273,  0.0173,  0.0000, -0.0765, -0.2632, -0.0000,  0.0000,  0.0000,  0.2799, -0.0000,  0.0000,  0.3625],\n",
       "        [-0.2199,  0.0173,  0.0000, -0.1551, -0.0000, -0.3147,  0.4876,  0.0000,  0.0000, -0.4392,  0.0000,  0.0000],\n",
       "        [-0.1504,  0.0000,  0.0000, -0.0793, -0.0000, -0.3147,  0.0000,  0.0000,  0.2799, -0.0000,  0.0000,  0.3625],\n",
       "        [-0.2025,  0.0173,  0.0000, -0.1446, -0.0000, -0.3147,  0.4876,  0.0000,  0.0000, -0.0000,  0.0000,  0.3625],\n",
       "        [-0.2025,  0.0000,  0.0000, -0.0798, -0.2632, -0.0000,  0.0000,  0.0000,  0.2799, -0.0000,  0.0000,  0.3625],\n",
       "        [-0.1389,  0.0000,  0.0000, -0.0814, -0.2632, -0.0000,  0.0000,  0.0000,  0.2799, -0.0000,  0.2103,  0.0000],\n",
       "        [-0.3125,  0.0000,  0.0000, -0.1438, -0.2632, -0.0000,  0.4876,  0.0000,  0.0000, -0.0000,  0.0000,  0.3625],\n",
       "        ...,\n",
       "        [-0.1447,  0.0000,  0.0000, -0.0756, -0.2632, -0.0000,  0.0000,  0.0000,  0.2799, -0.0000,  0.0000,  0.3625],\n",
       "        [-0.2257,  0.0000,  0.2008, -0.1234, -0.0000, -0.3147,  0.0000,  0.0000,  0.2799, -0.0000,  0.2103,  0.0000],\n",
       "        [-0.1562,  0.0000,  0.0000, -0.0956, -0.2632, -0.0000,  0.0000,  0.3136,  0.0000, -0.0000,  0.0000,  0.3625],\n",
       "        [-0.1099,  0.0000,  0.0000, -0.1244, -0.0000, -0.3147,  0.4876,  0.0000,  0.0000, -0.0000,  0.0000,  0.3625],\n",
       "        [-0.1389,  0.0173,  0.0803, -0.1158, -0.0000, -0.3147,  0.0000,  0.0000,  0.2799, -0.0000,  0.0000,  0.3625],\n",
       "        [-0.1504,  0.0000,  0.0000, -0.1244, -0.2632, -0.0000,  0.4876,  0.0000,  0.0000, -0.4392,  0.0000,  0.0000],\n",
       "        [-0.1852,  0.0000,  0.0000, -0.0786, -0.2632, -0.0000,  0.0000,  0.0000,  0.2799, -0.0000,  0.2103,  0.0000]])"
      ]
     },
     "execution_count": 24,
     "metadata": {},
     "output_type": "execute_result"
    }
   ],
   "source": [
    "t_indep*coeffs"
   ]
  },
  {
   "cell_type": "markdown",
   "id": "84f5a049",
   "metadata": {
    "papermill": {
     "duration": 0.127719,
     "end_time": "2023-04-08T20:16:37.418473",
     "exception": false,
     "start_time": "2023-04-08T20:16:37.290754",
     "status": "completed"
    },
    "tags": []
   },
   "source": [
    "One thing you hopefully noticed is how amazingly cool this line of code is:\n",
    "\n",
    "    t_indep = t_indep / vals\n",
    "\n",
    "That is dividing a matrix by a vector -- what on earth does that mean?!? The trick here is that we're taking advantage of a technique in numpy and PyTorch (and many other languages, going all the way back to APL) called [broadcasting](https://numpy.org/doc/stable/user/basics.broadcasting.html). In short, this acts as if there's a separate copy of the vector for every row of the matrix, so it divides each row of the matrix by the vector. In practice, it doesn't actually make any copies, and does the whole thing in a highly optimized way, taking full advantage of modern CPUs (or, indeed, GPUs, if we're using them). Broadcasting is one of the most important techniques for making your code concise, maintainable, and fast, so it's well worth studying and practicing.\n",
    "\n",
    "We can now create predictions from our linear model, by adding up the rows of the product:"
   ]
  },
  {
   "cell_type": "code",
   "execution_count": 25,
   "id": "d251a899",
   "metadata": {
    "execution": {
     "iopub.execute_input": "2023-04-08T20:16:37.688889Z",
     "iopub.status.busy": "2023-04-08T20:16:37.687916Z",
     "iopub.status.idle": "2023-04-08T20:16:37.698517Z",
     "shell.execute_reply": "2023-04-08T20:16:37.697889Z"
    },
    "papermill": {
     "duration": 0.144471,
     "end_time": "2023-04-08T20:16:37.700431",
     "exception": false,
     "start_time": "2023-04-08T20:16:37.555960",
     "status": "completed"
    },
    "tags": []
   },
   "outputs": [
    {
     "data": {
      "text/plain": [
       "torch.Size([891])"
      ]
     },
     "execution_count": 25,
     "metadata": {},
     "output_type": "execute_result"
    }
   ],
   "source": [
    "preds = (t_indep*coeffs).sum(axis=1)\n",
    "preds.shape"
   ]
  },
  {
   "cell_type": "markdown",
   "id": "6cebe7fb",
   "metadata": {
    "papermill": {
     "duration": 0.126389,
     "end_time": "2023-04-08T20:16:37.953931",
     "exception": false,
     "start_time": "2023-04-08T20:16:37.827542",
     "status": "completed"
    },
    "tags": []
   },
   "source": [
    "Let's take a look at the first few:"
   ]
  },
  {
   "cell_type": "code",
   "execution_count": 26,
   "id": "0b8d1b15",
   "metadata": {
    "execution": {
     "iopub.execute_input": "2023-04-08T20:16:38.210832Z",
     "iopub.status.busy": "2023-04-08T20:16:38.210541Z",
     "iopub.status.idle": "2023-04-08T20:16:38.217858Z",
     "shell.execute_reply": "2023-04-08T20:16:38.216912Z"
    },
    "papermill": {
     "duration": 0.13952,
     "end_time": "2023-04-08T20:16:38.219781",
     "exception": false,
     "start_time": "2023-04-08T20:16:38.080261",
     "status": "completed"
    },
    "tags": []
   },
   "outputs": [
    {
     "data": {
      "text/plain": [
       "tensor([ 0.1927, -0.6239,  0.0979,  0.2056,  0.0968,  0.0066,  0.1306,  0.3476,  0.1613, -0.6285])"
      ]
     },
     "execution_count": 26,
     "metadata": {},
     "output_type": "execute_result"
    }
   ],
   "source": [
    "preds[:10]"
   ]
  },
  {
   "cell_type": "markdown",
   "id": "b3e20ce3",
   "metadata": {
    "papermill": {
     "duration": 0.123598,
     "end_time": "2023-04-08T20:16:38.468065",
     "exception": false,
     "start_time": "2023-04-08T20:16:38.344467",
     "status": "completed"
    },
    "tags": []
   },
   "source": [
    "Of course, these predictions aren't going to be any use, since our coefficients are random -- they're just a starting point for our gradient descent process.\n",
    "\n",
    "To do gradient descent, we need a loss function. Taking the average error of the rows (i.e. the absolute value of the difference between the prediction and the dependent) is generally a reasonable approach:"
   ]
  },
  {
   "cell_type": "code",
   "execution_count": 27,
   "id": "5bbb2a47",
   "metadata": {
    "execution": {
     "iopub.execute_input": "2023-04-08T20:16:38.724285Z",
     "iopub.status.busy": "2023-04-08T20:16:38.723797Z",
     "iopub.status.idle": "2023-04-08T20:16:38.735656Z",
     "shell.execute_reply": "2023-04-08T20:16:38.734832Z"
    },
    "papermill": {
     "duration": 0.143414,
     "end_time": "2023-04-08T20:16:38.737934",
     "exception": false,
     "start_time": "2023-04-08T20:16:38.594520",
     "status": "completed"
    },
    "tags": []
   },
   "outputs": [
    {
     "data": {
      "text/plain": [
       "tensor(0.5382)"
      ]
     },
     "execution_count": 27,
     "metadata": {},
     "output_type": "execute_result"
    }
   ],
   "source": [
    "loss = torch.abs(preds-t_dep).mean()\n",
    "loss"
   ]
  },
  {
   "cell_type": "markdown",
   "id": "ea4feea7",
   "metadata": {
    "papermill": {
     "duration": 0.123763,
     "end_time": "2023-04-08T20:16:38.986962",
     "exception": false,
     "start_time": "2023-04-08T20:16:38.863199",
     "status": "completed"
    },
    "tags": []
   },
   "source": [
    "Now that we've tested out a way of calculating predictions, and loss, let's pop them into functions to make life easier:"
   ]
  },
  {
   "cell_type": "code",
   "execution_count": 28,
   "id": "c311fd63",
   "metadata": {
    "execution": {
     "iopub.execute_input": "2023-04-08T20:16:39.237923Z",
     "iopub.status.busy": "2023-04-08T20:16:39.237480Z",
     "iopub.status.idle": "2023-04-08T20:16:39.242235Z",
     "shell.execute_reply": "2023-04-08T20:16:39.241538Z"
    },
    "papermill": {
     "duration": 0.131719,
     "end_time": "2023-04-08T20:16:39.244202",
     "exception": false,
     "start_time": "2023-04-08T20:16:39.112483",
     "status": "completed"
    },
    "tags": []
   },
   "outputs": [],
   "source": [
    "# prediction\n",
    "def calc_preds(coeffs, indeps): \n",
    "    return (indeps*coeffs).sum(axis=1)\n",
    "\n",
    "def calc_loss(coeffs, indeps, deps): \n",
    "    preds = calc_preds(coeffs, indeps) # prediction\n",
    "    return torch.abs(preds-deps).mean()"
   ]
  },
  {
   "cell_type": "markdown",
   "id": "7cd6f7a7",
   "metadata": {
    "papermill": {
     "duration": 0.127017,
     "end_time": "2023-04-08T20:16:39.495197",
     "exception": false,
     "start_time": "2023-04-08T20:16:39.368180",
     "status": "completed"
    },
    "tags": []
   },
   "source": [
    "## Doing a gradient descent step"
   ]
  },
  {
   "cell_type": "markdown",
   "id": "921196d8",
   "metadata": {
    "papermill": {
     "duration": 0.12687,
     "end_time": "2023-04-08T20:16:39.748348",
     "exception": false,
     "start_time": "2023-04-08T20:16:39.621478",
     "status": "completed"
    },
    "tags": []
   },
   "source": [
    "In this section, we're going to do a single \"epoch\" of gradient descent manually. The only thing we're going to automate is calculating gradients, because let's face it that's pretty tedious and entirely pointless to do by hand! To get PyTorch to calculate gradients, we'll need to call `requires_grad_()` on our `coeffs` (if you're not sure why, review the previous notebook, [How does a neural net really work?](https://www.kaggle.com/code/jhoward/how-does-a-neural-net-really-work), before continuing):"
   ]
  },
  {
   "cell_type": "code",
   "execution_count": 29,
   "id": "c23b66a5",
   "metadata": {
    "execution": {
     "iopub.execute_input": "2023-04-08T20:16:40.000509Z",
     "iopub.status.busy": "2023-04-08T20:16:39.999993Z",
     "iopub.status.idle": "2023-04-08T20:16:40.006220Z",
     "shell.execute_reply": "2023-04-08T20:16:40.005504Z"
    },
    "papermill": {
     "duration": 0.135895,
     "end_time": "2023-04-08T20:16:40.008386",
     "exception": false,
     "start_time": "2023-04-08T20:16:39.872491",
     "status": "completed"
    },
    "tags": []
   },
   "outputs": [
    {
     "data": {
      "text/plain": [
       "tensor([-0.4629,  0.1386,  0.2409, -0.2262, -0.2632, -0.3147,  0.4876,  0.3136,  0.2799, -0.4392,  0.2103,  0.3625], requires_grad=True)"
      ]
     },
     "execution_count": 29,
     "metadata": {},
     "output_type": "execute_result"
    }
   ],
   "source": [
    "coeffs.requires_grad_()"
   ]
  },
  {
   "cell_type": "markdown",
   "id": "6ce56a74",
   "metadata": {
    "papermill": {
     "duration": 0.123274,
     "end_time": "2023-04-08T20:16:40.259322",
     "exception": false,
     "start_time": "2023-04-08T20:16:40.136048",
     "status": "completed"
    },
    "tags": []
   },
   "source": [
    "Now when we calculate our loss, PyTorch will keep track of all the steps, so we'll be able to get the gradients afterwards:"
   ]
  },
  {
   "cell_type": "code",
   "execution_count": 30,
   "id": "f9ad553d",
   "metadata": {
    "execution": {
     "iopub.execute_input": "2023-04-08T20:16:40.509622Z",
     "iopub.status.busy": "2023-04-08T20:16:40.509268Z",
     "iopub.status.idle": "2023-04-08T20:16:40.518017Z",
     "shell.execute_reply": "2023-04-08T20:16:40.516930Z"
    },
    "papermill": {
     "duration": 0.136214,
     "end_time": "2023-04-08T20:16:40.520104",
     "exception": false,
     "start_time": "2023-04-08T20:16:40.383890",
     "status": "completed"
    },
    "tags": []
   },
   "outputs": [
    {
     "data": {
      "text/plain": [
       "tensor(0.5382, grad_fn=<MeanBackward0>)"
      ]
     },
     "execution_count": 30,
     "metadata": {},
     "output_type": "execute_result"
    }
   ],
   "source": [
    "loss = calc_loss(coeffs, t_indep, t_dep)\n",
    "loss"
   ]
  },
  {
   "cell_type": "markdown",
   "id": "8a308640",
   "metadata": {
    "papermill": {
     "duration": 0.127139,
     "end_time": "2023-04-08T20:16:40.772443",
     "exception": false,
     "start_time": "2023-04-08T20:16:40.645304",
     "status": "completed"
    },
    "tags": []
   },
   "source": [
    "Use `backward()` to ask PyTorch to calculate gradients now:"
   ]
  },
  {
   "cell_type": "code",
   "execution_count": 31,
   "id": "b611be6d",
   "metadata": {
    "execution": {
     "iopub.execute_input": "2023-04-08T20:16:41.030705Z",
     "iopub.status.busy": "2023-04-08T20:16:41.030081Z",
     "iopub.status.idle": "2023-04-08T20:16:41.046387Z",
     "shell.execute_reply": "2023-04-08T20:16:41.045462Z"
    },
    "papermill": {
     "duration": 0.147179,
     "end_time": "2023-04-08T20:16:41.048872",
     "exception": false,
     "start_time": "2023-04-08T20:16:40.901693",
     "status": "completed"
    },
    "tags": []
   },
   "outputs": [],
   "source": [
    "loss.backward()"
   ]
  },
  {
   "cell_type": "markdown",
   "id": "1706df5a",
   "metadata": {
    "papermill": {
     "duration": 0.124976,
     "end_time": "2023-04-08T20:16:41.306019",
     "exception": false,
     "start_time": "2023-04-08T20:16:41.181043",
     "status": "completed"
    },
    "tags": []
   },
   "source": [
    "Let's see what they look like:"
   ]
  },
  {
   "cell_type": "code",
   "execution_count": 32,
   "id": "b37e929d",
   "metadata": {
    "execution": {
     "iopub.execute_input": "2023-04-08T20:16:41.557932Z",
     "iopub.status.busy": "2023-04-08T20:16:41.557638Z",
     "iopub.status.idle": "2023-04-08T20:16:41.564294Z",
     "shell.execute_reply": "2023-04-08T20:16:41.563206Z"
    },
    "papermill": {
     "duration": 0.135462,
     "end_time": "2023-04-08T20:16:41.566700",
     "exception": false,
     "start_time": "2023-04-08T20:16:41.431238",
     "status": "completed"
    },
    "tags": []
   },
   "outputs": [
    {
     "data": {
      "text/plain": [
       "tensor([-0.0106,  0.0129, -0.0041, -0.0484,  0.2099, -0.2132, -0.1212, -0.0247,  0.1425, -0.1886, -0.0191,  0.2043])"
      ]
     },
     "execution_count": 32,
     "metadata": {},
     "output_type": "execute_result"
    }
   ],
   "source": [
    "coeffs.grad"
   ]
  },
  {
   "cell_type": "markdown",
   "id": "c100b86a",
   "metadata": {
    "papermill": {
     "duration": 0.128056,
     "end_time": "2023-04-08T20:16:41.822532",
     "exception": false,
     "start_time": "2023-04-08T20:16:41.694476",
     "status": "completed"
    },
    "tags": []
   },
   "source": [
    "Note that each time we call `backward`, the gradients are actually *added* to whatever is in the `.grad` attribute. Let's try running the above steps again:"
   ]
  },
  {
   "cell_type": "code",
   "execution_count": 33,
   "id": "6393a9ea",
   "metadata": {
    "execution": {
     "iopub.execute_input": "2023-04-08T20:16:42.075336Z",
     "iopub.status.busy": "2023-04-08T20:16:42.075002Z",
     "iopub.status.idle": "2023-04-08T20:16:42.085259Z",
     "shell.execute_reply": "2023-04-08T20:16:42.084292Z"
    },
    "papermill": {
     "duration": 0.140479,
     "end_time": "2023-04-08T20:16:42.087453",
     "exception": false,
     "start_time": "2023-04-08T20:16:41.946974",
     "status": "completed"
    },
    "tags": []
   },
   "outputs": [
    {
     "data": {
      "text/plain": [
       "tensor([-0.0212,  0.0258, -0.0082, -0.0969,  0.4198, -0.4265, -0.2424, -0.0494,  0.2851, -0.3771, -0.0382,  0.4085])"
      ]
     },
     "execution_count": 33,
     "metadata": {},
     "output_type": "execute_result"
    }
   ],
   "source": [
    "loss = calc_loss(coeffs, t_indep, t_dep)\n",
    "loss.backward()\n",
    "coeffs.grad"
   ]
  },
  {
   "cell_type": "markdown",
   "id": "35e778fa",
   "metadata": {
    "papermill": {
     "duration": 0.125237,
     "end_time": "2023-04-08T20:16:42.340457",
     "exception": false,
     "start_time": "2023-04-08T20:16:42.215220",
     "status": "completed"
    },
    "tags": []
   },
   "source": [
    "As you see, our `.grad` values are have doubled. That's because it added the gradients a second time. For this reason, after we use the gradients to do a gradient descent step, we need to set them back to zero.\n",
    "\n",
    "We can now do one gradient descent step, and check that our loss decreases:"
   ]
  },
  {
   "cell_type": "code",
   "execution_count": 34,
   "id": "6c8ffb0c",
   "metadata": {
    "execution": {
     "iopub.execute_input": "2023-04-08T20:16:42.603889Z",
     "iopub.status.busy": "2023-04-08T20:16:42.603273Z",
     "iopub.status.idle": "2023-04-08T20:16:42.611405Z",
     "shell.execute_reply": "2023-04-08T20:16:42.610120Z"
    },
    "papermill": {
     "duration": 0.138695,
     "end_time": "2023-04-08T20:16:42.613404",
     "exception": false,
     "start_time": "2023-04-08T20:16:42.474709",
     "status": "completed"
    },
    "tags": []
   },
   "outputs": [
    {
     "name": "stdout",
     "output_type": "stream",
     "text": [
      "tensor(0.4945)\n"
     ]
    }
   ],
   "source": [
    "loss = calc_loss(coeffs, t_indep, t_dep)\n",
    "loss.backward()\n",
    "with torch.no_grad():\n",
    "    # inplace subtract\n",
    "    coeffs.sub_(coeffs.grad * 0.1)\n",
    "    coeffs.grad.zero_()\n",
    "    print(calc_loss(coeffs, t_indep, t_dep))"
   ]
  },
  {
   "cell_type": "markdown",
   "id": "3bf9be7b",
   "metadata": {
    "papermill": {
     "duration": 0.130722,
     "end_time": "2023-04-08T20:16:42.871544",
     "exception": false,
     "start_time": "2023-04-08T20:16:42.740822",
     "status": "completed"
    },
    "tags": []
   },
   "source": [
    "Note that `a.sub_(b)` subtracts `b` from `a` in-place. In PyTorch, any method that ends in `_` changes its object in-place. Similarly, `a.zero_()` sets all elements of a tensor to zero."
   ]
  },
  {
   "cell_type": "markdown",
   "id": "66d7df3c",
   "metadata": {
    "papermill": {
     "duration": 0.129515,
     "end_time": "2023-04-08T20:16:43.129514",
     "exception": false,
     "start_time": "2023-04-08T20:16:42.999999",
     "status": "completed"
    },
    "tags": []
   },
   "source": [
    "## Training the linear model"
   ]
  },
  {
   "cell_type": "markdown",
   "id": "5cf6d292",
   "metadata": {
    "papermill": {
     "duration": 0.139027,
     "end_time": "2023-04-08T20:16:43.395142",
     "exception": false,
     "start_time": "2023-04-08T20:16:43.256115",
     "status": "completed"
    },
    "tags": []
   },
   "source": [
    "Before we begin training our model, we'll need to ensure that we hold out a validation set for calculating our metrics (for details on this, see \"[Getting started with NLP for absolute beginners](https://www.kaggle.com/code/jhoward/getting-started-with-nlp-for-absolute-beginners#Test-and-validation-sets)\".\n",
    "\n",
    "There's lots of different ways we can do this. In the next notebook we'll be comparing our approach here to what the fastai library does, so we'll want to ensure we split the data in the same way. So let's use `RandomSplitter` to get indices that will split our data into training and validation sets:"
   ]
  },
  {
   "cell_type": "code",
   "execution_count": 35,
   "id": "83b32a73",
   "metadata": {
    "execution": {
     "iopub.execute_input": "2023-04-08T20:16:43.655469Z",
     "iopub.status.busy": "2023-04-08T20:16:43.655168Z",
     "iopub.status.idle": "2023-04-08T20:16:45.033271Z",
     "shell.execute_reply": "2023-04-08T20:16:45.032447Z"
    },
    "papermill": {
     "duration": 1.509814,
     "end_time": "2023-04-08T20:16:45.035671",
     "exception": false,
     "start_time": "2023-04-08T20:16:43.525857",
     "status": "completed"
    },
    "tags": []
   },
   "outputs": [
    {
     "data": {
      "text/plain": [
       "(713,\n",
       " 178,\n",
       " (#713) [788,525,821,253,374,98,215,313,281,305...],\n",
       " (#178) [303,778,531,385,134,476,691,443,386,128...])"
      ]
     },
     "execution_count": 35,
     "metadata": {},
     "output_type": "execute_result"
    }
   ],
   "source": [
    "from fastai.data.transforms import RandomSplitter\n",
    "trn_split,val_split=RandomSplitter(seed=42)(df)\n",
    "len(trn_split), len(val_split), trn_split, val_split"
   ]
  },
  {
   "cell_type": "markdown",
   "id": "a00fd1b4",
   "metadata": {
    "papermill": {
     "duration": 0.131266,
     "end_time": "2023-04-08T20:16:45.299587",
     "exception": false,
     "start_time": "2023-04-08T20:16:45.168321",
     "status": "completed"
    },
    "tags": []
   },
   "source": [
    "Now we can apply those indicies to our independent and dependent variables:"
   ]
  },
  {
   "cell_type": "code",
   "execution_count": 36,
   "id": "c532db4d",
   "metadata": {
    "execution": {
     "iopub.execute_input": "2023-04-08T20:16:45.560834Z",
     "iopub.status.busy": "2023-04-08T20:16:45.560527Z",
     "iopub.status.idle": "2023-04-08T20:16:45.572013Z",
     "shell.execute_reply": "2023-04-08T20:16:45.570965Z"
    },
    "papermill": {
     "duration": 0.144551,
     "end_time": "2023-04-08T20:16:45.574160",
     "exception": false,
     "start_time": "2023-04-08T20:16:45.429609",
     "status": "completed"
    },
    "tags": []
   },
   "outputs": [
    {
     "data": {
      "text/plain": [
       "(713, 178)"
      ]
     },
     "execution_count": 36,
     "metadata": {},
     "output_type": "execute_result"
    }
   ],
   "source": [
    "trn_indep,val_indep = t_indep[trn_split],t_indep[val_split]\n",
    "trn_dep,val_dep = t_dep[trn_split],t_dep[val_split]\n",
    "len(trn_indep),len(val_indep)"
   ]
  },
  {
   "cell_type": "markdown",
   "id": "928d06b3",
   "metadata": {
    "papermill": {
     "duration": 0.131119,
     "end_time": "2023-04-08T20:16:45.833729",
     "exception": false,
     "start_time": "2023-04-08T20:16:45.702610",
     "status": "completed"
    },
    "tags": []
   },
   "source": [
    "We'll create functions for the three things we did manually above: updating `coeffs`, doing one full gradient descent step, and initilising `coeffs` to random numbers:"
   ]
  },
  {
   "cell_type": "code",
   "execution_count": 37,
   "id": "43c3a3cc",
   "metadata": {
    "execution": {
     "iopub.execute_input": "2023-04-08T20:16:46.090001Z",
     "iopub.status.busy": "2023-04-08T20:16:46.089546Z",
     "iopub.status.idle": "2023-04-08T20:16:46.094136Z",
     "shell.execute_reply": "2023-04-08T20:16:46.093460Z"
    },
    "papermill": {
     "duration": 0.135029,
     "end_time": "2023-04-08T20:16:46.096195",
     "exception": false,
     "start_time": "2023-04-08T20:16:45.961166",
     "status": "completed"
    },
    "tags": []
   },
   "outputs": [],
   "source": [
    "def update_coeffs(coeffs, lr):\n",
    "    coeffs.sub_(coeffs.grad * lr)\n",
    "    coeffs.grad.zero_()"
   ]
  },
  {
   "cell_type": "code",
   "execution_count": 38,
   "id": "54cfa510",
   "metadata": {
    "execution": {
     "iopub.execute_input": "2023-04-08T20:16:46.357231Z",
     "iopub.status.busy": "2023-04-08T20:16:46.356926Z",
     "iopub.status.idle": "2023-04-08T20:16:46.361643Z",
     "shell.execute_reply": "2023-04-08T20:16:46.360843Z"
    },
    "papermill": {
     "duration": 0.138198,
     "end_time": "2023-04-08T20:16:46.363768",
     "exception": false,
     "start_time": "2023-04-08T20:16:46.225570",
     "status": "completed"
    },
    "tags": []
   },
   "outputs": [],
   "source": [
    "def one_epoch(coeffs, lr):\n",
    "    loss = calc_loss(coeffs, trn_indep, trn_dep)\n",
    "    loss.backward()\n",
    "    with torch.no_grad(): update_coeffs(coeffs, lr)\n",
    "    print(f\"{loss:.3f}\", end=\"; \")"
   ]
  },
  {
   "cell_type": "code",
   "execution_count": 39,
   "id": "b1354b84",
   "metadata": {
    "execution": {
     "iopub.execute_input": "2023-04-08T20:16:46.626722Z",
     "iopub.status.busy": "2023-04-08T20:16:46.626146Z",
     "iopub.status.idle": "2023-04-08T20:16:46.630136Z",
     "shell.execute_reply": "2023-04-08T20:16:46.629466Z"
    },
    "papermill": {
     "duration": 0.138412,
     "end_time": "2023-04-08T20:16:46.632013",
     "exception": false,
     "start_time": "2023-04-08T20:16:46.493601",
     "status": "completed"
    },
    "tags": []
   },
   "outputs": [],
   "source": [
    "def init_coeffs(): \n",
    "    return (torch.rand(n_coeff)-0.5).requires_grad_()"
   ]
  },
  {
   "cell_type": "markdown",
   "id": "9c72e44d",
   "metadata": {
    "papermill": {
     "duration": 0.1298,
     "end_time": "2023-04-08T20:16:46.890535",
     "exception": false,
     "start_time": "2023-04-08T20:16:46.760735",
     "status": "completed"
    },
    "tags": []
   },
   "source": [
    "We can now use these functions to train our model:"
   ]
  },
  {
   "cell_type": "code",
   "execution_count": 40,
   "id": "66a89554",
   "metadata": {
    "execution": {
     "iopub.execute_input": "2023-04-08T20:16:47.160221Z",
     "iopub.status.busy": "2023-04-08T20:16:47.159309Z",
     "iopub.status.idle": "2023-04-08T20:16:47.166109Z",
     "shell.execute_reply": "2023-04-08T20:16:47.165458Z"
    },
    "papermill": {
     "duration": 0.147928,
     "end_time": "2023-04-08T20:16:47.168718",
     "exception": false,
     "start_time": "2023-04-08T20:16:47.020790",
     "status": "completed"
    },
    "tags": []
   },
   "outputs": [],
   "source": [
    "def train_model(epochs=30, lr=0.01):\n",
    "    torch.manual_seed(442)\n",
    "    coeffs = init_coeffs()\n",
    "    for i in range(epochs): \n",
    "        one_epoch(coeffs, lr=lr)\n",
    "    return coeffs"
   ]
  },
  {
   "cell_type": "markdown",
   "id": "93a1d503",
   "metadata": {
    "papermill": {
     "duration": 0.142383,
     "end_time": "2023-04-08T20:16:47.469986",
     "exception": false,
     "start_time": "2023-04-08T20:16:47.327603",
     "status": "completed"
    },
    "tags": []
   },
   "source": [
    "Let's try it. Our loss will print at the end of every step, so we hope we'll see it going down:"
   ]
  },
  {
   "cell_type": "code",
   "execution_count": 41,
   "id": "eb7ca0cf",
   "metadata": {
    "execution": {
     "iopub.execute_input": "2023-04-08T20:16:47.748801Z",
     "iopub.status.busy": "2023-04-08T20:16:47.748015Z",
     "iopub.status.idle": "2023-04-08T20:16:47.762970Z",
     "shell.execute_reply": "2023-04-08T20:16:47.761873Z"
    },
    "papermill": {
     "duration": 0.147511,
     "end_time": "2023-04-08T20:16:47.765254",
     "exception": false,
     "start_time": "2023-04-08T20:16:47.617743",
     "status": "completed"
    },
    "tags": []
   },
   "outputs": [
    {
     "name": "stdout",
     "output_type": "stream",
     "text": [
      "0.536; 0.502; 0.477; 0.454; 0.431; 0.409; 0.388; 0.367; 0.349; 0.336; 0.330; 0.326; 0.329; 0.304; 0.314; 0.296; 0.300; 0.289; "
     ]
    }
   ],
   "source": [
    "coeffs = train_model(18, lr=0.2)"
   ]
  },
  {
   "cell_type": "markdown",
   "id": "16dfb2f8",
   "metadata": {
    "papermill": {
     "duration": 0.130232,
     "end_time": "2023-04-08T20:16:48.050869",
     "exception": false,
     "start_time": "2023-04-08T20:16:47.920637",
     "status": "completed"
    },
    "tags": []
   },
   "source": [
    "It does!\n",
    "\n",
    "Let's take a look at the coefficients for each column:"
   ]
  },
  {
   "cell_type": "code",
   "execution_count": 42,
   "id": "9d92bbbb",
   "metadata": {
    "execution": {
     "iopub.execute_input": "2023-04-08T20:16:48.387085Z",
     "iopub.status.busy": "2023-04-08T20:16:48.386494Z",
     "iopub.status.idle": "2023-04-08T20:16:48.396660Z",
     "shell.execute_reply": "2023-04-08T20:16:48.395670Z"
    },
    "papermill": {
     "duration": 0.208889,
     "end_time": "2023-04-08T20:16:48.398760",
     "exception": false,
     "start_time": "2023-04-08T20:16:48.189871",
     "status": "completed"
    },
    "tags": []
   },
   "outputs": [
    {
     "data": {
      "text/plain": [
       "{'Age': tensor(-0.2694),\n",
       " 'SibSp': tensor(0.0901),\n",
       " 'Parch': tensor(0.2359),\n",
       " 'LogFare': tensor(0.0280),\n",
       " 'Sex_male': tensor(-0.3990),\n",
       " 'Sex_female': tensor(0.2345),\n",
       " 'Pclass_1': tensor(0.7232),\n",
       " 'Pclass_2': tensor(0.4112),\n",
       " 'Pclass_3': tensor(0.3601),\n",
       " 'Embarked_C': tensor(0.0955),\n",
       " 'Embarked_Q': tensor(0.2395),\n",
       " 'Embarked_S': tensor(0.2122)}"
      ]
     },
     "execution_count": 42,
     "metadata": {},
     "output_type": "execute_result"
    }
   ],
   "source": [
    "def show_coeffs(): \n",
    "    return dict(zip(indep_cols, coeffs.requires_grad_(False)))\n",
    "show_coeffs()"
   ]
  },
  {
   "cell_type": "markdown",
   "id": "6d29a0ed",
   "metadata": {
    "papermill": {
     "duration": 0.130147,
     "end_time": "2023-04-08T20:16:48.668447",
     "exception": false,
     "start_time": "2023-04-08T20:16:48.538300",
     "status": "completed"
    },
    "tags": []
   },
   "source": [
    "## Measuring accuracy"
   ]
  },
  {
   "cell_type": "markdown",
   "id": "350dfc50",
   "metadata": {
    "papermill": {
     "duration": 0.129876,
     "end_time": "2023-04-08T20:16:48.926097",
     "exception": false,
     "start_time": "2023-04-08T20:16:48.796221",
     "status": "completed"
    },
    "tags": []
   },
   "source": [
    "The Kaggle competition is not, however, scored by absolute error (which is our loss function). It's scored by *accuracy* -- the proportion of rows where we correctly predict survival. Let's see how accurate we were on the validation set. First, calculate the predictions:"
   ]
  },
  {
   "cell_type": "code",
   "execution_count": 43,
   "id": "4ff3f911",
   "metadata": {
    "execution": {
     "iopub.execute_input": "2023-04-08T20:16:49.187329Z",
     "iopub.status.busy": "2023-04-08T20:16:49.186699Z",
     "iopub.status.idle": "2023-04-08T20:16:49.191222Z",
     "shell.execute_reply": "2023-04-08T20:16:49.190639Z"
    },
    "papermill": {
     "duration": 0.138296,
     "end_time": "2023-04-08T20:16:49.193298",
     "exception": false,
     "start_time": "2023-04-08T20:16:49.055002",
     "status": "completed"
    },
    "tags": []
   },
   "outputs": [],
   "source": [
    "preds = calc_preds(coeffs, val_indep)"
   ]
  },
  {
   "cell_type": "markdown",
   "id": "60077fe5",
   "metadata": {
    "papermill": {
     "duration": 0.128423,
     "end_time": "2023-04-08T20:16:49.450851",
     "exception": false,
     "start_time": "2023-04-08T20:16:49.322428",
     "status": "completed"
    },
    "tags": []
   },
   "source": [
    "We'll assume that any passenger with a score of over `0.5` is predicted to survive. So that means we're correct for each row where `preds>0.5` is the same as the dependent variable:"
   ]
  },
  {
   "cell_type": "code",
   "execution_count": 44,
   "id": "ba5fe3d5",
   "metadata": {
    "execution": {
     "iopub.execute_input": "2023-04-08T20:16:49.711968Z",
     "iopub.status.busy": "2023-04-08T20:16:49.711055Z",
     "iopub.status.idle": "2023-04-08T20:16:49.718830Z",
     "shell.execute_reply": "2023-04-08T20:16:49.717892Z"
    },
    "papermill": {
     "duration": 0.140454,
     "end_time": "2023-04-08T20:16:49.721433",
     "exception": false,
     "start_time": "2023-04-08T20:16:49.580979",
     "status": "completed"
    },
    "tags": []
   },
   "outputs": [
    {
     "data": {
      "text/plain": [
       "tensor([ True,  True,  True,  True,  True,  True,  True,  True,  True,  True, False, False, False,  True,  True, False])"
      ]
     },
     "execution_count": 44,
     "metadata": {},
     "output_type": "execute_result"
    }
   ],
   "source": [
    "results = val_dep.bool()==(preds>0.5)\n",
    "results[:16]"
   ]
  },
  {
   "cell_type": "markdown",
   "id": "d786500c",
   "metadata": {
    "papermill": {
     "duration": 0.129639,
     "end_time": "2023-04-08T20:16:49.982184",
     "exception": false,
     "start_time": "2023-04-08T20:16:49.852545",
     "status": "completed"
    },
    "tags": []
   },
   "source": [
    "Let's see what our average accuracy is:"
   ]
  },
  {
   "cell_type": "code",
   "execution_count": 45,
   "id": "2c00acc6",
   "metadata": {
    "execution": {
     "iopub.execute_input": "2023-04-08T20:16:50.246703Z",
     "iopub.status.busy": "2023-04-08T20:16:50.246020Z",
     "iopub.status.idle": "2023-04-08T20:16:50.252614Z",
     "shell.execute_reply": "2023-04-08T20:16:50.251788Z"
    },
    "papermill": {
     "duration": 0.143387,
     "end_time": "2023-04-08T20:16:50.254475",
     "exception": false,
     "start_time": "2023-04-08T20:16:50.111088",
     "status": "completed"
    },
    "tags": []
   },
   "outputs": [
    {
     "data": {
      "text/plain": [
       "tensor(0.7865)"
      ]
     },
     "execution_count": 45,
     "metadata": {},
     "output_type": "execute_result"
    }
   ],
   "source": [
    "results.float().mean()"
   ]
  },
  {
   "cell_type": "markdown",
   "id": "f55ed304",
   "metadata": {
    "papermill": {
     "duration": 0.129784,
     "end_time": "2023-04-08T20:16:50.513407",
     "exception": false,
     "start_time": "2023-04-08T20:16:50.383623",
     "status": "completed"
    },
    "tags": []
   },
   "source": [
    "That's not a bad start at all! We'll create a function so we can calcuate the accuracy easy for other models we train:"
   ]
  },
  {
   "cell_type": "code",
   "execution_count": 46,
   "id": "618d940a",
   "metadata": {
    "execution": {
     "iopub.execute_input": "2023-04-08T20:16:50.776265Z",
     "iopub.status.busy": "2023-04-08T20:16:50.775703Z",
     "iopub.status.idle": "2023-04-08T20:16:50.783949Z",
     "shell.execute_reply": "2023-04-08T20:16:50.782671Z"
    },
    "papermill": {
     "duration": 0.143447,
     "end_time": "2023-04-08T20:16:50.786671",
     "exception": false,
     "start_time": "2023-04-08T20:16:50.643224",
     "status": "completed"
    },
    "tags": []
   },
   "outputs": [
    {
     "data": {
      "text/plain": [
       "tensor(0.7865)"
      ]
     },
     "execution_count": 46,
     "metadata": {},
     "output_type": "execute_result"
    }
   ],
   "source": [
    "def acc(coeffs): return (val_dep.bool()==(calc_preds(coeffs, val_indep)>0.5)).float().mean()\n",
    "acc(coeffs)"
   ]
  },
  {
   "cell_type": "markdown",
   "id": "55838531",
   "metadata": {
    "papermill": {
     "duration": 0.1318,
     "end_time": "2023-04-08T20:16:51.055138",
     "exception": false,
     "start_time": "2023-04-08T20:16:50.923338",
     "status": "completed"
    },
    "tags": []
   },
   "source": [
    "## Using sigmoid"
   ]
  },
  {
   "cell_type": "markdown",
   "id": "152569af",
   "metadata": {
    "papermill": {
     "duration": 0.130487,
     "end_time": "2023-04-08T20:16:51.319286",
     "exception": false,
     "start_time": "2023-04-08T20:16:51.188799",
     "status": "completed"
    },
    "tags": []
   },
   "source": [
    "Looking at our predictions, there's one obvious problem -- some of our predictions of the probability of survival are `>1`, and some are `<0`:"
   ]
  },
  {
   "cell_type": "code",
   "execution_count": 47,
   "id": "af267595",
   "metadata": {
    "execution": {
     "iopub.execute_input": "2023-04-08T20:16:51.581302Z",
     "iopub.status.busy": "2023-04-08T20:16:51.580991Z",
     "iopub.status.idle": "2023-04-08T20:16:51.588149Z",
     "shell.execute_reply": "2023-04-08T20:16:51.587437Z"
    },
    "papermill": {
     "duration": 0.141491,
     "end_time": "2023-04-08T20:16:51.590082",
     "exception": false,
     "start_time": "2023-04-08T20:16:51.448591",
     "status": "completed"
    },
    "tags": []
   },
   "outputs": [
    {
     "data": {
      "text/plain": [
       "tensor([ 0.8160,  0.1295, -0.0148,  0.1831,  0.1520,  0.1350,  0.7279,  0.7754,  0.3222,  0.6740,  0.0753,  0.0389,  0.2216,  0.7631,\n",
       "         0.0678,  0.3997,  0.3324,  0.8278,  0.1078,  0.7126,  0.1023,  0.3627,  0.9937,  0.8050,  0.1153,  0.1455,  0.8652,  0.3425])"
      ]
     },
     "execution_count": 47,
     "metadata": {},
     "output_type": "execute_result"
    }
   ],
   "source": [
    "preds[:28]"
   ]
  },
  {
   "cell_type": "markdown",
   "id": "f2380107",
   "metadata": {
    "papermill": {
     "duration": 0.134337,
     "end_time": "2023-04-08T20:16:51.854285",
     "exception": false,
     "start_time": "2023-04-08T20:16:51.719948",
     "status": "completed"
    },
    "tags": []
   },
   "source": [
    "To fix this, we should pass every prediction through the *sigmoid function*, which has a minimum at zero and maximum at one, and is defined as follows:"
   ]
  },
  {
   "cell_type": "code",
   "execution_count": 48,
   "id": "665c88ba",
   "metadata": {
    "execution": {
     "iopub.execute_input": "2023-04-08T20:16:52.121601Z",
     "iopub.status.busy": "2023-04-08T20:16:52.121037Z",
     "iopub.status.idle": "2023-04-08T20:16:53.332408Z",
     "shell.execute_reply": "2023-04-08T20:16:53.331144Z"
    },
    "papermill": {
     "duration": 1.349821,
     "end_time": "2023-04-08T20:16:53.336792",
     "exception": false,
     "start_time": "2023-04-08T20:16:51.986971",
     "status": "completed"
    },
    "tags": []
   },
   "outputs": [
    {
     "data": {
      "image/png": "[encoded data removed]",
      "text/plain": [
       "<Figure size 432x288 with 1 Axes>"
      ]
     },
     "metadata": {
      "needs_background": "light"
     },
     "output_type": "display_data"
    }
   ],
   "source": [
    "import sympy\n",
    "sympy.plot(\"1/(1+exp(-x))\", xlim=(-5,5));"
   ]
  },
  {
   "cell_type": "markdown",
   "id": "48d3a808",
   "metadata": {
    "papermill": {
     "duration": 0.133162,
     "end_time": "2023-04-08T20:16:53.607963",
     "exception": false,
     "start_time": "2023-04-08T20:16:53.474801",
     "status": "completed"
    },
    "tags": []
   },
   "source": [
    "PyTorch already defines that function for us, so we can modify `calc_preds` to use it:"
   ]
  },
  {
   "cell_type": "code",
   "execution_count": 49,
   "id": "5f04aac2",
   "metadata": {
    "execution": {
     "iopub.execute_input": "2023-04-08T20:16:53.873553Z",
     "iopub.status.busy": "2023-04-08T20:16:53.872436Z",
     "iopub.status.idle": "2023-04-08T20:16:53.877252Z",
     "shell.execute_reply": "2023-04-08T20:16:53.876659Z"
    },
    "papermill": {
     "duration": 0.13916,
     "end_time": "2023-04-08T20:16:53.879189",
     "exception": false,
     "start_time": "2023-04-08T20:16:53.740029",
     "status": "completed"
    },
    "tags": []
   },
   "outputs": [],
   "source": [
    "def calc_preds(coeffs, indeps): \n",
    "    return torch.sigmoid((indeps*coeffs).sum(axis=1))"
   ]
  },
  {
   "cell_type": "markdown",
   "id": "5891f1ac",
   "metadata": {
    "papermill": {
     "duration": 0.129335,
     "end_time": "2023-04-08T20:16:54.137535",
     "exception": false,
     "start_time": "2023-04-08T20:16:54.008200",
     "status": "completed"
    },
    "tags": []
   },
   "source": [
    "Let's train a new model now, using this updated function to calculate predictions:"
   ]
  },
  {
   "cell_type": "code",
   "execution_count": 50,
   "id": "79bcdbc0",
   "metadata": {
    "execution": {
     "iopub.execute_input": "2023-04-08T20:16:54.402728Z",
     "iopub.status.busy": "2023-04-08T20:16:54.402391Z",
     "iopub.status.idle": "2023-04-08T20:16:54.427278Z",
     "shell.execute_reply": "2023-04-08T20:16:54.426222Z"
    },
    "papermill": {
     "duration": 0.160859,
     "end_time": "2023-04-08T20:16:54.429779",
     "exception": false,
     "start_time": "2023-04-08T20:16:54.268920",
     "status": "completed"
    },
    "tags": []
   },
   "outputs": [
    {
     "name": "stdout",
     "output_type": "stream",
     "text": [
      "0.510; 0.327; 0.294; 0.207; 0.201; 0.199; 0.198; 0.197; 0.196; 0.196; 0.196; 0.195; 0.195; 0.195; 0.195; 0.195; 0.195; 0.195; 0.194; 0.194; 0.194; 0.194; 0.194; 0.194; 0.194; 0.194; 0.194; 0.194; 0.194; 0.194; "
     ]
    }
   ],
   "source": [
    "coeffs = train_model(lr=100)"
   ]
  },
  {
   "cell_type": "markdown",
   "id": "3aa9ef12",
   "metadata": {
    "papermill": {
     "duration": 0.133643,
     "end_time": "2023-04-08T20:16:54.695975",
     "exception": false,
     "start_time": "2023-04-08T20:16:54.562332",
     "status": "completed"
    },
    "tags": []
   },
   "source": [
    "The loss has improved by a lot. Let's check the accuracy:"
   ]
  },
  {
   "cell_type": "code",
   "execution_count": 51,
   "id": "b01ececa",
   "metadata": {
    "execution": {
     "iopub.execute_input": "2023-04-08T20:16:54.966299Z",
     "iopub.status.busy": "2023-04-08T20:16:54.965960Z",
     "iopub.status.idle": "2023-04-08T20:16:54.973716Z",
     "shell.execute_reply": "2023-04-08T20:16:54.972787Z"
    },
    "papermill": {
     "duration": 0.144586,
     "end_time": "2023-04-08T20:16:54.975888",
     "exception": false,
     "start_time": "2023-04-08T20:16:54.831302",
     "status": "completed"
    },
    "tags": []
   },
   "outputs": [
    {
     "data": {
      "text/plain": [
       "tensor(0.8258)"
      ]
     },
     "execution_count": 51,
     "metadata": {},
     "output_type": "execute_result"
    }
   ],
   "source": [
    "acc(coeffs)"
   ]
  },
  {
   "cell_type": "markdown",
   "id": "5e2e9461",
   "metadata": {
    "papermill": {
     "duration": 0.133121,
     "end_time": "2023-04-08T20:16:55.243516",
     "exception": false,
     "start_time": "2023-04-08T20:16:55.110395",
     "status": "completed"
    },
    "tags": []
   },
   "source": [
    "That's improved too! Here's the coefficients of our trained model:"
   ]
  },
  {
   "cell_type": "code",
   "execution_count": 52,
   "id": "3e3a5c28",
   "metadata": {
    "execution": {
     "iopub.execute_input": "2023-04-08T20:16:55.518599Z",
     "iopub.status.busy": "2023-04-08T20:16:55.517418Z",
     "iopub.status.idle": "2023-04-08T20:16:55.528343Z",
     "shell.execute_reply": "2023-04-08T20:16:55.527684Z"
    },
    "papermill": {
     "duration": 0.148225,
     "end_time": "2023-04-08T20:16:55.530432",
     "exception": false,
     "start_time": "2023-04-08T20:16:55.382207",
     "status": "completed"
    },
    "tags": []
   },
   "outputs": [
    {
     "data": {
      "text/plain": [
       "{'Age': tensor(-1.5061),\n",
       " 'SibSp': tensor(-1.1575),\n",
       " 'Parch': tensor(-0.4267),\n",
       " 'LogFare': tensor(0.2543),\n",
       " 'Sex_male': tensor(-10.3320),\n",
       " 'Sex_female': tensor(8.4185),\n",
       " 'Pclass_1': tensor(3.8389),\n",
       " 'Pclass_2': tensor(2.1398),\n",
       " 'Pclass_3': tensor(-6.2331),\n",
       " 'Embarked_C': tensor(1.4771),\n",
       " 'Embarked_Q': tensor(2.1168),\n",
       " 'Embarked_S': tensor(-4.7958)}"
      ]
     },
     "execution_count": 52,
     "metadata": {},
     "output_type": "execute_result"
    }
   ],
   "source": [
    "show_coeffs()"
   ]
  },
  {
   "cell_type": "markdown",
   "id": "d6e42376",
   "metadata": {
    "papermill": {
     "duration": 0.134149,
     "end_time": "2023-04-08T20:16:55.798566",
     "exception": false,
     "start_time": "2023-04-08T20:16:55.664417",
     "status": "completed"
    },
    "tags": []
   },
   "source": [
    "These coefficients seem reasonable -- in general, older people and males were less likely to survive, and first class passengers were more likely to survive."
   ]
  },
  {
   "cell_type": "markdown",
   "id": "94e6c413",
   "metadata": {
    "papermill": {
     "duration": 0.134434,
     "end_time": "2023-04-08T20:16:56.065987",
     "exception": false,
     "start_time": "2023-04-08T20:16:55.931553",
     "status": "completed"
    },
    "tags": []
   },
   "source": [
    "## Submitting to Kaggle"
   ]
  },
  {
   "cell_type": "markdown",
   "id": "ccd7d777",
   "metadata": {
    "papermill": {
     "duration": 0.139037,
     "end_time": "2023-04-08T20:16:56.338231",
     "exception": false,
     "start_time": "2023-04-08T20:16:56.199194",
     "status": "completed"
    },
    "tags": []
   },
   "source": [
    "Now that we've got a trained model, we can prepare a submission to Kaggle. To do that, first we need to read the test set:"
   ]
  },
  {
   "cell_type": "code",
   "execution_count": 53,
   "id": "ec51621e",
   "metadata": {
    "execution": {
     "iopub.execute_input": "2023-04-08T20:16:56.604530Z",
     "iopub.status.busy": "2023-04-08T20:16:56.603900Z",
     "iopub.status.idle": "2023-04-08T20:16:56.628076Z",
     "shell.execute_reply": "2023-04-08T20:16:56.627294Z"
    },
    "papermill": {
     "duration": 0.16028,
     "end_time": "2023-04-08T20:16:56.630388",
     "exception": false,
     "start_time": "2023-04-08T20:16:56.470108",
     "status": "completed"
    },
    "tags": []
   },
   "outputs": [
    {
     "data": {
      "text/html": [
       "<div>\n",
       "<style scoped>\n",
       "    .dataframe tbody tr th:only-of-type {\n",
       "        vertical-align: middle;\n",
       "    }\n",
       "\n",
       "    .dataframe tbody tr th {\n",
       "        vertical-align: top;\n",
       "    }\n",
       "\n",
       "    .dataframe thead th {\n",
       "        text-align: right;\n",
       "    }\n",
       "</style>\n",
       "<table border=\"1\" class=\"dataframe\">\n",
       "  <thead>\n",
       "    <tr style=\"text-align: right;\">\n",
       "      <th></th>\n",
       "      <th>PassengerId</th>\n",
       "      <th>Pclass</th>\n",
       "      <th>Name</th>\n",
       "      <th>Sex</th>\n",
       "      <th>Age</th>\n",
       "      <th>SibSp</th>\n",
       "      <th>Parch</th>\n",
       "      <th>Ticket</th>\n",
       "      <th>Fare</th>\n",
       "      <th>Cabin</th>\n",
       "      <th>Embarked</th>\n",
       "    </tr>\n",
       "  </thead>\n",
       "  <tbody>\n",
       "    <tr>\n",
       "      <th>0</th>\n",
       "      <td>892</td>\n",
       "      <td>3</td>\n",
       "      <td>Kelly, Mr. James</td>\n",
       "      <td>male</td>\n",
       "      <td>34.5</td>\n",
       "      <td>0</td>\n",
       "      <td>0</td>\n",
       "      <td>330911</td>\n",
       "      <td>7.8292</td>\n",
       "      <td>NaN</td>\n",
       "      <td>Q</td>\n",
       "    </tr>\n",
       "    <tr>\n",
       "      <th>1</th>\n",
       "      <td>893</td>\n",
       "      <td>3</td>\n",
       "      <td>Wilkes, Mrs. James (Ellen Needs)</td>\n",
       "      <td>female</td>\n",
       "      <td>47.0</td>\n",
       "      <td>1</td>\n",
       "      <td>0</td>\n",
       "      <td>363272</td>\n",
       "      <td>7.0000</td>\n",
       "      <td>NaN</td>\n",
       "      <td>S</td>\n",
       "    </tr>\n",
       "    <tr>\n",
       "      <th>2</th>\n",
       "      <td>894</td>\n",
       "      <td>2</td>\n",
       "      <td>Myles, Mr. Thomas Francis</td>\n",
       "      <td>male</td>\n",
       "      <td>62.0</td>\n",
       "      <td>0</td>\n",
       "      <td>0</td>\n",
       "      <td>240276</td>\n",
       "      <td>9.6875</td>\n",
       "      <td>NaN</td>\n",
       "      <td>Q</td>\n",
       "    </tr>\n",
       "    <tr>\n",
       "      <th>3</th>\n",
       "      <td>895</td>\n",
       "      <td>3</td>\n",
       "      <td>Wirz, Mr. Albert</td>\n",
       "      <td>male</td>\n",
       "      <td>27.0</td>\n",
       "      <td>0</td>\n",
       "      <td>0</td>\n",
       "      <td>315154</td>\n",
       "      <td>8.6625</td>\n",
       "      <td>NaN</td>\n",
       "      <td>S</td>\n",
       "    </tr>\n",
       "    <tr>\n",
       "      <th>4</th>\n",
       "      <td>896</td>\n",
       "      <td>3</td>\n",
       "      <td>Hirvonen, Mrs. Alexander (Helga E Lindqvist)</td>\n",
       "      <td>female</td>\n",
       "      <td>22.0</td>\n",
       "      <td>1</td>\n",
       "      <td>1</td>\n",
       "      <td>3101298</td>\n",
       "      <td>12.2875</td>\n",
       "      <td>NaN</td>\n",
       "      <td>S</td>\n",
       "    </tr>\n",
       "  </tbody>\n",
       "</table>\n",
       "</div>"
      ],
      "text/plain": [
       "   PassengerId  Pclass                                          Name     Sex   Age  SibSp  Parch   Ticket     Fare Cabin Embarked\n",
       "0          892       3                              Kelly, Mr. James    male  34.5      0      0   330911   7.8292   NaN        Q\n",
       "1          893       3              Wilkes, Mrs. James (Ellen Needs)  female  47.0      1      0   363272   7.0000   NaN        S\n",
       "2          894       2                     Myles, Mr. Thomas Francis    male  62.0      0      0   240276   9.6875   NaN        Q\n",
       "3          895       3                              Wirz, Mr. Albert    male  27.0      0      0   315154   8.6625   NaN        S\n",
       "4          896       3  Hirvonen, Mrs. Alexander (Helga E Lindqvist)  female  22.0      1      1  3101298  12.2875   NaN        S"
      ]
     },
     "execution_count": 53,
     "metadata": {},
     "output_type": "execute_result"
    }
   ],
   "source": [
    "tst_df = pd.read_csv(path/'test.csv')\n",
    "tst_df.head()"
   ]
  },
  {
   "cell_type": "markdown",
   "id": "5d3f9ff6",
   "metadata": {
    "papermill": {
     "duration": 0.137527,
     "end_time": "2023-04-08T20:16:56.904585",
     "exception": false,
     "start_time": "2023-04-08T20:16:56.767058",
     "status": "completed"
    },
    "tags": []
   },
   "source": [
    "In this case, it turns out that the test set is missing `Fare` for one passenger. We'll just fill it with `0` to avoid problems:"
   ]
  },
  {
   "cell_type": "code",
   "execution_count": 54,
   "id": "d22b3ea2",
   "metadata": {
    "execution": {
     "iopub.execute_input": "2023-04-08T20:16:57.191064Z",
     "iopub.status.busy": "2023-04-08T20:16:57.190491Z",
     "iopub.status.idle": "2023-04-08T20:16:57.195724Z",
     "shell.execute_reply": "2023-04-08T20:16:57.194778Z"
    },
    "papermill": {
     "duration": 0.152849,
     "end_time": "2023-04-08T20:16:57.197974",
     "exception": false,
     "start_time": "2023-04-08T20:16:57.045125",
     "status": "completed"
    },
    "tags": []
   },
   "outputs": [],
   "source": [
    "tst_df['Fare'] = tst_df.Fare.fillna(0)"
   ]
  },
  {
   "cell_type": "markdown",
   "id": "2b70002b",
   "metadata": {
    "papermill": {
     "duration": 0.133129,
     "end_time": "2023-04-08T20:16:57.467948",
     "exception": false,
     "start_time": "2023-04-08T20:16:57.334819",
     "status": "completed"
    },
    "tags": []
   },
   "source": [
    "Now we can just copy the same steps we did to our training set and do the same exact things on our test set to preprocess the data:"
   ]
  },
  {
   "cell_type": "code",
   "execution_count": 55,
   "id": "6a813c86",
   "metadata": {
    "execution": {
     "iopub.execute_input": "2023-04-08T20:16:57.738784Z",
     "iopub.status.busy": "2023-04-08T20:16:57.738453Z",
     "iopub.status.idle": "2023-04-08T20:16:57.757203Z",
     "shell.execute_reply": "2023-04-08T20:16:57.755902Z"
    },
    "papermill": {
     "duration": 0.156048,
     "end_time": "2023-04-08T20:16:57.759683",
     "exception": false,
     "start_time": "2023-04-08T20:16:57.603635",
     "status": "completed"
    },
    "tags": []
   },
   "outputs": [],
   "source": [
    "tst_df.fillna(modes, inplace=True)\n",
    "tst_df['LogFare'] = np.log(tst_df['Fare']+1)\n",
    "tst_df = pd.get_dummies(tst_df, columns=[\"Sex\",\"Pclass\",\"Embarked\"])\n",
    "\n",
    "tst_indep = tensor(tst_df[indep_cols].values, dtype=torch.float)\n",
    "tst_indep = tst_indep / vals"
   ]
  },
  {
   "cell_type": "markdown",
   "id": "2ebdfa62",
   "metadata": {
    "papermill": {
     "duration": 0.134362,
     "end_time": "2023-04-08T20:16:58.028697",
     "exception": false,
     "start_time": "2023-04-08T20:16:57.894335",
     "status": "completed"
    },
    "tags": []
   },
   "source": [
    "Let's calculate our predictions of which passengers survived in the test set:"
   ]
  },
  {
   "cell_type": "code",
   "execution_count": 56,
   "id": "2043c7f0",
   "metadata": {
    "execution": {
     "iopub.execute_input": "2023-04-08T20:16:58.303601Z",
     "iopub.status.busy": "2023-04-08T20:16:58.303028Z",
     "iopub.status.idle": "2023-04-08T20:16:58.308732Z",
     "shell.execute_reply": "2023-04-08T20:16:58.307788Z"
    },
    "papermill": {
     "duration": 0.146884,
     "end_time": "2023-04-08T20:16:58.310922",
     "exception": false,
     "start_time": "2023-04-08T20:16:58.164038",
     "status": "completed"
    },
    "tags": []
   },
   "outputs": [],
   "source": [
    "tst_df['Survived'] = (calc_preds(tst_indep, coeffs)>0.5).int()"
   ]
  },
  {
   "cell_type": "markdown",
   "id": "c9c347af",
   "metadata": {
    "papermill": {
     "duration": 0.135892,
     "end_time": "2023-04-08T20:16:58.582988",
     "exception": false,
     "start_time": "2023-04-08T20:16:58.447096",
     "status": "completed"
    },
    "tags": []
   },
   "source": [
    "The sample submission on the Kaggle competition site shows that we're expected to upload a CSV with just `PassengerId` and `Survived`, so let's create that and save it:"
   ]
  },
  {
   "cell_type": "code",
   "execution_count": 57,
   "id": "244496bd",
   "metadata": {
    "execution": {
     "iopub.execute_input": "2023-04-08T20:16:58.856650Z",
     "iopub.status.busy": "2023-04-08T20:16:58.856335Z",
     "iopub.status.idle": "2023-04-08T20:16:58.867066Z",
     "shell.execute_reply": "2023-04-08T20:16:58.866046Z"
    },
    "papermill": {
     "duration": 0.149836,
     "end_time": "2023-04-08T20:16:58.869680",
     "exception": false,
     "start_time": "2023-04-08T20:16:58.719844",
     "status": "completed"
    },
    "tags": []
   },
   "outputs": [],
   "source": [
    "sub_df = tst_df[['PassengerId','Survived']]\n",
    "sub_df.to_csv('sub.csv', index=False)"
   ]
  },
  {
   "cell_type": "markdown",
   "id": "1cb96abc",
   "metadata": {
    "papermill": {
     "duration": 0.131778,
     "end_time": "2023-04-08T20:16:59.149465",
     "exception": false,
     "start_time": "2023-04-08T20:16:59.017687",
     "status": "completed"
    },
    "tags": []
   },
   "source": [
    "We can check the first few rows of the file to make sure it looks reasonable:"
   ]
  },
  {
   "cell_type": "code",
   "execution_count": 58,
   "id": "36b9e21f",
   "metadata": {
    "execution": {
     "iopub.execute_input": "2023-04-08T20:16:59.418457Z",
     "iopub.status.busy": "2023-04-08T20:16:59.418145Z",
     "iopub.status.idle": "2023-04-08T20:17:00.528886Z",
     "shell.execute_reply": "2023-04-08T20:17:00.527622Z"
    },
    "papermill": {
     "duration": 1.250106,
     "end_time": "2023-04-08T20:17:00.531621",
     "exception": false,
     "start_time": "2023-04-08T20:16:59.281515",
     "status": "completed"
    },
    "tags": []
   },
   "outputs": [
    {
     "name": "stdout",
     "output_type": "stream",
     "text": [
      "PassengerId,Survived\r\n",
      "892,0\r\n",
      "893,0\r\n",
      "894,0\r\n",
      "895,0\r\n",
      "896,0\r\n",
      "897,0\r\n",
      "898,1\r\n",
      "899,0\r\n",
      "900,1\r\n"
     ]
    }
   ],
   "source": [
    "!head sub.csv"
   ]
  },
  {
   "cell_type": "markdown",
   "id": "71af2145",
   "metadata": {
    "papermill": {
     "duration": 0.138145,
     "end_time": "2023-04-08T20:17:00.804131",
     "exception": false,
     "start_time": "2023-04-08T20:17:00.665986",
     "status": "completed"
    },
    "tags": []
   },
   "source": [
    "When you click \"save version\" in Kaggle, and wait for the notebook to run, you'll see that `sub.csv` appears in the \"Data\" tab. Clicking on that file will show a *Submit* button, which allows you to submit to the competition."
   ]
  },
  {
   "cell_type": "markdown",
   "id": "64c96f07",
   "metadata": {
    "papermill": {
     "duration": 0.135605,
     "end_time": "2023-04-08T20:17:01.074821",
     "exception": false,
     "start_time": "2023-04-08T20:17:00.939216",
     "status": "completed"
    },
    "tags": []
   },
   "source": [
    "## Using matrix product"
   ]
  },
  {
   "cell_type": "markdown",
   "id": "ee811d4c",
   "metadata": {
    "papermill": {
     "duration": 0.140042,
     "end_time": "2023-04-08T20:17:01.354113",
     "exception": false,
     "start_time": "2023-04-08T20:17:01.214071",
     "status": "completed"
    },
    "tags": []
   },
   "source": [
    "We can make things quite a bit neater...\n",
    "\n",
    "Take a look at the inner-most calculation we're doing to get the predictions:"
   ]
  },
  {
   "cell_type": "code",
   "execution_count": 59,
   "id": "b59837bd",
   "metadata": {
    "execution": {
     "iopub.execute_input": "2023-04-08T20:17:01.633287Z",
     "iopub.status.busy": "2023-04-08T20:17:01.632587Z",
     "iopub.status.idle": "2023-04-08T20:17:01.642925Z",
     "shell.execute_reply": "2023-04-08T20:17:01.641952Z"
    },
    "papermill": {
     "duration": 0.156709,
     "end_time": "2023-04-08T20:17:01.645505",
     "exception": false,
     "start_time": "2023-04-08T20:17:01.488796",
     "status": "completed"
    },
    "tags": []
   },
   "outputs": [
    {
     "data": {
      "text/plain": [
       "tensor([ 12.3288, -14.8119, -15.4540, -13.1513, -13.3512, -13.6469,   3.6248,   5.3429, -22.0878,   3.1233, -21.8742, -15.6421, -21.5504,\n",
       "          3.9393, -21.9190, -12.0010, -12.3775,   5.3550, -13.5880,  -3.1015, -21.7237, -12.2081,  12.9767,   4.7427, -21.6525, -14.9135,\n",
       "         -2.7433, -12.3210, -21.5886,   3.9387,   5.3890,  -3.6196, -21.6296, -21.8454,  12.2159,  -3.2275, -12.0289,  13.4560, -21.7230,\n",
       "         -3.1366, -13.2462, -21.7230, -13.6831,  13.3092, -21.6477,  -3.5868, -21.6854, -21.8316, -14.8158,  -2.9386,  -5.3103, -22.2384,\n",
       "        -22.1097, -21.7466, -13.3780, -13.4909, -14.8119, -22.0690, -21.6666, -21.7818,  -5.4439, -21.7407, -12.6551, -21.6671,   4.9238,\n",
       "        -11.5777, -13.3323, -21.9638, -15.3030,   5.0243, -21.7614,   3.1820, -13.4721, -21.7170, -11.6066, -21.5737, -21.7230, -11.9652,\n",
       "        -13.2382, -13.7599, -13.2170,  13.1347, -21.7049, -21.7268,   4.9207,  -7.3198,  -5.3081,   7.1065,  11.4948, -13.3135, -21.8723,\n",
       "        -21.7230,  13.3603, -15.5670,   3.4105,  -7.2857, -13.7197,   3.6909,   3.9763, -14.7227, -21.8268,   3.9387, -21.8743, -21.8367,\n",
       "        -11.8518, -13.6712, -21.8299,   4.9440,  -5.4471, -21.9666,   5.1333,  -3.2187, -11.6008,  13.7920, -21.7230,  12.6369,  -3.7268,\n",
       "        -14.8119, -22.0637,  12.9468, -22.1610,  -6.1827, -14.8119,  -3.2838, -15.4540, -11.6950,  -2.9926,  -3.0110, -21.5664, -13.8268,\n",
       "          7.3426, -21.8418,   5.0744,   5.2582,  13.3415, -21.6289, -13.9898, -21.8112,  -7.3316,   5.2296, -13.4453,  12.7891, -22.1235,\n",
       "        -14.9625,  -3.4339,   6.3089, -21.9839,   3.1968,   7.2400,   2.8558,  -3.1187,   3.7965,   5.4667, -15.1101, -15.0597, -22.9391,\n",
       "        -21.7230,  -3.0346, -13.5206, -21.7011,  13.4425,  -7.2690, -21.8335, -12.0582,  13.0489,   6.7993,   5.2160,   5.0794, -12.6957,\n",
       "        -12.1838,  -3.0873, -21.6070,   7.0744, -21.7170, -22.1001,   6.8159, -11.6002, -21.6310])"
      ]
     },
     "execution_count": 59,
     "metadata": {},
     "output_type": "execute_result"
    }
   ],
   "source": [
    "(val_indep*coeffs).sum(axis=1)"
   ]
  },
  {
   "cell_type": "markdown",
   "id": "08892fd9",
   "metadata": {
    "papermill": {
     "duration": 0.133614,
     "end_time": "2023-04-08T20:17:01.916153",
     "exception": false,
     "start_time": "2023-04-08T20:17:01.782539",
     "status": "completed"
    },
    "tags": []
   },
   "source": [
    "Multiplying elements together and then adding across rows is identical to doing a matrix-vector product! Python uses the `@` operator to indicate matrix products, and is supported by PyTorch tensors. Therefore, we can replicate the above calculate more simply like so:"
   ]
  },
  {
   "cell_type": "code",
   "execution_count": 60,
   "id": "3c962db3",
   "metadata": {
    "execution": {
     "iopub.execute_input": "2023-04-08T20:17:02.189222Z",
     "iopub.status.busy": "2023-04-08T20:17:02.188910Z",
     "iopub.status.idle": "2023-04-08T20:17:02.203594Z",
     "shell.execute_reply": "2023-04-08T20:17:02.202866Z"
    },
    "papermill": {
     "duration": 0.153597,
     "end_time": "2023-04-08T20:17:02.205708",
     "exception": false,
     "start_time": "2023-04-08T20:17:02.052111",
     "status": "completed"
    },
    "tags": []
   },
   "outputs": [
    {
     "data": {
      "text/plain": [
       "tensor([ 12.3288, -14.8119, -15.4540, -13.1513, -13.3511, -13.6468,   3.6248,   5.3429, -22.0878,   3.1233, -21.8742, -15.6421, -21.5504,\n",
       "          3.9393, -21.9190, -12.0010, -12.3775,   5.3550, -13.5880,  -3.1015, -21.7237, -12.2081,  12.9767,   4.7427, -21.6525, -14.9135,\n",
       "         -2.7433, -12.3210, -21.5886,   3.9387,   5.3890,  -3.6196, -21.6296, -21.8454,  12.2159,  -3.2275, -12.0289,  13.4560, -21.7230,\n",
       "         -3.1366, -13.2462, -21.7230, -13.6831,  13.3092, -21.6477,  -3.5868, -21.6854, -21.8316, -14.8158,  -2.9386,  -5.3103, -22.2384,\n",
       "        -22.1097, -21.7466, -13.3780, -13.4909, -14.8119, -22.0690, -21.6666, -21.7818,  -5.4439, -21.7407, -12.6551, -21.6671,   4.9238,\n",
       "        -11.5777, -13.3323, -21.9638, -15.3030,   5.0243, -21.7614,   3.1820, -13.4721, -21.7170, -11.6066, -21.5737, -21.7230, -11.9652,\n",
       "        -13.2382, -13.7599, -13.2170,  13.1347, -21.7049, -21.7268,   4.9207,  -7.3198,  -5.3081,   7.1065,  11.4948, -13.3135, -21.8723,\n",
       "        -21.7230,  13.3603, -15.5670,   3.4105,  -7.2857, -13.7197,   3.6909,   3.9763, -14.7227, -21.8268,   3.9387, -21.8743, -21.8367,\n",
       "        -11.8518, -13.6712, -21.8299,   4.9440,  -5.4471, -21.9666,   5.1333,  -3.2187, -11.6008,  13.7920, -21.7230,  12.6369,  -3.7268,\n",
       "        -14.8119, -22.0637,  12.9468, -22.1610,  -6.1827, -14.8119,  -3.2838, -15.4540, -11.6950,  -2.9926,  -3.0110, -21.5664, -13.8268,\n",
       "          7.3426, -21.8418,   5.0744,   5.2582,  13.3415, -21.6289, -13.9898, -21.8112,  -7.3316,   5.2296, -13.4453,  12.7891, -22.1235,\n",
       "        -14.9625,  -3.4339,   6.3089, -21.9839,   3.1968,   7.2400,   2.8558,  -3.1187,   3.7965,   5.4667, -15.1101, -15.0597, -22.9391,\n",
       "        -21.7230,  -3.0346, -13.5206, -21.7011,  13.4425,  -7.2690, -21.8335, -12.0582,  13.0489,   6.7993,   5.2160,   5.0794, -12.6957,\n",
       "        -12.1838,  -3.0873, -21.6070,   7.0744, -21.7170, -22.1001,   6.8159, -11.6002, -21.6310])"
      ]
     },
     "execution_count": 60,
     "metadata": {},
     "output_type": "execute_result"
    }
   ],
   "source": [
    "val_indep@coeffs"
   ]
  },
  {
   "cell_type": "markdown",
   "id": "0a9833cf",
   "metadata": {
    "papermill": {
     "duration": 0.135655,
     "end_time": "2023-04-08T20:17:02.476855",
     "exception": false,
     "start_time": "2023-04-08T20:17:02.341200",
     "status": "completed"
    },
    "tags": []
   },
   "source": [
    "It also turns out that this is much faster, because matrix products in PyTorch are very highly optimised.\n",
    "\n",
    "Let's use this to replace how `calc_preds` works:"
   ]
  },
  {
   "cell_type": "code",
   "execution_count": 61,
   "id": "d5a9d9f8",
   "metadata": {
    "execution": {
     "iopub.execute_input": "2023-04-08T20:17:02.751478Z",
     "iopub.status.busy": "2023-04-08T20:17:02.751122Z",
     "iopub.status.idle": "2023-04-08T20:17:02.755559Z",
     "shell.execute_reply": "2023-04-08T20:17:02.754586Z"
    },
    "papermill": {
     "duration": 0.144959,
     "end_time": "2023-04-08T20:17:02.757666",
     "exception": false,
     "start_time": "2023-04-08T20:17:02.612707",
     "status": "completed"
    },
    "tags": []
   },
   "outputs": [],
   "source": [
    "def calc_preds(coeffs, indeps): \n",
    "    return torch.sigmoid(indeps@coeffs)"
   ]
  },
  {
   "cell_type": "markdown",
   "id": "8d8b2fde",
   "metadata": {
    "papermill": {
     "duration": 0.13368,
     "end_time": "2023-04-08T20:17:03.026688",
     "exception": false,
     "start_time": "2023-04-08T20:17:02.893008",
     "status": "completed"
    },
    "tags": []
   },
   "source": [
    "In order to do matrix-matrix products (which we'll need in the next section), we need to turn `coeffs` into a column vector (i.e. a matrix with a single column), which we can do by passing a second argument `1` to `torch.rand()`, indicating that we want our coefficients to have one column:"
   ]
  },
  {
   "cell_type": "code",
   "execution_count": 62,
   "id": "de068984",
   "metadata": {
    "execution": {
     "iopub.execute_input": "2023-04-08T20:17:03.304397Z",
     "iopub.status.busy": "2023-04-08T20:17:03.303523Z",
     "iopub.status.idle": "2023-04-08T20:17:03.308425Z",
     "shell.execute_reply": "2023-04-08T20:17:03.307606Z"
    },
    "papermill": {
     "duration": 0.149691,
     "end_time": "2023-04-08T20:17:03.310499",
     "exception": false,
     "start_time": "2023-04-08T20:17:03.160808",
     "status": "completed"
    },
    "tags": []
   },
   "outputs": [],
   "source": [
    "def init_coeffs(): \n",
    "    return (torch.rand(n_coeff, 1)*0.1).requires_grad_()"
   ]
  },
  {
   "cell_type": "markdown",
   "id": "3887f4ec",
   "metadata": {
    "papermill": {
     "duration": 0.13633,
     "end_time": "2023-04-08T20:17:03.591417",
     "exception": false,
     "start_time": "2023-04-08T20:17:03.455087",
     "status": "completed"
    },
    "tags": []
   },
   "source": [
    "We'll also need to turn our dependent variable into a column vector, which we can do by indexing the column dimension with the special value `None`, which tells PyTorch to add a new dimension in this position:"
   ]
  },
  {
   "cell_type": "code",
   "execution_count": 63,
   "id": "2b985b3b",
   "metadata": {
    "execution": {
     "iopub.execute_input": "2023-04-08T20:17:03.870635Z",
     "iopub.status.busy": "2023-04-08T20:17:03.869563Z",
     "iopub.status.idle": "2023-04-08T20:17:03.874152Z",
     "shell.execute_reply": "2023-04-08T20:17:03.873439Z"
    },
    "papermill": {
     "duration": 0.145235,
     "end_time": "2023-04-08T20:17:03.876150",
     "exception": false,
     "start_time": "2023-04-08T20:17:03.730915",
     "status": "completed"
    },
    "tags": []
   },
   "outputs": [],
   "source": [
    "trn_dep = trn_dep[:,None]\n",
    "val_dep = val_dep[:,None]"
   ]
  },
  {
   "cell_type": "markdown",
   "id": "61ac4c1a",
   "metadata": {
    "papermill": {
     "duration": 0.134007,
     "end_time": "2023-04-08T20:17:04.146031",
     "exception": false,
     "start_time": "2023-04-08T20:17:04.012024",
     "status": "completed"
    },
    "tags": []
   },
   "source": [
    "We can now train our model as before and confirm we get identical outputs...:"
   ]
  },
  {
   "cell_type": "code",
   "execution_count": 64,
   "id": "2c8c4959",
   "metadata": {
    "execution": {
     "iopub.execute_input": "2023-04-08T20:17:04.420795Z",
     "iopub.status.busy": "2023-04-08T20:17:04.420296Z",
     "iopub.status.idle": "2023-04-08T20:17:04.443247Z",
     "shell.execute_reply": "2023-04-08T20:17:04.442597Z"
    },
    "papermill": {
     "duration": 0.163336,
     "end_time": "2023-04-08T20:17:04.445192",
     "exception": false,
     "start_time": "2023-04-08T20:17:04.281856",
     "status": "completed"
    },
    "tags": []
   },
   "outputs": [
    {
     "name": "stdout",
     "output_type": "stream",
     "text": [
      "0.512; 0.323; 0.290; 0.205; 0.200; 0.198; 0.197; 0.197; 0.196; 0.196; 0.196; 0.195; 0.195; 0.195; 0.195; 0.195; 0.195; 0.194; 0.194; 0.194; 0.194; 0.194; 0.194; 0.194; 0.194; 0.194; 0.194; 0.194; 0.194; 0.194; "
     ]
    }
   ],
   "source": [
    "coeffs = train_model(lr=100)"
   ]
  },
  {
   "cell_type": "markdown",
   "id": "5e94f762",
   "metadata": {
    "papermill": {
     "duration": 0.140847,
     "end_time": "2023-04-08T20:17:04.721809",
     "exception": false,
     "start_time": "2023-04-08T20:17:04.580962",
     "status": "completed"
    },
    "tags": []
   },
   "source": [
    "...and identical accuracy:"
   ]
  },
  {
   "cell_type": "code",
   "execution_count": 65,
   "id": "caddd0a5",
   "metadata": {
    "execution": {
     "iopub.execute_input": "2023-04-08T20:17:05.000683Z",
     "iopub.status.busy": "2023-04-08T20:17:04.999736Z",
     "iopub.status.idle": "2023-04-08T20:17:05.009059Z",
     "shell.execute_reply": "2023-04-08T20:17:05.007981Z"
    },
    "papermill": {
     "duration": 0.148589,
     "end_time": "2023-04-08T20:17:05.011453",
     "exception": false,
     "start_time": "2023-04-08T20:17:04.862864",
     "status": "completed"
    },
    "tags": []
   },
   "outputs": [
    {
     "data": {
      "text/plain": [
       "tensor(0.8258)"
      ]
     },
     "execution_count": 65,
     "metadata": {},
     "output_type": "execute_result"
    }
   ],
   "source": [
    "acc(coeffs)"
   ]
  },
  {
   "cell_type": "markdown",
   "id": "44658d05",
   "metadata": {
    "papermill": {
     "duration": 0.137191,
     "end_time": "2023-04-08T20:17:05.284343",
     "exception": false,
     "start_time": "2023-04-08T20:17:05.147152",
     "status": "completed"
    },
    "tags": []
   },
   "source": [
    "## A neural network"
   ]
  },
  {
   "cell_type": "markdown",
   "id": "c0e33aba",
   "metadata": {
    "papermill": {
     "duration": 0.134417,
     "end_time": "2023-04-08T20:17:05.556658",
     "exception": false,
     "start_time": "2023-04-08T20:17:05.422241",
     "status": "completed"
    },
    "tags": []
   },
   "source": [
    "We've now got what we need to implement our neural network.\n",
    "\n",
    "First, we'll need to create coefficients for each of our layers. Our first set of coefficients will take our `n_coeff` inputs, and create `n_hidden` outputs. We can choose whatever `n_hidden` we like -- a higher number gives our network more flexibility, but makes it slower and harder to train. So we need a matrix of size `n_coeff` by `n_hidden`. We'll divide these coefficients by `n_hidden` so that when we sum them up in the next layer we'll end up with similar magnitude numbers to what we started with.\n",
    "\n",
    "Then our second layer will need to take the `n_hidden` inputs and create a single output, so that means we need a `n_hidden` by `1` matrix there. The second layer will also need a constant term added."
   ]
  },
  {
   "cell_type": "code",
   "execution_count": 66,
   "id": "e11f215d",
   "metadata": {
    "execution": {
     "iopub.execute_input": "2023-04-08T20:17:05.839575Z",
     "iopub.status.busy": "2023-04-08T20:17:05.838947Z",
     "iopub.status.idle": "2023-04-08T20:17:05.845084Z",
     "shell.execute_reply": "2023-04-08T20:17:05.844448Z"
    },
    "papermill": {
     "duration": 0.151895,
     "end_time": "2023-04-08T20:17:05.847720",
     "exception": false,
     "start_time": "2023-04-08T20:17:05.695825",
     "status": "completed"
    },
    "tags": []
   },
   "outputs": [],
   "source": [
    "def init_coeffs(n_hidden=20):\n",
    "    layer1 = (torch.rand(n_coeff, n_hidden)-0.5)/n_hidden\n",
    "    layer2 = torch.rand(n_hidden, 1)-0.3\n",
    "    const = torch.rand(1)[0]\n",
    "    return layer1.requires_grad_(),layer2.requires_grad_(),const.requires_grad_()"
   ]
  },
  {
   "cell_type": "markdown",
   "id": "cb2ff7cb",
   "metadata": {
    "papermill": {
     "duration": 0.138359,
     "end_time": "2023-04-08T20:17:06.127342",
     "exception": false,
     "start_time": "2023-04-08T20:17:05.988983",
     "status": "completed"
    },
    "tags": []
   },
   "source": [
    "Now we have our coefficients, we can create our neural net. The key steps are the two matrix products, `indeps@l1` and `res@l2` (where `res` is the output of the first layer). The first layer output is passed to `F.relu` (that's our non-linearity), and the second is passed to `torch.sigmoid` as before."
   ]
  },
  {
   "cell_type": "code",
   "execution_count": 67,
   "id": "c6bf8492",
   "metadata": {
    "execution": {
     "iopub.execute_input": "2023-04-08T20:17:06.402584Z",
     "iopub.status.busy": "2023-04-08T20:17:06.401962Z",
     "iopub.status.idle": "2023-04-08T20:17:06.407111Z",
     "shell.execute_reply": "2023-04-08T20:17:06.405986Z"
    },
    "papermill": {
     "duration": 0.146215,
     "end_time": "2023-04-08T20:17:06.409510",
     "exception": false,
     "start_time": "2023-04-08T20:17:06.263295",
     "status": "completed"
    },
    "tags": []
   },
   "outputs": [],
   "source": [
    "import torch.nn.functional as F\n",
    "\n",
    "def calc_preds(coeffs, indeps):\n",
    "    l1,l2,const = coeffs\n",
    "    res = F.relu(indeps@l1)\n",
    "    res = res@l2 + const\n",
    "    return torch.sigmoid(res)"
   ]
  },
  {
   "cell_type": "markdown",
   "id": "c30a5cc6",
   "metadata": {
    "papermill": {
     "duration": 0.142102,
     "end_time": "2023-04-08T20:17:06.687348",
     "exception": false,
     "start_time": "2023-04-08T20:17:06.545246",
     "status": "completed"
    },
    "tags": []
   },
   "source": [
    "Finally, now that we have more than one set of coefficients, we need to add a loop to update each one:"
   ]
  },
  {
   "cell_type": "code",
   "execution_count": 68,
   "id": "bba54ec3",
   "metadata": {
    "execution": {
     "iopub.execute_input": "2023-04-08T20:17:06.965393Z",
     "iopub.status.busy": "2023-04-08T20:17:06.965045Z",
     "iopub.status.idle": "2023-04-08T20:17:06.970628Z",
     "shell.execute_reply": "2023-04-08T20:17:06.969547Z"
    },
    "papermill": {
     "duration": 0.148414,
     "end_time": "2023-04-08T20:17:06.973164",
     "exception": false,
     "start_time": "2023-04-08T20:17:06.824750",
     "status": "completed"
    },
    "tags": []
   },
   "outputs": [],
   "source": [
    "def update_coeffs(coeffs, lr):\n",
    "    for layer in coeffs:\n",
    "        layer.sub_(layer.grad * lr)\n",
    "        layer.grad.zero_()"
   ]
  },
  {
   "cell_type": "markdown",
   "id": "04cf00a7",
   "metadata": {
    "papermill": {
     "duration": 0.136445,
     "end_time": "2023-04-08T20:17:07.251999",
     "exception": false,
     "start_time": "2023-04-08T20:17:07.115554",
     "status": "completed"
    },
    "tags": []
   },
   "source": [
    "That's it -- we're now ready to train our model!"
   ]
  },
  {
   "cell_type": "code",
   "execution_count": 69,
   "id": "196ce405",
   "metadata": {
    "execution": {
     "iopub.execute_input": "2023-04-08T20:17:07.534178Z",
     "iopub.status.busy": "2023-04-08T20:17:07.533858Z",
     "iopub.status.idle": "2023-04-08T20:17:07.569330Z",
     "shell.execute_reply": "2023-04-08T20:17:07.568408Z"
    },
    "papermill": {
     "duration": 0.178662,
     "end_time": "2023-04-08T20:17:07.571498",
     "exception": false,
     "start_time": "2023-04-08T20:17:07.392836",
     "status": "completed"
    },
    "tags": []
   },
   "outputs": [
    {
     "name": "stdout",
     "output_type": "stream",
     "text": [
      "0.543; 0.532; 0.520; 0.505; 0.487; 0.466; 0.439; 0.407; 0.373; 0.343; 0.319; 0.301; 0.286; 0.274; 0.264; 0.256; 0.250; 0.245; 0.240; 0.237; 0.234; 0.231; 0.229; 0.227; 0.226; 0.224; 0.223; 0.222; 0.221; 0.220; "
     ]
    }
   ],
   "source": [
    "coeffs = train_model(lr=1.4)"
   ]
  },
  {
   "cell_type": "code",
   "execution_count": 70,
   "id": "bcc4760a",
   "metadata": {
    "execution": {
     "iopub.execute_input": "2023-04-08T20:17:07.849723Z",
     "iopub.status.busy": "2023-04-08T20:17:07.849433Z",
     "iopub.status.idle": "2023-04-08T20:17:07.877539Z",
     "shell.execute_reply": "2023-04-08T20:17:07.876403Z"
    },
    "papermill": {
     "duration": 0.167822,
     "end_time": "2023-04-08T20:17:07.879887",
     "exception": false,
     "start_time": "2023-04-08T20:17:07.712065",
     "status": "completed"
    },
    "tags": []
   },
   "outputs": [
    {
     "name": "stdout",
     "output_type": "stream",
     "text": [
      "0.543; 0.400; 0.260; 0.390; 0.221; 0.211; 0.197; 0.195; 0.193; 0.193; 0.193; 0.193; 0.193; 0.193; 0.193; 0.193; 0.193; 0.192; 0.192; 0.192; 0.192; 0.192; 0.192; 0.192; 0.192; 0.192; 0.192; 0.192; 0.192; 0.192; "
     ]
    }
   ],
   "source": [
    "coeffs = train_model(lr=20)"
   ]
  },
  {
   "cell_type": "markdown",
   "id": "d5a7f8d4",
   "metadata": {
    "papermill": {
     "duration": 0.134142,
     "end_time": "2023-04-08T20:17:08.150882",
     "exception": false,
     "start_time": "2023-04-08T20:17:08.016740",
     "status": "completed"
    },
    "tags": []
   },
   "source": [
    "It's looking good -- our loss is lower than before. Let's see if that translates to a better result on the validation set:"
   ]
  },
  {
   "cell_type": "code",
   "execution_count": 71,
   "id": "b85ad26a",
   "metadata": {
    "execution": {
     "iopub.execute_input": "2023-04-08T20:17:08.422865Z",
     "iopub.status.busy": "2023-04-08T20:17:08.422058Z",
     "iopub.status.idle": "2023-04-08T20:17:08.428324Z",
     "shell.execute_reply": "2023-04-08T20:17:08.427446Z"
    },
    "papermill": {
     "duration": 0.145796,
     "end_time": "2023-04-08T20:17:08.430311",
     "exception": false,
     "start_time": "2023-04-08T20:17:08.284515",
     "status": "completed"
    },
    "tags": []
   },
   "outputs": [
    {
     "data": {
      "text/plain": [
       "tensor(0.8258)"
      ]
     },
     "execution_count": 71,
     "metadata": {},
     "output_type": "execute_result"
    }
   ],
   "source": [
    "acc(coeffs)"
   ]
  },
  {
   "cell_type": "markdown",
   "id": "42aab4bf",
   "metadata": {
    "papermill": {
     "duration": 0.140842,
     "end_time": "2023-04-08T20:17:08.707539",
     "exception": false,
     "start_time": "2023-04-08T20:17:08.566697",
     "status": "completed"
    },
    "tags": []
   },
   "source": [
    "In this case our neural net isn't showing better results than the linear model. That's not surprising; this dataset is very small and very simple, and isn't the kind of thing we'd expect to see neural networks excel at. Furthermore, our validation set is too small to reliably see much accuracy difference. But the key thing is that we now know exactly what a real neural net looks like!"
   ]
  },
  {
   "cell_type": "markdown",
   "id": "d567e618",
   "metadata": {
    "papermill": {
     "duration": 0.143696,
     "end_time": "2023-04-08T20:17:08.993972",
     "exception": false,
     "start_time": "2023-04-08T20:17:08.850276",
     "status": "completed"
    },
    "tags": []
   },
   "source": [
    "## Deep learning"
   ]
  },
  {
   "cell_type": "markdown",
   "id": "6c540526",
   "metadata": {
    "papermill": {
     "duration": 0.134424,
     "end_time": "2023-04-08T20:17:09.267854",
     "exception": false,
     "start_time": "2023-04-08T20:17:09.133430",
     "status": "completed"
    },
    "tags": []
   },
   "source": [
    "The neural net in the previous section only uses one hidden layer, so it doesn't count as \"deep\" learning. But we can use the exact same technique to make our neural net deep, by adding more matrix multiplications.\n",
    "\n",
    "First, we'll need to create additional coefficients for each layer:"
   ]
  },
  {
   "cell_type": "code",
   "execution_count": 72,
   "id": "dee1a2be",
   "metadata": {
    "execution": {
     "iopub.execute_input": "2023-04-08T20:17:09.541600Z",
     "iopub.status.busy": "2023-04-08T20:17:09.541219Z",
     "iopub.status.idle": "2023-04-08T20:17:09.548162Z",
     "shell.execute_reply": "2023-04-08T20:17:09.547181Z"
    },
    "papermill": {
     "duration": 0.146009,
     "end_time": "2023-04-08T20:17:09.550615",
     "exception": false,
     "start_time": "2023-04-08T20:17:09.404606",
     "status": "completed"
    },
    "tags": []
   },
   "outputs": [],
   "source": [
    "def init_coeffs():\n",
    "    hiddens = [10, 10]  # <-- set this to the size of each hidden layer you want\n",
    "    sizes = [n_coeff] + hiddens + [1]\n",
    "    n = len(sizes)\n",
    "    layers = [(torch.rand(sizes[i], sizes[i+1])-0.3)/sizes[i+1]*4 for i in range(n-1)]\n",
    "    consts = [(torch.rand(1)[0]-0.5)*0.1 for i in range(n-1)]\n",
    "    for l in layers+consts: l.requires_grad_()\n",
    "    return layers,consts"
   ]
  },
  {
   "cell_type": "markdown",
   "id": "c7077a8f",
   "metadata": {
    "papermill": {
     "duration": 0.145095,
     "end_time": "2023-04-08T20:17:09.835653",
     "exception": false,
     "start_time": "2023-04-08T20:17:09.690558",
     "status": "completed"
    },
    "tags": []
   },
   "source": [
    "You'll notice here that there's a lot of messy constants to get the random numbers in just the right ranges. When you train the model in a moment, you'll see that the tiniest changes to these initialisations can cause our model to fail to train at all! This is a key reason that deep learning failed to make much progress in the early days -- it's very finicky to get a good starting point for our coefficients. Nowadays, we have ways to deal with that, which we'll learn about in other notebooks.\n",
    "\n",
    "Our deep learning `calc_preds` looks much the same as before, but now we loop through each layer, instead of listing them separately:"
   ]
  },
  {
   "cell_type": "code",
   "execution_count": 73,
   "id": "f75f2f29",
   "metadata": {
    "execution": {
     "iopub.execute_input": "2023-04-08T20:17:10.109204Z",
     "iopub.status.busy": "2023-04-08T20:17:10.108885Z",
     "iopub.status.idle": "2023-04-08T20:17:10.115938Z",
     "shell.execute_reply": "2023-04-08T20:17:10.114989Z"
    },
    "papermill": {
     "duration": 0.145054,
     "end_time": "2023-04-08T20:17:10.118263",
     "exception": false,
     "start_time": "2023-04-08T20:17:09.973209",
     "status": "completed"
    },
    "tags": []
   },
   "outputs": [],
   "source": [
    "import torch.nn.functional as F\n",
    "\n",
    "def calc_preds(coeffs, indeps):\n",
    "    layers,consts = coeffs\n",
    "    n = len(layers)\n",
    "    res = indeps\n",
    "    for i,l in enumerate(layers):\n",
    "        res = res@l + consts[i]\n",
    "        if i!=n-1: res = F.relu(res)\n",
    "    return torch.sigmoid(res)"
   ]
  },
  {
   "cell_type": "markdown",
   "id": "7ab550ff",
   "metadata": {
    "papermill": {
     "duration": 0.137989,
     "end_time": "2023-04-08T20:17:10.392035",
     "exception": false,
     "start_time": "2023-04-08T20:17:10.254046",
     "status": "completed"
    },
    "tags": []
   },
   "source": [
    "We also need a minor update to `update_coeffs` since we've got `layers` and `consts` separated now:"
   ]
  },
  {
   "cell_type": "code",
   "execution_count": 74,
   "id": "24ac79da",
   "metadata": {
    "execution": {
     "iopub.execute_input": "2023-04-08T20:17:10.679633Z",
     "iopub.status.busy": "2023-04-08T20:17:10.679291Z",
     "iopub.status.idle": "2023-04-08T20:17:10.684182Z",
     "shell.execute_reply": "2023-04-08T20:17:10.683292Z"
    },
    "papermill": {
     "duration": 0.145983,
     "end_time": "2023-04-08T20:17:10.686193",
     "exception": false,
     "start_time": "2023-04-08T20:17:10.540210",
     "status": "completed"
    },
    "tags": []
   },
   "outputs": [],
   "source": [
    "def update_coeffs(coeffs, lr):\n",
    "    layers,consts = coeffs\n",
    "    for layer in layers+consts:\n",
    "        layer.sub_(layer.grad * lr)\n",
    "        layer.grad.zero_()"
   ]
  },
  {
   "cell_type": "markdown",
   "id": "f1819a75",
   "metadata": {
    "papermill": {
     "duration": 0.136942,
     "end_time": "2023-04-08T20:17:10.964693",
     "exception": false,
     "start_time": "2023-04-08T20:17:10.827751",
     "status": "completed"
    },
    "tags": []
   },
   "source": [
    "Let's train our model..."
   ]
  },
  {
   "cell_type": "code",
   "execution_count": 75,
   "id": "fc7ae338",
   "metadata": {
    "execution": {
     "iopub.execute_input": "2023-04-08T20:17:11.239502Z",
     "iopub.status.busy": "2023-04-08T20:17:11.239146Z",
     "iopub.status.idle": "2023-04-08T20:17:11.272070Z",
     "shell.execute_reply": "2023-04-08T20:17:11.271416Z"
    },
    "papermill": {
     "duration": 0.17102,
     "end_time": "2023-04-08T20:17:11.274335",
     "exception": false,
     "start_time": "2023-04-08T20:17:11.103315",
     "status": "completed"
    },
    "tags": []
   },
   "outputs": [
    {
     "name": "stdout",
     "output_type": "stream",
     "text": [
      "0.521; 0.483; 0.427; 0.379; 0.379; 0.379; 0.379; 0.378; 0.378; 0.378; 0.378; 0.378; 0.378; 0.378; 0.378; 0.378; 0.377; 0.376; 0.371; 0.333; 0.239; 0.224; 0.208; 0.204; 0.203; 0.203; 0.207; 0.197; 0.196; 0.195; "
     ]
    }
   ],
   "source": [
    "coeffs = train_model(lr=4)"
   ]
  },
  {
   "cell_type": "markdown",
   "id": "93ced89f",
   "metadata": {
    "papermill": {
     "duration": 0.136833,
     "end_time": "2023-04-08T20:17:11.548268",
     "exception": false,
     "start_time": "2023-04-08T20:17:11.411435",
     "status": "completed"
    },
    "tags": []
   },
   "source": [
    "...and check its accuracy:"
   ]
  },
  {
   "cell_type": "code",
   "execution_count": 76,
   "id": "3a47cd47",
   "metadata": {
    "execution": {
     "iopub.execute_input": "2023-04-08T20:17:11.820982Z",
     "iopub.status.busy": "2023-04-08T20:17:11.820700Z",
     "iopub.status.idle": "2023-04-08T20:17:11.826335Z",
     "shell.execute_reply": "2023-04-08T20:17:11.825715Z"
    },
    "papermill": {
     "duration": 0.14419,
     "end_time": "2023-04-08T20:17:11.828213",
     "exception": false,
     "start_time": "2023-04-08T20:17:11.684023",
     "status": "completed"
    },
    "tags": []
   },
   "outputs": [
    {
     "data": {
      "text/plain": [
       "tensor(0.8258)"
      ]
     },
     "execution_count": 76,
     "metadata": {},
     "output_type": "execute_result"
    }
   ],
   "source": [
    "acc(coeffs)"
   ]
  },
  {
   "cell_type": "markdown",
   "id": "b25ccf25",
   "metadata": {
    "papermill": {
     "duration": 0.13608,
     "end_time": "2023-04-08T20:17:12.100770",
     "exception": false,
     "start_time": "2023-04-08T20:17:11.964690",
     "status": "completed"
    },
    "tags": []
   },
   "source": [
    "## Final thoughts"
   ]
  },
  {
   "cell_type": "markdown",
   "id": "58b65e73",
   "metadata": {
    "papermill": {
     "duration": 0.134406,
     "end_time": "2023-04-08T20:17:12.370186",
     "exception": false,
     "start_time": "2023-04-08T20:17:12.235780",
     "status": "completed"
    },
    "tags": []
   },
   "source": [
    "It's actually pretty cool that we've managed to create a real deep learning model from scratch and trained it to get over 80% accuracy on this task, all in the course of a single notebook!\n",
    "\n",
    "The \"real\" deep learning models that are used in research and industry look very similar to this, and in fact if you look inside the source code of any deep learning model you'll recognise the basic steps are the same.\n",
    "\n",
    "The biggest differences in practical models to what we have above are:\n",
    "\n",
    "- How initialisation and normalisation is done to ensure the model trains correctly every time\n",
    "- Regularization (to avoid over-fitting)\n",
    "- Modifying the neural net itself to take advantage of knowledge of the problem domain\n",
    "- Doing gradient descent steps on smaller batches, rather than the whole dataset.\n",
    "\n",
    "I'll be adding notebooks about all these later, and will add links here once they're ready.\n",
    "\n",
    "If you found this notebook useful, please remember to click the little up-arrow at the top to upvote it, since I like to know when people have found my work useful, and it helps others find it too. (BTW, be sure you're looking at my [original notebook here](https://www.kaggle.com/code/jhoward/linear-model-and-neural-net-from-scratch) when you do that, and are not on your own copy of it, otherwise your upvote won't get counted!) And if you have any questions or comments, please pop them below -- I read every comment I receive!"
   ]
  }
 ],
 "metadata": {
  "kernelspec": {
   "display_name": "Python 3",
   "language": "python",
   "name": "python3"
  },
  "language_info": {
   "codemirror_mode": {
    "name": "ipython",
    "version": 3
   },
   "file_extension": ".py",
   "mimetype": "text/x-python",
   "name": "python",
   "nbconvert_exporter": "python",
   "pygments_lexer": "ipython3",
   "version": "3.7.12"
  },
  "papermill": {
   "default_parameters": {},
   "duration": 61.487699,
   "end_time": "2023-04-08T20:17:13.630386",
   "environment_variables": {},
   "exception": null,
   "input_path": "__notebook__.ipynb",
   "output_path": "__notebook__.ipynb",
   "parameters": {},
   "start_time": "2023-04-08T20:16:12.142687",
   "version": "2.3.4"
  }
 },
 "nbformat": 4,
 "nbformat_minor": 5
}
