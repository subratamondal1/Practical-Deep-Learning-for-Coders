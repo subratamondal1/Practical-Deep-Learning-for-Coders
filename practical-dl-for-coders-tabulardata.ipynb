{
 "cells": [
  {
   "cell_type": "code",
   "execution_count": 1,
   "id": "da65cea0",
   "metadata": {
    "_cell_guid": "b1076dfc-b9ad-4769-8c92-a6c4dae69d19",
    "_uuid": "8f2839f25d086af736a60e9eeb907d3b93b6e0e5",
    "execution": {
     "iopub.execute_input": "2023-04-06T18:41:45.719227Z",
     "iopub.status.busy": "2023-04-06T18:41:45.718797Z",
     "iopub.status.idle": "2023-04-06T18:41:45.734951Z",
     "shell.execute_reply": "2023-04-06T18:41:45.733557Z"
    },
    "papermill": {
     "duration": 0.037709,
     "end_time": "2023-04-06T18:41:45.739123",
     "exception": false,
     "start_time": "2023-04-06T18:41:45.701414",
     "status": "completed"
    },
    "tags": []
   },
   "outputs": [
    {
     "name": "stdout",
     "output_type": "stream",
     "text": [
      "/kaggle/input/bluebook-for-bulldozers/Valid.7z\n",
      "/kaggle/input/bluebook-for-bulldozers/Valid.zip\n",
      "/kaggle/input/bluebook-for-bulldozers/Train.zip\n",
      "/kaggle/input/bluebook-for-bulldozers/TrainAndValid.csv\n",
      "/kaggle/input/bluebook-for-bulldozers/median_benchmark.csv\n",
      "/kaggle/input/bluebook-for-bulldozers/Valid.csv\n",
      "/kaggle/input/bluebook-for-bulldozers/Machine_Appendix.csv\n",
      "/kaggle/input/bluebook-for-bulldozers/random_forest_benchmark_test.csv\n",
      "/kaggle/input/bluebook-for-bulldozers/Data Dictionary.xlsx\n",
      "/kaggle/input/bluebook-for-bulldozers/ValidSolution.csv\n",
      "/kaggle/input/bluebook-for-bulldozers/Test.csv\n",
      "/kaggle/input/bluebook-for-bulldozers/TrainAndValid.zip\n",
      "/kaggle/input/bluebook-for-bulldozers/TrainAndValid.7z\n",
      "/kaggle/input/bluebook-for-bulldozers/Train.7z\n"
     ]
    }
   ],
   "source": [
    "# This Python 3 environment comes with many helpful analytics libraries installed\n",
    "# It is defined by the kaggle/python Docker image: https://github.com/kaggle/docker-python\n",
    "# For example, here's several helpful packages to load\n",
    "\n",
    "import numpy as np # linear algebra\n",
    "import pandas as pd # data processing, CSV file I/O (e.g. pd.read_csv)\n",
    "\n",
    "# Input data files are available in the read-only \"../input/\" directory\n",
    "# For example, running this (by clicking run or pressing Shift+Enter) will list all files under the input directory\n",
    "\n",
    "import os\n",
    "for dirname, _, filenames in os.walk('/kaggle/input'):\n",
    "    for filename in filenames:\n",
    "        print(os.path.join(dirname, filename))\n",
    "\n",
    "# You can write up to 20GB to the current directory (/kaggle/working/) that gets preserved as output when you create a version using \"Save & Run All\" \n",
    "# You can also write temporary files to /kaggle/temp/, but they won't be saved outside of the current session"
   ]
  },
  {
   "cell_type": "code",
   "execution_count": 2,
   "id": "26bfd201",
   "metadata": {
    "execution": {
     "iopub.execute_input": "2023-04-06T18:41:45.770075Z",
     "iopub.status.busy": "2023-04-06T18:41:45.769682Z",
     "iopub.status.idle": "2023-04-06T18:41:49.953054Z",
     "shell.execute_reply": "2023-04-06T18:41:49.951386Z"
    },
    "papermill": {
     "duration": 4.202498,
     "end_time": "2023-04-06T18:41:49.956245",
     "exception": false,
     "start_time": "2023-04-06T18:41:45.753747",
     "status": "completed"
    },
    "tags": []
   },
   "outputs": [],
   "source": [
    "import pandas as pd\n",
    "import numpy as np\n",
    "from fastai.tabular.all import *"
   ]
  },
  {
   "cell_type": "code",
   "execution_count": 3,
   "id": "994127d1",
   "metadata": {
    "execution": {
     "iopub.execute_input": "2023-04-06T18:41:49.988808Z",
     "iopub.status.busy": "2023-04-06T18:41:49.988186Z",
     "iopub.status.idle": "2023-04-06T18:41:49.994238Z",
     "shell.execute_reply": "2023-04-06T18:41:49.992775Z"
    },
    "papermill": {
     "duration": 0.025378,
     "end_time": "2023-04-06T18:41:49.996918",
     "exception": false,
     "start_time": "2023-04-06T18:41:49.971540",
     "status": "completed"
    },
    "tags": []
   },
   "outputs": [],
   "source": [
    "path = \"/kaggle/input/bluebook-for-bulldozers/TrainAndValid.csv\""
   ]
  },
  {
   "cell_type": "code",
   "execution_count": 4,
   "id": "9ffdfc3b",
   "metadata": {
    "execution": {
     "iopub.execute_input": "2023-04-06T18:41:50.030550Z",
     "iopub.status.busy": "2023-04-06T18:41:50.030021Z",
     "iopub.status.idle": "2023-04-06T18:41:55.145466Z",
     "shell.execute_reply": "2023-04-06T18:41:55.144096Z"
    },
    "papermill": {
     "duration": 5.135104,
     "end_time": "2023-04-06T18:41:55.148573",
     "exception": false,
     "start_time": "2023-04-06T18:41:50.013469",
     "status": "completed"
    },
    "tags": []
   },
   "outputs": [],
   "source": [
    "df = pd.read_csv(path,low_memory=False)"
   ]
  },
  {
   "cell_type": "code",
   "execution_count": 5,
   "id": "54258c13",
   "metadata": {
    "execution": {
     "iopub.execute_input": "2023-04-06T18:41:55.179653Z",
     "iopub.status.busy": "2023-04-06T18:41:55.179213Z",
     "iopub.status.idle": "2023-04-06T18:41:55.189036Z",
     "shell.execute_reply": "2023-04-06T18:41:55.187643Z"
    },
    "papermill": {
     "duration": 0.028132,
     "end_time": "2023-04-06T18:41:55.191529",
     "exception": false,
     "start_time": "2023-04-06T18:41:55.163397",
     "status": "completed"
    },
    "tags": []
   },
   "outputs": [
    {
     "data": {
      "text/plain": [
       "Index(['SalesID', 'SalePrice', 'MachineID', 'ModelID', 'datasource',\n",
       "       'auctioneerID', 'YearMade', 'MachineHoursCurrentMeter', 'UsageBand',\n",
       "       'saledate', 'fiModelDesc', 'fiBaseModel', 'fiSecondaryDesc',\n",
       "       'fiModelSeries', 'fiModelDescriptor', 'ProductSize',\n",
       "       'fiProductClassDesc', 'state', 'ProductGroup', 'ProductGroupDesc',\n",
       "       'Drive_System', 'Enclosure', 'Forks', 'Pad_Type', 'Ride_Control',\n",
       "       'Stick', 'Transmission', 'Turbocharged', 'Blade_Extension',\n",
       "       'Blade_Width', 'Enclosure_Type', 'Engine_Horsepower', 'Hydraulics',\n",
       "       'Pushblock', 'Ripper', 'Scarifier', 'Tip_Control', 'Tire_Size',\n",
       "       'Coupler', 'Coupler_System', 'Grouser_Tracks', 'Hydraulics_Flow',\n",
       "       'Track_Type', 'Undercarriage_Pad_Width', 'Stick_Length', 'Thumb',\n",
       "       'Pattern_Changer', 'Grouser_Type', 'Backhoe_Mounting', 'Blade_Type',\n",
       "       'Travel_Controls', 'Differential_Type', 'Steering_Controls'],\n",
       "      dtype='object')"
      ]
     },
     "execution_count": 5,
     "metadata": {},
     "output_type": "execute_result"
    }
   ],
   "source": [
    "df.columns"
   ]
  },
  {
   "cell_type": "code",
   "execution_count": 6,
   "id": "a6d1a9f3",
   "metadata": {
    "execution": {
     "iopub.execute_input": "2023-04-06T18:41:55.223114Z",
     "iopub.status.busy": "2023-04-06T18:41:55.221505Z",
     "iopub.status.idle": "2023-04-06T18:41:56.023456Z",
     "shell.execute_reply": "2023-04-06T18:41:56.021820Z"
    },
    "papermill": {
     "duration": 0.820812,
     "end_time": "2023-04-06T18:41:56.026840",
     "exception": false,
     "start_time": "2023-04-06T18:41:55.206028",
     "status": "completed"
    },
    "tags": []
   },
   "outputs": [
    {
     "name": "stdout",
     "output_type": "stream",
     "text": [
      "<class 'pandas.core.frame.DataFrame'>\n",
      "RangeIndex: 412698 entries, 0 to 412697\n",
      "Data columns (total 53 columns):\n",
      " #   Column                    Non-Null Count   Dtype  \n",
      "---  ------                    --------------   -----  \n",
      " 0   SalesID                   412698 non-null  int64  \n",
      " 1   SalePrice                 412698 non-null  float64\n",
      " 2   MachineID                 412698 non-null  int64  \n",
      " 3   ModelID                   412698 non-null  int64  \n",
      " 4   datasource                412698 non-null  int64  \n",
      " 5   auctioneerID              392562 non-null  float64\n",
      " 6   YearMade                  412698 non-null  int64  \n",
      " 7   MachineHoursCurrentMeter  147504 non-null  float64\n",
      " 8   UsageBand                 73670 non-null   object \n",
      " 9   saledate                  412698 non-null  object \n",
      " 10  fiModelDesc               412698 non-null  object \n",
      " 11  fiBaseModel               412698 non-null  object \n",
      " 12  fiSecondaryDesc           271971 non-null  object \n",
      " 13  fiModelSeries             58667 non-null   object \n",
      " 14  fiModelDescriptor         74816 non-null   object \n",
      " 15  ProductSize               196093 non-null  object \n",
      " 16  fiProductClassDesc        412698 non-null  object \n",
      " 17  state                     412698 non-null  object \n",
      " 18  ProductGroup              412698 non-null  object \n",
      " 19  ProductGroupDesc          412698 non-null  object \n",
      " 20  Drive_System              107087 non-null  object \n",
      " 21  Enclosure                 412364 non-null  object \n",
      " 22  Forks                     197715 non-null  object \n",
      " 23  Pad_Type                  81096 non-null   object \n",
      " 24  Ride_Control              152728 non-null  object \n",
      " 25  Stick                     81096 non-null   object \n",
      " 26  Transmission              188007 non-null  object \n",
      " 27  Turbocharged              81096 non-null   object \n",
      " 28  Blade_Extension           25983 non-null   object \n",
      " 29  Blade_Width               25983 non-null   object \n",
      " 30  Enclosure_Type            25983 non-null   object \n",
      " 31  Engine_Horsepower         25983 non-null   object \n",
      " 32  Hydraulics                330133 non-null  object \n",
      " 33  Pushblock                 25983 non-null   object \n",
      " 34  Ripper                    106945 non-null  object \n",
      " 35  Scarifier                 25994 non-null   object \n",
      " 36  Tip_Control               25983 non-null   object \n",
      " 37  Tire_Size                 97638 non-null   object \n",
      " 38  Coupler                   220679 non-null  object \n",
      " 39  Coupler_System            44974 non-null   object \n",
      " 40  Grouser_Tracks            44875 non-null   object \n",
      " 41  Hydraulics_Flow           44875 non-null   object \n",
      " 42  Track_Type                102193 non-null  object \n",
      " 43  Undercarriage_Pad_Width   102916 non-null  object \n",
      " 44  Stick_Length              102261 non-null  object \n",
      " 45  Thumb                     102332 non-null  object \n",
      " 46  Pattern_Changer           102261 non-null  object \n",
      " 47  Grouser_Type              102193 non-null  object \n",
      " 48  Backhoe_Mounting          80712 non-null   object \n",
      " 49  Blade_Type                81875 non-null   object \n",
      " 50  Travel_Controls           81877 non-null   object \n",
      " 51  Differential_Type         71564 non-null   object \n",
      " 52  Steering_Controls         71522 non-null   object \n",
      "dtypes: float64(3), int64(5), object(45)\n",
      "memory usage: 166.9+ MB\n"
     ]
    }
   ],
   "source": [
    "df.info()"
   ]
  },
  {
   "cell_type": "code",
   "execution_count": 7,
   "id": "c888961f",
   "metadata": {
    "execution": {
     "iopub.execute_input": "2023-04-06T18:41:56.059621Z",
     "iopub.status.busy": "2023-04-06T18:41:56.059078Z",
     "iopub.status.idle": "2023-04-06T18:41:56.087987Z",
     "shell.execute_reply": "2023-04-06T18:41:56.086733Z"
    },
    "papermill": {
     "duration": 0.048579,
     "end_time": "2023-04-06T18:41:56.090676",
     "exception": false,
     "start_time": "2023-04-06T18:41:56.042097",
     "status": "completed"
    },
    "tags": []
   },
   "outputs": [
    {
     "data": {
      "text/plain": [
       "array([nan, 'Medium', 'Small', 'Large / Medium', 'Mini', 'Large',\n",
       "       'Compact'], dtype=object)"
      ]
     },
     "execution_count": 7,
     "metadata": {},
     "output_type": "execute_result"
    }
   ],
   "source": [
    "df['ProductSize'].unique()"
   ]
  },
  {
   "cell_type": "code",
   "execution_count": 8,
   "id": "e7d615d5",
   "metadata": {
    "execution": {
     "iopub.execute_input": "2023-04-06T18:41:56.123786Z",
     "iopub.status.busy": "2023-04-06T18:41:56.123275Z",
     "iopub.status.idle": "2023-04-06T18:41:56.149075Z",
     "shell.execute_reply": "2023-04-06T18:41:56.147507Z"
    },
    "papermill": {
     "duration": 0.046287,
     "end_time": "2023-04-06T18:41:56.152291",
     "exception": false,
     "start_time": "2023-04-06T18:41:56.106004",
     "status": "completed"
    },
    "tags": []
   },
   "outputs": [
    {
     "data": {
      "text/plain": [
       "Medium            64342\n",
       "Large / Medium    51297\n",
       "Small             27057\n",
       "Mini              25721\n",
       "Large             21396\n",
       "Compact            6280\n",
       "Name: ProductSize, dtype: int64"
      ]
     },
     "execution_count": 8,
     "metadata": {},
     "output_type": "execute_result"
    }
   ],
   "source": [
    "df['ProductSize'].value_counts()"
   ]
  },
  {
   "cell_type": "code",
   "execution_count": 9,
   "id": "1e2cb616",
   "metadata": {
    "execution": {
     "iopub.execute_input": "2023-04-06T18:41:56.186164Z",
     "iopub.status.busy": "2023-04-06T18:41:56.184884Z",
     "iopub.status.idle": "2023-04-06T18:41:56.191031Z",
     "shell.execute_reply": "2023-04-06T18:41:56.189986Z"
    },
    "papermill": {
     "duration": 0.026016,
     "end_time": "2023-04-06T18:41:56.193621",
     "exception": false,
     "start_time": "2023-04-06T18:41:56.167605",
     "status": "completed"
    },
    "tags": []
   },
   "outputs": [],
   "source": [
    "sizes = ('Large','Large / Medium','Medium','Small','Mini','Compact')"
   ]
  },
  {
   "cell_type": "code",
   "execution_count": 10,
   "id": "1e839575",
   "metadata": {
    "execution": {
     "iopub.execute_input": "2023-04-06T18:41:56.227596Z",
     "iopub.status.busy": "2023-04-06T18:41:56.226790Z",
     "iopub.status.idle": "2023-04-06T18:41:56.626191Z",
     "shell.execute_reply": "2023-04-06T18:41:56.624589Z"
    },
    "papermill": {
     "duration": 0.419818,
     "end_time": "2023-04-06T18:41:56.629214",
     "exception": false,
     "start_time": "2023-04-06T18:41:56.209396",
     "status": "completed"
    },
    "tags": []
   },
   "outputs": [
    {
     "data": {
      "text/plain": [
       "0            NaN\n",
       "1         Medium\n",
       "2            NaN\n",
       "3          Small\n",
       "4            NaN\n",
       "           ...  \n",
       "412693      Mini\n",
       "412694      Mini\n",
       "412695      Mini\n",
       "412696      Mini\n",
       "412697      Mini\n",
       "Name: ProductSize, Length: 412698, dtype: category\n",
       "Categories (6, object): ['Large' < 'Large / Medium' < 'Medium' < 'Small' < 'Mini' < 'Compact']"
      ]
     },
     "execution_count": 10,
     "metadata": {},
     "output_type": "execute_result"
    }
   ],
   "source": [
    "df['ProductSize'] = df['ProductSize'].astype('category')\n",
    "df['ProductSize'].cat.set_categories(sizes, ordered=True)"
   ]
  },
  {
   "cell_type": "code",
   "execution_count": 11,
   "id": "5d9442d3",
   "metadata": {
    "execution": {
     "iopub.execute_input": "2023-04-06T18:41:56.665592Z",
     "iopub.status.busy": "2023-04-06T18:41:56.664138Z",
     "iopub.status.idle": "2023-04-06T18:41:56.679846Z",
     "shell.execute_reply": "2023-04-06T18:41:56.678785Z"
    },
    "papermill": {
     "duration": 0.037308,
     "end_time": "2023-04-06T18:41:56.682740",
     "exception": false,
     "start_time": "2023-04-06T18:41:56.645432",
     "status": "completed"
    },
    "tags": []
   },
   "outputs": [
    {
     "data": {
      "text/plain": [
       "Medium            64342\n",
       "Large / Medium    51297\n",
       "Small             27057\n",
       "Mini              25721\n",
       "Large             21396\n",
       "Compact            6280\n",
       "Name: ProductSize, dtype: int64"
      ]
     },
     "execution_count": 11,
     "metadata": {},
     "output_type": "execute_result"
    }
   ],
   "source": [
    "df['ProductSize'].value_counts()"
   ]
  },
  {
   "cell_type": "code",
   "execution_count": 12,
   "id": "90f0531b",
   "metadata": {
    "execution": {
     "iopub.execute_input": "2023-04-06T18:41:56.716555Z",
     "iopub.status.busy": "2023-04-06T18:41:56.715776Z",
     "iopub.status.idle": "2023-04-06T18:41:56.729082Z",
     "shell.execute_reply": "2023-04-06T18:41:56.727693Z"
    },
    "papermill": {
     "duration": 0.033986,
     "end_time": "2023-04-06T18:41:56.732264",
     "exception": false,
     "start_time": "2023-04-06T18:41:56.698278",
     "status": "completed"
    },
    "tags": []
   },
   "outputs": [],
   "source": [
    "target = 'SalePrice'\n",
    "df[target] = np.log(df[target])"
   ]
  },
  {
   "cell_type": "code",
   "execution_count": 13,
   "id": "3b1a6695",
   "metadata": {
    "execution": {
     "iopub.execute_input": "2023-04-06T18:41:56.765760Z",
     "iopub.status.busy": "2023-04-06T18:41:56.765036Z",
     "iopub.status.idle": "2023-04-06T18:41:58.267844Z",
     "shell.execute_reply": "2023-04-06T18:41:58.266237Z"
    },
    "papermill": {
     "duration": 1.523178,
     "end_time": "2023-04-06T18:41:58.271333",
     "exception": false,
     "start_time": "2023-04-06T18:41:56.748155",
     "status": "completed"
    },
    "tags": []
   },
   "outputs": [],
   "source": [
    "# replace every date column with a set of date metadata columns, such as holiday, day of week, and month\n",
    "df = add_datepart(df, 'saledate')"
   ]
  },
  {
   "cell_type": "code",
   "execution_count": 14,
   "id": "4b662a3c",
   "metadata": {
    "execution": {
     "iopub.execute_input": "2023-04-06T18:41:58.306693Z",
     "iopub.status.busy": "2023-04-06T18:41:58.305365Z",
     "iopub.status.idle": "2023-04-06T18:41:58.496300Z",
     "shell.execute_reply": "2023-04-06T18:41:58.494936Z"
    },
    "papermill": {
     "duration": 0.212128,
     "end_time": "2023-04-06T18:41:58.499601",
     "exception": false,
     "start_time": "2023-04-06T18:41:58.287473",
     "status": "completed"
    },
    "tags": []
   },
   "outputs": [],
   "source": [
    "# Let’s do the same for the test set while we’re there:\n",
    "df_test = pd.read_csv(\"/kaggle/input/bluebook-for-bulldozers/Test.csv\", low_memory=False)\n",
    "df_test = add_datepart(df_test, 'saledate')"
   ]
  },
  {
   "cell_type": "code",
   "execution_count": 15,
   "id": "2253bbdb",
   "metadata": {
    "execution": {
     "iopub.execute_input": "2023-04-06T18:41:58.533579Z",
     "iopub.status.busy": "2023-04-06T18:41:58.532290Z",
     "iopub.status.idle": "2023-04-06T18:41:58.541221Z",
     "shell.execute_reply": "2023-04-06T18:41:58.539931Z"
    },
    "papermill": {
     "duration": 0.028983,
     "end_time": "2023-04-06T18:41:58.543924",
     "exception": false,
     "start_time": "2023-04-06T18:41:58.514941",
     "status": "completed"
    },
    "tags": []
   },
   "outputs": [
    {
     "data": {
      "text/plain": [
       "'saleYear saleMonth saleWeek saleDay saleDayofweek saleDayofyear saleIs_month_end saleIs_month_start saleIs_quarter_end saleIs_quarter_start saleIs_year_end saleIs_year_start saleElapsed'"
      ]
     },
     "execution_count": 15,
     "metadata": {},
     "output_type": "execute_result"
    }
   ],
   "source": [
    "# We can see that there are now lots of new columns in our DataFrame:\n",
    "' '.join(o for o in df.columns if o.startswith('sale'))"
   ]
  },
  {
   "cell_type": "markdown",
   "id": "017bb619",
   "metadata": {
    "papermill": {
     "duration": 0.015163,
     "end_time": "2023-04-06T18:41:58.574767",
     "exception": false,
     "start_time": "2023-04-06T18:41:58.559604",
     "status": "completed"
    },
    "tags": []
   },
   "source": [
    "This is a good first step, but we will need to do a bit more cleaning. For this, we will use fastai objects called **TabularPandas** and **TabularProc**."
   ]
  },
  {
   "cell_type": "markdown",
   "id": "8438f0e6",
   "metadata": {
    "papermill": {
     "duration": 0.014866,
     "end_time": "2023-04-06T18:41:58.605631",
     "exception": false,
     "start_time": "2023-04-06T18:41:58.590765",
     "status": "completed"
    },
    "tags": []
   },
   "source": [
    "## Using TabularPandas and TabularProc"
   ]
  },
  {
   "cell_type": "code",
   "execution_count": 16,
   "id": "99e74607",
   "metadata": {
    "execution": {
     "iopub.execute_input": "2023-04-06T18:41:58.641056Z",
     "iopub.status.busy": "2023-04-06T18:41:58.640549Z",
     "iopub.status.idle": "2023-04-06T18:41:58.646131Z",
     "shell.execute_reply": "2023-04-06T18:41:58.645089Z"
    },
    "papermill": {
     "duration": 0.026206,
     "end_time": "2023-04-06T18:41:58.648643",
     "exception": false,
     "start_time": "2023-04-06T18:41:58.622437",
     "status": "completed"
    },
    "tags": []
   },
   "outputs": [],
   "source": [
    "procs = [Categorify, FillMissing]"
   ]
  },
  {
   "cell_type": "markdown",
   "id": "23f8f4e3",
   "metadata": {
    "papermill": {
     "duration": 0.015015,
     "end_time": "2023-04-06T18:41:58.679083",
     "exception": false,
     "start_time": "2023-04-06T18:41:58.664068",
     "status": "completed"
    },
    "tags": []
   },
   "source": [
    "TabularPandas will also handle splitting the dataset into training and validation sets for us. However, we need to be very careful about our validation set. We want to design it so that it is like the test set Kaggle will use to judge the contest.\n",
    "\n",
    "### Validation set vs Test set\n",
    "A validation set is data we hold back from training in order to ensure that the training process does not overfit on the training data. A test set is data that is held back even more deeply, from us ourselves, in order to ensure that we don’t overfit on the validation data as we explore various model architectures and hyperparameters.\n",
    "\n",
    "In some cases, just randomly choosing a subset of your data points will do that. This is not one of those cases, because it is a time series.\n",
    "\n",
    "If you look at the date range represented in the test set, you will discover that it covers a six-month period from May 2012, which is later in time than any date in the training set. This is a good design, because the competition sponsor will want to ensure that a model is able to predict the future. But it means that if we are going to have a useful validation set, we also want the validation set to be later in time than the training set. The Kaggle training data ends in April 2012, so we will define a narrower training dataset that consists only of the Kaggle training data from before November 2011, and we’ll define a validation set consisting of data from after November 2011.\n"
   ]
  },
  {
   "cell_type": "code",
   "execution_count": 17,
   "id": "d4e5e3aa",
   "metadata": {
    "execution": {
     "iopub.execute_input": "2023-04-06T18:41:58.712725Z",
     "iopub.status.busy": "2023-04-06T18:41:58.712161Z",
     "iopub.status.idle": "2023-04-06T18:41:58.722929Z",
     "shell.execute_reply": "2023-04-06T18:41:58.721564Z"
    },
    "papermill": {
     "duration": 0.031003,
     "end_time": "2023-04-06T18:41:58.725733",
     "exception": false,
     "start_time": "2023-04-06T18:41:58.694730",
     "status": "completed"
    },
    "tags": []
   },
   "outputs": [],
   "source": [
    "cond = (df.saleYear<2011) | (df.saleMonth<10)\n",
    "train_index = np.where(cond)[0]\n",
    "valid_index = np.where(~cond)[0]"
   ]
  },
  {
   "cell_type": "code",
   "execution_count": 18,
   "id": "da11519c",
   "metadata": {
    "execution": {
     "iopub.execute_input": "2023-04-06T18:41:58.758942Z",
     "iopub.status.busy": "2023-04-06T18:41:58.758406Z",
     "iopub.status.idle": "2023-04-06T18:41:58.795675Z",
     "shell.execute_reply": "2023-04-06T18:41:58.794339Z"
    },
    "papermill": {
     "duration": 0.058002,
     "end_time": "2023-04-06T18:41:58.799236",
     "exception": false,
     "start_time": "2023-04-06T18:41:58.741234",
     "status": "completed"
    },
    "tags": []
   },
   "outputs": [],
   "source": [
    "splits = (list(train_index),list(valid_index))"
   ]
  },
  {
   "cell_type": "markdown",
   "id": "d7f0c9f5",
   "metadata": {
    "papermill": {
     "duration": 0.014434,
     "end_time": "2023-04-06T18:41:58.828863",
     "exception": false,
     "start_time": "2023-04-06T18:41:58.814429",
     "status": "completed"
    },
    "tags": []
   },
   "source": [
    "**TabularPandas** needs to be told which columns are continuous and which are categorical. We can handle that automatically using the helper function `cont_cat_split`:"
   ]
  },
  {
   "cell_type": "code",
   "execution_count": 19,
   "id": "865371cb",
   "metadata": {
    "execution": {
     "iopub.execute_input": "2023-04-06T18:41:58.860987Z",
     "iopub.status.busy": "2023-04-06T18:41:58.860534Z",
     "iopub.status.idle": "2023-04-06T18:41:58.934960Z",
     "shell.execute_reply": "2023-04-06T18:41:58.933468Z"
    },
    "papermill": {
     "duration": 0.0935,
     "end_time": "2023-04-06T18:41:58.937382",
     "exception": false,
     "start_time": "2023-04-06T18:41:58.843882",
     "status": "completed"
    },
    "tags": []
   },
   "outputs": [
    {
     "name": "stdout",
     "output_type": "stream",
     "text": [
      "['SalesID', 'MachineID', 'ModelID', 'datasource', 'auctioneerID', 'YearMade', 'MachineHoursCurrentMeter', 'saleYear', 'saleMonth', 'saleWeek', 'saleDay', 'saleDayofweek', 'saleDayofyear', 'saleElapsed']\n",
      "['UsageBand', 'fiModelDesc', 'fiBaseModel', 'fiSecondaryDesc', 'fiModelSeries', 'fiModelDescriptor', 'ProductSize', 'fiProductClassDesc', 'state', 'ProductGroup', 'ProductGroupDesc', 'Drive_System', 'Enclosure', 'Forks', 'Pad_Type', 'Ride_Control', 'Stick', 'Transmission', 'Turbocharged', 'Blade_Extension', 'Blade_Width', 'Enclosure_Type', 'Engine_Horsepower', 'Hydraulics', 'Pushblock', 'Ripper', 'Scarifier', 'Tip_Control', 'Tire_Size', 'Coupler', 'Coupler_System', 'Grouser_Tracks', 'Hydraulics_Flow', 'Track_Type', 'Undercarriage_Pad_Width', 'Stick_Length', 'Thumb', 'Pattern_Changer', 'Grouser_Type', 'Backhoe_Mounting', 'Blade_Type', 'Travel_Controls', 'Differential_Type', 'Steering_Controls', 'saleIs_month_end', 'saleIs_month_start', 'saleIs_quarter_end', 'saleIs_quarter_start', 'saleIs_year_end', 'saleIs_year_start']\n"
     ]
    }
   ],
   "source": [
    "cont,cat = cont_cat_split(df, 1, dep_var=target)\n",
    "print(cont)\n",
    "print(cat)"
   ]
  },
  {
   "cell_type": "code",
   "execution_count": 20,
   "id": "172e0dc8",
   "metadata": {
    "execution": {
     "iopub.execute_input": "2023-04-06T18:41:58.969284Z",
     "iopub.status.busy": "2023-04-06T18:41:58.968890Z",
     "iopub.status.idle": "2023-04-06T18:42:04.245490Z",
     "shell.execute_reply": "2023-04-06T18:42:04.244172Z"
    },
    "papermill": {
     "duration": 5.296143,
     "end_time": "2023-04-06T18:42:04.248454",
     "exception": false,
     "start_time": "2023-04-06T18:41:58.952311",
     "status": "completed"
    },
    "tags": []
   },
   "outputs": [],
   "source": [
    "to = TabularPandas(df, procs=[Categorify, FillMissing,Normalize],\n",
    "                   cat_names = cat,\n",
    "                   cont_names = cont,\n",
    "                   y_names=target,\n",
    "                   splits = splits)"
   ]
  },
  {
   "cell_type": "markdown",
   "id": "cd68f5d5",
   "metadata": {
    "papermill": {
     "duration": 0.015513,
     "end_time": "2023-04-06T18:42:04.279347",
     "exception": false,
     "start_time": "2023-04-06T18:42:04.263834",
     "status": "completed"
    },
    "tags": []
   },
   "source": [
    "A TabularPandas behaves a lot like a fastai Datasets object, including providing train and valid attributes:"
   ]
  },
  {
   "cell_type": "code",
   "execution_count": 21,
   "id": "3105e7fd",
   "metadata": {
    "execution": {
     "iopub.execute_input": "2023-04-06T18:42:04.311628Z",
     "iopub.status.busy": "2023-04-06T18:42:04.311232Z",
     "iopub.status.idle": "2023-04-06T18:42:04.370153Z",
     "shell.execute_reply": "2023-04-06T18:42:04.369027Z"
    },
    "papermill": {
     "duration": 0.078286,
     "end_time": "2023-04-06T18:42:04.372819",
     "exception": false,
     "start_time": "2023-04-06T18:42:04.294533",
     "status": "completed"
    },
    "tags": []
   },
   "outputs": [
    {
     "name": "stdout",
     "output_type": "stream",
     "text": [
      "(412698, 65)\n",
      "404710\n",
      "7988\n"
     ]
    }
   ],
   "source": [
    "print(df.shape)\n",
    "print(len(to.train))\n",
    "print(len(to.valid))"
   ]
  },
  {
   "cell_type": "markdown",
   "id": "d78f6480",
   "metadata": {
    "papermill": {
     "duration": 0.014992,
     "end_time": "2023-04-06T18:42:04.403374",
     "exception": false,
     "start_time": "2023-04-06T18:42:04.388382",
     "status": "completed"
    },
    "tags": []
   },
   "source": [
    "We can see that the data is still displayed as strings for categories (we show only a few columns here because the full table is too big to fit on a page):"
   ]
  },
  {
   "cell_type": "code",
   "execution_count": 22,
   "id": "33300516",
   "metadata": {
    "execution": {
     "iopub.execute_input": "2023-04-06T18:42:04.437780Z",
     "iopub.status.busy": "2023-04-06T18:42:04.436901Z",
     "iopub.status.idle": "2023-04-06T18:42:04.617125Z",
     "shell.execute_reply": "2023-04-06T18:42:04.615850Z"
    },
    "papermill": {
     "duration": 0.200855,
     "end_time": "2023-04-06T18:42:04.619611",
     "exception": false,
     "start_time": "2023-04-06T18:42:04.418756",
     "status": "completed"
    },
    "tags": []
   },
   "outputs": [
    {
     "data": {
      "text/html": [
       "<table border=\"1\" class=\"dataframe\">\n",
       "  <thead>\n",
       "    <tr style=\"text-align: right;\">\n",
       "      <th></th>\n",
       "      <th>UsageBand</th>\n",
       "      <th>fiModelDesc</th>\n",
       "      <th>fiBaseModel</th>\n",
       "      <th>fiSecondaryDesc</th>\n",
       "      <th>fiModelSeries</th>\n",
       "      <th>fiModelDescriptor</th>\n",
       "      <th>ProductSize</th>\n",
       "      <th>fiProductClassDesc</th>\n",
       "      <th>state</th>\n",
       "      <th>ProductGroup</th>\n",
       "      <th>ProductGroupDesc</th>\n",
       "      <th>Drive_System</th>\n",
       "      <th>Enclosure</th>\n",
       "      <th>Forks</th>\n",
       "      <th>Pad_Type</th>\n",
       "      <th>Ride_Control</th>\n",
       "      <th>Stick</th>\n",
       "      <th>Transmission</th>\n",
       "      <th>Turbocharged</th>\n",
       "      <th>Blade_Extension</th>\n",
       "      <th>Blade_Width</th>\n",
       "      <th>Enclosure_Type</th>\n",
       "      <th>Engine_Horsepower</th>\n",
       "      <th>Hydraulics</th>\n",
       "      <th>Pushblock</th>\n",
       "      <th>Ripper</th>\n",
       "      <th>Scarifier</th>\n",
       "      <th>Tip_Control</th>\n",
       "      <th>Tire_Size</th>\n",
       "      <th>Coupler</th>\n",
       "      <th>Coupler_System</th>\n",
       "      <th>Grouser_Tracks</th>\n",
       "      <th>Hydraulics_Flow</th>\n",
       "      <th>Track_Type</th>\n",
       "      <th>Undercarriage_Pad_Width</th>\n",
       "      <th>Stick_Length</th>\n",
       "      <th>Thumb</th>\n",
       "      <th>Pattern_Changer</th>\n",
       "      <th>Grouser_Type</th>\n",
       "      <th>Backhoe_Mounting</th>\n",
       "      <th>Blade_Type</th>\n",
       "      <th>Travel_Controls</th>\n",
       "      <th>Differential_Type</th>\n",
       "      <th>Steering_Controls</th>\n",
       "      <th>saleIs_month_end</th>\n",
       "      <th>saleIs_month_start</th>\n",
       "      <th>saleIs_quarter_end</th>\n",
       "      <th>saleIs_quarter_start</th>\n",
       "      <th>saleIs_year_end</th>\n",
       "      <th>saleIs_year_start</th>\n",
       "      <th>auctioneerID_na</th>\n",
       "      <th>MachineHoursCurrentMeter_na</th>\n",
       "      <th>SalesID</th>\n",
       "      <th>MachineID</th>\n",
       "      <th>ModelID</th>\n",
       "      <th>datasource</th>\n",
       "      <th>auctioneerID</th>\n",
       "      <th>YearMade</th>\n",
       "      <th>MachineHoursCurrentMeter</th>\n",
       "      <th>saleYear</th>\n",
       "      <th>saleMonth</th>\n",
       "      <th>saleWeek</th>\n",
       "      <th>saleDay</th>\n",
       "      <th>saleDayofweek</th>\n",
       "      <th>saleDayofyear</th>\n",
       "      <th>saleElapsed</th>\n",
       "      <th>SalePrice</th>\n",
       "    </tr>\n",
       "  </thead>\n",
       "  <tbody>\n",
       "    <tr>\n",
       "      <th>0</th>\n",
       "      <td>Low</td>\n",
       "      <td>521D</td>\n",
       "      <td>521</td>\n",
       "      <td>D</td>\n",
       "      <td>#na#</td>\n",
       "      <td>#na#</td>\n",
       "      <td>#na#</td>\n",
       "      <td>Wheel Loader - 110.0 to 120.0 Horsepower</td>\n",
       "      <td>Alabama</td>\n",
       "      <td>WL</td>\n",
       "      <td>Wheel Loader</td>\n",
       "      <td>#na#</td>\n",
       "      <td>EROPS w AC</td>\n",
       "      <td>None or Unspecified</td>\n",
       "      <td>#na#</td>\n",
       "      <td>None or Unspecified</td>\n",
       "      <td>#na#</td>\n",
       "      <td>#na#</td>\n",
       "      <td>#na#</td>\n",
       "      <td>#na#</td>\n",
       "      <td>#na#</td>\n",
       "      <td>#na#</td>\n",
       "      <td>#na#</td>\n",
       "      <td>2 Valve</td>\n",
       "      <td>#na#</td>\n",
       "      <td>#na#</td>\n",
       "      <td>#na#</td>\n",
       "      <td>#na#</td>\n",
       "      <td>None or Unspecified</td>\n",
       "      <td>None or Unspecified</td>\n",
       "      <td>#na#</td>\n",
       "      <td>#na#</td>\n",
       "      <td>#na#</td>\n",
       "      <td>#na#</td>\n",
       "      <td>#na#</td>\n",
       "      <td>#na#</td>\n",
       "      <td>#na#</td>\n",
       "      <td>#na#</td>\n",
       "      <td>#na#</td>\n",
       "      <td>#na#</td>\n",
       "      <td>#na#</td>\n",
       "      <td>#na#</td>\n",
       "      <td>Standard</td>\n",
       "      <td>Conventional</td>\n",
       "      <td>False</td>\n",
       "      <td>False</td>\n",
       "      <td>False</td>\n",
       "      <td>False</td>\n",
       "      <td>False</td>\n",
       "      <td>False</td>\n",
       "      <td>False</td>\n",
       "      <td>False</td>\n",
       "      <td>1139246.0</td>\n",
       "      <td>999089.0</td>\n",
       "      <td>3157.0</td>\n",
       "      <td>121.0</td>\n",
       "      <td>3.0</td>\n",
       "      <td>2004.0</td>\n",
       "      <td>68.0</td>\n",
       "      <td>2006.0</td>\n",
       "      <td>11.0</td>\n",
       "      <td>46.0</td>\n",
       "      <td>16.0</td>\n",
       "      <td>3.0</td>\n",
       "      <td>320.0</td>\n",
       "      <td>1.163635e+09</td>\n",
       "      <td>11.097410</td>\n",
       "    </tr>\n",
       "    <tr>\n",
       "      <th>1</th>\n",
       "      <td>Low</td>\n",
       "      <td>950FII</td>\n",
       "      <td>950</td>\n",
       "      <td>F</td>\n",
       "      <td>II</td>\n",
       "      <td>#na#</td>\n",
       "      <td>Medium</td>\n",
       "      <td>Wheel Loader - 150.0 to 175.0 Horsepower</td>\n",
       "      <td>North Carolina</td>\n",
       "      <td>WL</td>\n",
       "      <td>Wheel Loader</td>\n",
       "      <td>#na#</td>\n",
       "      <td>EROPS w AC</td>\n",
       "      <td>None or Unspecified</td>\n",
       "      <td>#na#</td>\n",
       "      <td>None or Unspecified</td>\n",
       "      <td>#na#</td>\n",
       "      <td>#na#</td>\n",
       "      <td>#na#</td>\n",
       "      <td>#na#</td>\n",
       "      <td>#na#</td>\n",
       "      <td>#na#</td>\n",
       "      <td>#na#</td>\n",
       "      <td>2 Valve</td>\n",
       "      <td>#na#</td>\n",
       "      <td>#na#</td>\n",
       "      <td>#na#</td>\n",
       "      <td>#na#</td>\n",
       "      <td>23.5</td>\n",
       "      <td>None or Unspecified</td>\n",
       "      <td>#na#</td>\n",
       "      <td>#na#</td>\n",
       "      <td>#na#</td>\n",
       "      <td>#na#</td>\n",
       "      <td>#na#</td>\n",
       "      <td>#na#</td>\n",
       "      <td>#na#</td>\n",
       "      <td>#na#</td>\n",
       "      <td>#na#</td>\n",
       "      <td>#na#</td>\n",
       "      <td>#na#</td>\n",
       "      <td>#na#</td>\n",
       "      <td>Standard</td>\n",
       "      <td>Conventional</td>\n",
       "      <td>False</td>\n",
       "      <td>False</td>\n",
       "      <td>False</td>\n",
       "      <td>False</td>\n",
       "      <td>False</td>\n",
       "      <td>False</td>\n",
       "      <td>False</td>\n",
       "      <td>False</td>\n",
       "      <td>1139248.0</td>\n",
       "      <td>117657.0</td>\n",
       "      <td>77.0</td>\n",
       "      <td>121.0</td>\n",
       "      <td>3.0</td>\n",
       "      <td>1996.0</td>\n",
       "      <td>4640.0</td>\n",
       "      <td>2004.0</td>\n",
       "      <td>3.0</td>\n",
       "      <td>13.0</td>\n",
       "      <td>26.0</td>\n",
       "      <td>4.0</td>\n",
       "      <td>86.0</td>\n",
       "      <td>1.080259e+09</td>\n",
       "      <td>10.950807</td>\n",
       "    </tr>\n",
       "    <tr>\n",
       "      <th>2</th>\n",
       "      <td>High</td>\n",
       "      <td>226</td>\n",
       "      <td>226</td>\n",
       "      <td>#na#</td>\n",
       "      <td>#na#</td>\n",
       "      <td>#na#</td>\n",
       "      <td>#na#</td>\n",
       "      <td>Skid Steer Loader - 1351.0 to 1601.0 Lb Operating Capacity</td>\n",
       "      <td>New York</td>\n",
       "      <td>SSL</td>\n",
       "      <td>Skid Steer Loaders</td>\n",
       "      <td>#na#</td>\n",
       "      <td>OROPS</td>\n",
       "      <td>None or Unspecified</td>\n",
       "      <td>#na#</td>\n",
       "      <td>#na#</td>\n",
       "      <td>#na#</td>\n",
       "      <td>#na#</td>\n",
       "      <td>#na#</td>\n",
       "      <td>#na#</td>\n",
       "      <td>#na#</td>\n",
       "      <td>#na#</td>\n",
       "      <td>#na#</td>\n",
       "      <td>Auxiliary</td>\n",
       "      <td>#na#</td>\n",
       "      <td>#na#</td>\n",
       "      <td>#na#</td>\n",
       "      <td>#na#</td>\n",
       "      <td>#na#</td>\n",
       "      <td>None or Unspecified</td>\n",
       "      <td>None or Unspecified</td>\n",
       "      <td>None or Unspecified</td>\n",
       "      <td>Standard</td>\n",
       "      <td>#na#</td>\n",
       "      <td>#na#</td>\n",
       "      <td>#na#</td>\n",
       "      <td>#na#</td>\n",
       "      <td>#na#</td>\n",
       "      <td>#na#</td>\n",
       "      <td>#na#</td>\n",
       "      <td>#na#</td>\n",
       "      <td>#na#</td>\n",
       "      <td>#na#</td>\n",
       "      <td>#na#</td>\n",
       "      <td>False</td>\n",
       "      <td>False</td>\n",
       "      <td>False</td>\n",
       "      <td>False</td>\n",
       "      <td>False</td>\n",
       "      <td>False</td>\n",
       "      <td>False</td>\n",
       "      <td>False</td>\n",
       "      <td>1139249.0</td>\n",
       "      <td>434808.0</td>\n",
       "      <td>7009.0</td>\n",
       "      <td>121.0</td>\n",
       "      <td>3.0</td>\n",
       "      <td>2001.0</td>\n",
       "      <td>2838.0</td>\n",
       "      <td>2004.0</td>\n",
       "      <td>2.0</td>\n",
       "      <td>9.0</td>\n",
       "      <td>26.0</td>\n",
       "      <td>3.0</td>\n",
       "      <td>57.0</td>\n",
       "      <td>1.077754e+09</td>\n",
       "      <td>9.210340</td>\n",
       "    </tr>\n",
       "    <tr>\n",
       "      <th>3</th>\n",
       "      <td>High</td>\n",
       "      <td>PC120-6E</td>\n",
       "      <td>PC120</td>\n",
       "      <td>#na#</td>\n",
       "      <td>-6E</td>\n",
       "      <td>#na#</td>\n",
       "      <td>Small</td>\n",
       "      <td>Hydraulic Excavator, Track - 12.0 to 14.0 Metric Tons</td>\n",
       "      <td>Texas</td>\n",
       "      <td>TEX</td>\n",
       "      <td>Track Excavators</td>\n",
       "      <td>#na#</td>\n",
       "      <td>EROPS w AC</td>\n",
       "      <td>#na#</td>\n",
       "      <td>#na#</td>\n",
       "      <td>#na#</td>\n",
       "      <td>#na#</td>\n",
       "      <td>#na#</td>\n",
       "      <td>#na#</td>\n",
       "      <td>#na#</td>\n",
       "      <td>#na#</td>\n",
       "      <td>#na#</td>\n",
       "      <td>#na#</td>\n",
       "      <td>2 Valve</td>\n",
       "      <td>#na#</td>\n",
       "      <td>#na#</td>\n",
       "      <td>#na#</td>\n",
       "      <td>#na#</td>\n",
       "      <td>#na#</td>\n",
       "      <td>None or Unspecified</td>\n",
       "      <td>#na#</td>\n",
       "      <td>#na#</td>\n",
       "      <td>#na#</td>\n",
       "      <td>#na#</td>\n",
       "      <td>#na#</td>\n",
       "      <td>#na#</td>\n",
       "      <td>#na#</td>\n",
       "      <td>#na#</td>\n",
       "      <td>#na#</td>\n",
       "      <td>#na#</td>\n",
       "      <td>#na#</td>\n",
       "      <td>#na#</td>\n",
       "      <td>#na#</td>\n",
       "      <td>#na#</td>\n",
       "      <td>False</td>\n",
       "      <td>False</td>\n",
       "      <td>False</td>\n",
       "      <td>False</td>\n",
       "      <td>False</td>\n",
       "      <td>False</td>\n",
       "      <td>False</td>\n",
       "      <td>False</td>\n",
       "      <td>1139251.0</td>\n",
       "      <td>1026470.0</td>\n",
       "      <td>332.0</td>\n",
       "      <td>121.0</td>\n",
       "      <td>3.0</td>\n",
       "      <td>2001.0</td>\n",
       "      <td>3486.0</td>\n",
       "      <td>2011.0</td>\n",
       "      <td>5.0</td>\n",
       "      <td>20.0</td>\n",
       "      <td>19.0</td>\n",
       "      <td>3.0</td>\n",
       "      <td>139.0</td>\n",
       "      <td>1.305763e+09</td>\n",
       "      <td>10.558414</td>\n",
       "    </tr>\n",
       "    <tr>\n",
       "      <th>4</th>\n",
       "      <td>Medium</td>\n",
       "      <td>S175</td>\n",
       "      <td>S175</td>\n",
       "      <td>#na#</td>\n",
       "      <td>#na#</td>\n",
       "      <td>#na#</td>\n",
       "      <td>#na#</td>\n",
       "      <td>Skid Steer Loader - 1601.0 to 1751.0 Lb Operating Capacity</td>\n",
       "      <td>New York</td>\n",
       "      <td>SSL</td>\n",
       "      <td>Skid Steer Loaders</td>\n",
       "      <td>#na#</td>\n",
       "      <td>EROPS</td>\n",
       "      <td>None or Unspecified</td>\n",
       "      <td>#na#</td>\n",
       "      <td>#na#</td>\n",
       "      <td>#na#</td>\n",
       "      <td>#na#</td>\n",
       "      <td>#na#</td>\n",
       "      <td>#na#</td>\n",
       "      <td>#na#</td>\n",
       "      <td>#na#</td>\n",
       "      <td>#na#</td>\n",
       "      <td>Auxiliary</td>\n",
       "      <td>#na#</td>\n",
       "      <td>#na#</td>\n",
       "      <td>#na#</td>\n",
       "      <td>#na#</td>\n",
       "      <td>#na#</td>\n",
       "      <td>None or Unspecified</td>\n",
       "      <td>None or Unspecified</td>\n",
       "      <td>None or Unspecified</td>\n",
       "      <td>Standard</td>\n",
       "      <td>#na#</td>\n",
       "      <td>#na#</td>\n",
       "      <td>#na#</td>\n",
       "      <td>#na#</td>\n",
       "      <td>#na#</td>\n",
       "      <td>#na#</td>\n",
       "      <td>#na#</td>\n",
       "      <td>#na#</td>\n",
       "      <td>#na#</td>\n",
       "      <td>#na#</td>\n",
       "      <td>#na#</td>\n",
       "      <td>False</td>\n",
       "      <td>False</td>\n",
       "      <td>False</td>\n",
       "      <td>False</td>\n",
       "      <td>False</td>\n",
       "      <td>False</td>\n",
       "      <td>False</td>\n",
       "      <td>False</td>\n",
       "      <td>1139253.0</td>\n",
       "      <td>1057373.0</td>\n",
       "      <td>17311.0</td>\n",
       "      <td>121.0</td>\n",
       "      <td>3.0</td>\n",
       "      <td>2007.0</td>\n",
       "      <td>722.0</td>\n",
       "      <td>2009.0</td>\n",
       "      <td>7.0</td>\n",
       "      <td>30.0</td>\n",
       "      <td>23.0</td>\n",
       "      <td>3.0</td>\n",
       "      <td>204.0</td>\n",
       "      <td>1.248307e+09</td>\n",
       "      <td>9.305651</td>\n",
       "    </tr>\n",
       "  </tbody>\n",
       "</table>"
      ],
      "text/plain": [
       "<IPython.core.display.HTML object>"
      ]
     },
     "metadata": {},
     "output_type": "display_data"
    }
   ],
   "source": [
    "to.show(5)"
   ]
  },
  {
   "cell_type": "markdown",
   "id": "e22c181f",
   "metadata": {
    "papermill": {
     "duration": 0.015123,
     "end_time": "2023-04-06T18:42:04.650492",
     "exception": false,
     "start_time": "2023-04-06T18:42:04.635369",
     "status": "completed"
    },
    "tags": []
   },
   "source": [
    "However, the underlying items are all numeric:"
   ]
  },
  {
   "cell_type": "code",
   "execution_count": 23,
   "id": "6eae483c",
   "metadata": {
    "execution": {
     "iopub.execute_input": "2023-04-06T18:42:04.683981Z",
     "iopub.status.busy": "2023-04-06T18:42:04.683296Z",
     "iopub.status.idle": "2023-04-06T18:42:04.712628Z",
     "shell.execute_reply": "2023-04-06T18:42:04.711266Z"
    },
    "papermill": {
     "duration": 0.049258,
     "end_time": "2023-04-06T18:42:04.715368",
     "exception": false,
     "start_time": "2023-04-06T18:42:04.666110",
     "status": "completed"
    },
    "tags": []
   },
   "outputs": [
    {
     "data": {
      "text/html": [
       "<div>\n",
       "<style scoped>\n",
       "    .dataframe tbody tr th:only-of-type {\n",
       "        vertical-align: middle;\n",
       "    }\n",
       "\n",
       "    .dataframe tbody tr th {\n",
       "        vertical-align: top;\n",
       "    }\n",
       "\n",
       "    .dataframe thead th {\n",
       "        text-align: right;\n",
       "    }\n",
       "</style>\n",
       "<table border=\"1\" class=\"dataframe\">\n",
       "  <thead>\n",
       "    <tr style=\"text-align: right;\">\n",
       "      <th></th>\n",
       "      <th>SalesID</th>\n",
       "      <th>SalePrice</th>\n",
       "      <th>MachineID</th>\n",
       "      <th>ModelID</th>\n",
       "      <th>datasource</th>\n",
       "      <th>auctioneerID</th>\n",
       "      <th>YearMade</th>\n",
       "      <th>MachineHoursCurrentMeter</th>\n",
       "      <th>UsageBand</th>\n",
       "      <th>fiModelDesc</th>\n",
       "      <th>...</th>\n",
       "      <th>saleDayofyear</th>\n",
       "      <th>saleIs_month_end</th>\n",
       "      <th>saleIs_month_start</th>\n",
       "      <th>saleIs_quarter_end</th>\n",
       "      <th>saleIs_quarter_start</th>\n",
       "      <th>saleIs_year_end</th>\n",
       "      <th>saleIs_year_start</th>\n",
       "      <th>saleElapsed</th>\n",
       "      <th>auctioneerID_na</th>\n",
       "      <th>MachineHoursCurrentMeter_na</th>\n",
       "    </tr>\n",
       "  </thead>\n",
       "  <tbody>\n",
       "    <tr>\n",
       "      <th>0</th>\n",
       "      <td>-0.834058</td>\n",
       "      <td>11.097410</td>\n",
       "      <td>-0.500092</td>\n",
       "      <td>-0.601280</td>\n",
       "      <td>-1.508141</td>\n",
       "      <td>-0.202014</td>\n",
       "      <td>0.359745</td>\n",
       "      <td>-0.070798</td>\n",
       "      <td>2</td>\n",
       "      <td>963</td>\n",
       "      <td>...</td>\n",
       "      <td>1.422504</td>\n",
       "      <td>1</td>\n",
       "      <td>1</td>\n",
       "      <td>1</td>\n",
       "      <td>1</td>\n",
       "      <td>1</td>\n",
       "      <td>1</td>\n",
       "      <td>0.382991</td>\n",
       "      <td>1</td>\n",
       "      <td>1</td>\n",
       "    </tr>\n",
       "    <tr>\n",
       "      <th>1</th>\n",
       "      <td>-0.834056</td>\n",
       "      <td>10.950807</td>\n",
       "      <td>-2.478315</td>\n",
       "      <td>-1.095297</td>\n",
       "      <td>-1.508141</td>\n",
       "      <td>-0.202014</td>\n",
       "      <td>0.332374</td>\n",
       "      <td>0.206743</td>\n",
       "      <td>2</td>\n",
       "      <td>1745</td>\n",
       "      <td>...</td>\n",
       "      <td>-0.855193</td>\n",
       "      <td>1</td>\n",
       "      <td>1</td>\n",
       "      <td>1</td>\n",
       "      <td>1</td>\n",
       "      <td>1</td>\n",
       "      <td>1</td>\n",
       "      <td>-0.073841</td>\n",
       "      <td>1</td>\n",
       "      <td>1</td>\n",
       "    </tr>\n",
       "    <tr>\n",
       "      <th>2</th>\n",
       "      <td>-0.834055</td>\n",
       "      <td>9.210340</td>\n",
       "      <td>-1.766524</td>\n",
       "      <td>0.016563</td>\n",
       "      <td>-1.508141</td>\n",
       "      <td>-0.202014</td>\n",
       "      <td>0.349481</td>\n",
       "      <td>0.097353</td>\n",
       "      <td>1</td>\n",
       "      <td>336</td>\n",
       "      <td>...</td>\n",
       "      <td>-1.137472</td>\n",
       "      <td>1</td>\n",
       "      <td>1</td>\n",
       "      <td>1</td>\n",
       "      <td>1</td>\n",
       "      <td>1</td>\n",
       "      <td>1</td>\n",
       "      <td>-0.087569</td>\n",
       "      <td>1</td>\n",
       "      <td>1</td>\n",
       "    </tr>\n",
       "    <tr>\n",
       "      <th>3</th>\n",
       "      <td>-0.834053</td>\n",
       "      <td>10.558414</td>\n",
       "      <td>-0.438640</td>\n",
       "      <td>-1.054397</td>\n",
       "      <td>-1.508141</td>\n",
       "      <td>-0.202014</td>\n",
       "      <td>0.349481</td>\n",
       "      <td>0.136690</td>\n",
       "      <td>1</td>\n",
       "      <td>3716</td>\n",
       "      <td>...</td>\n",
       "      <td>-0.339304</td>\n",
       "      <td>1</td>\n",
       "      <td>1</td>\n",
       "      <td>1</td>\n",
       "      <td>1</td>\n",
       "      <td>1</td>\n",
       "      <td>1</td>\n",
       "      <td>1.161734</td>\n",
       "      <td>1</td>\n",
       "      <td>1</td>\n",
       "    </tr>\n",
       "    <tr>\n",
       "      <th>4</th>\n",
       "      <td>-0.834051</td>\n",
       "      <td>9.305651</td>\n",
       "      <td>-0.369284</td>\n",
       "      <td>1.668957</td>\n",
       "      <td>-1.508141</td>\n",
       "      <td>-0.202014</td>\n",
       "      <td>0.370009</td>\n",
       "      <td>-0.031098</td>\n",
       "      <td>3</td>\n",
       "      <td>4261</td>\n",
       "      <td>...</td>\n",
       "      <td>0.293389</td>\n",
       "      <td>1</td>\n",
       "      <td>1</td>\n",
       "      <td>1</td>\n",
       "      <td>1</td>\n",
       "      <td>1</td>\n",
       "      <td>1</td>\n",
       "      <td>0.846923</td>\n",
       "      <td>1</td>\n",
       "      <td>1</td>\n",
       "    </tr>\n",
       "  </tbody>\n",
       "</table>\n",
       "<p>5 rows × 67 columns</p>\n",
       "</div>"
      ],
      "text/plain": [
       "    SalesID  SalePrice  MachineID   ModelID  datasource  auctioneerID  \\\n",
       "0 -0.834058  11.097410  -0.500092 -0.601280   -1.508141     -0.202014   \n",
       "1 -0.834056  10.950807  -2.478315 -1.095297   -1.508141     -0.202014   \n",
       "2 -0.834055   9.210340  -1.766524  0.016563   -1.508141     -0.202014   \n",
       "3 -0.834053  10.558414  -0.438640 -1.054397   -1.508141     -0.202014   \n",
       "4 -0.834051   9.305651  -0.369284  1.668957   -1.508141     -0.202014   \n",
       "\n",
       "   YearMade  MachineHoursCurrentMeter  UsageBand  fiModelDesc  ...  \\\n",
       "0  0.359745                 -0.070798          2          963  ...   \n",
       "1  0.332374                  0.206743          2         1745  ...   \n",
       "2  0.349481                  0.097353          1          336  ...   \n",
       "3  0.349481                  0.136690          1         3716  ...   \n",
       "4  0.370009                 -0.031098          3         4261  ...   \n",
       "\n",
       "   saleDayofyear  saleIs_month_end  saleIs_month_start  saleIs_quarter_end  \\\n",
       "0       1.422504                 1                   1                   1   \n",
       "1      -0.855193                 1                   1                   1   \n",
       "2      -1.137472                 1                   1                   1   \n",
       "3      -0.339304                 1                   1                   1   \n",
       "4       0.293389                 1                   1                   1   \n",
       "\n",
       "   saleIs_quarter_start  saleIs_year_end  saleIs_year_start  saleElapsed  \\\n",
       "0                     1                1                  1     0.382991   \n",
       "1                     1                1                  1    -0.073841   \n",
       "2                     1                1                  1    -0.087569   \n",
       "3                     1                1                  1     1.161734   \n",
       "4                     1                1                  1     0.846923   \n",
       "\n",
       "   auctioneerID_na  MachineHoursCurrentMeter_na  \n",
       "0                1                            1  \n",
       "1                1                            1  \n",
       "2                1                            1  \n",
       "3                1                            1  \n",
       "4                1                            1  \n",
       "\n",
       "[5 rows x 67 columns]"
      ]
     },
     "execution_count": 23,
     "metadata": {},
     "output_type": "execute_result"
    }
   ],
   "source": [
    "to.items.head(5)"
   ]
  },
  {
   "cell_type": "markdown",
   "id": "2057195a",
   "metadata": {
    "papermill": {
     "duration": 0.015609,
     "end_time": "2023-04-06T18:42:04.747014",
     "exception": false,
     "start_time": "2023-04-06T18:42:04.731405",
     "status": "completed"
    },
    "tags": []
   },
   "source": [
    "The conversion of categorical columns to numbers is done by simply replacing each unique level with a number. The numbers associated with the levels are chosen consecutively as they are seen in a column, so there’s no particular meaning to the numbers in categorical columns after conversion. The exception is if you first convert a column to a Pandas ordered category (as we did for ProductSize earlier), in which case the ordering you chose is used. We can see the mapping by looking at the classes attribute:"
   ]
  },
  {
   "cell_type": "code",
   "execution_count": 24,
   "id": "d7bfb76f",
   "metadata": {
    "execution": {
     "iopub.execute_input": "2023-04-06T18:42:04.780956Z",
     "iopub.status.busy": "2023-04-06T18:42:04.780479Z",
     "iopub.status.idle": "2023-04-06T18:42:04.788563Z",
     "shell.execute_reply": "2023-04-06T18:42:04.787246Z"
    },
    "papermill": {
     "duration": 0.028383,
     "end_time": "2023-04-06T18:42:04.791325",
     "exception": false,
     "start_time": "2023-04-06T18:42:04.762942",
     "status": "completed"
    },
    "tags": []
   },
   "outputs": [
    {
     "data": {
      "text/plain": [
       "['#na#', 'Compact', 'Large', 'Large / Medium', 'Medium', 'Mini', 'Small']"
      ]
     },
     "execution_count": 24,
     "metadata": {},
     "output_type": "execute_result"
    }
   ],
   "source": [
    "to.classes['ProductSize']"
   ]
  },
  {
   "cell_type": "markdown",
   "id": "38a302a4",
   "metadata": {
    "papermill": {
     "duration": 0.024082,
     "end_time": "2023-04-06T18:42:04.831717",
     "exception": false,
     "start_time": "2023-04-06T18:42:04.807635",
     "status": "completed"
    },
    "tags": []
   },
   "source": [
    "Since it takes a minute or so to process the data to get to this point, we should save it —that way, in the future, we can continue our work from here without rerunning the previous steps. fastai provides a save method that uses Python’s pickle system to save nearly any Python object:"
   ]
  },
  {
   "cell_type": "code",
   "execution_count": 25,
   "id": "def7525e",
   "metadata": {
    "execution": {
     "iopub.execute_input": "2023-04-06T18:42:04.880828Z",
     "iopub.status.busy": "2023-04-06T18:42:04.879807Z",
     "iopub.status.idle": "2023-04-06T18:42:04.982736Z",
     "shell.execute_reply": "2023-04-06T18:42:04.981722Z"
    },
    "papermill": {
     "duration": 0.130979,
     "end_time": "2023-04-06T18:42:04.985549",
     "exception": false,
     "start_time": "2023-04-06T18:42:04.854570",
     "status": "completed"
    },
    "tags": []
   },
   "outputs": [],
   "source": [
    "import pickle\n",
    "pickle.dump(to,open(\"/kaggle/working/to.pkl\",\"wb\"),protocol=pickle.HIGHEST_PROTOCOL)"
   ]
  },
  {
   "cell_type": "code",
   "execution_count": 26,
   "id": "9c4c9432",
   "metadata": {
    "execution": {
     "iopub.execute_input": "2023-04-06T18:42:05.019756Z",
     "iopub.status.busy": "2023-04-06T18:42:05.019295Z",
     "iopub.status.idle": "2023-04-06T18:42:05.065507Z",
     "shell.execute_reply": "2023-04-06T18:42:05.064156Z"
    },
    "papermill": {
     "duration": 0.066962,
     "end_time": "2023-04-06T18:42:05.068789",
     "exception": false,
     "start_time": "2023-04-06T18:42:05.001827",
     "status": "completed"
    },
    "tags": []
   },
   "outputs": [],
   "source": [
    "to = pickle.load(open(\"/kaggle/working/to.pkl\",\"rb\"))"
   ]
  },
  {
   "cell_type": "code",
   "execution_count": 27,
   "id": "cf138274",
   "metadata": {
    "execution": {
     "iopub.execute_input": "2023-04-06T18:42:05.105738Z",
     "iopub.status.busy": "2023-04-06T18:42:05.105290Z",
     "iopub.status.idle": "2023-04-06T18:42:05.113060Z",
     "shell.execute_reply": "2023-04-06T18:42:05.111610Z"
    },
    "papermill": {
     "duration": 0.030687,
     "end_time": "2023-04-06T18:42:05.115574",
     "exception": false,
     "start_time": "2023-04-06T18:42:05.084887",
     "status": "completed"
    },
    "tags": []
   },
   "outputs": [
    {
     "data": {
      "text/plain": [
       "['#na#', 'Compact', 'Large', 'Large / Medium', 'Medium', 'Mini', 'Small']"
      ]
     },
     "execution_count": 27,
     "metadata": {},
     "output_type": "execute_result"
    }
   ],
   "source": [
    "to.classes['ProductSize']"
   ]
  },
  {
   "cell_type": "markdown",
   "id": "9ea02839",
   "metadata": {
    "papermill": {
     "duration": 0.015796,
     "end_time": "2023-04-06T18:42:05.147747",
     "exception": false,
     "start_time": "2023-04-06T18:42:05.131951",
     "status": "completed"
    },
    "tags": []
   },
   "source": [
    "## Creating the Decision Tree\n",
    "We define our independent and dependent variables:"
   ]
  },
  {
   "cell_type": "code",
   "execution_count": 28,
   "id": "e22d2071",
   "metadata": {
    "execution": {
     "iopub.execute_input": "2023-04-06T18:42:05.182021Z",
     "iopub.status.busy": "2023-04-06T18:42:05.181590Z",
     "iopub.status.idle": "2023-04-06T18:42:05.256700Z",
     "shell.execute_reply": "2023-04-06T18:42:05.255406Z"
    },
    "papermill": {
     "duration": 0.09567,
     "end_time": "2023-04-06T18:42:05.259544",
     "exception": false,
     "start_time": "2023-04-06T18:42:05.163874",
     "status": "completed"
    },
    "tags": []
   },
   "outputs": [],
   "source": [
    "# train_independent data, train_dependent data\n",
    "xs,y = to.train.xs,to.train.y\n",
    "\n",
    "# validation_independent data, validation_dependent data\n",
    "valid_xs,valid_y = to.valid.xs,to.valid.y"
   ]
  },
  {
   "cell_type": "markdown",
   "id": "52417faa",
   "metadata": {
    "papermill": {
     "duration": 0.015676,
     "end_time": "2023-04-06T18:42:05.291485",
     "exception": false,
     "start_time": "2023-04-06T18:42:05.275809",
     "status": "completed"
    },
    "tags": []
   },
   "source": [
    "Now that our data is all numeric, and there are no missing values, we can create a decision tree:"
   ]
  },
  {
   "cell_type": "code",
   "execution_count": 29,
   "id": "29e90921",
   "metadata": {
    "execution": {
     "iopub.execute_input": "2023-04-06T18:42:05.325574Z",
     "iopub.status.busy": "2023-04-06T18:42:05.325182Z",
     "iopub.status.idle": "2023-04-06T18:42:07.788768Z",
     "shell.execute_reply": "2023-04-06T18:42:07.787418Z"
    },
    "papermill": {
     "duration": 2.484455,
     "end_time": "2023-04-06T18:42:07.791943",
     "exception": false,
     "start_time": "2023-04-06T18:42:05.307488",
     "status": "completed"
    },
    "tags": []
   },
   "outputs": [],
   "source": [
    "from sklearn.tree import DecisionTreeRegressor,plot_tree\n",
    "\n",
    "model = DecisionTreeRegressor(max_leaf_nodes = 4) # model instantiation\n",
    "model.fit(xs, y); # model training"
   ]
  },
  {
   "cell_type": "markdown",
   "id": "5c50130b",
   "metadata": {
    "papermill": {
     "duration": 0.015536,
     "end_time": "2023-04-06T18:42:07.823485",
     "exception": false,
     "start_time": "2023-04-06T18:42:07.807949",
     "status": "completed"
    },
    "tags": []
   },
   "source": [
    "To keep it simple, we’ve told sklearn to create just four leaf nodes. To see what it’s learned, we can display the tree:\n"
   ]
  },
  {
   "cell_type": "code",
   "execution_count": 30,
   "id": "920a0998",
   "metadata": {
    "execution": {
     "iopub.execute_input": "2023-04-06T18:42:07.858304Z",
     "iopub.status.busy": "2023-04-06T18:42:07.857899Z",
     "iopub.status.idle": "2023-04-06T18:42:08.419396Z",
     "shell.execute_reply": "2023-04-06T18:42:08.418094Z"
    },
    "papermill": {
     "duration": 0.581871,
     "end_time": "2023-04-06T18:42:08.421875",
     "exception": false,
     "start_time": "2023-04-06T18:42:07.840004",
     "status": "completed"
    },
    "tags": []
   },
   "outputs": [
    {
     "data": {
      "image/png": "[encoded data removed]",
      "text/plain": [
       "<Figure size 640x480 with 1 Axes>"
      ]
     },
     "metadata": {},
     "output_type": "display_data"
    }
   ],
   "source": [
    "plot_tree(model,filled=True);"
   ]
  },
  {
   "cell_type": "code",
   "execution_count": 31,
   "id": "d2ceee1b",
   "metadata": {
    "execution": {
     "iopub.execute_input": "2023-04-06T18:42:08.461358Z",
     "iopub.status.busy": "2023-04-06T18:42:08.460830Z",
     "iopub.status.idle": "2023-04-06T18:42:08.467008Z",
     "shell.execute_reply": "2023-04-06T18:42:08.466048Z"
    },
    "papermill": {
     "duration": 0.028922,
     "end_time": "2023-04-06T18:42:08.469375",
     "exception": false,
     "start_time": "2023-04-06T18:42:08.440453",
     "status": "completed"
    },
    "tags": []
   },
   "outputs": [],
   "source": [
    "def r_mse(pred,y): \n",
    "    return round(math.sqrt(((pred-y)**2).mean())) \n",
    "\n",
    "def m_rmse(model, xs, y): \n",
    "    return r_mse(model.predict(xs), y)"
   ]
  },
  {
   "cell_type": "code",
   "execution_count": 32,
   "id": "b272b309",
   "metadata": {
    "execution": {
     "iopub.execute_input": "2023-04-06T18:42:08.509063Z",
     "iopub.status.busy": "2023-04-06T18:42:08.508504Z",
     "iopub.status.idle": "2023-04-06T18:42:08.730024Z",
     "shell.execute_reply": "2023-04-06T18:42:08.728691Z"
    },
    "papermill": {
     "duration": 0.244932,
     "end_time": "2023-04-06T18:42:08.733164",
     "exception": false,
     "start_time": "2023-04-06T18:42:08.488232",
     "status": "completed"
    },
    "tags": []
   },
   "outputs": [
    {
     "data": {
      "text/plain": [
       "1"
      ]
     },
     "execution_count": 32,
     "metadata": {},
     "output_type": "execute_result"
    }
   ],
   "source": [
    "m_rmse(model, xs, y)"
   ]
  },
  {
   "cell_type": "markdown",
   "id": "683dc474",
   "metadata": {
    "papermill": {
     "duration": 0.019432,
     "end_time": "2023-04-06T18:42:08.771690",
     "exception": false,
     "start_time": "2023-04-06T18:42:08.752258",
     "status": "completed"
    },
    "tags": []
   },
   "source": [
    "So, our model is perfect, right? Not so fast...remember, we really need to check the validation set, to ensure we’re not overfitting:"
   ]
  },
  {
   "cell_type": "code",
   "execution_count": 33,
   "id": "c754f028",
   "metadata": {
    "execution": {
     "iopub.execute_input": "2023-04-06T18:42:08.811559Z",
     "iopub.status.busy": "2023-04-06T18:42:08.811032Z",
     "iopub.status.idle": "2023-04-06T18:42:08.825039Z",
     "shell.execute_reply": "2023-04-06T18:42:08.823840Z"
    },
    "papermill": {
     "duration": 0.037548,
     "end_time": "2023-04-06T18:42:08.827780",
     "exception": false,
     "start_time": "2023-04-06T18:42:08.790232",
     "status": "completed"
    },
    "tags": []
   },
   "outputs": [
    {
     "data": {
      "text/plain": [
       "1"
      ]
     },
     "execution_count": 33,
     "metadata": {},
     "output_type": "execute_result"
    }
   ],
   "source": [
    "m_rmse(model, valid_xs, valid_y)"
   ]
  },
  {
   "cell_type": "markdown",
   "id": "2d32c065",
   "metadata": {
    "papermill": {
     "duration": 0.01785,
     "end_time": "2023-04-06T18:42:08.864179",
     "exception": false,
     "start_time": "2023-04-06T18:42:08.846329",
     "status": "completed"
    },
    "tags": []
   },
   "source": [
    "Oops—it looks like we might be overfitting pretty badly. Here’s why:"
   ]
  },
  {
   "cell_type": "code",
   "execution_count": 34,
   "id": "b1d913b6",
   "metadata": {
    "execution": {
     "iopub.execute_input": "2023-04-06T18:42:08.903828Z",
     "iopub.status.busy": "2023-04-06T18:42:08.902777Z",
     "iopub.status.idle": "2023-04-06T18:42:08.912462Z",
     "shell.execute_reply": "2023-04-06T18:42:08.911253Z"
    },
    "papermill": {
     "duration": 0.032637,
     "end_time": "2023-04-06T18:42:08.915283",
     "exception": false,
     "start_time": "2023-04-06T18:42:08.882646",
     "status": "completed"
    },
    "tags": []
   },
   "outputs": [
    {
     "data": {
      "text/plain": [
       "(4, 404710)"
      ]
     },
     "execution_count": 34,
     "metadata": {},
     "output_type": "execute_result"
    }
   ],
   "source": [
    "model.get_n_leaves(), len(xs)"
   ]
  },
  {
   "cell_type": "markdown",
   "id": "a9feb2f5",
   "metadata": {
    "papermill": {
     "duration": 0.018677,
     "end_time": "2023-04-06T18:42:08.953398",
     "exception": false,
     "start_time": "2023-04-06T18:42:08.934721",
     "status": "completed"
    },
    "tags": []
   },
   "source": [
    "## Random Forest Regressor"
   ]
  },
  {
   "cell_type": "code",
   "execution_count": 35,
   "id": "65180f48",
   "metadata": {
    "execution": {
     "iopub.execute_input": "2023-04-06T18:42:08.994947Z",
     "iopub.status.busy": "2023-04-06T18:42:08.994301Z",
     "iopub.status.idle": "2023-04-06T18:42:09.135774Z",
     "shell.execute_reply": "2023-04-06T18:42:09.134366Z"
    },
    "papermill": {
     "duration": 0.165596,
     "end_time": "2023-04-06T18:42:09.138689",
     "exception": false,
     "start_time": "2023-04-06T18:42:08.973093",
     "status": "completed"
    },
    "tags": []
   },
   "outputs": [],
   "source": [
    "from sklearn.ensemble import RandomForestRegressor"
   ]
  },
  {
   "cell_type": "code",
   "execution_count": 36,
   "id": "1be98cf0",
   "metadata": {
    "execution": {
     "iopub.execute_input": "2023-04-06T18:42:09.178135Z",
     "iopub.status.busy": "2023-04-06T18:42:09.177724Z",
     "iopub.status.idle": "2023-04-06T18:42:09.184131Z",
     "shell.execute_reply": "2023-04-06T18:42:09.182883Z"
    },
    "papermill": {
     "duration": 0.028673,
     "end_time": "2023-04-06T18:42:09.186443",
     "exception": false,
     "start_time": "2023-04-06T18:42:09.157770",
     "status": "completed"
    },
    "tags": []
   },
   "outputs": [],
   "source": [
    "def rf(xs, y, n_estimators=40, max_samples=200_000, max_features=0.5, min_samples_leaf=5, **kwargs):\n",
    "    return RandomForestRegressor(n_jobs=-1, n_estimators=n_estimators, max_samples=max_samples, max_features=max_features, min_samples_leaf=min_samples_leaf, oob_score=True).fit(xs, y)"
   ]
  },
  {
   "cell_type": "code",
   "execution_count": 37,
   "id": "86faf47f",
   "metadata": {
    "execution": {
     "iopub.execute_input": "2023-04-06T18:42:09.224441Z",
     "iopub.status.busy": "2023-04-06T18:42:09.223978Z",
     "iopub.status.idle": "2023-04-06T18:42:41.976570Z",
     "shell.execute_reply": "2023-04-06T18:42:41.974764Z"
    },
    "papermill": {
     "duration": 32.77598,
     "end_time": "2023-04-06T18:42:41.980288",
     "exception": false,
     "start_time": "2023-04-06T18:42:09.204308",
     "status": "completed"
    },
    "tags": []
   },
   "outputs": [],
   "source": [
    "model = rf(xs, y);"
   ]
  },
  {
   "cell_type": "markdown",
   "id": "cdf3bccb",
   "metadata": {
    "papermill": {
     "duration": 0.019458,
     "end_time": "2023-04-06T18:42:42.018835",
     "exception": false,
     "start_time": "2023-04-06T18:42:41.999377",
     "status": "completed"
    },
    "tags": []
   },
   "source": [
    "Our validation RMSE is now much improved over our last result produced by the DecisionTreeRegressor, which made just one tree using all the available data:"
   ]
  },
  {
   "cell_type": "code",
   "execution_count": 38,
   "id": "e0c7341f",
   "metadata": {
    "execution": {
     "iopub.execute_input": "2023-04-06T18:42:42.059209Z",
     "iopub.status.busy": "2023-04-06T18:42:42.057914Z",
     "iopub.status.idle": "2023-04-06T18:42:43.589726Z",
     "shell.execute_reply": "2023-04-06T18:42:43.588478Z"
    },
    "papermill": {
     "duration": 1.554968,
     "end_time": "2023-04-06T18:42:43.592430",
     "exception": false,
     "start_time": "2023-04-06T18:42:42.037462",
     "status": "completed"
    },
    "tags": []
   },
   "outputs": [
    {
     "data": {
      "text/plain": [
       "(0, 0)"
      ]
     },
     "execution_count": 38,
     "metadata": {},
     "output_type": "execute_result"
    }
   ],
   "source": [
    "m_rmse(model, xs, y), m_rmse(model, valid_xs, valid_y)"
   ]
  },
  {
   "cell_type": "code",
   "execution_count": 39,
   "id": "fdc74f4b",
   "metadata": {
    "execution": {
     "iopub.execute_input": "2023-04-06T18:42:43.631170Z",
     "iopub.status.busy": "2023-04-06T18:42:43.630727Z",
     "iopub.status.idle": "2023-04-06T18:42:43.741144Z",
     "shell.execute_reply": "2023-04-06T18:42:43.740060Z"
    },
    "papermill": {
     "duration": 0.132657,
     "end_time": "2023-04-06T18:42:43.743688",
     "exception": false,
     "start_time": "2023-04-06T18:42:43.611031",
     "status": "completed"
    },
    "tags": []
   },
   "outputs": [
    {
     "data": {
      "text/plain": [
       "array([5.68315827e-04, 3.38851904e-02, 2.14870879e-02, 4.57944127e-02,\n",
       "       4.36572342e-03, 2.69788688e-02, 9.68190494e-02, 8.25655237e-02,\n",
       "       4.79516201e-03, 1.10658386e-02, 4.72259490e-03, 9.57150630e-03,\n",
       "       4.07861390e-02, 2.48934897e-04, 2.19192662e-04, 7.12513297e-04,\n",
       "       2.50764765e-03, 1.02068330e-03, 2.50400295e-04, 5.64484567e-04,\n",
       "       5.64269314e-04, 2.59604563e-04, 1.61775475e-04, 8.75903116e-03,\n",
       "       1.66658285e-03, 3.45924634e-03, 1.04017413e-03, 2.47195020e-04,\n",
       "       8.98491404e-03, 1.85950824e-03, 1.07239291e-01, 6.16270471e-02,\n",
       "       3.53336891e-02, 4.40975978e-03, 9.52597261e-04, 2.11350721e-03,\n",
       "       8.26567638e-04, 9.99724126e-04, 3.68470295e-04, 2.81908318e-04,\n",
       "       1.93834280e-03, 1.65818599e-03, 2.67147483e-04, 1.72090156e-04,\n",
       "       2.87035168e-05, 1.49034520e-05, 8.22818936e-06, 3.80131024e-06,\n",
       "       0.00000000e+00, 0.00000000e+00, 1.00058303e-04, 6.06239613e-04,\n",
       "       2.40827994e-02, 1.85536262e-02, 5.64030584e-02, 1.11654297e-03,\n",
       "       2.72299301e-03, 1.73077202e-01, 1.78156069e-03, 2.15307243e-02,\n",
       "       1.63119998e-03, 3.46250152e-03, 4.42341357e-03, 2.17820376e-03,\n",
       "       4.96994937e-03, 4.91843909e-02])"
      ]
     },
     "execution_count": 39,
     "metadata": {},
     "output_type": "execute_result"
    }
   ],
   "source": [
    "model.feature_importances_"
   ]
  },
  {
   "cell_type": "code",
   "execution_count": 40,
   "id": "7287fc53",
   "metadata": {
    "execution": {
     "iopub.execute_input": "2023-04-06T18:42:43.782482Z",
     "iopub.status.busy": "2023-04-06T18:42:43.781702Z",
     "iopub.status.idle": "2023-04-06T18:42:43.900176Z",
     "shell.execute_reply": "2023-04-06T18:42:43.898813Z"
    },
    "papermill": {
     "duration": 0.140706,
     "end_time": "2023-04-06T18:42:43.902850",
     "exception": false,
     "start_time": "2023-04-06T18:42:43.762144",
     "status": "completed"
    },
    "tags": []
   },
   "outputs": [
    {
     "data": {
      "text/html": [
       "<div>\n",
       "<style scoped>\n",
       "    .dataframe tbody tr th:only-of-type {\n",
       "        vertical-align: middle;\n",
       "    }\n",
       "\n",
       "    .dataframe tbody tr th {\n",
       "        vertical-align: top;\n",
       "    }\n",
       "\n",
       "    .dataframe thead th {\n",
       "        text-align: right;\n",
       "    }\n",
       "</style>\n",
       "<table border=\"1\" class=\"dataframe\">\n",
       "  <thead>\n",
       "    <tr style=\"text-align: right;\">\n",
       "      <th></th>\n",
       "      <th>cols</th>\n",
       "      <th>importance</th>\n",
       "    </tr>\n",
       "  </thead>\n",
       "  <tbody>\n",
       "    <tr>\n",
       "      <th>57</th>\n",
       "      <td>YearMade</td>\n",
       "      <td>0.173077</td>\n",
       "    </tr>\n",
       "    <tr>\n",
       "      <th>30</th>\n",
       "      <td>Coupler_System</td>\n",
       "      <td>0.107239</td>\n",
       "    </tr>\n",
       "    <tr>\n",
       "      <th>6</th>\n",
       "      <td>ProductSize</td>\n",
       "      <td>0.096819</td>\n",
       "    </tr>\n",
       "    <tr>\n",
       "      <th>7</th>\n",
       "      <td>fiProductClassDesc</td>\n",
       "      <td>0.082566</td>\n",
       "    </tr>\n",
       "    <tr>\n",
       "      <th>31</th>\n",
       "      <td>Grouser_Tracks</td>\n",
       "      <td>0.061627</td>\n",
       "    </tr>\n",
       "    <tr>\n",
       "      <th>54</th>\n",
       "      <td>ModelID</td>\n",
       "      <td>0.056403</td>\n",
       "    </tr>\n",
       "    <tr>\n",
       "      <th>65</th>\n",
       "      <td>saleElapsed</td>\n",
       "      <td>0.049184</td>\n",
       "    </tr>\n",
       "    <tr>\n",
       "      <th>3</th>\n",
       "      <td>fiSecondaryDesc</td>\n",
       "      <td>0.045794</td>\n",
       "    </tr>\n",
       "    <tr>\n",
       "      <th>12</th>\n",
       "      <td>Enclosure</td>\n",
       "      <td>0.040786</td>\n",
       "    </tr>\n",
       "    <tr>\n",
       "      <th>32</th>\n",
       "      <td>Hydraulics_Flow</td>\n",
       "      <td>0.035334</td>\n",
       "    </tr>\n",
       "    <tr>\n",
       "      <th>1</th>\n",
       "      <td>fiModelDesc</td>\n",
       "      <td>0.033885</td>\n",
       "    </tr>\n",
       "    <tr>\n",
       "      <th>5</th>\n",
       "      <td>fiModelDescriptor</td>\n",
       "      <td>0.026979</td>\n",
       "    </tr>\n",
       "    <tr>\n",
       "      <th>52</th>\n",
       "      <td>SalesID</td>\n",
       "      <td>0.024083</td>\n",
       "    </tr>\n",
       "    <tr>\n",
       "      <th>59</th>\n",
       "      <td>saleYear</td>\n",
       "      <td>0.021531</td>\n",
       "    </tr>\n",
       "    <tr>\n",
       "      <th>2</th>\n",
       "      <td>fiBaseModel</td>\n",
       "      <td>0.021487</td>\n",
       "    </tr>\n",
       "    <tr>\n",
       "      <th>53</th>\n",
       "      <td>MachineID</td>\n",
       "      <td>0.018554</td>\n",
       "    </tr>\n",
       "    <tr>\n",
       "      <th>9</th>\n",
       "      <td>ProductGroup</td>\n",
       "      <td>0.011066</td>\n",
       "    </tr>\n",
       "    <tr>\n",
       "      <th>11</th>\n",
       "      <td>Drive_System</td>\n",
       "      <td>0.009572</td>\n",
       "    </tr>\n",
       "    <tr>\n",
       "      <th>28</th>\n",
       "      <td>Tire_Size</td>\n",
       "      <td>0.008985</td>\n",
       "    </tr>\n",
       "    <tr>\n",
       "      <th>23</th>\n",
       "      <td>Hydraulics</td>\n",
       "      <td>0.008759</td>\n",
       "    </tr>\n",
       "    <tr>\n",
       "      <th>64</th>\n",
       "      <td>saleDayofyear</td>\n",
       "      <td>0.004970</td>\n",
       "    </tr>\n",
       "    <tr>\n",
       "      <th>8</th>\n",
       "      <td>state</td>\n",
       "      <td>0.004795</td>\n",
       "    </tr>\n",
       "    <tr>\n",
       "      <th>10</th>\n",
       "      <td>ProductGroupDesc</td>\n",
       "      <td>0.004723</td>\n",
       "    </tr>\n",
       "    <tr>\n",
       "      <th>62</th>\n",
       "      <td>saleDay</td>\n",
       "      <td>0.004423</td>\n",
       "    </tr>\n",
       "    <tr>\n",
       "      <th>33</th>\n",
       "      <td>Track_Type</td>\n",
       "      <td>0.004410</td>\n",
       "    </tr>\n",
       "    <tr>\n",
       "      <th>4</th>\n",
       "      <td>fiModelSeries</td>\n",
       "      <td>0.004366</td>\n",
       "    </tr>\n",
       "    <tr>\n",
       "      <th>61</th>\n",
       "      <td>saleWeek</td>\n",
       "      <td>0.003463</td>\n",
       "    </tr>\n",
       "    <tr>\n",
       "      <th>25</th>\n",
       "      <td>Ripper</td>\n",
       "      <td>0.003459</td>\n",
       "    </tr>\n",
       "    <tr>\n",
       "      <th>56</th>\n",
       "      <td>auctioneerID</td>\n",
       "      <td>0.002723</td>\n",
       "    </tr>\n",
       "    <tr>\n",
       "      <th>16</th>\n",
       "      <td>Stick</td>\n",
       "      <td>0.002508</td>\n",
       "    </tr>\n",
       "  </tbody>\n",
       "</table>\n",
       "</div>"
      ],
      "text/plain": [
       "                  cols  importance\n",
       "57            YearMade    0.173077\n",
       "30      Coupler_System    0.107239\n",
       "6          ProductSize    0.096819\n",
       "7   fiProductClassDesc    0.082566\n",
       "31      Grouser_Tracks    0.061627\n",
       "54             ModelID    0.056403\n",
       "65         saleElapsed    0.049184\n",
       "3      fiSecondaryDesc    0.045794\n",
       "12           Enclosure    0.040786\n",
       "32     Hydraulics_Flow    0.035334\n",
       "1          fiModelDesc    0.033885\n",
       "5    fiModelDescriptor    0.026979\n",
       "52             SalesID    0.024083\n",
       "59            saleYear    0.021531\n",
       "2          fiBaseModel    0.021487\n",
       "53           MachineID    0.018554\n",
       "9         ProductGroup    0.011066\n",
       "11        Drive_System    0.009572\n",
       "28           Tire_Size    0.008985\n",
       "23          Hydraulics    0.008759\n",
       "64       saleDayofyear    0.004970\n",
       "8                state    0.004795\n",
       "10    ProductGroupDesc    0.004723\n",
       "62             saleDay    0.004423\n",
       "33          Track_Type    0.004410\n",
       "4        fiModelSeries    0.004366\n",
       "61            saleWeek    0.003463\n",
       "25              Ripper    0.003459\n",
       "56        auctioneerID    0.002723\n",
       "16               Stick    0.002508"
      ]
     },
     "execution_count": 40,
     "metadata": {},
     "output_type": "execute_result"
    }
   ],
   "source": [
    "fi = pd.DataFrame({\"cols\":xs.columns,\"importance\":model.feature_importances_}).sort_values(\"importance\",ascending=False)\n",
    "fi[:30]"
   ]
  },
  {
   "cell_type": "code",
   "execution_count": 41,
   "id": "9c644f15",
   "metadata": {
    "execution": {
     "iopub.execute_input": "2023-04-06T18:42:43.941557Z",
     "iopub.status.busy": "2023-04-06T18:42:43.941063Z",
     "iopub.status.idle": "2023-04-06T18:42:44.449992Z",
     "shell.execute_reply": "2023-04-06T18:42:44.448779Z"
    },
    "papermill": {
     "duration": 0.531407,
     "end_time": "2023-04-06T18:42:44.452764",
     "exception": false,
     "start_time": "2023-04-06T18:42:43.921357",
     "status": "completed"
    },
    "tags": []
   },
   "outputs": [
    {
     "data": {
      "image/png": "[encoded data removed]",
      "text/plain": [
       "<Figure size 1200x700 with 1 Axes>"
      ]
     },
     "metadata": {},
     "output_type": "display_data"
    }
   ],
   "source": [
    "def plot_fi(fi):    \n",
    "    fi.plot('cols', 'importance', 'barh', figsize=(12,7), legend=False)\n",
    "plot_fi(fi[:30])"
   ]
  },
  {
   "cell_type": "markdown",
   "id": "9d0fc677",
   "metadata": {
    "papermill": {
     "duration": 0.019166,
     "end_time": "2023-04-06T18:42:44.491721",
     "exception": false,
     "start_time": "2023-04-06T18:42:44.472555",
     "status": "completed"
    },
    "tags": []
   },
   "source": [
    "## Removing Low-Importance Variables\n"
   ]
  },
  {
   "cell_type": "code",
   "execution_count": 42,
   "id": "684a15b1",
   "metadata": {
    "execution": {
     "iopub.execute_input": "2023-04-06T18:42:44.532908Z",
     "iopub.status.busy": "2023-04-06T18:42:44.532478Z",
     "iopub.status.idle": "2023-04-06T18:42:44.543958Z",
     "shell.execute_reply": "2023-04-06T18:42:44.542408Z"
    },
    "papermill": {
     "duration": 0.035286,
     "end_time": "2023-04-06T18:42:44.546549",
     "exception": false,
     "start_time": "2023-04-06T18:42:44.511263",
     "status": "completed"
    },
    "tags": []
   },
   "outputs": [
    {
     "name": "stdout",
     "output_type": "stream",
     "text": [
      "20\n"
     ]
    },
    {
     "data": {
      "text/plain": [
       "57              YearMade\n",
       "30        Coupler_System\n",
       "6            ProductSize\n",
       "7     fiProductClassDesc\n",
       "31        Grouser_Tracks\n",
       "54               ModelID\n",
       "65           saleElapsed\n",
       "3        fiSecondaryDesc\n",
       "12             Enclosure\n",
       "32       Hydraulics_Flow\n",
       "1            fiModelDesc\n",
       "5      fiModelDescriptor\n",
       "52               SalesID\n",
       "59              saleYear\n",
       "2            fiBaseModel\n",
       "53             MachineID\n",
       "9           ProductGroup\n",
       "11          Drive_System\n",
       "28             Tire_Size\n",
       "23            Hydraulics\n",
       "Name: cols, dtype: object"
      ]
     },
     "execution_count": 42,
     "metadata": {},
     "output_type": "execute_result"
    }
   ],
   "source": [
    "to_keep = fi[fi[\"importance\"] > 0.005][\"cols\"]\n",
    "print(len(to_keep))\n",
    "to_keep"
   ]
  },
  {
   "cell_type": "markdown",
   "id": "d2a6bc4e",
   "metadata": {
    "papermill": {
     "duration": 0.019311,
     "end_time": "2023-04-06T18:42:44.585483",
     "exception": false,
     "start_time": "2023-04-06T18:42:44.566172",
     "status": "completed"
    },
    "tags": []
   },
   "source": [
    "We can retrain our model using just this subset of the columns:"
   ]
  },
  {
   "cell_type": "code",
   "execution_count": 43,
   "id": "59828a0f",
   "metadata": {
    "execution": {
     "iopub.execute_input": "2023-04-06T18:42:44.626550Z",
     "iopub.status.busy": "2023-04-06T18:42:44.626152Z",
     "iopub.status.idle": "2023-04-06T18:42:44.643608Z",
     "shell.execute_reply": "2023-04-06T18:42:44.642269Z"
    },
    "papermill": {
     "duration": 0.040702,
     "end_time": "2023-04-06T18:42:44.645813",
     "exception": false,
     "start_time": "2023-04-06T18:42:44.605111",
     "status": "completed"
    },
    "tags": []
   },
   "outputs": [],
   "source": [
    "xs_imp = xs[to_keep]\n",
    "valid_xs_imp = valid_xs[to_keep]"
   ]
  },
  {
   "cell_type": "code",
   "execution_count": 44,
   "id": "49a826ac",
   "metadata": {
    "execution": {
     "iopub.execute_input": "2023-04-06T18:42:44.687288Z",
     "iopub.status.busy": "2023-04-06T18:42:44.686469Z",
     "iopub.status.idle": "2023-04-06T18:43:01.237222Z",
     "shell.execute_reply": "2023-04-06T18:43:01.235931Z"
    },
    "papermill": {
     "duration": 16.57504,
     "end_time": "2023-04-06T18:43:01.240410",
     "exception": false,
     "start_time": "2023-04-06T18:42:44.665370",
     "status": "completed"
    },
    "tags": []
   },
   "outputs": [],
   "source": [
    "model = rf(xs_imp, y)"
   ]
  },
  {
   "cell_type": "markdown",
   "id": "ad2191d1",
   "metadata": {
    "papermill": {
     "duration": 0.019684,
     "end_time": "2023-04-06T18:43:01.281678",
     "exception": false,
     "start_time": "2023-04-06T18:43:01.261994",
     "status": "completed"
    },
    "tags": []
   },
   "source": [
    "And here’s the result:"
   ]
  },
  {
   "cell_type": "code",
   "execution_count": 45,
   "id": "4a0e1d47",
   "metadata": {
    "execution": {
     "iopub.execute_input": "2023-04-06T18:43:01.323886Z",
     "iopub.status.busy": "2023-04-06T18:43:01.322915Z",
     "iopub.status.idle": "2023-04-06T18:43:02.383964Z",
     "shell.execute_reply": "2023-04-06T18:43:02.382731Z"
    },
    "papermill": {
     "duration": 1.085058,
     "end_time": "2023-04-06T18:43:02.386647",
     "exception": false,
     "start_time": "2023-04-06T18:43:01.301589",
     "status": "completed"
    },
    "tags": []
   },
   "outputs": [
    {
     "data": {
      "text/plain": [
       "(0, 0)"
      ]
     },
     "execution_count": 45,
     "metadata": {},
     "output_type": "execute_result"
    }
   ],
   "source": [
    "m_rmse(model, xs_imp, y), m_rmse(model, valid_xs_imp, valid_y)"
   ]
  },
  {
   "cell_type": "markdown",
   "id": "0f6298fb",
   "metadata": {
    "papermill": {
     "duration": 0.020091,
     "end_time": "2023-04-06T18:43:02.427541",
     "exception": false,
     "start_time": "2023-04-06T18:43:02.407450",
     "status": "completed"
    },
    "tags": []
   },
   "source": [
    "Our accuracy is about the same, but we have far fewer columns to study:"
   ]
  },
  {
   "cell_type": "code",
   "execution_count": 46,
   "id": "5b204ba0",
   "metadata": {
    "execution": {
     "iopub.execute_input": "2023-04-06T18:43:02.468926Z",
     "iopub.status.busy": "2023-04-06T18:43:02.468489Z",
     "iopub.status.idle": "2023-04-06T18:43:02.476602Z",
     "shell.execute_reply": "2023-04-06T18:43:02.475374Z"
    },
    "papermill": {
     "duration": 0.031787,
     "end_time": "2023-04-06T18:43:02.479208",
     "exception": false,
     "start_time": "2023-04-06T18:43:02.447421",
     "status": "completed"
    },
    "tags": []
   },
   "outputs": [
    {
     "data": {
      "text/plain": [
       "(66, 20)"
      ]
     },
     "execution_count": 46,
     "metadata": {},
     "output_type": "execute_result"
    }
   ],
   "source": [
    "len(xs.columns), len(xs_imp.columns)"
   ]
  },
  {
   "cell_type": "markdown",
   "id": "0ed900e4",
   "metadata": {
    "papermill": {
     "duration": 0.019771,
     "end_time": "2023-04-06T18:43:02.519071",
     "exception": false,
     "start_time": "2023-04-06T18:43:02.499300",
     "status": "completed"
    },
    "tags": []
   },
   "source": [
    "This also makes our feature importance plot easier to interpret. Let’s look at it again:\n",
    "  "
   ]
  },
  {
   "cell_type": "code",
   "execution_count": null,
   "id": "a0552ce3",
   "metadata": {
    "papermill": {
     "duration": 0.019421,
     "end_time": "2023-04-06T18:43:02.558431",
     "exception": false,
     "start_time": "2023-04-06T18:43:02.539010",
     "status": "completed"
    },
    "tags": []
   },
   "outputs": [],
   "source": []
  },
  {
   "cell_type": "code",
   "execution_count": null,
   "id": "ee40a19f",
   "metadata": {
    "papermill": {
     "duration": 0.019764,
     "end_time": "2023-04-06T18:43:02.597824",
     "exception": false,
     "start_time": "2023-04-06T18:43:02.578060",
     "status": "completed"
    },
    "tags": []
   },
   "outputs": [],
   "source": []
  }
 ],
 "metadata": {
  "kernelspec": {
   "display_name": "Python 3",
   "language": "python",
   "name": "python3"
  },
  "language_info": {
   "codemirror_mode": {
    "name": "ipython",
    "version": 3
   },
   "file_extension": ".py",
   "mimetype": "text/x-python",
   "name": "python",
   "nbconvert_exporter": "python",
   "pygments_lexer": "ipython3",
   "version": "3.7.12"
  },
  "papermill": {
   "default_parameters": {},
   "duration": 90.004937,
   "end_time": "2023-04-06T18:43:03.944827",
   "environment_variables": {},
   "exception": null,
   "input_path": "__notebook__.ipynb",
   "output_path": "__notebook__.ipynb",
   "parameters": {},
   "start_time": "2023-04-06T18:41:33.939890",
   "version": "2.4.0"
  }
 },
 "nbformat": 4,
 "nbformat_minor": 5
}
